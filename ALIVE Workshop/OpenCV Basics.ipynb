{
 "cells": [
  {
   "cell_type": "code",
   "execution_count": null,
   "id": "e9fd9035",
   "metadata": {},
   "outputs": [],
   "source": [
    "import cv2\n",
    "from matplotlib import pyplot as plt"
   ]
  },
  {
   "cell_type": "code",
   "execution_count": null,
   "id": "2eb9ebcd",
   "metadata": {},
   "outputs": [],
   "source": [
    "path_to_image = \"../Pictures/logo.png\"\n",
    "\n",
    "img_colored = cv2.imread(path_to_image)\n",
    "img_grayscale = cv2.imread(path_to_image, cv2.IMREAD_GRAYSCALE)\n",
    "\n",
    "print(img_colored / 255)"
   ]
  },
  {
   "cell_type": "code",
   "execution_count": null,
   "id": "9052e6d2",
   "metadata": {},
   "outputs": [],
   "source": [
    "plt.imshow(img_grayscale.astype('float32'))\n",
    "plt.title('Grayscale')\n",
    "plt.show()"
   ]
  },
  {
   "cell_type": "code",
   "execution_count": null,
   "id": "54ac7ee8",
   "metadata": {},
   "outputs": [],
   "source": [
    "plt.imshow(img_colored.astype('float32') / 255)\n",
    "plt.title('Colored')\n",
    "plt.show()"
   ]
  },
  {
   "cell_type": "code",
   "execution_count": null,
   "id": "0a2650d4",
   "metadata": {},
   "outputs": [],
   "source": []
  }
 ],
 "metadata": {
  "kernelspec": {
   "display_name": "Python 3 (ipykernel)",
   "language": "python",
   "name": "python3"
  },
  "language_info": {
   "codemirror_mode": {
    "name": "ipython",
    "version": 3
   },
   "file_extension": ".py",
   "mimetype": "text/x-python",
   "name": "python",
   "nbconvert_exporter": "python",
   "pygments_lexer": "ipython3",
   "version": "3.9.7"
  }
 },
 "nbformat": 4,
 "nbformat_minor": 5
}
