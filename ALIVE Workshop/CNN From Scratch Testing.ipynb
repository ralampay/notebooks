{
 "cells": [
  {
   "cell_type": "markdown",
   "id": "c33c21da",
   "metadata": {},
   "source": [
    "# CNN From Scratch Testing\n",
    "\n",
    "A simple CNN model to examine its components / architecture and see how it performs inferencing"
   ]
  },
  {
   "cell_type": "code",
   "execution_count": 1,
   "id": "9e59f816",
   "metadata": {},
   "outputs": [],
   "source": [
    "import cv2\n",
    "import sys\n",
    "import torch\n",
    "import torch.nn as nn\n",
    "import torch.nn.functional as F\n",
    "import torch.optim as optim\n",
    "from tqdm import tqdm\n",
    "from torch.utils.data import Dataset, DataLoader\n",
    "import os\n",
    "import numpy as np\n",
    "import random\n",
    "import pandas as pd\n",
    "from matplotlib import pyplot as plt"
   ]
  },
  {
   "cell_type": "markdown",
   "id": "48c2820d",
   "metadata": {},
   "source": [
    "## ConvolutionalNeuralNetwork Class as a Pytorch Module\n",
    "\n",
    "### Parameters\n",
    "* **num_classes**: Integer values representing the expected number of classes this model will train with\n",
    "* **kernel_size**: Integer value representing the size of the kernel matrix for convolution\n",
    "* **max_pool_kernel_size**: Integer value representing the size of the kernel matrix for max pooling"
   ]
  },
  {
   "cell_type": "code",
   "execution_count": 2,
   "id": "086545a1",
   "metadata": {},
   "outputs": [],
   "source": [
    "class ConvolutionalNeuralNetwork(nn.Module):\n",
    "    def __init__(self, num_classes=2, kernel_size=3, max_pool_kernel_size=2):\n",
    "        super(ConvolutionalNeuralNetwork, self).__init__()\n",
    "        \n",
    "        self.num_classes = num_classes\n",
    "        self.kernel_size = kernel_size\n",
    "        self.max_pool_kernel_size = max_pool_kernel_size\n",
    "        \n",
    "        self.conv_layer1 = nn.Conv2d(in_channels=3, out_channels=32, kernel_size=self.kernel_size)\n",
    "        self.conv_layer2 = nn.Conv2d(in_channels=32, out_channels=32, kernel_size=self.kernel_size)\n",
    "        \n",
    "        self.max_pool1 = nn.MaxPool2d(kernel_size = self.max_pool_kernel_size, stride = 2)\n",
    "        \n",
    "        self.conv_layer3 = nn.Conv2d(in_channels=32, out_channels=64, kernel_size=self.kernel_size)\n",
    "        self.conv_layer4 = nn.Conv2d(in_channels=64, out_channels=64, kernel_size=self.kernel_size)\n",
    "        \n",
    "        self.max_pool2 = nn.MaxPool2d(kernel_size = self.max_pool_kernel_size, stride = 2)\n",
    "        \n",
    "        self.fc1 = nn.Linear(1600, 128)\n",
    "        self.relu1 = nn.ReLU()\n",
    "        self.fc2 = nn.Linear(128, self.num_classes)\n",
    "        \n",
    "    def forward(self, x):\n",
    "        out = self.conv_layer1(x)\n",
    "        out = self.conv_layer2(out)\n",
    "        \n",
    "        out = self.max_pool1(out)\n",
    "        \n",
    "        out = self.conv_layer3(out)\n",
    "        out = self.conv_layer4(out)\n",
    "        \n",
    "        out = self.max_pool2(out)\n",
    "        \n",
    "        # Flatten things out\n",
    "        # out = out.reshape(out.shape(0), -1)\n",
    "        out = out.view(-1, 1600)\n",
    "        \n",
    "        out = self.fc1(out)\n",
    "        out = self.relu1(out)\n",
    "        out = self.fc2(out)\n",
    "        \n",
    "        return out"
   ]
  },
  {
   "cell_type": "markdown",
   "id": "708646fc",
   "metadata": {},
   "source": [
    "## Parameters for the Model\n",
    "\n",
    "Set the parameters here. If using a CPU, change `device` to `cpu`. If `cont` is set to `True`, then it will expect to load the model file (given by `model_file`) to the model itself."
   ]
  },
  {
   "cell_type": "code",
   "execution_count": 3,
   "id": "0c959784",
   "metadata": {},
   "outputs": [],
   "source": [
    "device         = 'cpu'\n",
    "cont           = True\n",
    "model_file     = \"cnn-model.pth\"\n",
    "gpu_index      = 0\n",
    "img_width      = 32\n",
    "img_height     = 32\n",
    "img_file       = \"/home/ralampay/Desktop/boy.png\"\n",
    "\n",
    "num_classes          = 2\n",
    "kernel_size          = 3\n",
    "max_pool_kernel_size = 2"
   ]
  },
  {
   "cell_type": "code",
   "execution_count": 4,
   "id": "8ab4d960",
   "metadata": {},
   "outputs": [
    {
     "name": "stdout",
     "output_type": "stream",
     "text": [
      "Loading model from cnn-model.pth\n"
     ]
    }
   ],
   "source": [
    "if device == 'cuda':\n",
    "    print(\"CUDA Device: {}\".format(torch.cuda.get_device_name(gpu_index)))\n",
    "    device = \"cuda:{}\".format(gpu_index)\n",
    "\n",
    "model = ConvolutionalNeuralNetwork(\n",
    "    num_classes=num_classes, \n",
    "    kernel_size=kernel_size, \n",
    "    max_pool_kernel_size=max_pool_kernel_size\n",
    ").to(device)\n",
    "\n",
    "if cont:\n",
    "    print(\"Loading model from {}\".format(model_file))\n",
    "    state = torch.load(model_file)\n",
    "    model.load_state_dict(state['state_dict'])\n",
    "    model.optimizer = state['optimizer']"
   ]
  },
  {
   "cell_type": "markdown",
   "id": "02f8bbe5",
   "metadata": {},
   "source": [
    "## Test\n",
    "\n",
    "Performs a forward pass to a given image. The image is first resized according to `img_width` and `img_height`.\n",
    "\n",
    "Notes:\n",
    "1. OpenCV `img = cv2.imread(path)` loads an image with HWC-layout `(height, width, channels)`, while Pytorch requires CHW-layout. So we have to do `np.transpose(image,(2,0,1))` for HWC->CHW transformation.\n",
    "2. Image is normalized first (`img / 255`) for better scaling.\n",
    "3. Make sure to load the tensor as an array since the forward pass of the network expects to receive more than one input `x`"
   ]
  },
  {
   "cell_type": "code",
   "execution_count": 5,
   "id": "4a2ccc26",
   "metadata": {},
   "outputs": [
    {
     "data": {
      "image/png": "[encoded data removed]",
      "text/plain": [
       "<Figure size 432x288 with 1 Axes>"
      ]
     },
     "metadata": {
      "needs_background": "light"
     },
     "output_type": "display_data"
    },
    {
     "name": "stderr",
     "output_type": "stream",
     "text": [
      "/tmp/ipykernel_59982/3232074944.py:12: UserWarning: Creating a tensor from a list of numpy.ndarrays is extremely slow. Please consider converting the list to a single numpy.ndarray with numpy.array() before converting to a tensor. (Triggered internally at  ../torch/csrc/utils/tensor_new.cpp:201.)\n",
      "  img = torch.Tensor([img]).to(device)\n"
     ]
    }
   ],
   "source": [
    "dim = (img_width, img_height)\n",
    "\n",
    "img = cv2.imread(img_file)\n",
    "img = cv2.resize(img, dim)\n",
    "img = img / 255\n",
    "\n",
    "plt.imshow(img)\n",
    "plt.show()\n",
    "\n",
    "img = img.transpose((2, 0, 1)) \n",
    "\n",
    "img = torch.Tensor([img]).to(device)"
   ]
  },
  {
   "cell_type": "code",
   "execution_count": 6,
   "id": "ae82567f",
   "metadata": {},
   "outputs": [
    {
     "data": {
      "text/plain": [
       "tensor([[ 7.2554, -5.9028]], grad_fn=<AddmmBackward0>)"
      ]
     },
     "execution_count": 6,
     "metadata": {},
     "output_type": "execute_result"
    }
   ],
   "source": [
    "y = model.forward(img)\n",
    "\n",
    "y"
   ]
  },
  {
   "cell_type": "code",
   "execution_count": 7,
   "id": "b90b9f22",
   "metadata": {},
   "outputs": [],
   "source": [
    "# Girl -> [0, 1]\n",
    "# Boy -> [1, 0]\n",
    "\n",
    "# Alligator Crack --> [1, 0, 0, 0]\n",
    "# Long Crack --> [0, 1, 0, 0]\n",
    "# Lat Crack --> [0, 0, 1, 0]\n",
    "# Others --> [0, 0, 0, 1]"
   ]
  }
 ],
 "metadata": {
  "kernelspec": {
   "display_name": "Python 3 (ipykernel)",
   "language": "python",
   "name": "python3"
  },
  "language_info": {
   "codemirror_mode": {
    "name": "ipython",
    "version": 3
   },
   "file_extension": ".py",
   "mimetype": "text/x-python",
   "name": "python",
   "nbconvert_exporter": "python",
   "pygments_lexer": "ipython3",
   "version": "3.9.7"
  }
 },
 "nbformat": 4,
 "nbformat_minor": 5
}
