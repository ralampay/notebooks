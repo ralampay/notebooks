{
 "cells": [
  {
   "cell_type": "code",
   "execution_count": null,
   "id": "997bfa5a",
   "metadata": {},
   "outputs": [],
   "source": [
    "import cv2\n",
    "import sys\n",
    "import torch\n",
    "import os\n",
    "import numpy as np\n",
    "from matplotlib import pyplot as plt\n",
    "\n",
    "# Local imports\n",
    "sys.path.append('..')\n",
    "\n",
    "from lib.cnn_autoencoder import CnnAutoencoder"
   ]
  },
  {
   "cell_type": "code",
   "execution_count": null,
   "id": "56ce80d9",
   "metadata": {},
   "outputs": [],
   "source": [
    "model = \"/home/ralampay/Desktop/bottle-good.pth\"\n",
    "state = torch.load(model)\n",
    "params = state['params']\n",
    "\n",
    "scale = params.get('scale')\n",
    "channel_maps = params.get('channel_maps')\n",
    "padding = params.get('padding')\n",
    "kernel_size = params.get('kernel_size')\n",
    "num_channels = params.get('num_channels')\n",
    "img_width = params.get('img_width')\n",
    "img_height = params.get('img_height')\n",
    "device = params.get('device')\n",
    "\n",
    "model = CnnAutoencoder(\n",
    "    scale=scale,\n",
    "    channel_maps=channel_maps,\n",
    "    padding=padding,\n",
    "    kernel_size=kernel_size,\n",
    "    num_channels=num_channels,\n",
    "    img_width=img_width,\n",
    "    img_height=img_height\n",
    ").to(device)\n",
    "\n",
    "model.load_state_dict(state['state_dict'])\n",
    "model.optimizer = state['optimizer']"
   ]
  },
  {
   "cell_type": "code",
   "execution_count": null,
   "id": "83210d21",
   "metadata": {},
   "outputs": [],
   "source": [
    "img_dir = \"/home/ralampay/Desktop/good\"\n",
    "images = []\n",
    "\n",
    "dim = (img_width, img_height)\n",
    "\n",
    "for img_file in os.listdir(img_dir):\n",
    "    img_path = os.path.join(img_dir, img_file)\n",
    "    img = (cv2.resize(cv2.imread(img_path), dim) / 255).astype('float32')\n",
    "    images.append(img.transpose((2, 0, 1)))\n",
    "    plt.figure()\n",
    "    plt.imshow(img)\n",
    "    \n"
   ]
  },
  {
   "cell_type": "code",
   "execution_count": null,
   "id": "40b3c13c",
   "metadata": {},
   "outputs": [],
   "source": [
    "test_inputs = torch.Tensor(np.array(images)).float().to(device)\n",
    "predictions = model(test_inputs).detach().cpu().numpy().astype(np.float32)"
   ]
  },
  {
   "cell_type": "code",
   "execution_count": null,
   "id": "bed78438",
   "metadata": {},
   "outputs": [],
   "source": [
    "for p in predictions:\n",
    "    img = p.transpose((1, 2, 0))\n",
    "    plt.figure()\n",
    "    plt.imshow(img)"
   ]
  },
  {
   "cell_type": "code",
   "execution_count": null,
   "id": "38bd8405",
   "metadata": {},
   "outputs": [],
   "source": [
    "torch.cuda.empty_cache()"
   ]
  },
  {
   "cell_type": "code",
   "execution_count": null,
   "id": "37aa80cc",
   "metadata": {},
   "outputs": [],
   "source": []
  }
 ],
 "metadata": {
  "kernelspec": {
   "display_name": "Python 3 (ipykernel)",
   "language": "python",
   "name": "python3"
  },
  "language_info": {
   "codemirror_mode": {
    "name": "ipython",
    "version": 3
   },
   "file_extension": ".py",
   "mimetype": "text/x-python",
   "name": "python",
   "nbconvert_exporter": "python",
   "pygments_lexer": "ipython3",
   "version": "3.9.7"
  }
 },
 "nbformat": 4,
 "nbformat_minor": 5
}
