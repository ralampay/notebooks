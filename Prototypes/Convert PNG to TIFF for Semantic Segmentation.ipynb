{
 "cells": [
  {
   "cell_type": "code",
   "execution_count": null,
   "id": "bc16d563",
   "metadata": {},
   "outputs": [],
   "source": [
    "import cv2\n",
    "from matplotlib import pyplot as plt\n",
    "import numpy as np\n",
    "from PIL import ImageColor"
   ]
  },
  {
   "cell_type": "code",
   "execution_count": null,
   "id": "9b48fe15",
   "metadata": {},
   "outputs": [],
   "source": [
    "img_file = \"/home/ralampay/workspace/notebooks/Images/sample_mask.png\"\n",
    "\n",
    "img = cv2.imread(img_file)\n",
    "\n",
    "rows, cols = img.shape[:2]\n",
    "dimensionality = (cols, rows)\n",
    "\n",
    "# Convert OpenCV BGR to RGB\n",
    "img = cv2.cvtColor(img, cv2.COLOR_BGR2RGB)\n",
    "\n",
    "plt.imshow(img.astype('float32') / 255)\n",
    "plt.title('Colored')\n",
    "plt.show()\n",
    "\n",
    "print(dimensionality)"
   ]
  },
  {
   "cell_type": "code",
   "execution_count": null,
   "id": "8665af32",
   "metadata": {},
   "outputs": [],
   "source": [
    "gray = cv2.cvtColor(img, cv2.COLOR_BGR2GRAY)\n",
    "\n",
    "print(np.unique(gray))\n",
    "\n",
    "plt.imshow(gray.astype('float32') / 255)\n",
    "plt.title('Grayscale')\n",
    "plt.show()"
   ]
  },
  {
   "cell_type": "code",
   "execution_count": null,
   "id": "e8fb1215",
   "metadata": {},
   "outputs": [],
   "source": [
    "unique_values = np.unique(gray)\n",
    "\n",
    "unique_values"
   ]
  },
  {
   "cell_type": "code",
   "execution_count": null,
   "id": "d5fc019f",
   "metadata": {},
   "outputs": [],
   "source": [
    "def convert_to_labeled_tiff(img_grayscale, unique_values):\n",
    "    rows, cols = img_grayscale.shape[:2]\n",
    "    tiff = np.zeros((rows, cols), dtype=np.uint8)\n",
    "    \n",
    "    for r in range(rows):\n",
    "        for c in range(cols):\n",
    "            for idx, val in enumerate(unique_values):\n",
    "                if val == img_grayscale[r, c]:\n",
    "                    tiff[r, c] = idx\n",
    "    \n",
    "    return tiff\n",
    "    \n",
    "img_tiff = convert_to_labeled_tiff(gray, unique_values)\n",
    "\n",
    "print(np.unique(img_tiff))"
   ]
  },
  {
   "cell_type": "code",
   "execution_count": null,
   "id": "fe06f618",
   "metadata": {},
   "outputs": [],
   "source": [
    "plt.imshow(img_tiff.astype('float32') / len(unique_values))\n",
    "plt.title('Tiff')\n",
    "plt.show()"
   ]
  },
  {
   "cell_type": "code",
   "execution_count": null,
   "id": "9474c332",
   "metadata": {},
   "outputs": [],
   "source": []
  }
 ],
 "metadata": {
  "kernelspec": {
   "display_name": "Python 3 (ipykernel)",
   "language": "python",
   "name": "python3"
  },
  "language_info": {
   "codemirror_mode": {
    "name": "ipython",
    "version": 3
   },
   "file_extension": ".py",
   "mimetype": "text/x-python",
   "name": "python",
   "nbconvert_exporter": "python",
   "pygments_lexer": "ipython3",
   "version": "3.9.7"
  }
 },
 "nbformat": 4,
 "nbformat_minor": 5
}
