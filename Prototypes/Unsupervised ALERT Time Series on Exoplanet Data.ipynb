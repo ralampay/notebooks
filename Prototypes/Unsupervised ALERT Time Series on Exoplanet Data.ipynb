{
 "cells": [
  {
   "cell_type": "code",
   "execution_count": 1,
   "id": "3578668b",
   "metadata": {},
   "outputs": [],
   "source": [
    "import sys\n",
    "import os\n",
    "import pandas as pd\n",
    "import numpy as np\n",
    "import torch\n",
    "from torch.utils.data import DataLoader\n",
    "from tqdm import tqdm\n",
    "import torch.nn as nn\n",
    "import torch.optim as optim\n",
    "import numpy as np\n",
    "from sklearn import preprocessing\n",
    "from sklearn.cluster import DBSCAN\n",
    "from sklearn.manifold import TSNE\n",
    "from sklearn.metrics import confusion_matrix\n",
    "import matplotlib.pyplot as plt\n",
    "import plotly.express as px\n",
    "from scipy.stats import iqr\n",
    "from matplotlib import pyplot\n",
    "\n",
    "# Local imports\n",
    "sys.path.append('..')\n",
    "\n",
    "from lib.autoencoder import Autoencoder\n",
    "from lib.autoencoder_dataset import AutoencoderDataset"
   ]
  },
  {
   "cell_type": "code",
   "execution_count": 2,
   "id": "945bc9ca",
   "metadata": {},
   "outputs": [
    {
     "name": "stdout",
     "output_type": "stream",
     "text": [
      "Remainder: 6\n",
      "Num parts: 47.0\n"
     ]
    },
    {
     "data": {
      "text/plain": [
       "<AxesSubplot:>"
      ]
     },
     "execution_count": 2,
     "metadata": {},
     "output_type": "execute_result"
    },
    {
     "data": {
      "image/png": "[encoded data removed]",
      "text/plain": [
       "<Figure size 432x288 with 1 Axes>"
      ]
     },
     "metadata": {
      "needs_background": "light"
     },
     "output_type": "display_data"
    }
   ],
   "source": [
    "data_file = \"../Datasets/exoTest.csv\"\n",
    "\n",
    "value_column = \"FLUX.2500\"\n",
    "\n",
    "df = pd.read_csv(data_file)\n",
    "\n",
    "window_size = 12\n",
    "num_rows = len(df)\n",
    "\n",
    "# Drop last remainder frames\n",
    "remainder = num_rows % window_size\n",
    "num_parts = (num_rows - remainder) / window_size\n",
    "\n",
    "print(\"Remainder: {}\".format(remainder))\n",
    "print(\"Num parts: {}\".format(num_parts))\n",
    "\n",
    "# Dropping last n rows using drop\n",
    "if remainder > 0:\n",
    "    df.drop(df.tail(remainder).index, inplace = True)\n",
    "\n",
    "df = (df[value_column]-df[value_column].min())/(df[value_column].max()-df[value_column].min())\n",
    "df.plot()"
   ]
  },
  {
   "cell_type": "code",
   "execution_count": 3,
   "id": "984128c1",
   "metadata": {},
   "outputs": [
    {
     "data": {
      "text/plain": [
       "<AxesSubplot:>"
      ]
     },
     "execution_count": 3,
     "metadata": {},
     "output_type": "execute_result"
    },
    {
     "data": {
      "image/png": "[encoded data removed]",
      "text/plain": [
       "<Figure size 432x288 with 1 Axes>"
      ]
     },
     "metadata": {
      "needs_background": "light"
     },
     "output_type": "display_data"
    }
   ],
   "source": [
    "# Visualize the first window\n",
    "ylim = (df.min(), df.max())\n",
    "df_vector = df.head(window_size)\n",
    "df_vector.plot(ylim=ylim)"
   ]
  },
  {
   "cell_type": "code",
   "execution_count": 4,
   "id": "7aa14ea4",
   "metadata": {},
   "outputs": [],
   "source": [
    "stream_data = np.array(np.array_split(df, num_parts))\n",
    "\n",
    "# for stream in stream_data:\n",
    "#     temp_df = pd.DataFrame(stream, columns=['value'])\n",
    "#     temp_df.plot(ylim=ylim)"
   ]
  },
  {
   "cell_type": "code",
   "execution_count": 5,
   "id": "888adbd8",
   "metadata": {},
   "outputs": [
    {
     "name": "stdout",
     "output_type": "stream",
     "text": [
      "layers: [12, 9]\n"
     ]
    }
   ],
   "source": [
    "# Autoencoder parameter for layers. First element is the size of the input vector. Succeeding values are hidden layers for the encoder\n",
    "layers = [window_size, int(window_size - 3)]\n",
    "print(\"layers: {}\".format(layers))\n",
    "\n",
    "# Autoencoder parameter for hidden activation\n",
    "h_activation = 'relu'\n",
    "\n",
    "# Autoencoder parameter for output activation\n",
    "o_activation = 'sigmoid'\n",
    "\n",
    "# Autoencoder parameter for learning rate\n",
    "learning_rate = 0.0001\n",
    "\n",
    "# Torch parameter for device\n",
    "device = 'cpu'\n",
    "\n",
    "# Training parameter for number of epochs\n",
    "epochs = 100\n",
    "\n",
    "# Training parameter for batch size\n",
    "batch_size = 1\n",
    "\n",
    "# Loss function\n",
    "loss_fn = nn.MSELoss()\n",
    "\n",
    "# DBSCAN parameter eps\n",
    "eps = 0.1\n",
    "\n",
    "# DBSCAN parameter minimum samples\n",
    "min_samples = 5"
   ]
  },
  {
   "cell_type": "code",
   "execution_count": 6,
   "id": "fd9b10e5",
   "metadata": {},
   "outputs": [
    {
     "name": "stdout",
     "output_type": "stream",
     "text": [
      "Epoch: 0\n"
     ]
    },
    {
     "name": "stderr",
     "output_type": "stream",
     "text": [
      "100%|█████████████████████████████████████████████████████████████████████████████████████████████████████████████████████████████████████████████████████████████████| 47/47 [00:00<00:00, 580.72it/s, loss=0.194]\n"
     ]
    },
    {
     "name": "stdout",
     "output_type": "stream",
     "text": [
      "Epoch: 1\n"
     ]
    },
    {
     "name": "stderr",
     "output_type": "stream",
     "text": [
      "100%|████████████████████████████████████████████████████████████████████████████████████████████████████████████████████████████████████████████████████████████████| 47/47 [00:00<00:00, 1366.81it/s, loss=0.192]\n"
     ]
    },
    {
     "name": "stdout",
     "output_type": "stream",
     "text": [
      "Epoch: 2\n"
     ]
    },
    {
     "name": "stderr",
     "output_type": "stream",
     "text": [
      "100%|████████████████████████████████████████████████████████████████████████████████████████████████████████████████████████████████████████████████████████████████| 47/47 [00:00<00:00, 1510.46it/s, loss=0.191]\n"
     ]
    },
    {
     "name": "stdout",
     "output_type": "stream",
     "text": [
      "Epoch: 3\n"
     ]
    },
    {
     "name": "stderr",
     "output_type": "stream",
     "text": [
      "100%|████████████████████████████████████████████████████████████████████████████████████████████████████████████████████████████████████████████████████████████████| 47/47 [00:00<00:00, 1449.15it/s, loss=0.189]\n"
     ]
    },
    {
     "name": "stdout",
     "output_type": "stream",
     "text": [
      "Epoch: 4\n"
     ]
    },
    {
     "name": "stderr",
     "output_type": "stream",
     "text": [
      "100%|████████████████████████████████████████████████████████████████████████████████████████████████████████████████████████████████████████████████████████████████| 47/47 [00:00<00:00, 1482.33it/s, loss=0.188]\n"
     ]
    },
    {
     "name": "stdout",
     "output_type": "stream",
     "text": [
      "Epoch: 5\n"
     ]
    },
    {
     "name": "stderr",
     "output_type": "stream",
     "text": [
      "100%|████████████████████████████████████████████████████████████████████████████████████████████████████████████████████████████████████████████████████████████████| 47/47 [00:00<00:00, 1200.47it/s, loss=0.186]\n"
     ]
    },
    {
     "name": "stdout",
     "output_type": "stream",
     "text": [
      "Epoch: 6\n"
     ]
    },
    {
     "name": "stderr",
     "output_type": "stream",
     "text": [
      "100%|████████████████████████████████████████████████████████████████████████████████████████████████████████████████████████████████████████████████████████████████| 47/47 [00:00<00:00, 1316.45it/s, loss=0.184]\n"
     ]
    },
    {
     "name": "stdout",
     "output_type": "stream",
     "text": [
      "Epoch: 7\n"
     ]
    },
    {
     "name": "stderr",
     "output_type": "stream",
     "text": [
      "100%|████████████████████████████████████████████████████████████████████████████████████████████████████████████████████████████████████████████████████████████████| 47/47 [00:00<00:00, 1430.24it/s, loss=0.183]\n"
     ]
    },
    {
     "name": "stdout",
     "output_type": "stream",
     "text": [
      "Epoch: 8\n"
     ]
    },
    {
     "name": "stderr",
     "output_type": "stream",
     "text": [
      "100%|████████████████████████████████████████████████████████████████████████████████████████████████████████████████████████████████████████████████████████████████| 47/47 [00:00<00:00, 1290.94it/s, loss=0.181]\n"
     ]
    },
    {
     "name": "stdout",
     "output_type": "stream",
     "text": [
      "Epoch: 9\n"
     ]
    },
    {
     "name": "stderr",
     "output_type": "stream",
     "text": [
      "100%|████████████████████████████████████████████████████████████████████████████████████████████████████████████████████████████████████████████████████████████████| 47/47 [00:00<00:00, 1313.58it/s, loss=0.179]\n"
     ]
    },
    {
     "name": "stdout",
     "output_type": "stream",
     "text": [
      "Epoch: 10\n"
     ]
    },
    {
     "name": "stderr",
     "output_type": "stream",
     "text": [
      "100%|████████████████████████████████████████████████████████████████████████████████████████████████████████████████████████████████████████████████████████████████| 47/47 [00:00<00:00, 1290.81it/s, loss=0.177]\n"
     ]
    },
    {
     "name": "stdout",
     "output_type": "stream",
     "text": [
      "Epoch: 11\n"
     ]
    },
    {
     "name": "stderr",
     "output_type": "stream",
     "text": [
      "100%|████████████████████████████████████████████████████████████████████████████████████████████████████████████████████████████████████████████████████████████████| 47/47 [00:00<00:00, 1361.29it/s, loss=0.175]\n"
     ]
    },
    {
     "name": "stdout",
     "output_type": "stream",
     "text": [
      "Epoch: 12\n"
     ]
    },
    {
     "name": "stderr",
     "output_type": "stream",
     "text": [
      "100%|████████████████████████████████████████████████████████████████████████████████████████████████████████████████████████████████████████████████████████████████| 47/47 [00:00<00:00, 1435.36it/s, loss=0.173]\n"
     ]
    },
    {
     "name": "stdout",
     "output_type": "stream",
     "text": [
      "Epoch: 13\n"
     ]
    },
    {
     "name": "stderr",
     "output_type": "stream",
     "text": [
      "100%|█████████████████████████████████████████████████████████████████████████████████████████████████████████████████████████████████████████████████████████████████| 47/47 [00:00<00:00, 1410.51it/s, loss=0.17]\n"
     ]
    },
    {
     "name": "stdout",
     "output_type": "stream",
     "text": [
      "Epoch: 14\n"
     ]
    },
    {
     "name": "stderr",
     "output_type": "stream",
     "text": [
      "100%|████████████████████████████████████████████████████████████████████████████████████████████████████████████████████████████████████████████████████████████████| 47/47 [00:00<00:00, 1310.74it/s, loss=0.168]\n"
     ]
    },
    {
     "name": "stdout",
     "output_type": "stream",
     "text": [
      "Epoch: 15\n"
     ]
    },
    {
     "name": "stderr",
     "output_type": "stream",
     "text": [
      "100%|████████████████████████████████████████████████████████████████████████████████████████████████████████████████████████████████████████████████████████████████| 47/47 [00:00<00:00, 1420.02it/s, loss=0.165]\n"
     ]
    },
    {
     "name": "stdout",
     "output_type": "stream",
     "text": [
      "Epoch: 16\n"
     ]
    },
    {
     "name": "stderr",
     "output_type": "stream",
     "text": [
      "100%|████████████████████████████████████████████████████████████████████████████████████████████████████████████████████████████████████████████████████████████████| 47/47 [00:00<00:00, 1393.10it/s, loss=0.162]\n"
     ]
    },
    {
     "name": "stdout",
     "output_type": "stream",
     "text": [
      "Epoch: 17\n"
     ]
    },
    {
     "name": "stderr",
     "output_type": "stream",
     "text": [
      "100%|████████████████████████████████████████████████████████████████████████████████████████████████████████████████████████████████████████████████████████████████| 47/47 [00:00<00:00, 1389.83it/s, loss=0.159]\n"
     ]
    },
    {
     "name": "stdout",
     "output_type": "stream",
     "text": [
      "Epoch: 18\n"
     ]
    },
    {
     "name": "stderr",
     "output_type": "stream",
     "text": [
      "100%|████████████████████████████████████████████████████████████████████████████████████████████████████████████████████████████████████████████████████████████████| 47/47 [00:00<00:00, 1231.80it/s, loss=0.157]\n"
     ]
    },
    {
     "name": "stdout",
     "output_type": "stream",
     "text": [
      "Epoch: 19\n"
     ]
    },
    {
     "name": "stderr",
     "output_type": "stream",
     "text": [
      "100%|████████████████████████████████████████████████████████████████████████████████████████████████████████████████████████████████████████████████████████████████| 47/47 [00:00<00:00, 1426.21it/s, loss=0.154]\n"
     ]
    },
    {
     "name": "stdout",
     "output_type": "stream",
     "text": [
      "Epoch: 20\n"
     ]
    },
    {
     "name": "stderr",
     "output_type": "stream",
     "text": [
      "100%|████████████████████████████████████████████████████████████████████████████████████████████████████████████████████████████████████████████████████████████████| 47/47 [00:00<00:00, 1123.96it/s, loss=0.151]\n"
     ]
    },
    {
     "name": "stdout",
     "output_type": "stream",
     "text": [
      "Epoch: 21\n"
     ]
    },
    {
     "name": "stderr",
     "output_type": "stream",
     "text": [
      "100%|████████████████████████████████████████████████████████████████████████████████████████████████████████████████████████████████████████████████████████████████| 47/47 [00:00<00:00, 1482.94it/s, loss=0.147]\n"
     ]
    },
    {
     "name": "stdout",
     "output_type": "stream",
     "text": [
      "Epoch: 22\n"
     ]
    },
    {
     "name": "stderr",
     "output_type": "stream",
     "text": [
      "100%|████████████████████████████████████████████████████████████████████████████████████████████████████████████████████████████████████████████████████████████████| 47/47 [00:00<00:00, 1330.58it/s, loss=0.144]\n"
     ]
    },
    {
     "name": "stdout",
     "output_type": "stream",
     "text": [
      "Epoch: 23\n"
     ]
    },
    {
     "name": "stderr",
     "output_type": "stream",
     "text": [
      "100%|████████████████████████████████████████████████████████████████████████████████████████████████████████████████████████████████████████████████████████████████| 47/47 [00:00<00:00, 1517.17it/s, loss=0.141]\n"
     ]
    },
    {
     "name": "stdout",
     "output_type": "stream",
     "text": [
      "Epoch: 24\n"
     ]
    },
    {
     "name": "stderr",
     "output_type": "stream",
     "text": [
      "100%|████████████████████████████████████████████████████████████████████████████████████████████████████████████████████████████████████████████████████████████████| 47/47 [00:00<00:00, 1215.85it/s, loss=0.138]\n"
     ]
    },
    {
     "name": "stdout",
     "output_type": "stream",
     "text": [
      "Epoch: 25\n"
     ]
    },
    {
     "name": "stderr",
     "output_type": "stream",
     "text": [
      "100%|████████████████████████████████████████████████████████████████████████████████████████████████████████████████████████████████████████████████████████████████| 47/47 [00:00<00:00, 1492.74it/s, loss=0.135]\n"
     ]
    },
    {
     "name": "stdout",
     "output_type": "stream",
     "text": [
      "Epoch: 26\n"
     ]
    },
    {
     "name": "stderr",
     "output_type": "stream",
     "text": [
      "100%|████████████████████████████████████████████████████████████████████████████████████████████████████████████████████████████████████████████████████████████████| 47/47 [00:00<00:00, 1502.90it/s, loss=0.132]\n"
     ]
    },
    {
     "name": "stdout",
     "output_type": "stream",
     "text": [
      "Epoch: 27\n"
     ]
    },
    {
     "name": "stderr",
     "output_type": "stream",
     "text": [
      "100%|████████████████████████████████████████████████████████████████████████████████████████████████████████████████████████████████████████████████████████████████| 47/47 [00:00<00:00, 1155.20it/s, loss=0.129]\n"
     ]
    },
    {
     "name": "stdout",
     "output_type": "stream",
     "text": [
      "Epoch: 28\n"
     ]
    },
    {
     "name": "stderr",
     "output_type": "stream",
     "text": [
      "100%|████████████████████████████████████████████████████████████████████████████████████████████████████████████████████████████████████████████████████████████████| 47/47 [00:00<00:00, 1493.15it/s, loss=0.126]\n"
     ]
    },
    {
     "name": "stdout",
     "output_type": "stream",
     "text": [
      "Epoch: 29\n"
     ]
    },
    {
     "name": "stderr",
     "output_type": "stream",
     "text": [
      "100%|████████████████████████████████████████████████████████████████████████████████████████████████████████████████████████████████████████████████████████████████| 47/47 [00:00<00:00, 1617.00it/s, loss=0.122]\n"
     ]
    },
    {
     "name": "stdout",
     "output_type": "stream",
     "text": [
      "Epoch: 30\n"
     ]
    },
    {
     "name": "stderr",
     "output_type": "stream",
     "text": [
      "100%|████████████████████████████████████████████████████████████████████████████████████████████████████████████████████████████████████████████████████████████████| 47/47 [00:00<00:00, 1175.60it/s, loss=0.119]\n"
     ]
    },
    {
     "name": "stdout",
     "output_type": "stream",
     "text": [
      "Epoch: 31\n"
     ]
    },
    {
     "name": "stderr",
     "output_type": "stream",
     "text": [
      "100%|████████████████████████████████████████████████████████████████████████████████████████████████████████████████████████████████████████████████████████████████| 47/47 [00:00<00:00, 1483.94it/s, loss=0.116]\n"
     ]
    },
    {
     "name": "stdout",
     "output_type": "stream",
     "text": [
      "Epoch: 32\n"
     ]
    },
    {
     "name": "stderr",
     "output_type": "stream",
     "text": [
      "100%|████████████████████████████████████████████████████████████████████████████████████████████████████████████████████████████████████████████████████████████████| 47/47 [00:00<00:00, 1395.00it/s, loss=0.113]\n"
     ]
    },
    {
     "name": "stdout",
     "output_type": "stream",
     "text": [
      "Epoch: 33\n"
     ]
    },
    {
     "name": "stderr",
     "output_type": "stream",
     "text": [
      "100%|█████████████████████████████████████████████████████████████████████████████████████████████████████████████████████████████████████████████████████████████████| 47/47 [00:00<00:00, 1491.21it/s, loss=0.11]\n"
     ]
    },
    {
     "name": "stdout",
     "output_type": "stream",
     "text": [
      "Epoch: 34\n"
     ]
    },
    {
     "name": "stderr",
     "output_type": "stream",
     "text": [
      "100%|████████████████████████████████████████████████████████████████████████████████████████████████████████████████████████████████████████████████████████████████| 47/47 [00:00<00:00, 1504.30it/s, loss=0.107]\n"
     ]
    },
    {
     "name": "stdout",
     "output_type": "stream",
     "text": [
      "Epoch: 35\n"
     ]
    },
    {
     "name": "stderr",
     "output_type": "stream",
     "text": [
      "100%|████████████████████████████████████████████████████████████████████████████████████████████████████████████████████████████████████████████████████████████████| 47/47 [00:00<00:00, 1543.03it/s, loss=0.104]\n"
     ]
    },
    {
     "name": "stdout",
     "output_type": "stream",
     "text": [
      "Epoch: 36\n"
     ]
    },
    {
     "name": "stderr",
     "output_type": "stream",
     "text": [
      "100%|████████████████████████████████████████████████████████████████████████████████████████████████████████████████████████████████████████████████████████████████| 47/47 [00:00<00:00, 1543.64it/s, loss=0.101]\n"
     ]
    },
    {
     "name": "stdout",
     "output_type": "stream",
     "text": [
      "Epoch: 37\n"
     ]
    },
    {
     "name": "stderr",
     "output_type": "stream",
     "text": [
      "100%|████████████████████████████████████████████████████████████████████████████████████████████████████████████████████████████████████████████████████████████████| 47/47 [00:00<00:00, 1577.60it/s, loss=0.098]\n"
     ]
    },
    {
     "name": "stdout",
     "output_type": "stream",
     "text": [
      "Epoch: 38\n"
     ]
    },
    {
     "name": "stderr",
     "output_type": "stream",
     "text": [
      "100%|███████████████████████████████████████████████████████████████████████████████████████████████████████████████████████████████████████████████████████████████| 47/47 [00:00<00:00, 1226.51it/s, loss=0.0952]\n"
     ]
    },
    {
     "name": "stdout",
     "output_type": "stream",
     "text": [
      "Epoch: 39\n"
     ]
    },
    {
     "name": "stderr",
     "output_type": "stream",
     "text": [
      "100%|███████████████████████████████████████████████████████████████████████████████████████████████████████████████████████████████████████████████████████████████| 47/47 [00:00<00:00, 1466.18it/s, loss=0.0923]\n"
     ]
    },
    {
     "name": "stdout",
     "output_type": "stream",
     "text": [
      "Epoch: 40\n"
     ]
    },
    {
     "name": "stderr",
     "output_type": "stream",
     "text": [
      "100%|███████████████████████████████████████████████████████████████████████████████████████████████████████████████████████████████████████████████████████████████| 47/47 [00:00<00:00, 1520.17it/s, loss=0.0895]\n"
     ]
    },
    {
     "name": "stdout",
     "output_type": "stream",
     "text": [
      "Epoch: 41\n"
     ]
    },
    {
     "name": "stderr",
     "output_type": "stream",
     "text": [
      "100%|███████████████████████████████████████████████████████████████████████████████████████████████████████████████████████████████████████████████████████████████| 47/47 [00:00<00:00, 1448.59it/s, loss=0.0868]\n"
     ]
    },
    {
     "name": "stdout",
     "output_type": "stream",
     "text": [
      "Epoch: 42\n"
     ]
    },
    {
     "name": "stderr",
     "output_type": "stream",
     "text": [
      "100%|███████████████████████████████████████████████████████████████████████████████████████████████████████████████████████████████████████████████████████████████| 47/47 [00:00<00:00, 1579.56it/s, loss=0.0841]\n"
     ]
    },
    {
     "name": "stdout",
     "output_type": "stream",
     "text": [
      "Epoch: 43\n"
     ]
    },
    {
     "name": "stderr",
     "output_type": "stream",
     "text": [
      "100%|███████████████████████████████████████████████████████████████████████████████████████████████████████████████████████████████████████████████████████████████| 47/47 [00:00<00:00, 1343.25it/s, loss=0.0815]\n"
     ]
    },
    {
     "name": "stdout",
     "output_type": "stream",
     "text": [
      "Epoch: 44\n"
     ]
    },
    {
     "name": "stderr",
     "output_type": "stream",
     "text": [
      "100%|███████████████████████████████████████████████████████████████████████████████████████████████████████████████████████████████████████████████████████████████| 47/47 [00:00<00:00, 1274.75it/s, loss=0.0789]\n"
     ]
    },
    {
     "name": "stdout",
     "output_type": "stream",
     "text": [
      "Epoch: 45\n"
     ]
    },
    {
     "name": "stderr",
     "output_type": "stream",
     "text": [
      "100%|███████████████████████████████████████████████████████████████████████████████████████████████████████████████████████████████████████████████████████████████| 47/47 [00:00<00:00, 1185.32it/s, loss=0.0763]\n"
     ]
    },
    {
     "name": "stdout",
     "output_type": "stream",
     "text": [
      "Epoch: 46\n"
     ]
    },
    {
     "name": "stderr",
     "output_type": "stream",
     "text": [
      "100%|███████████████████████████████████████████████████████████████████████████████████████████████████████████████████████████████████████████████████████████████| 47/47 [00:00<00:00, 1100.25it/s, loss=0.0739]\n"
     ]
    },
    {
     "name": "stdout",
     "output_type": "stream",
     "text": [
      "Epoch: 47\n"
     ]
    },
    {
     "name": "stderr",
     "output_type": "stream",
     "text": [
      "100%|███████████████████████████████████████████████████████████████████████████████████████████████████████████████████████████████████████████████████████████████| 47/47 [00:00<00:00, 1424.05it/s, loss=0.0714]\n"
     ]
    },
    {
     "name": "stdout",
     "output_type": "stream",
     "text": [
      "Epoch: 48\n"
     ]
    },
    {
     "name": "stderr",
     "output_type": "stream",
     "text": [
      "100%|███████████████████████████████████████████████████████████████████████████████████████████████████████████████████████████████████████████████████████████████| 47/47 [00:00<00:00, 1455.36it/s, loss=0.0691]\n"
     ]
    },
    {
     "name": "stdout",
     "output_type": "stream",
     "text": [
      "Epoch: 49\n"
     ]
    },
    {
     "name": "stderr",
     "output_type": "stream",
     "text": [
      "100%|███████████████████████████████████████████████████████████████████████████████████████████████████████████████████████████████████████████████████████████████| 47/47 [00:00<00:00, 1399.89it/s, loss=0.0668]\n"
     ]
    },
    {
     "name": "stdout",
     "output_type": "stream",
     "text": [
      "Epoch: 50\n"
     ]
    },
    {
     "name": "stderr",
     "output_type": "stream",
     "text": [
      "100%|███████████████████████████████████████████████████████████████████████████████████████████████████████████████████████████████████████████████████████████████| 47/47 [00:00<00:00, 1468.28it/s, loss=0.0645]\n"
     ]
    },
    {
     "name": "stdout",
     "output_type": "stream",
     "text": [
      "Epoch: 51\n"
     ]
    },
    {
     "name": "stderr",
     "output_type": "stream",
     "text": [
      "100%|███████████████████████████████████████████████████████████████████████████████████████████████████████████████████████████████████████████████████████████████| 47/47 [00:00<00:00, 1439.12it/s, loss=0.0623]\n"
     ]
    },
    {
     "name": "stdout",
     "output_type": "stream",
     "text": [
      "Epoch: 52\n"
     ]
    },
    {
     "name": "stderr",
     "output_type": "stream",
     "text": [
      "100%|███████████████████████████████████████████████████████████████████████████████████████████████████████████████████████████████████████████████████████████████| 47/47 [00:00<00:00, 1514.41it/s, loss=0.0602]\n"
     ]
    },
    {
     "name": "stdout",
     "output_type": "stream",
     "text": [
      "Epoch: 53\n"
     ]
    },
    {
     "name": "stderr",
     "output_type": "stream",
     "text": [
      "100%|███████████████████████████████████████████████████████████████████████████████████████████████████████████████████████████████████████████████████████████████| 47/47 [00:00<00:00, 1470.61it/s, loss=0.0581]\n"
     ]
    },
    {
     "name": "stdout",
     "output_type": "stream",
     "text": [
      "Epoch: 54\n"
     ]
    },
    {
     "name": "stderr",
     "output_type": "stream",
     "text": [
      "100%|███████████████████████████████████████████████████████████████████████████████████████████████████████████████████████████████████████████████████████████████| 47/47 [00:00<00:00, 1413.51it/s, loss=0.0561]\n"
     ]
    },
    {
     "name": "stdout",
     "output_type": "stream",
     "text": [
      "Epoch: 55\n"
     ]
    },
    {
     "name": "stderr",
     "output_type": "stream",
     "text": [
      "100%|███████████████████████████████████████████████████████████████████████████████████████████████████████████████████████████████████████████████████████████████| 47/47 [00:00<00:00, 1476.07it/s, loss=0.0542]\n"
     ]
    },
    {
     "name": "stdout",
     "output_type": "stream",
     "text": [
      "Epoch: 56\n"
     ]
    },
    {
     "name": "stderr",
     "output_type": "stream",
     "text": [
      "100%|███████████████████████████████████████████████████████████████████████████████████████████████████████████████████████████████████████████████████████████████| 47/47 [00:00<00:00, 1265.33it/s, loss=0.0523]\n"
     ]
    },
    {
     "name": "stdout",
     "output_type": "stream",
     "text": [
      "Epoch: 57\n"
     ]
    },
    {
     "name": "stderr",
     "output_type": "stream",
     "text": [
      "100%|███████████████████████████████████████████████████████████████████████████████████████████████████████████████████████████████████████████████████████████████| 47/47 [00:00<00:00, 1548.22it/s, loss=0.0504]\n"
     ]
    },
    {
     "name": "stdout",
     "output_type": "stream",
     "text": [
      "Epoch: 58\n"
     ]
    },
    {
     "name": "stderr",
     "output_type": "stream",
     "text": [
      "  0%|                                                                                                                                                                          | 0/47 [00:00<?, ?it/s, loss=0.0487]IOPub message rate exceeded.\n",
      "The notebook server will temporarily stop sending output\n",
      "to the client in order to avoid crashing it.\n",
      "To change this limit, set the config variable\n",
      "`--NotebookApp.iopub_msg_rate_limit`.\n",
      "\n",
      "Current values:\n",
      "NotebookApp.iopub_msg_rate_limit=1000.0 (msgs/sec)\n",
      "NotebookApp.rate_limit_window=3.0 (secs)\n",
      "\n"
     ]
    }
   ],
   "source": [
    "model = Autoencoder(layers=layers, h_activation=h_activation, o_activation=o_activation, device=device)\n",
    "\n",
    "# Optimizer\n",
    "optimizer = optim.Adam(model.parameters(), lr=learning_rate)\n",
    "\n",
    "# Represent the training data as x\n",
    "x = torch.tensor(stream_data).float().to(device)\n",
    "\n",
    "# Load the dataset\n",
    "train_ds = AutoencoderDataset(x=x)\n",
    "\n",
    "# Create a DataLoader instance\n",
    "train_loader = DataLoader(train_ds, batch_size=batch_size, shuffle=False, drop_last=False)\n",
    "\n",
    "# The training process\n",
    "for epoch in range(epochs):\n",
    "    print(\"Epoch: {}\".format(epoch))\n",
    "    \n",
    "    loop = tqdm(train_loader)\n",
    "    \n",
    "    for batch_idx, (data, targets) in enumerate(loop):\n",
    "        data = data.to(device=device)\n",
    "        targets = targets.to(device=device)\n",
    "        \n",
    "        # Feed forward\n",
    "        predictions = model(data)\n",
    "        \n",
    "        loss = loss_fn(predictions, targets)\n",
    "        \n",
    "        # Backprop\n",
    "        optimizer.zero_grad()\n",
    "        loss.backward()\n",
    "        optimizer.step()\n",
    "        \n",
    "        # Update tqdm\n",
    "        loop.set_postfix(loss=loss.item())\n",
    "        \n",
    "print(\"Done training!\")"
   ]
  },
  {
   "cell_type": "code",
   "execution_count": 7,
   "id": "a74c721d",
   "metadata": {},
   "outputs": [
    {
     "data": {
      "text/html": [
       "<div>\n",
       "<style scoped>\n",
       "    .dataframe tbody tr th:only-of-type {\n",
       "        vertical-align: middle;\n",
       "    }\n",
       "\n",
       "    .dataframe tbody tr th {\n",
       "        vertical-align: top;\n",
       "    }\n",
       "\n",
       "    .dataframe thead th {\n",
       "        text-align: right;\n",
       "    }\n",
       "</style>\n",
       "<table border=\"1\" class=\"dataframe\">\n",
       "  <thead>\n",
       "    <tr style=\"text-align: right;\">\n",
       "      <th></th>\n",
       "      <th>x0</th>\n",
       "      <th>x1</th>\n",
       "      <th>x2</th>\n",
       "      <th>x3</th>\n",
       "      <th>x4</th>\n",
       "      <th>x5</th>\n",
       "      <th>x6</th>\n",
       "      <th>x7</th>\n",
       "      <th>x8</th>\n",
       "      <th>error</th>\n",
       "    </tr>\n",
       "  </thead>\n",
       "  <tbody>\n",
       "    <tr>\n",
       "      <th>0</th>\n",
       "      <td>0.038243</td>\n",
       "      <td>0.000000</td>\n",
       "      <td>0.016149</td>\n",
       "      <td>0.0</td>\n",
       "      <td>0.0</td>\n",
       "      <td>0.022165</td>\n",
       "      <td>0.0</td>\n",
       "      <td>0.0</td>\n",
       "      <td>0.0</td>\n",
       "      <td>0.122705</td>\n",
       "    </tr>\n",
       "    <tr>\n",
       "      <th>1</th>\n",
       "      <td>0.065963</td>\n",
       "      <td>0.045890</td>\n",
       "      <td>0.041640</td>\n",
       "      <td>0.0</td>\n",
       "      <td>0.0</td>\n",
       "      <td>0.045254</td>\n",
       "      <td>0.0</td>\n",
       "      <td>0.0</td>\n",
       "      <td>0.0</td>\n",
       "      <td>0.112917</td>\n",
       "    </tr>\n",
       "    <tr>\n",
       "      <th>2</th>\n",
       "      <td>0.050663</td>\n",
       "      <td>0.022429</td>\n",
       "      <td>0.024487</td>\n",
       "      <td>0.0</td>\n",
       "      <td>0.0</td>\n",
       "      <td>0.035938</td>\n",
       "      <td>0.0</td>\n",
       "      <td>0.0</td>\n",
       "      <td>0.0</td>\n",
       "      <td>0.118173</td>\n",
       "    </tr>\n",
       "    <tr>\n",
       "      <th>3</th>\n",
       "      <td>0.045060</td>\n",
       "      <td>0.005305</td>\n",
       "      <td>0.018746</td>\n",
       "      <td>0.0</td>\n",
       "      <td>0.0</td>\n",
       "      <td>0.028036</td>\n",
       "      <td>0.0</td>\n",
       "      <td>0.0</td>\n",
       "      <td>0.0</td>\n",
       "      <td>0.121581</td>\n",
       "    </tr>\n",
       "    <tr>\n",
       "      <th>4</th>\n",
       "      <td>0.048808</td>\n",
       "      <td>0.018400</td>\n",
       "      <td>0.021978</td>\n",
       "      <td>0.0</td>\n",
       "      <td>0.0</td>\n",
       "      <td>0.033507</td>\n",
       "      <td>0.0</td>\n",
       "      <td>0.0</td>\n",
       "      <td>0.0</td>\n",
       "      <td>0.119061</td>\n",
       "    </tr>\n",
       "    <tr>\n",
       "      <th>5</th>\n",
       "      <td>0.053447</td>\n",
       "      <td>0.021754</td>\n",
       "      <td>0.024783</td>\n",
       "      <td>0.0</td>\n",
       "      <td>0.0</td>\n",
       "      <td>0.036651</td>\n",
       "      <td>0.0</td>\n",
       "      <td>0.0</td>\n",
       "      <td>0.0</td>\n",
       "      <td>0.117944</td>\n",
       "    </tr>\n",
       "    <tr>\n",
       "      <th>6</th>\n",
       "      <td>0.057153</td>\n",
       "      <td>0.020900</td>\n",
       "      <td>0.034784</td>\n",
       "      <td>0.0</td>\n",
       "      <td>0.0</td>\n",
       "      <td>0.034647</td>\n",
       "      <td>0.0</td>\n",
       "      <td>0.0</td>\n",
       "      <td>0.0</td>\n",
       "      <td>0.116244</td>\n",
       "    </tr>\n",
       "    <tr>\n",
       "      <th>7</th>\n",
       "      <td>0.094140</td>\n",
       "      <td>0.090766</td>\n",
       "      <td>0.034617</td>\n",
       "      <td>0.0</td>\n",
       "      <td>0.0</td>\n",
       "      <td>0.099951</td>\n",
       "      <td>0.0</td>\n",
       "      <td>0.0</td>\n",
       "      <td>0.0</td>\n",
       "      <td>0.109147</td>\n",
       "    </tr>\n",
       "    <tr>\n",
       "      <th>8</th>\n",
       "      <td>0.043024</td>\n",
       "      <td>0.016320</td>\n",
       "      <td>0.021074</td>\n",
       "      <td>0.0</td>\n",
       "      <td>0.0</td>\n",
       "      <td>0.030650</td>\n",
       "      <td>0.0</td>\n",
       "      <td>0.0</td>\n",
       "      <td>0.0</td>\n",
       "      <td>0.119778</td>\n",
       "    </tr>\n",
       "    <tr>\n",
       "      <th>9</th>\n",
       "      <td>0.055547</td>\n",
       "      <td>0.031745</td>\n",
       "      <td>0.025472</td>\n",
       "      <td>0.0</td>\n",
       "      <td>0.0</td>\n",
       "      <td>0.041799</td>\n",
       "      <td>0.0</td>\n",
       "      <td>0.0</td>\n",
       "      <td>0.0</td>\n",
       "      <td>0.116700</td>\n",
       "    </tr>\n",
       "    <tr>\n",
       "      <th>10</th>\n",
       "      <td>0.000000</td>\n",
       "      <td>0.008325</td>\n",
       "      <td>0.000000</td>\n",
       "      <td>0.0</td>\n",
       "      <td>0.0</td>\n",
       "      <td>0.000000</td>\n",
       "      <td>0.0</td>\n",
       "      <td>0.0</td>\n",
       "      <td>0.0</td>\n",
       "      <td>0.130438</td>\n",
       "    </tr>\n",
       "    <tr>\n",
       "      <th>11</th>\n",
       "      <td>0.026053</td>\n",
       "      <td>0.006605</td>\n",
       "      <td>0.003492</td>\n",
       "      <td>0.0</td>\n",
       "      <td>0.0</td>\n",
       "      <td>0.019591</td>\n",
       "      <td>0.0</td>\n",
       "      <td>0.0</td>\n",
       "      <td>0.0</td>\n",
       "      <td>0.125344</td>\n",
       "    </tr>\n",
       "    <tr>\n",
       "      <th>12</th>\n",
       "      <td>0.049516</td>\n",
       "      <td>0.023726</td>\n",
       "      <td>0.023276</td>\n",
       "      <td>0.0</td>\n",
       "      <td>0.0</td>\n",
       "      <td>0.035834</td>\n",
       "      <td>0.0</td>\n",
       "      <td>0.0</td>\n",
       "      <td>0.0</td>\n",
       "      <td>0.118523</td>\n",
       "    </tr>\n",
       "    <tr>\n",
       "      <th>13</th>\n",
       "      <td>0.075653</td>\n",
       "      <td>0.032617</td>\n",
       "      <td>0.053867</td>\n",
       "      <td>0.0</td>\n",
       "      <td>0.0</td>\n",
       "      <td>0.045577</td>\n",
       "      <td>0.0</td>\n",
       "      <td>0.0</td>\n",
       "      <td>0.0</td>\n",
       "      <td>0.110967</td>\n",
       "    </tr>\n",
       "    <tr>\n",
       "      <th>14</th>\n",
       "      <td>0.053104</td>\n",
       "      <td>0.026099</td>\n",
       "      <td>0.025470</td>\n",
       "      <td>0.0</td>\n",
       "      <td>0.0</td>\n",
       "      <td>0.038020</td>\n",
       "      <td>0.0</td>\n",
       "      <td>0.0</td>\n",
       "      <td>0.0</td>\n",
       "      <td>0.117627</td>\n",
       "    </tr>\n",
       "    <tr>\n",
       "      <th>15</th>\n",
       "      <td>0.052286</td>\n",
       "      <td>0.023820</td>\n",
       "      <td>0.019550</td>\n",
       "      <td>0.0</td>\n",
       "      <td>0.0</td>\n",
       "      <td>0.040635</td>\n",
       "      <td>0.0</td>\n",
       "      <td>0.0</td>\n",
       "      <td>0.0</td>\n",
       "      <td>0.118860</td>\n",
       "    </tr>\n",
       "    <tr>\n",
       "      <th>16</th>\n",
       "      <td>0.050832</td>\n",
       "      <td>0.022475</td>\n",
       "      <td>0.022468</td>\n",
       "      <td>0.0</td>\n",
       "      <td>0.0</td>\n",
       "      <td>0.037012</td>\n",
       "      <td>0.0</td>\n",
       "      <td>0.0</td>\n",
       "      <td>0.0</td>\n",
       "      <td>0.118410</td>\n",
       "    </tr>\n",
       "    <tr>\n",
       "      <th>17</th>\n",
       "      <td>0.052031</td>\n",
       "      <td>0.020611</td>\n",
       "      <td>0.024253</td>\n",
       "      <td>0.0</td>\n",
       "      <td>0.0</td>\n",
       "      <td>0.035981</td>\n",
       "      <td>0.0</td>\n",
       "      <td>0.0</td>\n",
       "      <td>0.0</td>\n",
       "      <td>0.118292</td>\n",
       "    </tr>\n",
       "    <tr>\n",
       "      <th>18</th>\n",
       "      <td>0.054547</td>\n",
       "      <td>0.024853</td>\n",
       "      <td>0.025804</td>\n",
       "      <td>0.0</td>\n",
       "      <td>0.0</td>\n",
       "      <td>0.038927</td>\n",
       "      <td>0.0</td>\n",
       "      <td>0.0</td>\n",
       "      <td>0.0</td>\n",
       "      <td>0.117386</td>\n",
       "    </tr>\n",
       "    <tr>\n",
       "      <th>19</th>\n",
       "      <td>1.000000</td>\n",
       "      <td>1.000000</td>\n",
       "      <td>1.000000</td>\n",
       "      <td>0.0</td>\n",
       "      <td>0.0</td>\n",
       "      <td>1.000000</td>\n",
       "      <td>0.0</td>\n",
       "      <td>0.0</td>\n",
       "      <td>0.0</td>\n",
       "      <td>0.872319</td>\n",
       "    </tr>\n",
       "    <tr>\n",
       "      <th>20</th>\n",
       "      <td>0.046252</td>\n",
       "      <td>0.015182</td>\n",
       "      <td>0.020783</td>\n",
       "      <td>0.0</td>\n",
       "      <td>0.0</td>\n",
       "      <td>0.031122</td>\n",
       "      <td>0.0</td>\n",
       "      <td>0.0</td>\n",
       "      <td>0.0</td>\n",
       "      <td>0.119676</td>\n",
       "    </tr>\n",
       "    <tr>\n",
       "      <th>21</th>\n",
       "      <td>0.102720</td>\n",
       "      <td>0.035156</td>\n",
       "      <td>0.043557</td>\n",
       "      <td>0.0</td>\n",
       "      <td>0.0</td>\n",
       "      <td>0.041918</td>\n",
       "      <td>0.0</td>\n",
       "      <td>0.0</td>\n",
       "      <td>0.0</td>\n",
       "      <td>0.109515</td>\n",
       "    </tr>\n",
       "    <tr>\n",
       "      <th>22</th>\n",
       "      <td>0.054225</td>\n",
       "      <td>0.036366</td>\n",
       "      <td>0.027097</td>\n",
       "      <td>0.0</td>\n",
       "      <td>0.0</td>\n",
       "      <td>0.047704</td>\n",
       "      <td>0.0</td>\n",
       "      <td>0.0</td>\n",
       "      <td>0.0</td>\n",
       "      <td>0.115994</td>\n",
       "    </tr>\n",
       "    <tr>\n",
       "      <th>23</th>\n",
       "      <td>0.063843</td>\n",
       "      <td>0.040540</td>\n",
       "      <td>0.025582</td>\n",
       "      <td>0.0</td>\n",
       "      <td>0.0</td>\n",
       "      <td>0.056077</td>\n",
       "      <td>0.0</td>\n",
       "      <td>0.0</td>\n",
       "      <td>0.0</td>\n",
       "      <td>0.115734</td>\n",
       "    </tr>\n",
       "    <tr>\n",
       "      <th>24</th>\n",
       "      <td>0.049859</td>\n",
       "      <td>0.018606</td>\n",
       "      <td>0.022967</td>\n",
       "      <td>0.0</td>\n",
       "      <td>0.0</td>\n",
       "      <td>0.034737</td>\n",
       "      <td>0.0</td>\n",
       "      <td>0.0</td>\n",
       "      <td>0.0</td>\n",
       "      <td>0.119093</td>\n",
       "    </tr>\n",
       "    <tr>\n",
       "      <th>25</th>\n",
       "      <td>0.045025</td>\n",
       "      <td>0.011547</td>\n",
       "      <td>0.018575</td>\n",
       "      <td>0.0</td>\n",
       "      <td>0.0</td>\n",
       "      <td>0.026000</td>\n",
       "      <td>0.0</td>\n",
       "      <td>0.0</td>\n",
       "      <td>0.0</td>\n",
       "      <td>0.120532</td>\n",
       "    </tr>\n",
       "    <tr>\n",
       "      <th>26</th>\n",
       "      <td>0.051144</td>\n",
       "      <td>0.021850</td>\n",
       "      <td>0.023300</td>\n",
       "      <td>0.0</td>\n",
       "      <td>0.0</td>\n",
       "      <td>0.033765</td>\n",
       "      <td>0.0</td>\n",
       "      <td>0.0</td>\n",
       "      <td>0.0</td>\n",
       "      <td>0.118669</td>\n",
       "    </tr>\n",
       "    <tr>\n",
       "      <th>27</th>\n",
       "      <td>0.056107</td>\n",
       "      <td>0.031198</td>\n",
       "      <td>0.031229</td>\n",
       "      <td>0.0</td>\n",
       "      <td>0.0</td>\n",
       "      <td>0.039058</td>\n",
       "      <td>0.0</td>\n",
       "      <td>0.0</td>\n",
       "      <td>0.0</td>\n",
       "      <td>0.116183</td>\n",
       "    </tr>\n",
       "    <tr>\n",
       "      <th>28</th>\n",
       "      <td>0.048369</td>\n",
       "      <td>0.019996</td>\n",
       "      <td>0.021012</td>\n",
       "      <td>0.0</td>\n",
       "      <td>0.0</td>\n",
       "      <td>0.034227</td>\n",
       "      <td>0.0</td>\n",
       "      <td>0.0</td>\n",
       "      <td>0.0</td>\n",
       "      <td>0.119222</td>\n",
       "    </tr>\n",
       "    <tr>\n",
       "      <th>29</th>\n",
       "      <td>0.044455</td>\n",
       "      <td>0.016302</td>\n",
       "      <td>0.018292</td>\n",
       "      <td>0.0</td>\n",
       "      <td>0.0</td>\n",
       "      <td>0.030008</td>\n",
       "      <td>0.0</td>\n",
       "      <td>0.0</td>\n",
       "      <td>0.0</td>\n",
       "      <td>0.120360</td>\n",
       "    </tr>\n",
       "    <tr>\n",
       "      <th>30</th>\n",
       "      <td>0.077342</td>\n",
       "      <td>0.030474</td>\n",
       "      <td>0.030026</td>\n",
       "      <td>0.0</td>\n",
       "      <td>0.0</td>\n",
       "      <td>0.047862</td>\n",
       "      <td>0.0</td>\n",
       "      <td>0.0</td>\n",
       "      <td>0.0</td>\n",
       "      <td>0.115201</td>\n",
       "    </tr>\n",
       "    <tr>\n",
       "      <th>31</th>\n",
       "      <td>0.048422</td>\n",
       "      <td>0.010215</td>\n",
       "      <td>0.020315</td>\n",
       "      <td>0.0</td>\n",
       "      <td>0.0</td>\n",
       "      <td>0.027315</td>\n",
       "      <td>0.0</td>\n",
       "      <td>0.0</td>\n",
       "      <td>0.0</td>\n",
       "      <td>0.120284</td>\n",
       "    </tr>\n",
       "    <tr>\n",
       "      <th>32</th>\n",
       "      <td>0.050632</td>\n",
       "      <td>0.020740</td>\n",
       "      <td>0.023470</td>\n",
       "      <td>0.0</td>\n",
       "      <td>0.0</td>\n",
       "      <td>0.035354</td>\n",
       "      <td>0.0</td>\n",
       "      <td>0.0</td>\n",
       "      <td>0.0</td>\n",
       "      <td>0.118492</td>\n",
       "    </tr>\n",
       "    <tr>\n",
       "      <th>33</th>\n",
       "      <td>0.048776</td>\n",
       "      <td>0.015561</td>\n",
       "      <td>0.023476</td>\n",
       "      <td>0.0</td>\n",
       "      <td>0.0</td>\n",
       "      <td>0.030751</td>\n",
       "      <td>0.0</td>\n",
       "      <td>0.0</td>\n",
       "      <td>0.0</td>\n",
       "      <td>0.119014</td>\n",
       "    </tr>\n",
       "    <tr>\n",
       "      <th>34</th>\n",
       "      <td>0.123710</td>\n",
       "      <td>0.170642</td>\n",
       "      <td>0.137415</td>\n",
       "      <td>0.0</td>\n",
       "      <td>0.0</td>\n",
       "      <td>0.053496</td>\n",
       "      <td>0.0</td>\n",
       "      <td>0.0</td>\n",
       "      <td>0.0</td>\n",
       "      <td>0.097061</td>\n",
       "    </tr>\n",
       "    <tr>\n",
       "      <th>35</th>\n",
       "      <td>0.053320</td>\n",
       "      <td>0.024910</td>\n",
       "      <td>0.025322</td>\n",
       "      <td>0.0</td>\n",
       "      <td>0.0</td>\n",
       "      <td>0.037614</td>\n",
       "      <td>0.0</td>\n",
       "      <td>0.0</td>\n",
       "      <td>0.0</td>\n",
       "      <td>0.117654</td>\n",
       "    </tr>\n",
       "    <tr>\n",
       "      <th>36</th>\n",
       "      <td>0.045107</td>\n",
       "      <td>0.012863</td>\n",
       "      <td>0.019092</td>\n",
       "      <td>0.0</td>\n",
       "      <td>0.0</td>\n",
       "      <td>0.029255</td>\n",
       "      <td>0.0</td>\n",
       "      <td>0.0</td>\n",
       "      <td>0.0</td>\n",
       "      <td>0.120560</td>\n",
       "    </tr>\n",
       "    <tr>\n",
       "      <th>37</th>\n",
       "      <td>0.184474</td>\n",
       "      <td>0.298243</td>\n",
       "      <td>0.102866</td>\n",
       "      <td>0.0</td>\n",
       "      <td>0.0</td>\n",
       "      <td>0.205570</td>\n",
       "      <td>0.0</td>\n",
       "      <td>0.0</td>\n",
       "      <td>0.0</td>\n",
       "      <td>0.087725</td>\n",
       "    </tr>\n",
       "    <tr>\n",
       "      <th>38</th>\n",
       "      <td>0.036851</td>\n",
       "      <td>0.012638</td>\n",
       "      <td>0.015294</td>\n",
       "      <td>0.0</td>\n",
       "      <td>0.0</td>\n",
       "      <td>0.021043</td>\n",
       "      <td>0.0</td>\n",
       "      <td>0.0</td>\n",
       "      <td>0.0</td>\n",
       "      <td>0.122243</td>\n",
       "    </tr>\n",
       "    <tr>\n",
       "      <th>39</th>\n",
       "      <td>0.051649</td>\n",
       "      <td>0.024035</td>\n",
       "      <td>0.024713</td>\n",
       "      <td>0.0</td>\n",
       "      <td>0.0</td>\n",
       "      <td>0.037536</td>\n",
       "      <td>0.0</td>\n",
       "      <td>0.0</td>\n",
       "      <td>0.0</td>\n",
       "      <td>0.117890</td>\n",
       "    </tr>\n",
       "    <tr>\n",
       "      <th>40</th>\n",
       "      <td>0.543824</td>\n",
       "      <td>0.248171</td>\n",
       "      <td>0.624619</td>\n",
       "      <td>0.0</td>\n",
       "      <td>0.0</td>\n",
       "      <td>0.205891</td>\n",
       "      <td>0.0</td>\n",
       "      <td>0.0</td>\n",
       "      <td>0.0</td>\n",
       "      <td>0.189020</td>\n",
       "    </tr>\n",
       "    <tr>\n",
       "      <th>41</th>\n",
       "      <td>0.040949</td>\n",
       "      <td>0.004308</td>\n",
       "      <td>0.020633</td>\n",
       "      <td>0.0</td>\n",
       "      <td>0.0</td>\n",
       "      <td>0.020924</td>\n",
       "      <td>0.0</td>\n",
       "      <td>0.0</td>\n",
       "      <td>0.0</td>\n",
       "      <td>0.120967</td>\n",
       "    </tr>\n",
       "    <tr>\n",
       "      <th>42</th>\n",
       "      <td>0.049752</td>\n",
       "      <td>0.016903</td>\n",
       "      <td>0.021052</td>\n",
       "      <td>0.0</td>\n",
       "      <td>0.0</td>\n",
       "      <td>0.034957</td>\n",
       "      <td>0.0</td>\n",
       "      <td>0.0</td>\n",
       "      <td>0.0</td>\n",
       "      <td>0.119139</td>\n",
       "    </tr>\n",
       "    <tr>\n",
       "      <th>43</th>\n",
       "      <td>0.044192</td>\n",
       "      <td>0.006693</td>\n",
       "      <td>0.015862</td>\n",
       "      <td>0.0</td>\n",
       "      <td>0.0</td>\n",
       "      <td>0.023555</td>\n",
       "      <td>0.0</td>\n",
       "      <td>0.0</td>\n",
       "      <td>0.0</td>\n",
       "      <td>0.121189</td>\n",
       "    </tr>\n",
       "    <tr>\n",
       "      <th>44</th>\n",
       "      <td>0.051395</td>\n",
       "      <td>0.020662</td>\n",
       "      <td>0.023248</td>\n",
       "      <td>0.0</td>\n",
       "      <td>0.0</td>\n",
       "      <td>0.036484</td>\n",
       "      <td>0.0</td>\n",
       "      <td>0.0</td>\n",
       "      <td>0.0</td>\n",
       "      <td>0.118398</td>\n",
       "    </tr>\n",
       "    <tr>\n",
       "      <th>45</th>\n",
       "      <td>0.051927</td>\n",
       "      <td>0.024118</td>\n",
       "      <td>0.024056</td>\n",
       "      <td>0.0</td>\n",
       "      <td>0.0</td>\n",
       "      <td>0.037027</td>\n",
       "      <td>0.0</td>\n",
       "      <td>0.0</td>\n",
       "      <td>0.0</td>\n",
       "      <td>0.118062</td>\n",
       "    </tr>\n",
       "    <tr>\n",
       "      <th>46</th>\n",
       "      <td>0.051047</td>\n",
       "      <td>0.020359</td>\n",
       "      <td>0.023131</td>\n",
       "      <td>0.0</td>\n",
       "      <td>0.0</td>\n",
       "      <td>0.035827</td>\n",
       "      <td>0.0</td>\n",
       "      <td>0.0</td>\n",
       "      <td>0.0</td>\n",
       "      <td>0.118639</td>\n",
       "    </tr>\n",
       "  </tbody>\n",
       "</table>\n",
       "</div>"
      ],
      "text/plain": [
       "          x0        x1        x2   x3   x4        x5   x6   x7   x8     error\n",
       "0   0.038243  0.000000  0.016149  0.0  0.0  0.022165  0.0  0.0  0.0  0.122705\n",
       "1   0.065963  0.045890  0.041640  0.0  0.0  0.045254  0.0  0.0  0.0  0.112917\n",
       "2   0.050663  0.022429  0.024487  0.0  0.0  0.035938  0.0  0.0  0.0  0.118173\n",
       "3   0.045060  0.005305  0.018746  0.0  0.0  0.028036  0.0  0.0  0.0  0.121581\n",
       "4   0.048808  0.018400  0.021978  0.0  0.0  0.033507  0.0  0.0  0.0  0.119061\n",
       "5   0.053447  0.021754  0.024783  0.0  0.0  0.036651  0.0  0.0  0.0  0.117944\n",
       "6   0.057153  0.020900  0.034784  0.0  0.0  0.034647  0.0  0.0  0.0  0.116244\n",
       "7   0.094140  0.090766  0.034617  0.0  0.0  0.099951  0.0  0.0  0.0  0.109147\n",
       "8   0.043024  0.016320  0.021074  0.0  0.0  0.030650  0.0  0.0  0.0  0.119778\n",
       "9   0.055547  0.031745  0.025472  0.0  0.0  0.041799  0.0  0.0  0.0  0.116700\n",
       "10  0.000000  0.008325  0.000000  0.0  0.0  0.000000  0.0  0.0  0.0  0.130438\n",
       "11  0.026053  0.006605  0.003492  0.0  0.0  0.019591  0.0  0.0  0.0  0.125344\n",
       "12  0.049516  0.023726  0.023276  0.0  0.0  0.035834  0.0  0.0  0.0  0.118523\n",
       "13  0.075653  0.032617  0.053867  0.0  0.0  0.045577  0.0  0.0  0.0  0.110967\n",
       "14  0.053104  0.026099  0.025470  0.0  0.0  0.038020  0.0  0.0  0.0  0.117627\n",
       "15  0.052286  0.023820  0.019550  0.0  0.0  0.040635  0.0  0.0  0.0  0.118860\n",
       "16  0.050832  0.022475  0.022468  0.0  0.0  0.037012  0.0  0.0  0.0  0.118410\n",
       "17  0.052031  0.020611  0.024253  0.0  0.0  0.035981  0.0  0.0  0.0  0.118292\n",
       "18  0.054547  0.024853  0.025804  0.0  0.0  0.038927  0.0  0.0  0.0  0.117386\n",
       "19  1.000000  1.000000  1.000000  0.0  0.0  1.000000  0.0  0.0  0.0  0.872319\n",
       "20  0.046252  0.015182  0.020783  0.0  0.0  0.031122  0.0  0.0  0.0  0.119676\n",
       "21  0.102720  0.035156  0.043557  0.0  0.0  0.041918  0.0  0.0  0.0  0.109515\n",
       "22  0.054225  0.036366  0.027097  0.0  0.0  0.047704  0.0  0.0  0.0  0.115994\n",
       "23  0.063843  0.040540  0.025582  0.0  0.0  0.056077  0.0  0.0  0.0  0.115734\n",
       "24  0.049859  0.018606  0.022967  0.0  0.0  0.034737  0.0  0.0  0.0  0.119093\n",
       "25  0.045025  0.011547  0.018575  0.0  0.0  0.026000  0.0  0.0  0.0  0.120532\n",
       "26  0.051144  0.021850  0.023300  0.0  0.0  0.033765  0.0  0.0  0.0  0.118669\n",
       "27  0.056107  0.031198  0.031229  0.0  0.0  0.039058  0.0  0.0  0.0  0.116183\n",
       "28  0.048369  0.019996  0.021012  0.0  0.0  0.034227  0.0  0.0  0.0  0.119222\n",
       "29  0.044455  0.016302  0.018292  0.0  0.0  0.030008  0.0  0.0  0.0  0.120360\n",
       "30  0.077342  0.030474  0.030026  0.0  0.0  0.047862  0.0  0.0  0.0  0.115201\n",
       "31  0.048422  0.010215  0.020315  0.0  0.0  0.027315  0.0  0.0  0.0  0.120284\n",
       "32  0.050632  0.020740  0.023470  0.0  0.0  0.035354  0.0  0.0  0.0  0.118492\n",
       "33  0.048776  0.015561  0.023476  0.0  0.0  0.030751  0.0  0.0  0.0  0.119014\n",
       "34  0.123710  0.170642  0.137415  0.0  0.0  0.053496  0.0  0.0  0.0  0.097061\n",
       "35  0.053320  0.024910  0.025322  0.0  0.0  0.037614  0.0  0.0  0.0  0.117654\n",
       "36  0.045107  0.012863  0.019092  0.0  0.0  0.029255  0.0  0.0  0.0  0.120560\n",
       "37  0.184474  0.298243  0.102866  0.0  0.0  0.205570  0.0  0.0  0.0  0.087725\n",
       "38  0.036851  0.012638  0.015294  0.0  0.0  0.021043  0.0  0.0  0.0  0.122243\n",
       "39  0.051649  0.024035  0.024713  0.0  0.0  0.037536  0.0  0.0  0.0  0.117890\n",
       "40  0.543824  0.248171  0.624619  0.0  0.0  0.205891  0.0  0.0  0.0  0.189020\n",
       "41  0.040949  0.004308  0.020633  0.0  0.0  0.020924  0.0  0.0  0.0  0.120967\n",
       "42  0.049752  0.016903  0.021052  0.0  0.0  0.034957  0.0  0.0  0.0  0.119139\n",
       "43  0.044192  0.006693  0.015862  0.0  0.0  0.023555  0.0  0.0  0.0  0.121189\n",
       "44  0.051395  0.020662  0.023248  0.0  0.0  0.036484  0.0  0.0  0.0  0.118398\n",
       "45  0.051927  0.024118  0.024056  0.0  0.0  0.037027  0.0  0.0  0.0  0.118062\n",
       "46  0.051047  0.020359  0.023131  0.0  0.0  0.035827  0.0  0.0  0.0  0.118639"
      ]
     },
     "execution_count": 7,
     "metadata": {},
     "output_type": "execute_result"
    }
   ],
   "source": [
    "z = model.encode(x).detach().cpu().numpy().astype(np.float32)\n",
    "\n",
    "columns = []\n",
    "\n",
    "for i in range(len(z[0])):\n",
    "    columns.append(\"x{}\".format(i))\n",
    "\n",
    "df_z = pd.DataFrame(z, columns=columns)\n",
    "\n",
    "# Normalize the data with MinMaxScaler\n",
    "min_max_scaler = preprocessing.MinMaxScaler()\n",
    "z_scaled = min_max_scaler.fit_transform(df_z.values)\n",
    "\n",
    "# Reassign to df_z\n",
    "df_z = pd.DataFrame(z_scaled, columns=columns)\n",
    "\n",
    "# Fetch the errors per data\n",
    "predictions = model(x)\n",
    "targets = x\n",
    "\n",
    "x_loss = nn.MSELoss(reduction='none')(predictions, targets).sum(axis=1).detach().cpu().numpy().astype(np.float32)\n",
    "df_z['error'] = x_loss\n",
    "\n",
    "df_z"
   ]
  },
  {
   "cell_type": "code",
   "execution_count": 8,
   "id": "61fe4e76",
   "metadata": {},
   "outputs": [
    {
     "name": "stdout",
     "output_type": "stream",
     "text": [
      "Cluster labels: [-1  0]\n",
      "Count for Cluster -1: 4\n",
      "Count for Cluster 0: 43\n"
     ]
    },
    {
     "data": {
      "text/html": [
       "<div>\n",
       "<style scoped>\n",
       "    .dataframe tbody tr th:only-of-type {\n",
       "        vertical-align: middle;\n",
       "    }\n",
       "\n",
       "    .dataframe tbody tr th {\n",
       "        vertical-align: top;\n",
       "    }\n",
       "\n",
       "    .dataframe thead th {\n",
       "        text-align: right;\n",
       "    }\n",
       "</style>\n",
       "<table border=\"1\" class=\"dataframe\">\n",
       "  <thead>\n",
       "    <tr style=\"text-align: right;\">\n",
       "      <th></th>\n",
       "      <th>x0</th>\n",
       "      <th>x1</th>\n",
       "      <th>x2</th>\n",
       "      <th>x3</th>\n",
       "      <th>x4</th>\n",
       "      <th>x5</th>\n",
       "      <th>x6</th>\n",
       "      <th>x7</th>\n",
       "      <th>x8</th>\n",
       "      <th>error</th>\n",
       "      <th>cluster_label</th>\n",
       "    </tr>\n",
       "  </thead>\n",
       "  <tbody>\n",
       "    <tr>\n",
       "      <th>0</th>\n",
       "      <td>0.038243</td>\n",
       "      <td>0.000000</td>\n",
       "      <td>0.016149</td>\n",
       "      <td>0.0</td>\n",
       "      <td>0.0</td>\n",
       "      <td>0.022165</td>\n",
       "      <td>0.0</td>\n",
       "      <td>0.0</td>\n",
       "      <td>0.0</td>\n",
       "      <td>0.122705</td>\n",
       "      <td>0</td>\n",
       "    </tr>\n",
       "    <tr>\n",
       "      <th>1</th>\n",
       "      <td>0.065963</td>\n",
       "      <td>0.045890</td>\n",
       "      <td>0.041640</td>\n",
       "      <td>0.0</td>\n",
       "      <td>0.0</td>\n",
       "      <td>0.045254</td>\n",
       "      <td>0.0</td>\n",
       "      <td>0.0</td>\n",
       "      <td>0.0</td>\n",
       "      <td>0.112917</td>\n",
       "      <td>0</td>\n",
       "    </tr>\n",
       "    <tr>\n",
       "      <th>2</th>\n",
       "      <td>0.050663</td>\n",
       "      <td>0.022429</td>\n",
       "      <td>0.024487</td>\n",
       "      <td>0.0</td>\n",
       "      <td>0.0</td>\n",
       "      <td>0.035938</td>\n",
       "      <td>0.0</td>\n",
       "      <td>0.0</td>\n",
       "      <td>0.0</td>\n",
       "      <td>0.118173</td>\n",
       "      <td>0</td>\n",
       "    </tr>\n",
       "    <tr>\n",
       "      <th>3</th>\n",
       "      <td>0.045060</td>\n",
       "      <td>0.005305</td>\n",
       "      <td>0.018746</td>\n",
       "      <td>0.0</td>\n",
       "      <td>0.0</td>\n",
       "      <td>0.028036</td>\n",
       "      <td>0.0</td>\n",
       "      <td>0.0</td>\n",
       "      <td>0.0</td>\n",
       "      <td>0.121581</td>\n",
       "      <td>0</td>\n",
       "    </tr>\n",
       "    <tr>\n",
       "      <th>4</th>\n",
       "      <td>0.048808</td>\n",
       "      <td>0.018400</td>\n",
       "      <td>0.021978</td>\n",
       "      <td>0.0</td>\n",
       "      <td>0.0</td>\n",
       "      <td>0.033507</td>\n",
       "      <td>0.0</td>\n",
       "      <td>0.0</td>\n",
       "      <td>0.0</td>\n",
       "      <td>0.119061</td>\n",
       "      <td>0</td>\n",
       "    </tr>\n",
       "    <tr>\n",
       "      <th>5</th>\n",
       "      <td>0.053447</td>\n",
       "      <td>0.021754</td>\n",
       "      <td>0.024783</td>\n",
       "      <td>0.0</td>\n",
       "      <td>0.0</td>\n",
       "      <td>0.036651</td>\n",
       "      <td>0.0</td>\n",
       "      <td>0.0</td>\n",
       "      <td>0.0</td>\n",
       "      <td>0.117944</td>\n",
       "      <td>0</td>\n",
       "    </tr>\n",
       "    <tr>\n",
       "      <th>6</th>\n",
       "      <td>0.057153</td>\n",
       "      <td>0.020900</td>\n",
       "      <td>0.034784</td>\n",
       "      <td>0.0</td>\n",
       "      <td>0.0</td>\n",
       "      <td>0.034647</td>\n",
       "      <td>0.0</td>\n",
       "      <td>0.0</td>\n",
       "      <td>0.0</td>\n",
       "      <td>0.116244</td>\n",
       "      <td>0</td>\n",
       "    </tr>\n",
       "    <tr>\n",
       "      <th>7</th>\n",
       "      <td>0.094140</td>\n",
       "      <td>0.090766</td>\n",
       "      <td>0.034617</td>\n",
       "      <td>0.0</td>\n",
       "      <td>0.0</td>\n",
       "      <td>0.099951</td>\n",
       "      <td>0.0</td>\n",
       "      <td>0.0</td>\n",
       "      <td>0.0</td>\n",
       "      <td>0.109147</td>\n",
       "      <td>0</td>\n",
       "    </tr>\n",
       "    <tr>\n",
       "      <th>8</th>\n",
       "      <td>0.043024</td>\n",
       "      <td>0.016320</td>\n",
       "      <td>0.021074</td>\n",
       "      <td>0.0</td>\n",
       "      <td>0.0</td>\n",
       "      <td>0.030650</td>\n",
       "      <td>0.0</td>\n",
       "      <td>0.0</td>\n",
       "      <td>0.0</td>\n",
       "      <td>0.119778</td>\n",
       "      <td>0</td>\n",
       "    </tr>\n",
       "    <tr>\n",
       "      <th>9</th>\n",
       "      <td>0.055547</td>\n",
       "      <td>0.031745</td>\n",
       "      <td>0.025472</td>\n",
       "      <td>0.0</td>\n",
       "      <td>0.0</td>\n",
       "      <td>0.041799</td>\n",
       "      <td>0.0</td>\n",
       "      <td>0.0</td>\n",
       "      <td>0.0</td>\n",
       "      <td>0.116700</td>\n",
       "      <td>0</td>\n",
       "    </tr>\n",
       "    <tr>\n",
       "      <th>10</th>\n",
       "      <td>0.000000</td>\n",
       "      <td>0.008325</td>\n",
       "      <td>0.000000</td>\n",
       "      <td>0.0</td>\n",
       "      <td>0.0</td>\n",
       "      <td>0.000000</td>\n",
       "      <td>0.0</td>\n",
       "      <td>0.0</td>\n",
       "      <td>0.0</td>\n",
       "      <td>0.130438</td>\n",
       "      <td>0</td>\n",
       "    </tr>\n",
       "    <tr>\n",
       "      <th>11</th>\n",
       "      <td>0.026053</td>\n",
       "      <td>0.006605</td>\n",
       "      <td>0.003492</td>\n",
       "      <td>0.0</td>\n",
       "      <td>0.0</td>\n",
       "      <td>0.019591</td>\n",
       "      <td>0.0</td>\n",
       "      <td>0.0</td>\n",
       "      <td>0.0</td>\n",
       "      <td>0.125344</td>\n",
       "      <td>0</td>\n",
       "    </tr>\n",
       "    <tr>\n",
       "      <th>12</th>\n",
       "      <td>0.049516</td>\n",
       "      <td>0.023726</td>\n",
       "      <td>0.023276</td>\n",
       "      <td>0.0</td>\n",
       "      <td>0.0</td>\n",
       "      <td>0.035834</td>\n",
       "      <td>0.0</td>\n",
       "      <td>0.0</td>\n",
       "      <td>0.0</td>\n",
       "      <td>0.118523</td>\n",
       "      <td>0</td>\n",
       "    </tr>\n",
       "    <tr>\n",
       "      <th>13</th>\n",
       "      <td>0.075653</td>\n",
       "      <td>0.032617</td>\n",
       "      <td>0.053867</td>\n",
       "      <td>0.0</td>\n",
       "      <td>0.0</td>\n",
       "      <td>0.045577</td>\n",
       "      <td>0.0</td>\n",
       "      <td>0.0</td>\n",
       "      <td>0.0</td>\n",
       "      <td>0.110967</td>\n",
       "      <td>0</td>\n",
       "    </tr>\n",
       "    <tr>\n",
       "      <th>14</th>\n",
       "      <td>0.053104</td>\n",
       "      <td>0.026099</td>\n",
       "      <td>0.025470</td>\n",
       "      <td>0.0</td>\n",
       "      <td>0.0</td>\n",
       "      <td>0.038020</td>\n",
       "      <td>0.0</td>\n",
       "      <td>0.0</td>\n",
       "      <td>0.0</td>\n",
       "      <td>0.117627</td>\n",
       "      <td>0</td>\n",
       "    </tr>\n",
       "    <tr>\n",
       "      <th>15</th>\n",
       "      <td>0.052286</td>\n",
       "      <td>0.023820</td>\n",
       "      <td>0.019550</td>\n",
       "      <td>0.0</td>\n",
       "      <td>0.0</td>\n",
       "      <td>0.040635</td>\n",
       "      <td>0.0</td>\n",
       "      <td>0.0</td>\n",
       "      <td>0.0</td>\n",
       "      <td>0.118860</td>\n",
       "      <td>0</td>\n",
       "    </tr>\n",
       "    <tr>\n",
       "      <th>16</th>\n",
       "      <td>0.050832</td>\n",
       "      <td>0.022475</td>\n",
       "      <td>0.022468</td>\n",
       "      <td>0.0</td>\n",
       "      <td>0.0</td>\n",
       "      <td>0.037012</td>\n",
       "      <td>0.0</td>\n",
       "      <td>0.0</td>\n",
       "      <td>0.0</td>\n",
       "      <td>0.118410</td>\n",
       "      <td>0</td>\n",
       "    </tr>\n",
       "    <tr>\n",
       "      <th>17</th>\n",
       "      <td>0.052031</td>\n",
       "      <td>0.020611</td>\n",
       "      <td>0.024253</td>\n",
       "      <td>0.0</td>\n",
       "      <td>0.0</td>\n",
       "      <td>0.035981</td>\n",
       "      <td>0.0</td>\n",
       "      <td>0.0</td>\n",
       "      <td>0.0</td>\n",
       "      <td>0.118292</td>\n",
       "      <td>0</td>\n",
       "    </tr>\n",
       "    <tr>\n",
       "      <th>18</th>\n",
       "      <td>0.054547</td>\n",
       "      <td>0.024853</td>\n",
       "      <td>0.025804</td>\n",
       "      <td>0.0</td>\n",
       "      <td>0.0</td>\n",
       "      <td>0.038927</td>\n",
       "      <td>0.0</td>\n",
       "      <td>0.0</td>\n",
       "      <td>0.0</td>\n",
       "      <td>0.117386</td>\n",
       "      <td>0</td>\n",
       "    </tr>\n",
       "    <tr>\n",
       "      <th>19</th>\n",
       "      <td>1.000000</td>\n",
       "      <td>1.000000</td>\n",
       "      <td>1.000000</td>\n",
       "      <td>0.0</td>\n",
       "      <td>0.0</td>\n",
       "      <td>1.000000</td>\n",
       "      <td>0.0</td>\n",
       "      <td>0.0</td>\n",
       "      <td>0.0</td>\n",
       "      <td>0.872319</td>\n",
       "      <td>-1</td>\n",
       "    </tr>\n",
       "    <tr>\n",
       "      <th>20</th>\n",
       "      <td>0.046252</td>\n",
       "      <td>0.015182</td>\n",
       "      <td>0.020783</td>\n",
       "      <td>0.0</td>\n",
       "      <td>0.0</td>\n",
       "      <td>0.031122</td>\n",
       "      <td>0.0</td>\n",
       "      <td>0.0</td>\n",
       "      <td>0.0</td>\n",
       "      <td>0.119676</td>\n",
       "      <td>0</td>\n",
       "    </tr>\n",
       "    <tr>\n",
       "      <th>21</th>\n",
       "      <td>0.102720</td>\n",
       "      <td>0.035156</td>\n",
       "      <td>0.043557</td>\n",
       "      <td>0.0</td>\n",
       "      <td>0.0</td>\n",
       "      <td>0.041918</td>\n",
       "      <td>0.0</td>\n",
       "      <td>0.0</td>\n",
       "      <td>0.0</td>\n",
       "      <td>0.109515</td>\n",
       "      <td>0</td>\n",
       "    </tr>\n",
       "    <tr>\n",
       "      <th>22</th>\n",
       "      <td>0.054225</td>\n",
       "      <td>0.036366</td>\n",
       "      <td>0.027097</td>\n",
       "      <td>0.0</td>\n",
       "      <td>0.0</td>\n",
       "      <td>0.047704</td>\n",
       "      <td>0.0</td>\n",
       "      <td>0.0</td>\n",
       "      <td>0.0</td>\n",
       "      <td>0.115994</td>\n",
       "      <td>0</td>\n",
       "    </tr>\n",
       "    <tr>\n",
       "      <th>23</th>\n",
       "      <td>0.063843</td>\n",
       "      <td>0.040540</td>\n",
       "      <td>0.025582</td>\n",
       "      <td>0.0</td>\n",
       "      <td>0.0</td>\n",
       "      <td>0.056077</td>\n",
       "      <td>0.0</td>\n",
       "      <td>0.0</td>\n",
       "      <td>0.0</td>\n",
       "      <td>0.115734</td>\n",
       "      <td>0</td>\n",
       "    </tr>\n",
       "    <tr>\n",
       "      <th>24</th>\n",
       "      <td>0.049859</td>\n",
       "      <td>0.018606</td>\n",
       "      <td>0.022967</td>\n",
       "      <td>0.0</td>\n",
       "      <td>0.0</td>\n",
       "      <td>0.034737</td>\n",
       "      <td>0.0</td>\n",
       "      <td>0.0</td>\n",
       "      <td>0.0</td>\n",
       "      <td>0.119093</td>\n",
       "      <td>0</td>\n",
       "    </tr>\n",
       "    <tr>\n",
       "      <th>25</th>\n",
       "      <td>0.045025</td>\n",
       "      <td>0.011547</td>\n",
       "      <td>0.018575</td>\n",
       "      <td>0.0</td>\n",
       "      <td>0.0</td>\n",
       "      <td>0.026000</td>\n",
       "      <td>0.0</td>\n",
       "      <td>0.0</td>\n",
       "      <td>0.0</td>\n",
       "      <td>0.120532</td>\n",
       "      <td>0</td>\n",
       "    </tr>\n",
       "    <tr>\n",
       "      <th>26</th>\n",
       "      <td>0.051144</td>\n",
       "      <td>0.021850</td>\n",
       "      <td>0.023300</td>\n",
       "      <td>0.0</td>\n",
       "      <td>0.0</td>\n",
       "      <td>0.033765</td>\n",
       "      <td>0.0</td>\n",
       "      <td>0.0</td>\n",
       "      <td>0.0</td>\n",
       "      <td>0.118669</td>\n",
       "      <td>0</td>\n",
       "    </tr>\n",
       "    <tr>\n",
       "      <th>27</th>\n",
       "      <td>0.056107</td>\n",
       "      <td>0.031198</td>\n",
       "      <td>0.031229</td>\n",
       "      <td>0.0</td>\n",
       "      <td>0.0</td>\n",
       "      <td>0.039058</td>\n",
       "      <td>0.0</td>\n",
       "      <td>0.0</td>\n",
       "      <td>0.0</td>\n",
       "      <td>0.116183</td>\n",
       "      <td>0</td>\n",
       "    </tr>\n",
       "    <tr>\n",
       "      <th>28</th>\n",
       "      <td>0.048369</td>\n",
       "      <td>0.019996</td>\n",
       "      <td>0.021012</td>\n",
       "      <td>0.0</td>\n",
       "      <td>0.0</td>\n",
       "      <td>0.034227</td>\n",
       "      <td>0.0</td>\n",
       "      <td>0.0</td>\n",
       "      <td>0.0</td>\n",
       "      <td>0.119222</td>\n",
       "      <td>0</td>\n",
       "    </tr>\n",
       "    <tr>\n",
       "      <th>29</th>\n",
       "      <td>0.044455</td>\n",
       "      <td>0.016302</td>\n",
       "      <td>0.018292</td>\n",
       "      <td>0.0</td>\n",
       "      <td>0.0</td>\n",
       "      <td>0.030008</td>\n",
       "      <td>0.0</td>\n",
       "      <td>0.0</td>\n",
       "      <td>0.0</td>\n",
       "      <td>0.120360</td>\n",
       "      <td>0</td>\n",
       "    </tr>\n",
       "    <tr>\n",
       "      <th>30</th>\n",
       "      <td>0.077342</td>\n",
       "      <td>0.030474</td>\n",
       "      <td>0.030026</td>\n",
       "      <td>0.0</td>\n",
       "      <td>0.0</td>\n",
       "      <td>0.047862</td>\n",
       "      <td>0.0</td>\n",
       "      <td>0.0</td>\n",
       "      <td>0.0</td>\n",
       "      <td>0.115201</td>\n",
       "      <td>0</td>\n",
       "    </tr>\n",
       "    <tr>\n",
       "      <th>31</th>\n",
       "      <td>0.048422</td>\n",
       "      <td>0.010215</td>\n",
       "      <td>0.020315</td>\n",
       "      <td>0.0</td>\n",
       "      <td>0.0</td>\n",
       "      <td>0.027315</td>\n",
       "      <td>0.0</td>\n",
       "      <td>0.0</td>\n",
       "      <td>0.0</td>\n",
       "      <td>0.120284</td>\n",
       "      <td>0</td>\n",
       "    </tr>\n",
       "    <tr>\n",
       "      <th>32</th>\n",
       "      <td>0.050632</td>\n",
       "      <td>0.020740</td>\n",
       "      <td>0.023470</td>\n",
       "      <td>0.0</td>\n",
       "      <td>0.0</td>\n",
       "      <td>0.035354</td>\n",
       "      <td>0.0</td>\n",
       "      <td>0.0</td>\n",
       "      <td>0.0</td>\n",
       "      <td>0.118492</td>\n",
       "      <td>0</td>\n",
       "    </tr>\n",
       "    <tr>\n",
       "      <th>33</th>\n",
       "      <td>0.048776</td>\n",
       "      <td>0.015561</td>\n",
       "      <td>0.023476</td>\n",
       "      <td>0.0</td>\n",
       "      <td>0.0</td>\n",
       "      <td>0.030751</td>\n",
       "      <td>0.0</td>\n",
       "      <td>0.0</td>\n",
       "      <td>0.0</td>\n",
       "      <td>0.119014</td>\n",
       "      <td>0</td>\n",
       "    </tr>\n",
       "    <tr>\n",
       "      <th>34</th>\n",
       "      <td>0.123710</td>\n",
       "      <td>0.170642</td>\n",
       "      <td>0.137415</td>\n",
       "      <td>0.0</td>\n",
       "      <td>0.0</td>\n",
       "      <td>0.053496</td>\n",
       "      <td>0.0</td>\n",
       "      <td>0.0</td>\n",
       "      <td>0.0</td>\n",
       "      <td>0.097061</td>\n",
       "      <td>-1</td>\n",
       "    </tr>\n",
       "    <tr>\n",
       "      <th>35</th>\n",
       "      <td>0.053320</td>\n",
       "      <td>0.024910</td>\n",
       "      <td>0.025322</td>\n",
       "      <td>0.0</td>\n",
       "      <td>0.0</td>\n",
       "      <td>0.037614</td>\n",
       "      <td>0.0</td>\n",
       "      <td>0.0</td>\n",
       "      <td>0.0</td>\n",
       "      <td>0.117654</td>\n",
       "      <td>0</td>\n",
       "    </tr>\n",
       "    <tr>\n",
       "      <th>36</th>\n",
       "      <td>0.045107</td>\n",
       "      <td>0.012863</td>\n",
       "      <td>0.019092</td>\n",
       "      <td>0.0</td>\n",
       "      <td>0.0</td>\n",
       "      <td>0.029255</td>\n",
       "      <td>0.0</td>\n",
       "      <td>0.0</td>\n",
       "      <td>0.0</td>\n",
       "      <td>0.120560</td>\n",
       "      <td>0</td>\n",
       "    </tr>\n",
       "    <tr>\n",
       "      <th>37</th>\n",
       "      <td>0.184474</td>\n",
       "      <td>0.298243</td>\n",
       "      <td>0.102866</td>\n",
       "      <td>0.0</td>\n",
       "      <td>0.0</td>\n",
       "      <td>0.205570</td>\n",
       "      <td>0.0</td>\n",
       "      <td>0.0</td>\n",
       "      <td>0.0</td>\n",
       "      <td>0.087725</td>\n",
       "      <td>-1</td>\n",
       "    </tr>\n",
       "    <tr>\n",
       "      <th>38</th>\n",
       "      <td>0.036851</td>\n",
       "      <td>0.012638</td>\n",
       "      <td>0.015294</td>\n",
       "      <td>0.0</td>\n",
       "      <td>0.0</td>\n",
       "      <td>0.021043</td>\n",
       "      <td>0.0</td>\n",
       "      <td>0.0</td>\n",
       "      <td>0.0</td>\n",
       "      <td>0.122243</td>\n",
       "      <td>0</td>\n",
       "    </tr>\n",
       "    <tr>\n",
       "      <th>39</th>\n",
       "      <td>0.051649</td>\n",
       "      <td>0.024035</td>\n",
       "      <td>0.024713</td>\n",
       "      <td>0.0</td>\n",
       "      <td>0.0</td>\n",
       "      <td>0.037536</td>\n",
       "      <td>0.0</td>\n",
       "      <td>0.0</td>\n",
       "      <td>0.0</td>\n",
       "      <td>0.117890</td>\n",
       "      <td>0</td>\n",
       "    </tr>\n",
       "    <tr>\n",
       "      <th>40</th>\n",
       "      <td>0.543824</td>\n",
       "      <td>0.248171</td>\n",
       "      <td>0.624619</td>\n",
       "      <td>0.0</td>\n",
       "      <td>0.0</td>\n",
       "      <td>0.205891</td>\n",
       "      <td>0.0</td>\n",
       "      <td>0.0</td>\n",
       "      <td>0.0</td>\n",
       "      <td>0.189020</td>\n",
       "      <td>-1</td>\n",
       "    </tr>\n",
       "    <tr>\n",
       "      <th>41</th>\n",
       "      <td>0.040949</td>\n",
       "      <td>0.004308</td>\n",
       "      <td>0.020633</td>\n",
       "      <td>0.0</td>\n",
       "      <td>0.0</td>\n",
       "      <td>0.020924</td>\n",
       "      <td>0.0</td>\n",
       "      <td>0.0</td>\n",
       "      <td>0.0</td>\n",
       "      <td>0.120967</td>\n",
       "      <td>0</td>\n",
       "    </tr>\n",
       "    <tr>\n",
       "      <th>42</th>\n",
       "      <td>0.049752</td>\n",
       "      <td>0.016903</td>\n",
       "      <td>0.021052</td>\n",
       "      <td>0.0</td>\n",
       "      <td>0.0</td>\n",
       "      <td>0.034957</td>\n",
       "      <td>0.0</td>\n",
       "      <td>0.0</td>\n",
       "      <td>0.0</td>\n",
       "      <td>0.119139</td>\n",
       "      <td>0</td>\n",
       "    </tr>\n",
       "    <tr>\n",
       "      <th>43</th>\n",
       "      <td>0.044192</td>\n",
       "      <td>0.006693</td>\n",
       "      <td>0.015862</td>\n",
       "      <td>0.0</td>\n",
       "      <td>0.0</td>\n",
       "      <td>0.023555</td>\n",
       "      <td>0.0</td>\n",
       "      <td>0.0</td>\n",
       "      <td>0.0</td>\n",
       "      <td>0.121189</td>\n",
       "      <td>0</td>\n",
       "    </tr>\n",
       "    <tr>\n",
       "      <th>44</th>\n",
       "      <td>0.051395</td>\n",
       "      <td>0.020662</td>\n",
       "      <td>0.023248</td>\n",
       "      <td>0.0</td>\n",
       "      <td>0.0</td>\n",
       "      <td>0.036484</td>\n",
       "      <td>0.0</td>\n",
       "      <td>0.0</td>\n",
       "      <td>0.0</td>\n",
       "      <td>0.118398</td>\n",
       "      <td>0</td>\n",
       "    </tr>\n",
       "    <tr>\n",
       "      <th>45</th>\n",
       "      <td>0.051927</td>\n",
       "      <td>0.024118</td>\n",
       "      <td>0.024056</td>\n",
       "      <td>0.0</td>\n",
       "      <td>0.0</td>\n",
       "      <td>0.037027</td>\n",
       "      <td>0.0</td>\n",
       "      <td>0.0</td>\n",
       "      <td>0.0</td>\n",
       "      <td>0.118062</td>\n",
       "      <td>0</td>\n",
       "    </tr>\n",
       "    <tr>\n",
       "      <th>46</th>\n",
       "      <td>0.051047</td>\n",
       "      <td>0.020359</td>\n",
       "      <td>0.023131</td>\n",
       "      <td>0.0</td>\n",
       "      <td>0.0</td>\n",
       "      <td>0.035827</td>\n",
       "      <td>0.0</td>\n",
       "      <td>0.0</td>\n",
       "      <td>0.0</td>\n",
       "      <td>0.118639</td>\n",
       "      <td>0</td>\n",
       "    </tr>\n",
       "  </tbody>\n",
       "</table>\n",
       "</div>"
      ],
      "text/plain": [
       "          x0        x1        x2   x3   x4        x5   x6   x7   x8     error  \\\n",
       "0   0.038243  0.000000  0.016149  0.0  0.0  0.022165  0.0  0.0  0.0  0.122705   \n",
       "1   0.065963  0.045890  0.041640  0.0  0.0  0.045254  0.0  0.0  0.0  0.112917   \n",
       "2   0.050663  0.022429  0.024487  0.0  0.0  0.035938  0.0  0.0  0.0  0.118173   \n",
       "3   0.045060  0.005305  0.018746  0.0  0.0  0.028036  0.0  0.0  0.0  0.121581   \n",
       "4   0.048808  0.018400  0.021978  0.0  0.0  0.033507  0.0  0.0  0.0  0.119061   \n",
       "5   0.053447  0.021754  0.024783  0.0  0.0  0.036651  0.0  0.0  0.0  0.117944   \n",
       "6   0.057153  0.020900  0.034784  0.0  0.0  0.034647  0.0  0.0  0.0  0.116244   \n",
       "7   0.094140  0.090766  0.034617  0.0  0.0  0.099951  0.0  0.0  0.0  0.109147   \n",
       "8   0.043024  0.016320  0.021074  0.0  0.0  0.030650  0.0  0.0  0.0  0.119778   \n",
       "9   0.055547  0.031745  0.025472  0.0  0.0  0.041799  0.0  0.0  0.0  0.116700   \n",
       "10  0.000000  0.008325  0.000000  0.0  0.0  0.000000  0.0  0.0  0.0  0.130438   \n",
       "11  0.026053  0.006605  0.003492  0.0  0.0  0.019591  0.0  0.0  0.0  0.125344   \n",
       "12  0.049516  0.023726  0.023276  0.0  0.0  0.035834  0.0  0.0  0.0  0.118523   \n",
       "13  0.075653  0.032617  0.053867  0.0  0.0  0.045577  0.0  0.0  0.0  0.110967   \n",
       "14  0.053104  0.026099  0.025470  0.0  0.0  0.038020  0.0  0.0  0.0  0.117627   \n",
       "15  0.052286  0.023820  0.019550  0.0  0.0  0.040635  0.0  0.0  0.0  0.118860   \n",
       "16  0.050832  0.022475  0.022468  0.0  0.0  0.037012  0.0  0.0  0.0  0.118410   \n",
       "17  0.052031  0.020611  0.024253  0.0  0.0  0.035981  0.0  0.0  0.0  0.118292   \n",
       "18  0.054547  0.024853  0.025804  0.0  0.0  0.038927  0.0  0.0  0.0  0.117386   \n",
       "19  1.000000  1.000000  1.000000  0.0  0.0  1.000000  0.0  0.0  0.0  0.872319   \n",
       "20  0.046252  0.015182  0.020783  0.0  0.0  0.031122  0.0  0.0  0.0  0.119676   \n",
       "21  0.102720  0.035156  0.043557  0.0  0.0  0.041918  0.0  0.0  0.0  0.109515   \n",
       "22  0.054225  0.036366  0.027097  0.0  0.0  0.047704  0.0  0.0  0.0  0.115994   \n",
       "23  0.063843  0.040540  0.025582  0.0  0.0  0.056077  0.0  0.0  0.0  0.115734   \n",
       "24  0.049859  0.018606  0.022967  0.0  0.0  0.034737  0.0  0.0  0.0  0.119093   \n",
       "25  0.045025  0.011547  0.018575  0.0  0.0  0.026000  0.0  0.0  0.0  0.120532   \n",
       "26  0.051144  0.021850  0.023300  0.0  0.0  0.033765  0.0  0.0  0.0  0.118669   \n",
       "27  0.056107  0.031198  0.031229  0.0  0.0  0.039058  0.0  0.0  0.0  0.116183   \n",
       "28  0.048369  0.019996  0.021012  0.0  0.0  0.034227  0.0  0.0  0.0  0.119222   \n",
       "29  0.044455  0.016302  0.018292  0.0  0.0  0.030008  0.0  0.0  0.0  0.120360   \n",
       "30  0.077342  0.030474  0.030026  0.0  0.0  0.047862  0.0  0.0  0.0  0.115201   \n",
       "31  0.048422  0.010215  0.020315  0.0  0.0  0.027315  0.0  0.0  0.0  0.120284   \n",
       "32  0.050632  0.020740  0.023470  0.0  0.0  0.035354  0.0  0.0  0.0  0.118492   \n",
       "33  0.048776  0.015561  0.023476  0.0  0.0  0.030751  0.0  0.0  0.0  0.119014   \n",
       "34  0.123710  0.170642  0.137415  0.0  0.0  0.053496  0.0  0.0  0.0  0.097061   \n",
       "35  0.053320  0.024910  0.025322  0.0  0.0  0.037614  0.0  0.0  0.0  0.117654   \n",
       "36  0.045107  0.012863  0.019092  0.0  0.0  0.029255  0.0  0.0  0.0  0.120560   \n",
       "37  0.184474  0.298243  0.102866  0.0  0.0  0.205570  0.0  0.0  0.0  0.087725   \n",
       "38  0.036851  0.012638  0.015294  0.0  0.0  0.021043  0.0  0.0  0.0  0.122243   \n",
       "39  0.051649  0.024035  0.024713  0.0  0.0  0.037536  0.0  0.0  0.0  0.117890   \n",
       "40  0.543824  0.248171  0.624619  0.0  0.0  0.205891  0.0  0.0  0.0  0.189020   \n",
       "41  0.040949  0.004308  0.020633  0.0  0.0  0.020924  0.0  0.0  0.0  0.120967   \n",
       "42  0.049752  0.016903  0.021052  0.0  0.0  0.034957  0.0  0.0  0.0  0.119139   \n",
       "43  0.044192  0.006693  0.015862  0.0  0.0  0.023555  0.0  0.0  0.0  0.121189   \n",
       "44  0.051395  0.020662  0.023248  0.0  0.0  0.036484  0.0  0.0  0.0  0.118398   \n",
       "45  0.051927  0.024118  0.024056  0.0  0.0  0.037027  0.0  0.0  0.0  0.118062   \n",
       "46  0.051047  0.020359  0.023131  0.0  0.0  0.035827  0.0  0.0  0.0  0.118639   \n",
       "\n",
       "    cluster_label  \n",
       "0               0  \n",
       "1               0  \n",
       "2               0  \n",
       "3               0  \n",
       "4               0  \n",
       "5               0  \n",
       "6               0  \n",
       "7               0  \n",
       "8               0  \n",
       "9               0  \n",
       "10              0  \n",
       "11              0  \n",
       "12              0  \n",
       "13              0  \n",
       "14              0  \n",
       "15              0  \n",
       "16              0  \n",
       "17              0  \n",
       "18              0  \n",
       "19             -1  \n",
       "20              0  \n",
       "21              0  \n",
       "22              0  \n",
       "23              0  \n",
       "24              0  \n",
       "25              0  \n",
       "26              0  \n",
       "27              0  \n",
       "28              0  \n",
       "29              0  \n",
       "30              0  \n",
       "31              0  \n",
       "32              0  \n",
       "33              0  \n",
       "34             -1  \n",
       "35              0  \n",
       "36              0  \n",
       "37             -1  \n",
       "38              0  \n",
       "39              0  \n",
       "40             -1  \n",
       "41              0  \n",
       "42              0  \n",
       "43              0  \n",
       "44              0  \n",
       "45              0  \n",
       "46              0  "
      ]
     },
     "execution_count": 8,
     "metadata": {},
     "output_type": "execute_result"
    }
   ],
   "source": [
    "clustering = DBSCAN(eps=eps, min_samples=min_samples).fit(df_z.values)\n",
    "\n",
    "unique_labels = np.unique(clustering.labels_)\n",
    "\n",
    "print(\"Cluster labels: {}\".format(unique_labels))\n",
    "\n",
    "df_z_with_cluster_labels = df_z.copy()\n",
    "df_z_with_cluster_labels['cluster_label'] = clustering.labels_\n",
    "\n",
    "for cluster_label in unique_labels:\n",
    "    count = len(df_z_with_cluster_labels[df_z_with_cluster_labels['cluster_label'] == cluster_label])\n",
    "    print(\"Count for Cluster {}: {}\".format(cluster_label, count))\n",
    "    \n",
    "df_z_with_cluster_labels"
   ]
  },
  {
   "cell_type": "code",
   "execution_count": 9,
   "id": "410d27b2",
   "metadata": {},
   "outputs": [
    {
     "data": {
      "text/html": [
       "<div>\n",
       "<style scoped>\n",
       "    .dataframe tbody tr th:only-of-type {\n",
       "        vertical-align: middle;\n",
       "    }\n",
       "\n",
       "    .dataframe tbody tr th {\n",
       "        vertical-align: top;\n",
       "    }\n",
       "\n",
       "    .dataframe thead th {\n",
       "        text-align: right;\n",
       "    }\n",
       "</style>\n",
       "<table border=\"1\" class=\"dataframe\">\n",
       "  <thead>\n",
       "    <tr style=\"text-align: right;\">\n",
       "      <th></th>\n",
       "      <th>0</th>\n",
       "      <th>1</th>\n",
       "      <th>2</th>\n",
       "      <th>3</th>\n",
       "      <th>4</th>\n",
       "      <th>5</th>\n",
       "      <th>6</th>\n",
       "      <th>7</th>\n",
       "      <th>8</th>\n",
       "      <th>9</th>\n",
       "      <th>10</th>\n",
       "      <th>11</th>\n",
       "    </tr>\n",
       "  </thead>\n",
       "  <tbody>\n",
       "    <tr>\n",
       "      <th>0</th>\n",
       "      <td>0.043878</td>\n",
       "      <td>0.036907</td>\n",
       "      <td>0.043946</td>\n",
       "      <td>0.043253</td>\n",
       "      <td>0.044252</td>\n",
       "      <td>0.043928</td>\n",
       "      <td>0.043629</td>\n",
       "      <td>0.043838</td>\n",
       "      <td>0.043071</td>\n",
       "      <td>0.043456</td>\n",
       "      <td>0.044183</td>\n",
       "      <td>0.043018</td>\n",
       "    </tr>\n",
       "    <tr>\n",
       "      <th>1</th>\n",
       "      <td>0.043972</td>\n",
       "      <td>0.045412</td>\n",
       "      <td>0.044082</td>\n",
       "      <td>0.043926</td>\n",
       "      <td>0.044088</td>\n",
       "      <td>0.043965</td>\n",
       "      <td>0.043978</td>\n",
       "      <td>0.043933</td>\n",
       "      <td>0.044023</td>\n",
       "      <td>0.053966</td>\n",
       "      <td>0.044038</td>\n",
       "      <td>0.044267</td>\n",
       "    </tr>\n",
       "    <tr>\n",
       "      <th>2</th>\n",
       "      <td>0.044072</td>\n",
       "      <td>0.044991</td>\n",
       "      <td>0.043948</td>\n",
       "      <td>0.042822</td>\n",
       "      <td>0.044231</td>\n",
       "      <td>0.044008</td>\n",
       "      <td>0.043344</td>\n",
       "      <td>0.043945</td>\n",
       "      <td>0.043873</td>\n",
       "      <td>0.044129</td>\n",
       "      <td>0.044503</td>\n",
       "      <td>0.044026</td>\n",
       "    </tr>\n",
       "    <tr>\n",
       "      <th>3</th>\n",
       "      <td>0.043772</td>\n",
       "      <td>0.034441</td>\n",
       "      <td>0.043876</td>\n",
       "      <td>0.045846</td>\n",
       "      <td>0.044106</td>\n",
       "      <td>0.043870</td>\n",
       "      <td>0.043949</td>\n",
       "      <td>0.044060</td>\n",
       "      <td>0.043928</td>\n",
       "      <td>0.043924</td>\n",
       "      <td>0.043934</td>\n",
       "      <td>0.043858</td>\n",
       "    </tr>\n",
       "    <tr>\n",
       "      <th>4</th>\n",
       "      <td>0.043924</td>\n",
       "      <td>0.043970</td>\n",
       "      <td>0.043820</td>\n",
       "      <td>0.043259</td>\n",
       "      <td>0.043950</td>\n",
       "      <td>0.043561</td>\n",
       "      <td>0.043690</td>\n",
       "      <td>0.043950</td>\n",
       "      <td>0.044029</td>\n",
       "      <td>0.043868</td>\n",
       "      <td>0.043986</td>\n",
       "      <td>0.043619</td>\n",
       "    </tr>\n",
       "    <tr>\n",
       "      <th>5</th>\n",
       "      <td>0.043985</td>\n",
       "      <td>0.043710</td>\n",
       "      <td>0.043957</td>\n",
       "      <td>0.043544</td>\n",
       "      <td>0.043768</td>\n",
       "      <td>0.043845</td>\n",
       "      <td>0.044161</td>\n",
       "      <td>0.044583</td>\n",
       "      <td>0.044144</td>\n",
       "      <td>0.043756</td>\n",
       "      <td>0.043449</td>\n",
       "      <td>0.044745</td>\n",
       "    </tr>\n",
       "    <tr>\n",
       "      <th>6</th>\n",
       "      <td>0.043423</td>\n",
       "      <td>0.043949</td>\n",
       "      <td>0.044018</td>\n",
       "      <td>0.041181</td>\n",
       "      <td>0.043864</td>\n",
       "      <td>0.052176</td>\n",
       "      <td>0.043912</td>\n",
       "      <td>0.043850</td>\n",
       "      <td>0.043971</td>\n",
       "      <td>0.043862</td>\n",
       "      <td>0.045332</td>\n",
       "      <td>0.043939</td>\n",
       "    </tr>\n",
       "    <tr>\n",
       "      <th>7</th>\n",
       "      <td>0.045156</td>\n",
       "      <td>0.044132</td>\n",
       "      <td>0.043946</td>\n",
       "      <td>0.070355</td>\n",
       "      <td>0.043913</td>\n",
       "      <td>0.041310</td>\n",
       "      <td>0.044266</td>\n",
       "      <td>0.043752</td>\n",
       "      <td>0.043983</td>\n",
       "      <td>0.043945</td>\n",
       "      <td>0.043917</td>\n",
       "      <td>0.043990</td>\n",
       "    </tr>\n",
       "    <tr>\n",
       "      <th>8</th>\n",
       "      <td>0.043923</td>\n",
       "      <td>0.043939</td>\n",
       "      <td>0.043790</td>\n",
       "      <td>0.043907</td>\n",
       "      <td>0.044151</td>\n",
       "      <td>0.044057</td>\n",
       "      <td>0.043929</td>\n",
       "      <td>0.043888</td>\n",
       "      <td>0.040519</td>\n",
       "      <td>0.043932</td>\n",
       "      <td>0.044168</td>\n",
       "      <td>0.043830</td>\n",
       "    </tr>\n",
       "    <tr>\n",
       "      <th>9</th>\n",
       "      <td>0.043933</td>\n",
       "      <td>0.049406</td>\n",
       "      <td>0.042799</td>\n",
       "      <td>0.043909</td>\n",
       "      <td>0.043861</td>\n",
       "      <td>0.043870</td>\n",
       "      <td>0.043722</td>\n",
       "      <td>0.043983</td>\n",
       "      <td>0.044094</td>\n",
       "      <td>0.043824</td>\n",
       "      <td>0.043968</td>\n",
       "      <td>0.043946</td>\n",
       "    </tr>\n",
       "    <tr>\n",
       "      <th>10</th>\n",
       "      <td>0.052761</td>\n",
       "      <td>0.043896</td>\n",
       "      <td>0.043814</td>\n",
       "      <td>0.043938</td>\n",
       "      <td>0.000000</td>\n",
       "      <td>0.044059</td>\n",
       "      <td>0.043973</td>\n",
       "      <td>0.043800</td>\n",
       "      <td>0.043762</td>\n",
       "      <td>0.043915</td>\n",
       "      <td>0.043932</td>\n",
       "      <td>0.043990</td>\n",
       "    </tr>\n",
       "    <tr>\n",
       "      <th>11</th>\n",
       "      <td>0.044739</td>\n",
       "      <td>0.043921</td>\n",
       "      <td>0.043868</td>\n",
       "      <td>0.043851</td>\n",
       "      <td>0.031688</td>\n",
       "      <td>0.036706</td>\n",
       "      <td>0.043514</td>\n",
       "      <td>0.044639</td>\n",
       "      <td>0.043983</td>\n",
       "      <td>0.042527</td>\n",
       "      <td>0.043875</td>\n",
       "      <td>0.043926</td>\n",
       "    </tr>\n",
       "    <tr>\n",
       "      <th>12</th>\n",
       "      <td>0.043894</td>\n",
       "      <td>0.044466</td>\n",
       "      <td>0.044931</td>\n",
       "      <td>0.044665</td>\n",
       "      <td>0.040394</td>\n",
       "      <td>0.043844</td>\n",
       "      <td>0.043657</td>\n",
       "      <td>0.043847</td>\n",
       "      <td>0.043952</td>\n",
       "      <td>0.044168</td>\n",
       "      <td>0.044455</td>\n",
       "      <td>0.043942</td>\n",
       "    </tr>\n",
       "    <tr>\n",
       "      <th>13</th>\n",
       "      <td>0.043861</td>\n",
       "      <td>0.043923</td>\n",
       "      <td>0.043984</td>\n",
       "      <td>0.043904</td>\n",
       "      <td>0.044203</td>\n",
       "      <td>0.064677</td>\n",
       "      <td>0.043963</td>\n",
       "      <td>0.045382</td>\n",
       "      <td>0.043230</td>\n",
       "      <td>0.044154</td>\n",
       "      <td>0.043924</td>\n",
       "      <td>0.043912</td>\n",
       "    </tr>\n",
       "    <tr>\n",
       "      <th>14</th>\n",
       "      <td>0.043996</td>\n",
       "      <td>0.045195</td>\n",
       "      <td>0.044425</td>\n",
       "      <td>0.043413</td>\n",
       "      <td>0.043904</td>\n",
       "      <td>0.043851</td>\n",
       "      <td>0.043793</td>\n",
       "      <td>0.043125</td>\n",
       "      <td>0.043950</td>\n",
       "      <td>0.043919</td>\n",
       "      <td>0.044626</td>\n",
       "      <td>0.044633</td>\n",
       "    </tr>\n",
       "    <tr>\n",
       "      <th>15</th>\n",
       "      <td>0.044071</td>\n",
       "      <td>0.042479</td>\n",
       "      <td>0.044032</td>\n",
       "      <td>0.046260</td>\n",
       "      <td>0.046364</td>\n",
       "      <td>0.039896</td>\n",
       "      <td>0.044145</td>\n",
       "      <td>0.043507</td>\n",
       "      <td>0.043979</td>\n",
       "      <td>0.043538</td>\n",
       "      <td>0.043949</td>\n",
       "      <td>0.043925</td>\n",
       "    </tr>\n",
       "    <tr>\n",
       "      <th>16</th>\n",
       "      <td>0.044568</td>\n",
       "      <td>0.044864</td>\n",
       "      <td>0.043509</td>\n",
       "      <td>0.043946</td>\n",
       "      <td>0.043860</td>\n",
       "      <td>0.043843</td>\n",
       "      <td>0.043900</td>\n",
       "      <td>0.043849</td>\n",
       "      <td>0.043873</td>\n",
       "      <td>0.042947</td>\n",
       "      <td>0.043965</td>\n",
       "      <td>0.043936</td>\n",
       "    </tr>\n",
       "    <tr>\n",
       "      <th>17</th>\n",
       "      <td>0.043862</td>\n",
       "      <td>0.043360</td>\n",
       "      <td>0.044123</td>\n",
       "      <td>0.044154</td>\n",
       "      <td>0.043950</td>\n",
       "      <td>0.044822</td>\n",
       "      <td>0.043977</td>\n",
       "      <td>0.043901</td>\n",
       "      <td>0.043897</td>\n",
       "      <td>0.043510</td>\n",
       "      <td>0.043981</td>\n",
       "      <td>0.043963</td>\n",
       "    </tr>\n",
       "    <tr>\n",
       "      <th>18</th>\n",
       "      <td>0.044509</td>\n",
       "      <td>0.043937</td>\n",
       "      <td>0.043734</td>\n",
       "      <td>0.043944</td>\n",
       "      <td>0.044799</td>\n",
       "      <td>0.043968</td>\n",
       "      <td>0.044945</td>\n",
       "      <td>0.044010</td>\n",
       "      <td>0.043323</td>\n",
       "      <td>0.043751</td>\n",
       "      <td>0.043895</td>\n",
       "      <td>0.044288</td>\n",
       "    </tr>\n",
       "    <tr>\n",
       "      <th>20</th>\n",
       "      <td>0.043949</td>\n",
       "      <td>0.043972</td>\n",
       "      <td>0.043853</td>\n",
       "      <td>0.043965</td>\n",
       "      <td>0.043903</td>\n",
       "      <td>0.044894</td>\n",
       "      <td>0.043028</td>\n",
       "      <td>0.043851</td>\n",
       "      <td>0.043855</td>\n",
       "      <td>0.043967</td>\n",
       "      <td>0.043404</td>\n",
       "      <td>0.042494</td>\n",
       "    </tr>\n",
       "    <tr>\n",
       "      <th>21</th>\n",
       "      <td>0.043858</td>\n",
       "      <td>0.043854</td>\n",
       "      <td>0.043937</td>\n",
       "      <td>0.043901</td>\n",
       "      <td>0.043836</td>\n",
       "      <td>0.043868</td>\n",
       "      <td>0.067182</td>\n",
       "      <td>0.043844</td>\n",
       "      <td>0.043754</td>\n",
       "      <td>0.043955</td>\n",
       "      <td>0.028389</td>\n",
       "      <td>0.047987</td>\n",
       "    </tr>\n",
       "    <tr>\n",
       "      <th>22</th>\n",
       "      <td>0.050551</td>\n",
       "      <td>0.044477</td>\n",
       "      <td>0.043980</td>\n",
       "      <td>0.043559</td>\n",
       "      <td>0.043921</td>\n",
       "      <td>0.042943</td>\n",
       "      <td>0.043949</td>\n",
       "      <td>0.044290</td>\n",
       "      <td>0.043746</td>\n",
       "      <td>0.043256</td>\n",
       "      <td>0.043883</td>\n",
       "      <td>0.043925</td>\n",
       "    </tr>\n",
       "    <tr>\n",
       "      <th>23</th>\n",
       "      <td>0.044444</td>\n",
       "      <td>0.043474</td>\n",
       "      <td>0.043701</td>\n",
       "      <td>0.052456</td>\n",
       "      <td>0.044363</td>\n",
       "      <td>0.043928</td>\n",
       "      <td>0.043770</td>\n",
       "      <td>0.043923</td>\n",
       "      <td>0.043887</td>\n",
       "      <td>0.042200</td>\n",
       "      <td>0.044209</td>\n",
       "      <td>0.044060</td>\n",
       "    </tr>\n",
       "    <tr>\n",
       "      <th>24</th>\n",
       "      <td>0.043965</td>\n",
       "      <td>0.040450</td>\n",
       "      <td>0.043847</td>\n",
       "      <td>0.045367</td>\n",
       "      <td>0.043958</td>\n",
       "      <td>0.043841</td>\n",
       "      <td>0.043838</td>\n",
       "      <td>0.043837</td>\n",
       "      <td>0.043480</td>\n",
       "      <td>0.044602</td>\n",
       "      <td>0.044155</td>\n",
       "      <td>0.044023</td>\n",
       "    </tr>\n",
       "    <tr>\n",
       "      <th>25</th>\n",
       "      <td>0.043403</td>\n",
       "      <td>0.043739</td>\n",
       "      <td>0.044019</td>\n",
       "      <td>0.043842</td>\n",
       "      <td>0.041038</td>\n",
       "      <td>0.043896</td>\n",
       "      <td>0.043908</td>\n",
       "      <td>0.043917</td>\n",
       "      <td>0.044081</td>\n",
       "      <td>0.043997</td>\n",
       "      <td>0.041477</td>\n",
       "      <td>0.044003</td>\n",
       "    </tr>\n",
       "    <tr>\n",
       "      <th>26</th>\n",
       "      <td>0.043653</td>\n",
       "      <td>0.043824</td>\n",
       "      <td>0.043839</td>\n",
       "      <td>0.043898</td>\n",
       "      <td>0.043983</td>\n",
       "      <td>0.043942</td>\n",
       "      <td>0.044098</td>\n",
       "      <td>0.042085</td>\n",
       "      <td>0.043851</td>\n",
       "      <td>0.044002</td>\n",
       "      <td>0.043885</td>\n",
       "      <td>0.044992</td>\n",
       "    </tr>\n",
       "    <tr>\n",
       "      <th>27</th>\n",
       "      <td>0.044519</td>\n",
       "      <td>0.044035</td>\n",
       "      <td>0.043810</td>\n",
       "      <td>0.043962</td>\n",
       "      <td>0.043804</td>\n",
       "      <td>0.044251</td>\n",
       "      <td>0.043961</td>\n",
       "      <td>0.043910</td>\n",
       "      <td>0.043494</td>\n",
       "      <td>0.048398</td>\n",
       "      <td>0.043963</td>\n",
       "      <td>0.043916</td>\n",
       "    </tr>\n",
       "    <tr>\n",
       "      <th>28</th>\n",
       "      <td>0.043987</td>\n",
       "      <td>0.043769</td>\n",
       "      <td>0.043880</td>\n",
       "      <td>0.044531</td>\n",
       "      <td>0.044284</td>\n",
       "      <td>0.043250</td>\n",
       "      <td>0.043892</td>\n",
       "      <td>0.042917</td>\n",
       "      <td>0.043586</td>\n",
       "      <td>0.043959</td>\n",
       "      <td>0.044122</td>\n",
       "      <td>0.043276</td>\n",
       "    </tr>\n",
       "    <tr>\n",
       "      <th>29</th>\n",
       "      <td>0.043974</td>\n",
       "      <td>0.043815</td>\n",
       "      <td>0.041922</td>\n",
       "      <td>0.043959</td>\n",
       "      <td>0.041132</td>\n",
       "      <td>0.043139</td>\n",
       "      <td>0.043795</td>\n",
       "      <td>0.043937</td>\n",
       "      <td>0.043905</td>\n",
       "      <td>0.043896</td>\n",
       "      <td>0.043923</td>\n",
       "      <td>0.043954</td>\n",
       "    </tr>\n",
       "    <tr>\n",
       "      <th>30</th>\n",
       "      <td>0.040336</td>\n",
       "      <td>0.043982</td>\n",
       "      <td>0.044131</td>\n",
       "      <td>0.044005</td>\n",
       "      <td>0.043801</td>\n",
       "      <td>0.043884</td>\n",
       "      <td>0.044186</td>\n",
       "      <td>0.043844</td>\n",
       "      <td>0.054971</td>\n",
       "      <td>0.043799</td>\n",
       "      <td>0.043997</td>\n",
       "      <td>0.043920</td>\n",
       "    </tr>\n",
       "    <tr>\n",
       "      <th>31</th>\n",
       "      <td>0.039667</td>\n",
       "      <td>0.043869</td>\n",
       "      <td>0.043737</td>\n",
       "      <td>0.043908</td>\n",
       "      <td>0.043938</td>\n",
       "      <td>0.044319</td>\n",
       "      <td>0.043973</td>\n",
       "      <td>0.043892</td>\n",
       "      <td>0.043905</td>\n",
       "      <td>0.044012</td>\n",
       "      <td>0.043796</td>\n",
       "      <td>0.043893</td>\n",
       "    </tr>\n",
       "    <tr>\n",
       "      <th>32</th>\n",
       "      <td>0.043963</td>\n",
       "      <td>0.043914</td>\n",
       "      <td>0.044062</td>\n",
       "      <td>0.043774</td>\n",
       "      <td>0.043895</td>\n",
       "      <td>0.043965</td>\n",
       "      <td>0.043897</td>\n",
       "      <td>0.043928</td>\n",
       "      <td>0.043792</td>\n",
       "      <td>0.043929</td>\n",
       "      <td>0.044034</td>\n",
       "      <td>0.043782</td>\n",
       "    </tr>\n",
       "    <tr>\n",
       "      <th>33</th>\n",
       "      <td>0.044032</td>\n",
       "      <td>0.043552</td>\n",
       "      <td>0.043943</td>\n",
       "      <td>0.041807</td>\n",
       "      <td>0.043999</td>\n",
       "      <td>0.044635</td>\n",
       "      <td>0.044082</td>\n",
       "      <td>0.044013</td>\n",
       "      <td>0.043998</td>\n",
       "      <td>0.043950</td>\n",
       "      <td>0.043666</td>\n",
       "      <td>0.043868</td>\n",
       "    </tr>\n",
       "    <tr>\n",
       "      <th>35</th>\n",
       "      <td>0.043989</td>\n",
       "      <td>0.044868</td>\n",
       "      <td>0.043669</td>\n",
       "      <td>0.043808</td>\n",
       "      <td>0.043837</td>\n",
       "      <td>0.043951</td>\n",
       "      <td>0.044030</td>\n",
       "      <td>0.043933</td>\n",
       "      <td>0.043966</td>\n",
       "      <td>0.044463</td>\n",
       "      <td>0.044021</td>\n",
       "      <td>0.044122</td>\n",
       "    </tr>\n",
       "    <tr>\n",
       "      <th>36</th>\n",
       "      <td>0.043992</td>\n",
       "      <td>0.040975</td>\n",
       "      <td>0.042104</td>\n",
       "      <td>0.044174</td>\n",
       "      <td>0.042265</td>\n",
       "      <td>0.043854</td>\n",
       "      <td>0.044013</td>\n",
       "      <td>0.043971</td>\n",
       "      <td>0.043926</td>\n",
       "      <td>0.043904</td>\n",
       "      <td>0.044031</td>\n",
       "      <td>0.043915</td>\n",
       "    </tr>\n",
       "    <tr>\n",
       "      <th>38</th>\n",
       "      <td>0.044266</td>\n",
       "      <td>0.043907</td>\n",
       "      <td>0.043900</td>\n",
       "      <td>0.043445</td>\n",
       "      <td>0.031068</td>\n",
       "      <td>0.044000</td>\n",
       "      <td>0.044321</td>\n",
       "      <td>0.043017</td>\n",
       "      <td>0.045105</td>\n",
       "      <td>0.043934</td>\n",
       "      <td>0.043939</td>\n",
       "      <td>0.043940</td>\n",
       "    </tr>\n",
       "    <tr>\n",
       "      <th>39</th>\n",
       "      <td>0.045475</td>\n",
       "      <td>0.043934</td>\n",
       "      <td>0.043654</td>\n",
       "      <td>0.043399</td>\n",
       "      <td>0.043907</td>\n",
       "      <td>0.044008</td>\n",
       "      <td>0.043883</td>\n",
       "      <td>0.043955</td>\n",
       "      <td>0.043935</td>\n",
       "      <td>0.043971</td>\n",
       "      <td>0.043973</td>\n",
       "      <td>0.044025</td>\n",
       "    </tr>\n",
       "    <tr>\n",
       "      <th>41</th>\n",
       "      <td>0.043932</td>\n",
       "      <td>0.043299</td>\n",
       "      <td>0.043886</td>\n",
       "      <td>0.037501</td>\n",
       "      <td>0.044094</td>\n",
       "      <td>0.043905</td>\n",
       "      <td>0.043950</td>\n",
       "      <td>0.044379</td>\n",
       "      <td>0.043957</td>\n",
       "      <td>0.043963</td>\n",
       "      <td>0.043960</td>\n",
       "      <td>0.043869</td>\n",
       "    </tr>\n",
       "    <tr>\n",
       "      <th>42</th>\n",
       "      <td>0.043882</td>\n",
       "      <td>0.043850</td>\n",
       "      <td>0.045244</td>\n",
       "      <td>0.043500</td>\n",
       "      <td>0.044331</td>\n",
       "      <td>0.044096</td>\n",
       "      <td>0.043888</td>\n",
       "      <td>0.043720</td>\n",
       "      <td>0.044052</td>\n",
       "      <td>0.041336</td>\n",
       "      <td>0.043967</td>\n",
       "      <td>0.043995</td>\n",
       "    </tr>\n",
       "    <tr>\n",
       "      <th>43</th>\n",
       "      <td>0.043701</td>\n",
       "      <td>0.043885</td>\n",
       "      <td>0.044071</td>\n",
       "      <td>0.044645</td>\n",
       "      <td>0.043342</td>\n",
       "      <td>0.043951</td>\n",
       "      <td>0.043967</td>\n",
       "      <td>0.043754</td>\n",
       "      <td>0.044175</td>\n",
       "      <td>0.043887</td>\n",
       "      <td>0.039100</td>\n",
       "      <td>0.042528</td>\n",
       "    </tr>\n",
       "    <tr>\n",
       "      <th>44</th>\n",
       "      <td>0.043865</td>\n",
       "      <td>0.043964</td>\n",
       "      <td>0.043912</td>\n",
       "      <td>0.044047</td>\n",
       "      <td>0.043911</td>\n",
       "      <td>0.043874</td>\n",
       "      <td>0.043927</td>\n",
       "      <td>0.044554</td>\n",
       "      <td>0.043949</td>\n",
       "      <td>0.043586</td>\n",
       "      <td>0.043944</td>\n",
       "      <td>0.043651</td>\n",
       "    </tr>\n",
       "    <tr>\n",
       "      <th>45</th>\n",
       "      <td>0.044408</td>\n",
       "      <td>0.043839</td>\n",
       "      <td>0.043995</td>\n",
       "      <td>0.044116</td>\n",
       "      <td>0.044123</td>\n",
       "      <td>0.042405</td>\n",
       "      <td>0.043918</td>\n",
       "      <td>0.044048</td>\n",
       "      <td>0.043961</td>\n",
       "      <td>0.045321</td>\n",
       "      <td>0.043569</td>\n",
       "      <td>0.043901</td>\n",
       "    </tr>\n",
       "    <tr>\n",
       "      <th>46</th>\n",
       "      <td>0.043855</td>\n",
       "      <td>0.042765</td>\n",
       "      <td>0.043994</td>\n",
       "      <td>0.044816</td>\n",
       "      <td>0.043922</td>\n",
       "      <td>0.044003</td>\n",
       "      <td>0.043752</td>\n",
       "      <td>0.043964</td>\n",
       "      <td>0.043789</td>\n",
       "      <td>0.043934</td>\n",
       "      <td>0.043829</td>\n",
       "      <td>0.043983</td>\n",
       "    </tr>\n",
       "  </tbody>\n",
       "</table>\n",
       "</div>"
      ],
      "text/plain": [
       "          0         1         2         3         4         5         6   \\\n",
       "0   0.043878  0.036907  0.043946  0.043253  0.044252  0.043928  0.043629   \n",
       "1   0.043972  0.045412  0.044082  0.043926  0.044088  0.043965  0.043978   \n",
       "2   0.044072  0.044991  0.043948  0.042822  0.044231  0.044008  0.043344   \n",
       "3   0.043772  0.034441  0.043876  0.045846  0.044106  0.043870  0.043949   \n",
       "4   0.043924  0.043970  0.043820  0.043259  0.043950  0.043561  0.043690   \n",
       "5   0.043985  0.043710  0.043957  0.043544  0.043768  0.043845  0.044161   \n",
       "6   0.043423  0.043949  0.044018  0.041181  0.043864  0.052176  0.043912   \n",
       "7   0.045156  0.044132  0.043946  0.070355  0.043913  0.041310  0.044266   \n",
       "8   0.043923  0.043939  0.043790  0.043907  0.044151  0.044057  0.043929   \n",
       "9   0.043933  0.049406  0.042799  0.043909  0.043861  0.043870  0.043722   \n",
       "10  0.052761  0.043896  0.043814  0.043938  0.000000  0.044059  0.043973   \n",
       "11  0.044739  0.043921  0.043868  0.043851  0.031688  0.036706  0.043514   \n",
       "12  0.043894  0.044466  0.044931  0.044665  0.040394  0.043844  0.043657   \n",
       "13  0.043861  0.043923  0.043984  0.043904  0.044203  0.064677  0.043963   \n",
       "14  0.043996  0.045195  0.044425  0.043413  0.043904  0.043851  0.043793   \n",
       "15  0.044071  0.042479  0.044032  0.046260  0.046364  0.039896  0.044145   \n",
       "16  0.044568  0.044864  0.043509  0.043946  0.043860  0.043843  0.043900   \n",
       "17  0.043862  0.043360  0.044123  0.044154  0.043950  0.044822  0.043977   \n",
       "18  0.044509  0.043937  0.043734  0.043944  0.044799  0.043968  0.044945   \n",
       "20  0.043949  0.043972  0.043853  0.043965  0.043903  0.044894  0.043028   \n",
       "21  0.043858  0.043854  0.043937  0.043901  0.043836  0.043868  0.067182   \n",
       "22  0.050551  0.044477  0.043980  0.043559  0.043921  0.042943  0.043949   \n",
       "23  0.044444  0.043474  0.043701  0.052456  0.044363  0.043928  0.043770   \n",
       "24  0.043965  0.040450  0.043847  0.045367  0.043958  0.043841  0.043838   \n",
       "25  0.043403  0.043739  0.044019  0.043842  0.041038  0.043896  0.043908   \n",
       "26  0.043653  0.043824  0.043839  0.043898  0.043983  0.043942  0.044098   \n",
       "27  0.044519  0.044035  0.043810  0.043962  0.043804  0.044251  0.043961   \n",
       "28  0.043987  0.043769  0.043880  0.044531  0.044284  0.043250  0.043892   \n",
       "29  0.043974  0.043815  0.041922  0.043959  0.041132  0.043139  0.043795   \n",
       "30  0.040336  0.043982  0.044131  0.044005  0.043801  0.043884  0.044186   \n",
       "31  0.039667  0.043869  0.043737  0.043908  0.043938  0.044319  0.043973   \n",
       "32  0.043963  0.043914  0.044062  0.043774  0.043895  0.043965  0.043897   \n",
       "33  0.044032  0.043552  0.043943  0.041807  0.043999  0.044635  0.044082   \n",
       "35  0.043989  0.044868  0.043669  0.043808  0.043837  0.043951  0.044030   \n",
       "36  0.043992  0.040975  0.042104  0.044174  0.042265  0.043854  0.044013   \n",
       "38  0.044266  0.043907  0.043900  0.043445  0.031068  0.044000  0.044321   \n",
       "39  0.045475  0.043934  0.043654  0.043399  0.043907  0.044008  0.043883   \n",
       "41  0.043932  0.043299  0.043886  0.037501  0.044094  0.043905  0.043950   \n",
       "42  0.043882  0.043850  0.045244  0.043500  0.044331  0.044096  0.043888   \n",
       "43  0.043701  0.043885  0.044071  0.044645  0.043342  0.043951  0.043967   \n",
       "44  0.043865  0.043964  0.043912  0.044047  0.043911  0.043874  0.043927   \n",
       "45  0.044408  0.043839  0.043995  0.044116  0.044123  0.042405  0.043918   \n",
       "46  0.043855  0.042765  0.043994  0.044816  0.043922  0.044003  0.043752   \n",
       "\n",
       "          7         8         9         10        11  \n",
       "0   0.043838  0.043071  0.043456  0.044183  0.043018  \n",
       "1   0.043933  0.044023  0.053966  0.044038  0.044267  \n",
       "2   0.043945  0.043873  0.044129  0.044503  0.044026  \n",
       "3   0.044060  0.043928  0.043924  0.043934  0.043858  \n",
       "4   0.043950  0.044029  0.043868  0.043986  0.043619  \n",
       "5   0.044583  0.044144  0.043756  0.043449  0.044745  \n",
       "6   0.043850  0.043971  0.043862  0.045332  0.043939  \n",
       "7   0.043752  0.043983  0.043945  0.043917  0.043990  \n",
       "8   0.043888  0.040519  0.043932  0.044168  0.043830  \n",
       "9   0.043983  0.044094  0.043824  0.043968  0.043946  \n",
       "10  0.043800  0.043762  0.043915  0.043932  0.043990  \n",
       "11  0.044639  0.043983  0.042527  0.043875  0.043926  \n",
       "12  0.043847  0.043952  0.044168  0.044455  0.043942  \n",
       "13  0.045382  0.043230  0.044154  0.043924  0.043912  \n",
       "14  0.043125  0.043950  0.043919  0.044626  0.044633  \n",
       "15  0.043507  0.043979  0.043538  0.043949  0.043925  \n",
       "16  0.043849  0.043873  0.042947  0.043965  0.043936  \n",
       "17  0.043901  0.043897  0.043510  0.043981  0.043963  \n",
       "18  0.044010  0.043323  0.043751  0.043895  0.044288  \n",
       "20  0.043851  0.043855  0.043967  0.043404  0.042494  \n",
       "21  0.043844  0.043754  0.043955  0.028389  0.047987  \n",
       "22  0.044290  0.043746  0.043256  0.043883  0.043925  \n",
       "23  0.043923  0.043887  0.042200  0.044209  0.044060  \n",
       "24  0.043837  0.043480  0.044602  0.044155  0.044023  \n",
       "25  0.043917  0.044081  0.043997  0.041477  0.044003  \n",
       "26  0.042085  0.043851  0.044002  0.043885  0.044992  \n",
       "27  0.043910  0.043494  0.048398  0.043963  0.043916  \n",
       "28  0.042917  0.043586  0.043959  0.044122  0.043276  \n",
       "29  0.043937  0.043905  0.043896  0.043923  0.043954  \n",
       "30  0.043844  0.054971  0.043799  0.043997  0.043920  \n",
       "31  0.043892  0.043905  0.044012  0.043796  0.043893  \n",
       "32  0.043928  0.043792  0.043929  0.044034  0.043782  \n",
       "33  0.044013  0.043998  0.043950  0.043666  0.043868  \n",
       "35  0.043933  0.043966  0.044463  0.044021  0.044122  \n",
       "36  0.043971  0.043926  0.043904  0.044031  0.043915  \n",
       "38  0.043017  0.045105  0.043934  0.043939  0.043940  \n",
       "39  0.043955  0.043935  0.043971  0.043973  0.044025  \n",
       "41  0.044379  0.043957  0.043963  0.043960  0.043869  \n",
       "42  0.043720  0.044052  0.041336  0.043967  0.043995  \n",
       "43  0.043754  0.044175  0.043887  0.039100  0.042528  \n",
       "44  0.044554  0.043949  0.043586  0.043944  0.043651  \n",
       "45  0.044048  0.043961  0.045321  0.043569  0.043901  \n",
       "46  0.043964  0.043789  0.043934  0.043829  0.043983  "
      ]
     },
     "execution_count": 9,
     "metadata": {},
     "output_type": "execute_result"
    }
   ],
   "source": [
    "df_normal = pd.DataFrame(stream_data)\n",
    "\n",
    "df_normal = df_normal[df_z_with_cluster_labels['cluster_label'] != -1]\n",
    "\n",
    "df_normal"
   ]
  },
  {
   "cell_type": "code",
   "execution_count": 10,
   "id": "1e9308f5",
   "metadata": {},
   "outputs": [
    {
     "name": "stdout",
     "output_type": "stream",
     "text": [
      "Epoch: 0\n"
     ]
    },
    {
     "name": "stderr",
     "output_type": "stream",
     "text": [
      "100%|██████████████████████████████████████████████████████████████████████████████████████████████████████████████████████████████████████████████████████████████| 43/43 [00:00<00:00, 1213.52it/s, loss=0.00952]\n"
     ]
    },
    {
     "name": "stdout",
     "output_type": "stream",
     "text": [
      "Epoch: 1\n"
     ]
    },
    {
     "name": "stderr",
     "output_type": "stream",
     "text": [
      "100%|██████████████████████████████████████████████████████████████████████████████████████████████████████████████████████████████████████████████████████████████| 43/43 [00:00<00:00, 1147.67it/s, loss=0.00916]\n"
     ]
    },
    {
     "name": "stdout",
     "output_type": "stream",
     "text": [
      "Epoch: 2\n"
     ]
    },
    {
     "name": "stderr",
     "output_type": "stream",
     "text": [
      "100%|██████████████████████████████████████████████████████████████████████████████████████████████████████████████████████████████████████████████████████████████| 43/43 [00:00<00:00, 1547.63it/s, loss=0.00881]\n"
     ]
    },
    {
     "name": "stdout",
     "output_type": "stream",
     "text": [
      "Epoch: 3\n"
     ]
    },
    {
     "name": "stderr",
     "output_type": "stream",
     "text": [
      "100%|██████████████████████████████████████████████████████████████████████████████████████████████████████████████████████████████████████████████████████████████| 43/43 [00:00<00:00, 1355.53it/s, loss=0.00848]\n"
     ]
    },
    {
     "name": "stdout",
     "output_type": "stream",
     "text": [
      "Epoch: 4\n"
     ]
    },
    {
     "name": "stderr",
     "output_type": "stream",
     "text": [
      "100%|██████████████████████████████████████████████████████████████████████████████████████████████████████████████████████████████████████████████████████████████| 43/43 [00:00<00:00, 1373.22it/s, loss=0.00816]\n"
     ]
    },
    {
     "name": "stdout",
     "output_type": "stream",
     "text": [
      "Epoch: 5\n"
     ]
    },
    {
     "name": "stderr",
     "output_type": "stream",
     "text": [
      "100%|██████████████████████████████████████████████████████████████████████████████████████████████████████████████████████████████████████████████████████████████| 43/43 [00:00<00:00, 1520.91it/s, loss=0.00784]\n"
     ]
    },
    {
     "name": "stdout",
     "output_type": "stream",
     "text": [
      "Epoch: 6\n"
     ]
    },
    {
     "name": "stderr",
     "output_type": "stream",
     "text": [
      "100%|██████████████████████████████████████████████████████████████████████████████████████████████████████████████████████████████████████████████████████████████| 43/43 [00:00<00:00, 1505.66it/s, loss=0.00754]\n"
     ]
    },
    {
     "name": "stdout",
     "output_type": "stream",
     "text": [
      "Epoch: 7\n"
     ]
    },
    {
     "name": "stderr",
     "output_type": "stream",
     "text": [
      "100%|██████████████████████████████████████████████████████████████████████████████████████████████████████████████████████████████████████████████████████████████| 43/43 [00:00<00:00, 1485.06it/s, loss=0.00725]\n"
     ]
    },
    {
     "name": "stdout",
     "output_type": "stream",
     "text": [
      "Epoch: 8\n"
     ]
    },
    {
     "name": "stderr",
     "output_type": "stream",
     "text": [
      "100%|██████████████████████████████████████████████████████████████████████████████████████████████████████████████████████████████████████████████████████████████| 43/43 [00:00<00:00, 1381.04it/s, loss=0.00698]\n"
     ]
    },
    {
     "name": "stdout",
     "output_type": "stream",
     "text": [
      "Epoch: 9\n"
     ]
    },
    {
     "name": "stderr",
     "output_type": "stream",
     "text": [
      "100%|██████████████████████████████████████████████████████████████████████████████████████████████████████████████████████████████████████████████████████████████| 43/43 [00:00<00:00, 1428.79it/s, loss=0.00671]\n"
     ]
    },
    {
     "name": "stdout",
     "output_type": "stream",
     "text": [
      "Epoch: 10\n"
     ]
    },
    {
     "name": "stderr",
     "output_type": "stream",
     "text": [
      "100%|██████████████████████████████████████████████████████████████████████████████████████████████████████████████████████████████████████████████████████████████| 43/43 [00:00<00:00, 1420.87it/s, loss=0.00645]\n"
     ]
    },
    {
     "name": "stdout",
     "output_type": "stream",
     "text": [
      "Epoch: 11\n"
     ]
    },
    {
     "name": "stderr",
     "output_type": "stream",
     "text": [
      "100%|███████████████████████████████████████████████████████████████████████████████████████████████████████████████████████████████████████████████████████████████| 43/43 [00:00<00:00, 1422.03it/s, loss=0.0062]\n"
     ]
    },
    {
     "name": "stdout",
     "output_type": "stream",
     "text": [
      "Epoch: 12\n"
     ]
    },
    {
     "name": "stderr",
     "output_type": "stream",
     "text": [
      "100%|██████████████████████████████████████████████████████████████████████████████████████████████████████████████████████████████████████████████████████████████| 43/43 [00:00<00:00, 1498.54it/s, loss=0.00596]\n"
     ]
    },
    {
     "name": "stdout",
     "output_type": "stream",
     "text": [
      "Epoch: 13\n"
     ]
    },
    {
     "name": "stderr",
     "output_type": "stream",
     "text": [
      "100%|██████████████████████████████████████████████████████████████████████████████████████████████████████████████████████████████████████████████████████████████| 43/43 [00:00<00:00, 1506.27it/s, loss=0.00573]\n"
     ]
    },
    {
     "name": "stdout",
     "output_type": "stream",
     "text": [
      "Epoch: 14\n"
     ]
    },
    {
     "name": "stderr",
     "output_type": "stream",
     "text": [
      "100%|██████████████████████████████████████████████████████████████████████████████████████████████████████████████████████████████████████████████████████████████| 43/43 [00:00<00:00, 1520.92it/s, loss=0.00551]\n"
     ]
    },
    {
     "name": "stdout",
     "output_type": "stream",
     "text": [
      "Epoch: 15\n"
     ]
    },
    {
     "name": "stderr",
     "output_type": "stream",
     "text": [
      "100%|██████████████████████████████████████████████████████████████████████████████████████████████████████████████████████████████████████████████████████████████| 43/43 [00:00<00:00, 1514.89it/s, loss=0.00529]\n"
     ]
    },
    {
     "name": "stdout",
     "output_type": "stream",
     "text": [
      "Epoch: 16\n"
     ]
    },
    {
     "name": "stderr",
     "output_type": "stream",
     "text": [
      "100%|██████████████████████████████████████████████████████████████████████████████████████████████████████████████████████████████████████████████████████████████| 43/43 [00:00<00:00, 1067.33it/s, loss=0.00509]\n"
     ]
    },
    {
     "name": "stdout",
     "output_type": "stream",
     "text": [
      "Epoch: 17\n"
     ]
    },
    {
     "name": "stderr",
     "output_type": "stream",
     "text": [
      "100%|██████████████████████████████████████████████████████████████████████████████████████████████████████████████████████████████████████████████████████████████| 43/43 [00:00<00:00, 1126.79it/s, loss=0.00489]\n"
     ]
    },
    {
     "name": "stdout",
     "output_type": "stream",
     "text": [
      "Epoch: 18\n"
     ]
    },
    {
     "name": "stderr",
     "output_type": "stream",
     "text": [
      "100%|███████████████████████████████████████████████████████████████████████████████████████████████████████████████████████████████████████████████████████████████| 43/43 [00:00<00:00, 1524.71it/s, loss=0.0047]\n"
     ]
    },
    {
     "name": "stdout",
     "output_type": "stream",
     "text": [
      "Epoch: 19\n"
     ]
    },
    {
     "name": "stderr",
     "output_type": "stream",
     "text": [
      "100%|██████████████████████████████████████████████████████████████████████████████████████████████████████████████████████████████████████████████████████████████| 43/43 [00:00<00:00, 1481.14it/s, loss=0.00451]\n"
     ]
    },
    {
     "name": "stdout",
     "output_type": "stream",
     "text": [
      "Epoch: 20\n"
     ]
    },
    {
     "name": "stderr",
     "output_type": "stream",
     "text": [
      "100%|██████████████████████████████████████████████████████████████████████████████████████████████████████████████████████████████████████████████████████████████| 43/43 [00:00<00:00, 1410.79it/s, loss=0.00434]\n"
     ]
    },
    {
     "name": "stdout",
     "output_type": "stream",
     "text": [
      "Epoch: 21\n"
     ]
    },
    {
     "name": "stderr",
     "output_type": "stream",
     "text": [
      "100%|██████████████████████████████████████████████████████████████████████████████████████████████████████████████████████████████████████████████████████████████| 43/43 [00:00<00:00, 1426.90it/s, loss=0.00417]\n"
     ]
    },
    {
     "name": "stdout",
     "output_type": "stream",
     "text": [
      "Epoch: 22\n"
     ]
    },
    {
     "name": "stderr",
     "output_type": "stream",
     "text": [
      "100%|████████████████████████████████████████████████████████████████████████████████████████████████████████████████████████████████████████████████████████████████| 43/43 [00:00<00:00, 1418.47it/s, loss=0.004]\n"
     ]
    },
    {
     "name": "stdout",
     "output_type": "stream",
     "text": [
      "Epoch: 23\n"
     ]
    },
    {
     "name": "stderr",
     "output_type": "stream",
     "text": [
      "100%|██████████████████████████████████████████████████████████████████████████████████████████████████████████████████████████████████████████████████████████████| 43/43 [00:00<00:00, 1488.00it/s, loss=0.00384]\n"
     ]
    },
    {
     "name": "stdout",
     "output_type": "stream",
     "text": [
      "Epoch: 24\n"
     ]
    },
    {
     "name": "stderr",
     "output_type": "stream",
     "text": [
      "100%|██████████████████████████████████████████████████████████████████████████████████████████████████████████████████████████████████████████████████████████████| 43/43 [00:00<00:00, 1441.49it/s, loss=0.00369]\n"
     ]
    },
    {
     "name": "stdout",
     "output_type": "stream",
     "text": [
      "Epoch: 25\n"
     ]
    },
    {
     "name": "stderr",
     "output_type": "stream",
     "text": [
      "100%|██████████████████████████████████████████████████████████████████████████████████████████████████████████████████████████████████████████████████████████████| 43/43 [00:00<00:00, 1569.15it/s, loss=0.00355]\n"
     ]
    },
    {
     "name": "stdout",
     "output_type": "stream",
     "text": [
      "Epoch: 26\n"
     ]
    },
    {
     "name": "stderr",
     "output_type": "stream",
     "text": [
      "100%|███████████████████████████████████████████████████████████████████████████████████████████████████████████████████████████████████████████████████████████████| 43/43 [00:00<00:00, 1558.80it/s, loss=0.0034]\n"
     ]
    },
    {
     "name": "stdout",
     "output_type": "stream",
     "text": [
      "Epoch: 27\n"
     ]
    },
    {
     "name": "stderr",
     "output_type": "stream",
     "text": [
      "100%|██████████████████████████████████████████████████████████████████████████████████████████████████████████████████████████████████████████████████████████████| 43/43 [00:00<00:00, 1540.57it/s, loss=0.00327]\n"
     ]
    },
    {
     "name": "stdout",
     "output_type": "stream",
     "text": [
      "Epoch: 28\n"
     ]
    },
    {
     "name": "stderr",
     "output_type": "stream",
     "text": [
      "100%|██████████████████████████████████████████████████████████████████████████████████████████████████████████████████████████████████████████████████████████████| 43/43 [00:00<00:00, 1564.62it/s, loss=0.00314]\n"
     ]
    },
    {
     "name": "stdout",
     "output_type": "stream",
     "text": [
      "Epoch: 29\n"
     ]
    },
    {
     "name": "stderr",
     "output_type": "stream",
     "text": [
      "100%|██████████████████████████████████████████████████████████████████████████████████████████████████████████████████████████████████████████████████████████████| 43/43 [00:00<00:00, 1514.93it/s, loss=0.00301]\n"
     ]
    },
    {
     "name": "stdout",
     "output_type": "stream",
     "text": [
      "Epoch: 30\n"
     ]
    },
    {
     "name": "stderr",
     "output_type": "stream",
     "text": [
      "100%|██████████████████████████████████████████████████████████████████████████████████████████████████████████████████████████████████████████████████████████████| 43/43 [00:00<00:00, 1485.42it/s, loss=0.00289]\n"
     ]
    },
    {
     "name": "stdout",
     "output_type": "stream",
     "text": [
      "Epoch: 31\n"
     ]
    },
    {
     "name": "stderr",
     "output_type": "stream",
     "text": [
      "100%|██████████████████████████████████████████████████████████████████████████████████████████████████████████████████████████████████████████████████████████████| 43/43 [00:00<00:00, 1564.36it/s, loss=0.00277]\n"
     ]
    },
    {
     "name": "stdout",
     "output_type": "stream",
     "text": [
      "Epoch: 32\n"
     ]
    },
    {
     "name": "stderr",
     "output_type": "stream",
     "text": [
      "100%|██████████████████████████████████████████████████████████████████████████████████████████████████████████████████████████████████████████████████████████████| 43/43 [00:00<00:00, 1398.62it/s, loss=0.00266]\n"
     ]
    },
    {
     "name": "stdout",
     "output_type": "stream",
     "text": [
      "Epoch: 33\n"
     ]
    },
    {
     "name": "stderr",
     "output_type": "stream",
     "text": [
      "100%|██████████████████████████████████████████████████████████████████████████████████████████████████████████████████████████████████████████████████████████████| 43/43 [00:00<00:00, 1546.12it/s, loss=0.00255]\n"
     ]
    },
    {
     "name": "stdout",
     "output_type": "stream",
     "text": [
      "Epoch: 34\n"
     ]
    },
    {
     "name": "stderr",
     "output_type": "stream",
     "text": [
      "100%|██████████████████████████████████████████████████████████████████████████████████████████████████████████████████████████████████████████████████████████████| 43/43 [00:00<00:00, 1576.48it/s, loss=0.00245]\n"
     ]
    },
    {
     "name": "stdout",
     "output_type": "stream",
     "text": [
      "Epoch: 35\n"
     ]
    },
    {
     "name": "stderr",
     "output_type": "stream",
     "text": [
      "100%|██████████████████████████████████████████████████████████████████████████████████████████████████████████████████████████████████████████████████████████████| 43/43 [00:00<00:00, 1475.70it/s, loss=0.00235]\n"
     ]
    },
    {
     "name": "stdout",
     "output_type": "stream",
     "text": [
      "Epoch: 36\n"
     ]
    },
    {
     "name": "stderr",
     "output_type": "stream",
     "text": [
      "100%|██████████████████████████████████████████████████████████████████████████████████████████████████████████████████████████████████████████████████████████████| 43/43 [00:00<00:00, 1488.94it/s, loss=0.00225]\n"
     ]
    },
    {
     "name": "stdout",
     "output_type": "stream",
     "text": [
      "Epoch: 37\n"
     ]
    },
    {
     "name": "stderr",
     "output_type": "stream",
     "text": [
      "100%|██████████████████████████████████████████████████████████████████████████████████████████████████████████████████████████████████████████████████████████████| 43/43 [00:00<00:00, 1405.23it/s, loss=0.00216]\n"
     ]
    },
    {
     "name": "stdout",
     "output_type": "stream",
     "text": [
      "Epoch: 38\n"
     ]
    },
    {
     "name": "stderr",
     "output_type": "stream",
     "text": [
      "100%|██████████████████████████████████████████████████████████████████████████████████████████████████████████████████████████████████████████████████████████████| 43/43 [00:00<00:00, 1302.40it/s, loss=0.00207]\n"
     ]
    },
    {
     "name": "stdout",
     "output_type": "stream",
     "text": [
      "Epoch: 39\n"
     ]
    },
    {
     "name": "stderr",
     "output_type": "stream",
     "text": [
      "100%|██████████████████████████████████████████████████████████████████████████████████████████████████████████████████████████████████████████████████████████████| 43/43 [00:00<00:00, 1440.50it/s, loss=0.00199]\n"
     ]
    },
    {
     "name": "stdout",
     "output_type": "stream",
     "text": [
      "Epoch: 40\n"
     ]
    },
    {
     "name": "stderr",
     "output_type": "stream",
     "text": [
      "100%|███████████████████████████████████████████████████████████████████████████████████████████████████████████████████████████████████████████████████████████████| 43/43 [00:00<00:00, 1484.42it/s, loss=0.0019]\n"
     ]
    },
    {
     "name": "stdout",
     "output_type": "stream",
     "text": [
      "Epoch: 41\n"
     ]
    },
    {
     "name": "stderr",
     "output_type": "stream",
     "text": [
      "100%|██████████████████████████████████████████████████████████████████████████████████████████████████████████████████████████████████████████████████████████████| 43/43 [00:00<00:00, 1510.51it/s, loss=0.00183]\n"
     ]
    },
    {
     "name": "stdout",
     "output_type": "stream",
     "text": [
      "Epoch: 42\n"
     ]
    },
    {
     "name": "stderr",
     "output_type": "stream",
     "text": [
      "100%|██████████████████████████████████████████████████████████████████████████████████████████████████████████████████████████████████████████████████████████████| 43/43 [00:00<00:00, 1561.52it/s, loss=0.00175]\n"
     ]
    },
    {
     "name": "stdout",
     "output_type": "stream",
     "text": [
      "Epoch: 43\n"
     ]
    },
    {
     "name": "stderr",
     "output_type": "stream",
     "text": [
      "100%|██████████████████████████████████████████████████████████████████████████████████████████████████████████████████████████████████████████████████████████████| 43/43 [00:00<00:00, 1133.39it/s, loss=0.00168]\n"
     ]
    },
    {
     "name": "stdout",
     "output_type": "stream",
     "text": [
      "Epoch: 44\n"
     ]
    },
    {
     "name": "stderr",
     "output_type": "stream",
     "text": [
      "100%|██████████████████████████████████████████████████████████████████████████████████████████████████████████████████████████████████████████████████████████████| 43/43 [00:00<00:00, 1274.68it/s, loss=0.00161]\n"
     ]
    },
    {
     "name": "stdout",
     "output_type": "stream",
     "text": [
      "Epoch: 45\n"
     ]
    },
    {
     "name": "stderr",
     "output_type": "stream",
     "text": [
      "100%|██████████████████████████████████████████████████████████████████████████████████████████████████████████████████████████████████████████████████████████████| 43/43 [00:00<00:00, 1534.30it/s, loss=0.00154]\n"
     ]
    },
    {
     "name": "stdout",
     "output_type": "stream",
     "text": [
      "Epoch: 46\n"
     ]
    },
    {
     "name": "stderr",
     "output_type": "stream",
     "text": [
      "100%|██████████████████████████████████████████████████████████████████████████████████████████████████████████████████████████████████████████████████████████████| 43/43 [00:00<00:00, 1567.88it/s, loss=0.00147]\n"
     ]
    },
    {
     "name": "stdout",
     "output_type": "stream",
     "text": [
      "Epoch: 47\n"
     ]
    },
    {
     "name": "stderr",
     "output_type": "stream",
     "text": [
      "100%|██████████████████████████████████████████████████████████████████████████████████████████████████████████████████████████████████████████████████████████████| 43/43 [00:00<00:00, 1529.73it/s, loss=0.00141]\n"
     ]
    },
    {
     "name": "stdout",
     "output_type": "stream",
     "text": [
      "Epoch: 48\n"
     ]
    },
    {
     "name": "stderr",
     "output_type": "stream",
     "text": [
      "100%|██████████████████████████████████████████████████████████████████████████████████████████████████████████████████████████████████████████████████████████████| 43/43 [00:00<00:00, 1397.08it/s, loss=0.00135]\n"
     ]
    },
    {
     "name": "stdout",
     "output_type": "stream",
     "text": [
      "Epoch: 49\n"
     ]
    },
    {
     "name": "stderr",
     "output_type": "stream",
     "text": [
      "100%|██████████████████████████████████████████████████████████████████████████████████████████████████████████████████████████████████████████████████████████████| 43/43 [00:00<00:00, 1398.58it/s, loss=0.00129]\n"
     ]
    },
    {
     "name": "stdout",
     "output_type": "stream",
     "text": [
      "Epoch: 50\n"
     ]
    },
    {
     "name": "stderr",
     "output_type": "stream",
     "text": [
      "100%|██████████████████████████████████████████████████████████████████████████████████████████████████████████████████████████████████████████████████████████████| 43/43 [00:00<00:00, 1456.38it/s, loss=0.00124]\n"
     ]
    },
    {
     "name": "stdout",
     "output_type": "stream",
     "text": [
      "Epoch: 51\n"
     ]
    },
    {
     "name": "stderr",
     "output_type": "stream",
     "text": [
      "100%|██████████████████████████████████████████████████████████████████████████████████████████████████████████████████████████████████████████████████████████████| 43/43 [00:00<00:00, 1523.09it/s, loss=0.00118]\n"
     ]
    },
    {
     "name": "stdout",
     "output_type": "stream",
     "text": [
      "Epoch: 52\n"
     ]
    },
    {
     "name": "stderr",
     "output_type": "stream",
     "text": [
      "100%|██████████████████████████████████████████████████████████████████████████████████████████████████████████████████████████████████████████████████████████████| 43/43 [00:00<00:00, 1529.60it/s, loss=0.00113]\n"
     ]
    },
    {
     "name": "stdout",
     "output_type": "stream",
     "text": [
      "Epoch: 53\n"
     ]
    },
    {
     "name": "stderr",
     "output_type": "stream",
     "text": [
      "100%|██████████████████████████████████████████████████████████████████████████████████████████████████████████████████████████████████████████████████████████████| 43/43 [00:00<00:00, 1404.08it/s, loss=0.00108]\n"
     ]
    },
    {
     "name": "stdout",
     "output_type": "stream",
     "text": [
      "Epoch: 54\n"
     ]
    },
    {
     "name": "stderr",
     "output_type": "stream",
     "text": [
      "100%|██████████████████████████████████████████████████████████████████████████████████████████████████████████████████████████████████████████████████████████████| 43/43 [00:00<00:00, 1473.49it/s, loss=0.00104]\n"
     ]
    },
    {
     "name": "stdout",
     "output_type": "stream",
     "text": [
      "Epoch: 55\n"
     ]
    },
    {
     "name": "stderr",
     "output_type": "stream",
     "text": [
      "100%|██████████████████████████████████████████████████████████████████████████████████████████████████████████████████████████████████████████████████████████████| 43/43 [00:00<00:00, 1489.07it/s, loss=0.00099]\n"
     ]
    },
    {
     "name": "stdout",
     "output_type": "stream",
     "text": [
      "Epoch: 56\n"
     ]
    },
    {
     "name": "stderr",
     "output_type": "stream",
     "text": [
      "100%|█████████████████████████████████████████████████████████████████████████████████████████████████████████████████████████████████████████████████████████████| 43/43 [00:00<00:00, 1320.34it/s, loss=0.000946]\n"
     ]
    },
    {
     "name": "stdout",
     "output_type": "stream",
     "text": [
      "Epoch: 57\n"
     ]
    },
    {
     "name": "stderr",
     "output_type": "stream",
     "text": [
      "100%|█████████████████████████████████████████████████████████████████████████████████████████████████████████████████████████████████████████████████████████████| 43/43 [00:00<00:00, 1371.04it/s, loss=0.000904]\n"
     ]
    },
    {
     "name": "stdout",
     "output_type": "stream",
     "text": [
      "Epoch: 58\n"
     ]
    },
    {
     "name": "stderr",
     "output_type": "stream",
     "text": [
      "100%|█████████████████████████████████████████████████████████████████████████████████████████████████████████████████████████████████████████████████████████████| 43/43 [00:00<00:00, 1138.13it/s, loss=0.000864]\n"
     ]
    },
    {
     "name": "stdout",
     "output_type": "stream",
     "text": [
      "Epoch: 59\n"
     ]
    },
    {
     "name": "stderr",
     "output_type": "stream",
     "text": [
      "100%|█████████████████████████████████████████████████████████████████████████████████████████████████████████████████████████████████████████████████████████████| 43/43 [00:00<00:00, 1404.91it/s, loss=0.000826]\n"
     ]
    },
    {
     "name": "stdout",
     "output_type": "stream",
     "text": [
      "Epoch: 60\n"
     ]
    },
    {
     "name": "stderr",
     "output_type": "stream",
     "text": [
      "100%|█████████████████████████████████████████████████████████████████████████████████████████████████████████████████████████████████████████████████████████████| 43/43 [00:00<00:00, 1567.51it/s, loss=0.000789]\n"
     ]
    },
    {
     "name": "stdout",
     "output_type": "stream",
     "text": [
      "Epoch: 61\n"
     ]
    },
    {
     "name": "stderr",
     "output_type": "stream",
     "text": [
      "100%|█████████████████████████████████████████████████████████████████████████████████████████████████████████████████████████████████████████████████████████████| 43/43 [00:00<00:00, 1573.19it/s, loss=0.000753]\n"
     ]
    },
    {
     "name": "stdout",
     "output_type": "stream",
     "text": [
      "Epoch: 62\n"
     ]
    },
    {
     "name": "stderr",
     "output_type": "stream",
     "text": [
      "100%|█████████████████████████████████████████████████████████████████████████████████████████████████████████████████████████████████████████████████████████████| 43/43 [00:00<00:00, 1451.89it/s, loss=0.000719]\n"
     ]
    },
    {
     "name": "stdout",
     "output_type": "stream",
     "text": [
      "Epoch: 63\n"
     ]
    },
    {
     "name": "stderr",
     "output_type": "stream",
     "text": [
      "  0%|                                                                                                                                                                        | 0/43 [00:00<?, ?it/s, loss=0.000676]IOPub message rate exceeded.\n",
      "The notebook server will temporarily stop sending output\n",
      "to the client in order to avoid crashing it.\n",
      "To change this limit, set the config variable\n",
      "`--NotebookApp.iopub_msg_rate_limit`.\n",
      "\n",
      "Current values:\n",
      "NotebookApp.iopub_msg_rate_limit=1000.0 (msgs/sec)\n",
      "NotebookApp.rate_limit_window=3.0 (secs)\n",
      "\n"
     ]
    }
   ],
   "source": [
    "# Represent the training data as x\n",
    "x = torch.tensor(df_normal.values).float().to(device)\n",
    "\n",
    "# Load the dataset\n",
    "train_ds = AutoencoderDataset(x=x)\n",
    "\n",
    "# Create a DataLoader instance\n",
    "train_loader = DataLoader(train_ds, batch_size=batch_size, shuffle=False, drop_last=False)\n",
    "\n",
    "# The training process\n",
    "for epoch in range(epochs):\n",
    "    print(\"Epoch: {}\".format(epoch))\n",
    "    \n",
    "    loop = tqdm(train_loader)\n",
    "    \n",
    "    for batch_idx, (data, targets) in enumerate(loop):\n",
    "        data = data.to(device=device)\n",
    "        targets = targets.to(device=device)\n",
    "        \n",
    "        # Feed forward\n",
    "        predictions = model(data)\n",
    "        \n",
    "        loss = loss_fn(predictions, targets)\n",
    "        \n",
    "        # Backprop\n",
    "        optimizer.zero_grad()\n",
    "        loss.backward()\n",
    "        optimizer.step()\n",
    "        \n",
    "        # Update tqdm\n",
    "        loop.set_postfix(loss=loss.item())\n",
    "        \n",
    "print(\"Done training!\")"
   ]
  },
  {
   "cell_type": "code",
   "execution_count": 11,
   "id": "2c22dba8",
   "metadata": {},
   "outputs": [
    {
     "data": {
      "image/png": "[encoded data removed]",
      "text/plain": [
       "<Figure size 432x288 with 1 Axes>"
      ]
     },
     "metadata": {
      "needs_background": "light"
     },
     "output_type": "display_data"
    },
    {
     "name": "stdout",
     "output_type": "stream",
     "text": [
      "Bin Width: 9.955539188719693e-05\n",
      "Num Bins: 30\n",
      "Max Loss: 0.003814849304035306\n",
      "Min Loss: 0.0007742710877209902\n",
      "Min Bin: 0.0007742710877209902\n",
      "Max Bin: 0.004589120391756296\n",
      "Optimal Threshold: 0.0037625697092153135\n"
     ]
    }
   ],
   "source": [
    "\"\"\"\n",
    "Utility Functions\n",
    "\"\"\"\n",
    "# Head tail break function\n",
    "def htb(data):\n",
    "    outp = []\n",
    "    \n",
    "    def htb_inner(data):\n",
    "        data_length = float(len(data))\n",
    "        data_mean = sum(data) / data_length\n",
    "        \n",
    "        head = [_ for _ in data if _ > data_mean]\n",
    "        outp.append(data_mean)\n",
    "        \n",
    "        while len(head) > 1 and len(head) / data_length < 0.40:\n",
    "            return htb_inner(head)\n",
    "        \n",
    "    htb_inner(data)\n",
    "    \n",
    "    return outp\n",
    "\n",
    "# Determine a breakpoint\n",
    "def fetch_threshold(bins, counts, break_point):\n",
    "    index = 0\n",
    "    latest_min = 999999\n",
    "    threshold = -1\n",
    "    \n",
    "    for i in range(len(counts)):\n",
    "        diff = abs(counts[i] - break_point)\n",
    "        \n",
    "        if diff <= latest_min:\n",
    "            latest_min = diff\n",
    "            index = i\n",
    "            threshold = ((bins[i + 1] - bins[i]) / 2) + bins[i]\n",
    "            \n",
    "    return threshold\n",
    "\n",
    "predictions = model(x)\n",
    "targets = x\n",
    "\n",
    "x_loss = nn.MSELoss(reduction='none')(predictions, targets).sum(axis=1).detach().cpu().numpy().astype(np.float32)\n",
    "\n",
    "max_loss = np.max(x_loss)\n",
    "min_loss = np.min(x_loss)\n",
    "\n",
    "# Compute the optimal bin width using Freedman Diaconis rule\n",
    "bin_width = 2 * (iqr(x_loss) / (len(x_loss) ** (1./3)))\n",
    "\n",
    "if(bin_width == 0):\n",
    "    bin_width = 0.01\n",
    "num_bins = int((max_loss - min_loss) / bin_width)\n",
    "\n",
    "# Create the histogram\n",
    "min_bin = np.min(x_loss)\n",
    "max_bin = np.max(x_loss) + min_bin\n",
    "\n",
    "step = (max_bin - min_bin) / num_bins\n",
    "\n",
    "bins = np.arange(min_bin, max_bin, step)\n",
    "\n",
    "hist, bins = np.histogram(x_loss, bins=bins)\n",
    "\n",
    "pyplot.hist(x_loss, bins, alpha=0.5)\n",
    "pyplot.show()\n",
    "\n",
    "print(\"Bin Width: {}\".format(bin_width))\n",
    "print(\"Num Bins: {}\".format(num_bins))\n",
    "print(\"Max Loss: {}\".format(max_loss))\n",
    "print(\"Min Loss: {}\".format(min_loss))\n",
    "print(\"Min Bin: {}\".format(min_bin))\n",
    "print(\"Max Bin: {}\".format(max_bin))\n",
    "\n",
    "\n",
    "\n",
    "# Determine breaks\n",
    "breaks = htb(hist)\n",
    "\n",
    "possible_thresholds = []\n",
    "\n",
    "for b in breaks:\n",
    "    t = fetch_threshold(bins, hist, b)\n",
    "    possible_thresholds.append(t)\n",
    "\n",
    "optimal_threshold = max(possible_thresholds)\n",
    "\n",
    "print(\"Optimal Threshold: {}\".format(optimal_threshold))"
   ]
  },
  {
   "cell_type": "code",
   "execution_count": 12,
   "id": "61b6d9d8",
   "metadata": {},
   "outputs": [
    {
     "data": {
      "text/html": [
       "<div>\n",
       "<style scoped>\n",
       "    .dataframe tbody tr th:only-of-type {\n",
       "        vertical-align: middle;\n",
       "    }\n",
       "\n",
       "    .dataframe tbody tr th {\n",
       "        vertical-align: top;\n",
       "    }\n",
       "\n",
       "    .dataframe thead th {\n",
       "        text-align: right;\n",
       "    }\n",
       "</style>\n",
       "<table border=\"1\" class=\"dataframe\">\n",
       "  <thead>\n",
       "    <tr style=\"text-align: right;\">\n",
       "      <th></th>\n",
       "      <th>0</th>\n",
       "      <th>1</th>\n",
       "      <th>2</th>\n",
       "      <th>3</th>\n",
       "      <th>4</th>\n",
       "      <th>5</th>\n",
       "      <th>6</th>\n",
       "      <th>7</th>\n",
       "      <th>8</th>\n",
       "      <th>9</th>\n",
       "      <th>10</th>\n",
       "      <th>11</th>\n",
       "      <th>y</th>\n",
       "    </tr>\n",
       "  </thead>\n",
       "  <tbody>\n",
       "    <tr>\n",
       "      <th>0</th>\n",
       "      <td>0.043878</td>\n",
       "      <td>0.036907</td>\n",
       "      <td>0.043946</td>\n",
       "      <td>0.043253</td>\n",
       "      <td>0.044252</td>\n",
       "      <td>0.043928</td>\n",
       "      <td>0.043629</td>\n",
       "      <td>0.043838</td>\n",
       "      <td>0.043071</td>\n",
       "      <td>0.043456</td>\n",
       "      <td>0.044183</td>\n",
       "      <td>0.043018</td>\n",
       "      <td>1</td>\n",
       "    </tr>\n",
       "    <tr>\n",
       "      <th>1</th>\n",
       "      <td>0.043972</td>\n",
       "      <td>0.045412</td>\n",
       "      <td>0.044082</td>\n",
       "      <td>0.043926</td>\n",
       "      <td>0.044088</td>\n",
       "      <td>0.043965</td>\n",
       "      <td>0.043978</td>\n",
       "      <td>0.043933</td>\n",
       "      <td>0.044023</td>\n",
       "      <td>0.053966</td>\n",
       "      <td>0.044038</td>\n",
       "      <td>0.044267</td>\n",
       "      <td>1</td>\n",
       "    </tr>\n",
       "    <tr>\n",
       "      <th>2</th>\n",
       "      <td>0.044072</td>\n",
       "      <td>0.044991</td>\n",
       "      <td>0.043948</td>\n",
       "      <td>0.042822</td>\n",
       "      <td>0.044231</td>\n",
       "      <td>0.044008</td>\n",
       "      <td>0.043344</td>\n",
       "      <td>0.043945</td>\n",
       "      <td>0.043873</td>\n",
       "      <td>0.044129</td>\n",
       "      <td>0.044503</td>\n",
       "      <td>0.044026</td>\n",
       "      <td>1</td>\n",
       "    </tr>\n",
       "    <tr>\n",
       "      <th>3</th>\n",
       "      <td>0.043772</td>\n",
       "      <td>0.034441</td>\n",
       "      <td>0.043876</td>\n",
       "      <td>0.045846</td>\n",
       "      <td>0.044106</td>\n",
       "      <td>0.043870</td>\n",
       "      <td>0.043949</td>\n",
       "      <td>0.044060</td>\n",
       "      <td>0.043928</td>\n",
       "      <td>0.043924</td>\n",
       "      <td>0.043934</td>\n",
       "      <td>0.043858</td>\n",
       "      <td>1</td>\n",
       "    </tr>\n",
       "    <tr>\n",
       "      <th>4</th>\n",
       "      <td>0.043924</td>\n",
       "      <td>0.043970</td>\n",
       "      <td>0.043820</td>\n",
       "      <td>0.043259</td>\n",
       "      <td>0.043950</td>\n",
       "      <td>0.043561</td>\n",
       "      <td>0.043690</td>\n",
       "      <td>0.043950</td>\n",
       "      <td>0.044029</td>\n",
       "      <td>0.043868</td>\n",
       "      <td>0.043986</td>\n",
       "      <td>0.043619</td>\n",
       "      <td>1</td>\n",
       "    </tr>\n",
       "    <tr>\n",
       "      <th>5</th>\n",
       "      <td>0.043985</td>\n",
       "      <td>0.043710</td>\n",
       "      <td>0.043957</td>\n",
       "      <td>0.043544</td>\n",
       "      <td>0.043768</td>\n",
       "      <td>0.043845</td>\n",
       "      <td>0.044161</td>\n",
       "      <td>0.044583</td>\n",
       "      <td>0.044144</td>\n",
       "      <td>0.043756</td>\n",
       "      <td>0.043449</td>\n",
       "      <td>0.044745</td>\n",
       "      <td>1</td>\n",
       "    </tr>\n",
       "    <tr>\n",
       "      <th>6</th>\n",
       "      <td>0.043423</td>\n",
       "      <td>0.043949</td>\n",
       "      <td>0.044018</td>\n",
       "      <td>0.041181</td>\n",
       "      <td>0.043864</td>\n",
       "      <td>0.052176</td>\n",
       "      <td>0.043912</td>\n",
       "      <td>0.043850</td>\n",
       "      <td>0.043971</td>\n",
       "      <td>0.043862</td>\n",
       "      <td>0.045332</td>\n",
       "      <td>0.043939</td>\n",
       "      <td>1</td>\n",
       "    </tr>\n",
       "    <tr>\n",
       "      <th>7</th>\n",
       "      <td>0.045156</td>\n",
       "      <td>0.044132</td>\n",
       "      <td>0.043946</td>\n",
       "      <td>0.070355</td>\n",
       "      <td>0.043913</td>\n",
       "      <td>0.041310</td>\n",
       "      <td>0.044266</td>\n",
       "      <td>0.043752</td>\n",
       "      <td>0.043983</td>\n",
       "      <td>0.043945</td>\n",
       "      <td>0.043917</td>\n",
       "      <td>0.043990</td>\n",
       "      <td>1</td>\n",
       "    </tr>\n",
       "    <tr>\n",
       "      <th>8</th>\n",
       "      <td>0.043923</td>\n",
       "      <td>0.043939</td>\n",
       "      <td>0.043790</td>\n",
       "      <td>0.043907</td>\n",
       "      <td>0.044151</td>\n",
       "      <td>0.044057</td>\n",
       "      <td>0.043929</td>\n",
       "      <td>0.043888</td>\n",
       "      <td>0.040519</td>\n",
       "      <td>0.043932</td>\n",
       "      <td>0.044168</td>\n",
       "      <td>0.043830</td>\n",
       "      <td>1</td>\n",
       "    </tr>\n",
       "    <tr>\n",
       "      <th>9</th>\n",
       "      <td>0.043933</td>\n",
       "      <td>0.049406</td>\n",
       "      <td>0.042799</td>\n",
       "      <td>0.043909</td>\n",
       "      <td>0.043861</td>\n",
       "      <td>0.043870</td>\n",
       "      <td>0.043722</td>\n",
       "      <td>0.043983</td>\n",
       "      <td>0.044094</td>\n",
       "      <td>0.043824</td>\n",
       "      <td>0.043968</td>\n",
       "      <td>0.043946</td>\n",
       "      <td>1</td>\n",
       "    </tr>\n",
       "    <tr>\n",
       "      <th>10</th>\n",
       "      <td>0.052761</td>\n",
       "      <td>0.043896</td>\n",
       "      <td>0.043814</td>\n",
       "      <td>0.043938</td>\n",
       "      <td>0.000000</td>\n",
       "      <td>0.044059</td>\n",
       "      <td>0.043973</td>\n",
       "      <td>0.043800</td>\n",
       "      <td>0.043762</td>\n",
       "      <td>0.043915</td>\n",
       "      <td>0.043932</td>\n",
       "      <td>0.043990</td>\n",
       "      <td>-1</td>\n",
       "    </tr>\n",
       "    <tr>\n",
       "      <th>11</th>\n",
       "      <td>0.044739</td>\n",
       "      <td>0.043921</td>\n",
       "      <td>0.043868</td>\n",
       "      <td>0.043851</td>\n",
       "      <td>0.031688</td>\n",
       "      <td>0.036706</td>\n",
       "      <td>0.043514</td>\n",
       "      <td>0.044639</td>\n",
       "      <td>0.043983</td>\n",
       "      <td>0.042527</td>\n",
       "      <td>0.043875</td>\n",
       "      <td>0.043926</td>\n",
       "      <td>1</td>\n",
       "    </tr>\n",
       "    <tr>\n",
       "      <th>12</th>\n",
       "      <td>0.043894</td>\n",
       "      <td>0.044466</td>\n",
       "      <td>0.044931</td>\n",
       "      <td>0.044665</td>\n",
       "      <td>0.040394</td>\n",
       "      <td>0.043844</td>\n",
       "      <td>0.043657</td>\n",
       "      <td>0.043847</td>\n",
       "      <td>0.043952</td>\n",
       "      <td>0.044168</td>\n",
       "      <td>0.044455</td>\n",
       "      <td>0.043942</td>\n",
       "      <td>1</td>\n",
       "    </tr>\n",
       "    <tr>\n",
       "      <th>13</th>\n",
       "      <td>0.043861</td>\n",
       "      <td>0.043923</td>\n",
       "      <td>0.043984</td>\n",
       "      <td>0.043904</td>\n",
       "      <td>0.044203</td>\n",
       "      <td>0.064677</td>\n",
       "      <td>0.043963</td>\n",
       "      <td>0.045382</td>\n",
       "      <td>0.043230</td>\n",
       "      <td>0.044154</td>\n",
       "      <td>0.043924</td>\n",
       "      <td>0.043912</td>\n",
       "      <td>1</td>\n",
       "    </tr>\n",
       "    <tr>\n",
       "      <th>14</th>\n",
       "      <td>0.043996</td>\n",
       "      <td>0.045195</td>\n",
       "      <td>0.044425</td>\n",
       "      <td>0.043413</td>\n",
       "      <td>0.043904</td>\n",
       "      <td>0.043851</td>\n",
       "      <td>0.043793</td>\n",
       "      <td>0.043125</td>\n",
       "      <td>0.043950</td>\n",
       "      <td>0.043919</td>\n",
       "      <td>0.044626</td>\n",
       "      <td>0.044633</td>\n",
       "      <td>1</td>\n",
       "    </tr>\n",
       "    <tr>\n",
       "      <th>15</th>\n",
       "      <td>0.044071</td>\n",
       "      <td>0.042479</td>\n",
       "      <td>0.044032</td>\n",
       "      <td>0.046260</td>\n",
       "      <td>0.046364</td>\n",
       "      <td>0.039896</td>\n",
       "      <td>0.044145</td>\n",
       "      <td>0.043507</td>\n",
       "      <td>0.043979</td>\n",
       "      <td>0.043538</td>\n",
       "      <td>0.043949</td>\n",
       "      <td>0.043925</td>\n",
       "      <td>1</td>\n",
       "    </tr>\n",
       "    <tr>\n",
       "      <th>16</th>\n",
       "      <td>0.044568</td>\n",
       "      <td>0.044864</td>\n",
       "      <td>0.043509</td>\n",
       "      <td>0.043946</td>\n",
       "      <td>0.043860</td>\n",
       "      <td>0.043843</td>\n",
       "      <td>0.043900</td>\n",
       "      <td>0.043849</td>\n",
       "      <td>0.043873</td>\n",
       "      <td>0.042947</td>\n",
       "      <td>0.043965</td>\n",
       "      <td>0.043936</td>\n",
       "      <td>1</td>\n",
       "    </tr>\n",
       "    <tr>\n",
       "      <th>17</th>\n",
       "      <td>0.043862</td>\n",
       "      <td>0.043360</td>\n",
       "      <td>0.044123</td>\n",
       "      <td>0.044154</td>\n",
       "      <td>0.043950</td>\n",
       "      <td>0.044822</td>\n",
       "      <td>0.043977</td>\n",
       "      <td>0.043901</td>\n",
       "      <td>0.043897</td>\n",
       "      <td>0.043510</td>\n",
       "      <td>0.043981</td>\n",
       "      <td>0.043963</td>\n",
       "      <td>1</td>\n",
       "    </tr>\n",
       "    <tr>\n",
       "      <th>18</th>\n",
       "      <td>0.044509</td>\n",
       "      <td>0.043937</td>\n",
       "      <td>0.043734</td>\n",
       "      <td>0.043944</td>\n",
       "      <td>0.044799</td>\n",
       "      <td>0.043968</td>\n",
       "      <td>0.044945</td>\n",
       "      <td>0.044010</td>\n",
       "      <td>0.043323</td>\n",
       "      <td>0.043751</td>\n",
       "      <td>0.043895</td>\n",
       "      <td>0.044288</td>\n",
       "      <td>1</td>\n",
       "    </tr>\n",
       "    <tr>\n",
       "      <th>19</th>\n",
       "      <td>0.043847</td>\n",
       "      <td>0.043770</td>\n",
       "      <td>1.000000</td>\n",
       "      <td>0.043822</td>\n",
       "      <td>0.043733</td>\n",
       "      <td>0.043891</td>\n",
       "      <td>0.044194</td>\n",
       "      <td>0.043478</td>\n",
       "      <td>0.043941</td>\n",
       "      <td>0.043981</td>\n",
       "      <td>0.043923</td>\n",
       "      <td>0.043924</td>\n",
       "      <td>-1</td>\n",
       "    </tr>\n",
       "    <tr>\n",
       "      <th>20</th>\n",
       "      <td>0.043949</td>\n",
       "      <td>0.043972</td>\n",
       "      <td>0.043853</td>\n",
       "      <td>0.043965</td>\n",
       "      <td>0.043903</td>\n",
       "      <td>0.044894</td>\n",
       "      <td>0.043028</td>\n",
       "      <td>0.043851</td>\n",
       "      <td>0.043855</td>\n",
       "      <td>0.043967</td>\n",
       "      <td>0.043404</td>\n",
       "      <td>0.042494</td>\n",
       "      <td>1</td>\n",
       "    </tr>\n",
       "    <tr>\n",
       "      <th>21</th>\n",
       "      <td>0.043858</td>\n",
       "      <td>0.043854</td>\n",
       "      <td>0.043937</td>\n",
       "      <td>0.043901</td>\n",
       "      <td>0.043836</td>\n",
       "      <td>0.043868</td>\n",
       "      <td>0.067182</td>\n",
       "      <td>0.043844</td>\n",
       "      <td>0.043754</td>\n",
       "      <td>0.043955</td>\n",
       "      <td>0.028389</td>\n",
       "      <td>0.047987</td>\n",
       "      <td>1</td>\n",
       "    </tr>\n",
       "    <tr>\n",
       "      <th>22</th>\n",
       "      <td>0.050551</td>\n",
       "      <td>0.044477</td>\n",
       "      <td>0.043980</td>\n",
       "      <td>0.043559</td>\n",
       "      <td>0.043921</td>\n",
       "      <td>0.042943</td>\n",
       "      <td>0.043949</td>\n",
       "      <td>0.044290</td>\n",
       "      <td>0.043746</td>\n",
       "      <td>0.043256</td>\n",
       "      <td>0.043883</td>\n",
       "      <td>0.043925</td>\n",
       "      <td>1</td>\n",
       "    </tr>\n",
       "    <tr>\n",
       "      <th>23</th>\n",
       "      <td>0.044444</td>\n",
       "      <td>0.043474</td>\n",
       "      <td>0.043701</td>\n",
       "      <td>0.052456</td>\n",
       "      <td>0.044363</td>\n",
       "      <td>0.043928</td>\n",
       "      <td>0.043770</td>\n",
       "      <td>0.043923</td>\n",
       "      <td>0.043887</td>\n",
       "      <td>0.042200</td>\n",
       "      <td>0.044209</td>\n",
       "      <td>0.044060</td>\n",
       "      <td>1</td>\n",
       "    </tr>\n",
       "    <tr>\n",
       "      <th>24</th>\n",
       "      <td>0.043965</td>\n",
       "      <td>0.040450</td>\n",
       "      <td>0.043847</td>\n",
       "      <td>0.045367</td>\n",
       "      <td>0.043958</td>\n",
       "      <td>0.043841</td>\n",
       "      <td>0.043838</td>\n",
       "      <td>0.043837</td>\n",
       "      <td>0.043480</td>\n",
       "      <td>0.044602</td>\n",
       "      <td>0.044155</td>\n",
       "      <td>0.044023</td>\n",
       "      <td>1</td>\n",
       "    </tr>\n",
       "    <tr>\n",
       "      <th>25</th>\n",
       "      <td>0.043403</td>\n",
       "      <td>0.043739</td>\n",
       "      <td>0.044019</td>\n",
       "      <td>0.043842</td>\n",
       "      <td>0.041038</td>\n",
       "      <td>0.043896</td>\n",
       "      <td>0.043908</td>\n",
       "      <td>0.043917</td>\n",
       "      <td>0.044081</td>\n",
       "      <td>0.043997</td>\n",
       "      <td>0.041477</td>\n",
       "      <td>0.044003</td>\n",
       "      <td>1</td>\n",
       "    </tr>\n",
       "    <tr>\n",
       "      <th>26</th>\n",
       "      <td>0.043653</td>\n",
       "      <td>0.043824</td>\n",
       "      <td>0.043839</td>\n",
       "      <td>0.043898</td>\n",
       "      <td>0.043983</td>\n",
       "      <td>0.043942</td>\n",
       "      <td>0.044098</td>\n",
       "      <td>0.042085</td>\n",
       "      <td>0.043851</td>\n",
       "      <td>0.044002</td>\n",
       "      <td>0.043885</td>\n",
       "      <td>0.044992</td>\n",
       "      <td>1</td>\n",
       "    </tr>\n",
       "    <tr>\n",
       "      <th>27</th>\n",
       "      <td>0.044519</td>\n",
       "      <td>0.044035</td>\n",
       "      <td>0.043810</td>\n",
       "      <td>0.043962</td>\n",
       "      <td>0.043804</td>\n",
       "      <td>0.044251</td>\n",
       "      <td>0.043961</td>\n",
       "      <td>0.043910</td>\n",
       "      <td>0.043494</td>\n",
       "      <td>0.048398</td>\n",
       "      <td>0.043963</td>\n",
       "      <td>0.043916</td>\n",
       "      <td>1</td>\n",
       "    </tr>\n",
       "    <tr>\n",
       "      <th>28</th>\n",
       "      <td>0.043987</td>\n",
       "      <td>0.043769</td>\n",
       "      <td>0.043880</td>\n",
       "      <td>0.044531</td>\n",
       "      <td>0.044284</td>\n",
       "      <td>0.043250</td>\n",
       "      <td>0.043892</td>\n",
       "      <td>0.042917</td>\n",
       "      <td>0.043586</td>\n",
       "      <td>0.043959</td>\n",
       "      <td>0.044122</td>\n",
       "      <td>0.043276</td>\n",
       "      <td>1</td>\n",
       "    </tr>\n",
       "    <tr>\n",
       "      <th>29</th>\n",
       "      <td>0.043974</td>\n",
       "      <td>0.043815</td>\n",
       "      <td>0.041922</td>\n",
       "      <td>0.043959</td>\n",
       "      <td>0.041132</td>\n",
       "      <td>0.043139</td>\n",
       "      <td>0.043795</td>\n",
       "      <td>0.043937</td>\n",
       "      <td>0.043905</td>\n",
       "      <td>0.043896</td>\n",
       "      <td>0.043923</td>\n",
       "      <td>0.043954</td>\n",
       "      <td>1</td>\n",
       "    </tr>\n",
       "    <tr>\n",
       "      <th>30</th>\n",
       "      <td>0.040336</td>\n",
       "      <td>0.043982</td>\n",
       "      <td>0.044131</td>\n",
       "      <td>0.044005</td>\n",
       "      <td>0.043801</td>\n",
       "      <td>0.043884</td>\n",
       "      <td>0.044186</td>\n",
       "      <td>0.043844</td>\n",
       "      <td>0.054971</td>\n",
       "      <td>0.043799</td>\n",
       "      <td>0.043997</td>\n",
       "      <td>0.043920</td>\n",
       "      <td>1</td>\n",
       "    </tr>\n",
       "    <tr>\n",
       "      <th>31</th>\n",
       "      <td>0.039667</td>\n",
       "      <td>0.043869</td>\n",
       "      <td>0.043737</td>\n",
       "      <td>0.043908</td>\n",
       "      <td>0.043938</td>\n",
       "      <td>0.044319</td>\n",
       "      <td>0.043973</td>\n",
       "      <td>0.043892</td>\n",
       "      <td>0.043905</td>\n",
       "      <td>0.044012</td>\n",
       "      <td>0.043796</td>\n",
       "      <td>0.043893</td>\n",
       "      <td>1</td>\n",
       "    </tr>\n",
       "    <tr>\n",
       "      <th>32</th>\n",
       "      <td>0.043963</td>\n",
       "      <td>0.043914</td>\n",
       "      <td>0.044062</td>\n",
       "      <td>0.043774</td>\n",
       "      <td>0.043895</td>\n",
       "      <td>0.043965</td>\n",
       "      <td>0.043897</td>\n",
       "      <td>0.043928</td>\n",
       "      <td>0.043792</td>\n",
       "      <td>0.043929</td>\n",
       "      <td>0.044034</td>\n",
       "      <td>0.043782</td>\n",
       "      <td>1</td>\n",
       "    </tr>\n",
       "    <tr>\n",
       "      <th>33</th>\n",
       "      <td>0.044032</td>\n",
       "      <td>0.043552</td>\n",
       "      <td>0.043943</td>\n",
       "      <td>0.041807</td>\n",
       "      <td>0.043999</td>\n",
       "      <td>0.044635</td>\n",
       "      <td>0.044082</td>\n",
       "      <td>0.044013</td>\n",
       "      <td>0.043998</td>\n",
       "      <td>0.043950</td>\n",
       "      <td>0.043666</td>\n",
       "      <td>0.043868</td>\n",
       "      <td>1</td>\n",
       "    </tr>\n",
       "    <tr>\n",
       "      <th>34</th>\n",
       "      <td>0.043923</td>\n",
       "      <td>0.043946</td>\n",
       "      <td>0.043929</td>\n",
       "      <td>0.043937</td>\n",
       "      <td>0.043896</td>\n",
       "      <td>0.043892</td>\n",
       "      <td>0.046221</td>\n",
       "      <td>0.024143</td>\n",
       "      <td>0.043941</td>\n",
       "      <td>0.126544</td>\n",
       "      <td>0.043891</td>\n",
       "      <td>0.043766</td>\n",
       "      <td>-1</td>\n",
       "    </tr>\n",
       "    <tr>\n",
       "      <th>35</th>\n",
       "      <td>0.043989</td>\n",
       "      <td>0.044868</td>\n",
       "      <td>0.043669</td>\n",
       "      <td>0.043808</td>\n",
       "      <td>0.043837</td>\n",
       "      <td>0.043951</td>\n",
       "      <td>0.044030</td>\n",
       "      <td>0.043933</td>\n",
       "      <td>0.043966</td>\n",
       "      <td>0.044463</td>\n",
       "      <td>0.044021</td>\n",
       "      <td>0.044122</td>\n",
       "      <td>1</td>\n",
       "    </tr>\n",
       "    <tr>\n",
       "      <th>36</th>\n",
       "      <td>0.043992</td>\n",
       "      <td>0.040975</td>\n",
       "      <td>0.042104</td>\n",
       "      <td>0.044174</td>\n",
       "      <td>0.042265</td>\n",
       "      <td>0.043854</td>\n",
       "      <td>0.044013</td>\n",
       "      <td>0.043971</td>\n",
       "      <td>0.043926</td>\n",
       "      <td>0.043904</td>\n",
       "      <td>0.044031</td>\n",
       "      <td>0.043915</td>\n",
       "      <td>1</td>\n",
       "    </tr>\n",
       "    <tr>\n",
       "      <th>37</th>\n",
       "      <td>0.044226</td>\n",
       "      <td>0.170365</td>\n",
       "      <td>0.043942</td>\n",
       "      <td>0.044093</td>\n",
       "      <td>0.047932</td>\n",
       "      <td>0.043889</td>\n",
       "      <td>0.043844</td>\n",
       "      <td>0.043928</td>\n",
       "      <td>0.043972</td>\n",
       "      <td>0.043730</td>\n",
       "      <td>0.043969</td>\n",
       "      <td>0.043912</td>\n",
       "      <td>-1</td>\n",
       "    </tr>\n",
       "    <tr>\n",
       "      <th>38</th>\n",
       "      <td>0.044266</td>\n",
       "      <td>0.043907</td>\n",
       "      <td>0.043900</td>\n",
       "      <td>0.043445</td>\n",
       "      <td>0.031068</td>\n",
       "      <td>0.044000</td>\n",
       "      <td>0.044321</td>\n",
       "      <td>0.043017</td>\n",
       "      <td>0.045105</td>\n",
       "      <td>0.043934</td>\n",
       "      <td>0.043939</td>\n",
       "      <td>0.043940</td>\n",
       "      <td>1</td>\n",
       "    </tr>\n",
       "    <tr>\n",
       "      <th>39</th>\n",
       "      <td>0.045475</td>\n",
       "      <td>0.043934</td>\n",
       "      <td>0.043654</td>\n",
       "      <td>0.043399</td>\n",
       "      <td>0.043907</td>\n",
       "      <td>0.044008</td>\n",
       "      <td>0.043883</td>\n",
       "      <td>0.043955</td>\n",
       "      <td>0.043935</td>\n",
       "      <td>0.043971</td>\n",
       "      <td>0.043973</td>\n",
       "      <td>0.044025</td>\n",
       "      <td>1</td>\n",
       "    </tr>\n",
       "    <tr>\n",
       "      <th>40</th>\n",
       "      <td>0.043668</td>\n",
       "      <td>0.044003</td>\n",
       "      <td>0.043871</td>\n",
       "      <td>0.044014</td>\n",
       "      <td>0.043999</td>\n",
       "      <td>0.476002</td>\n",
       "      <td>0.043890</td>\n",
       "      <td>0.044788</td>\n",
       "      <td>0.045407</td>\n",
       "      <td>0.043922</td>\n",
       "      <td>0.043863</td>\n",
       "      <td>0.043916</td>\n",
       "      <td>-1</td>\n",
       "    </tr>\n",
       "    <tr>\n",
       "      <th>41</th>\n",
       "      <td>0.043932</td>\n",
       "      <td>0.043299</td>\n",
       "      <td>0.043886</td>\n",
       "      <td>0.037501</td>\n",
       "      <td>0.044094</td>\n",
       "      <td>0.043905</td>\n",
       "      <td>0.043950</td>\n",
       "      <td>0.044379</td>\n",
       "      <td>0.043957</td>\n",
       "      <td>0.043963</td>\n",
       "      <td>0.043960</td>\n",
       "      <td>0.043869</td>\n",
       "      <td>1</td>\n",
       "    </tr>\n",
       "    <tr>\n",
       "      <th>42</th>\n",
       "      <td>0.043882</td>\n",
       "      <td>0.043850</td>\n",
       "      <td>0.045244</td>\n",
       "      <td>0.043500</td>\n",
       "      <td>0.044331</td>\n",
       "      <td>0.044096</td>\n",
       "      <td>0.043888</td>\n",
       "      <td>0.043720</td>\n",
       "      <td>0.044052</td>\n",
       "      <td>0.041336</td>\n",
       "      <td>0.043967</td>\n",
       "      <td>0.043995</td>\n",
       "      <td>1</td>\n",
       "    </tr>\n",
       "    <tr>\n",
       "      <th>43</th>\n",
       "      <td>0.043701</td>\n",
       "      <td>0.043885</td>\n",
       "      <td>0.044071</td>\n",
       "      <td>0.044645</td>\n",
       "      <td>0.043342</td>\n",
       "      <td>0.043951</td>\n",
       "      <td>0.043967</td>\n",
       "      <td>0.043754</td>\n",
       "      <td>0.044175</td>\n",
       "      <td>0.043887</td>\n",
       "      <td>0.039100</td>\n",
       "      <td>0.042528</td>\n",
       "      <td>1</td>\n",
       "    </tr>\n",
       "    <tr>\n",
       "      <th>44</th>\n",
       "      <td>0.043865</td>\n",
       "      <td>0.043964</td>\n",
       "      <td>0.043912</td>\n",
       "      <td>0.044047</td>\n",
       "      <td>0.043911</td>\n",
       "      <td>0.043874</td>\n",
       "      <td>0.043927</td>\n",
       "      <td>0.044554</td>\n",
       "      <td>0.043949</td>\n",
       "      <td>0.043586</td>\n",
       "      <td>0.043944</td>\n",
       "      <td>0.043651</td>\n",
       "      <td>1</td>\n",
       "    </tr>\n",
       "    <tr>\n",
       "      <th>45</th>\n",
       "      <td>0.044408</td>\n",
       "      <td>0.043839</td>\n",
       "      <td>0.043995</td>\n",
       "      <td>0.044116</td>\n",
       "      <td>0.044123</td>\n",
       "      <td>0.042405</td>\n",
       "      <td>0.043918</td>\n",
       "      <td>0.044048</td>\n",
       "      <td>0.043961</td>\n",
       "      <td>0.045321</td>\n",
       "      <td>0.043569</td>\n",
       "      <td>0.043901</td>\n",
       "      <td>1</td>\n",
       "    </tr>\n",
       "    <tr>\n",
       "      <th>46</th>\n",
       "      <td>0.043855</td>\n",
       "      <td>0.042765</td>\n",
       "      <td>0.043994</td>\n",
       "      <td>0.044816</td>\n",
       "      <td>0.043922</td>\n",
       "      <td>0.044003</td>\n",
       "      <td>0.043752</td>\n",
       "      <td>0.043964</td>\n",
       "      <td>0.043789</td>\n",
       "      <td>0.043934</td>\n",
       "      <td>0.043829</td>\n",
       "      <td>0.043983</td>\n",
       "      <td>1</td>\n",
       "    </tr>\n",
       "  </tbody>\n",
       "</table>\n",
       "</div>"
      ],
      "text/plain": [
       "           0         1         2         3         4         5         6  \\\n",
       "0   0.043878  0.036907  0.043946  0.043253  0.044252  0.043928  0.043629   \n",
       "1   0.043972  0.045412  0.044082  0.043926  0.044088  0.043965  0.043978   \n",
       "2   0.044072  0.044991  0.043948  0.042822  0.044231  0.044008  0.043344   \n",
       "3   0.043772  0.034441  0.043876  0.045846  0.044106  0.043870  0.043949   \n",
       "4   0.043924  0.043970  0.043820  0.043259  0.043950  0.043561  0.043690   \n",
       "5   0.043985  0.043710  0.043957  0.043544  0.043768  0.043845  0.044161   \n",
       "6   0.043423  0.043949  0.044018  0.041181  0.043864  0.052176  0.043912   \n",
       "7   0.045156  0.044132  0.043946  0.070355  0.043913  0.041310  0.044266   \n",
       "8   0.043923  0.043939  0.043790  0.043907  0.044151  0.044057  0.043929   \n",
       "9   0.043933  0.049406  0.042799  0.043909  0.043861  0.043870  0.043722   \n",
       "10  0.052761  0.043896  0.043814  0.043938  0.000000  0.044059  0.043973   \n",
       "11  0.044739  0.043921  0.043868  0.043851  0.031688  0.036706  0.043514   \n",
       "12  0.043894  0.044466  0.044931  0.044665  0.040394  0.043844  0.043657   \n",
       "13  0.043861  0.043923  0.043984  0.043904  0.044203  0.064677  0.043963   \n",
       "14  0.043996  0.045195  0.044425  0.043413  0.043904  0.043851  0.043793   \n",
       "15  0.044071  0.042479  0.044032  0.046260  0.046364  0.039896  0.044145   \n",
       "16  0.044568  0.044864  0.043509  0.043946  0.043860  0.043843  0.043900   \n",
       "17  0.043862  0.043360  0.044123  0.044154  0.043950  0.044822  0.043977   \n",
       "18  0.044509  0.043937  0.043734  0.043944  0.044799  0.043968  0.044945   \n",
       "19  0.043847  0.043770  1.000000  0.043822  0.043733  0.043891  0.044194   \n",
       "20  0.043949  0.043972  0.043853  0.043965  0.043903  0.044894  0.043028   \n",
       "21  0.043858  0.043854  0.043937  0.043901  0.043836  0.043868  0.067182   \n",
       "22  0.050551  0.044477  0.043980  0.043559  0.043921  0.042943  0.043949   \n",
       "23  0.044444  0.043474  0.043701  0.052456  0.044363  0.043928  0.043770   \n",
       "24  0.043965  0.040450  0.043847  0.045367  0.043958  0.043841  0.043838   \n",
       "25  0.043403  0.043739  0.044019  0.043842  0.041038  0.043896  0.043908   \n",
       "26  0.043653  0.043824  0.043839  0.043898  0.043983  0.043942  0.044098   \n",
       "27  0.044519  0.044035  0.043810  0.043962  0.043804  0.044251  0.043961   \n",
       "28  0.043987  0.043769  0.043880  0.044531  0.044284  0.043250  0.043892   \n",
       "29  0.043974  0.043815  0.041922  0.043959  0.041132  0.043139  0.043795   \n",
       "30  0.040336  0.043982  0.044131  0.044005  0.043801  0.043884  0.044186   \n",
       "31  0.039667  0.043869  0.043737  0.043908  0.043938  0.044319  0.043973   \n",
       "32  0.043963  0.043914  0.044062  0.043774  0.043895  0.043965  0.043897   \n",
       "33  0.044032  0.043552  0.043943  0.041807  0.043999  0.044635  0.044082   \n",
       "34  0.043923  0.043946  0.043929  0.043937  0.043896  0.043892  0.046221   \n",
       "35  0.043989  0.044868  0.043669  0.043808  0.043837  0.043951  0.044030   \n",
       "36  0.043992  0.040975  0.042104  0.044174  0.042265  0.043854  0.044013   \n",
       "37  0.044226  0.170365  0.043942  0.044093  0.047932  0.043889  0.043844   \n",
       "38  0.044266  0.043907  0.043900  0.043445  0.031068  0.044000  0.044321   \n",
       "39  0.045475  0.043934  0.043654  0.043399  0.043907  0.044008  0.043883   \n",
       "40  0.043668  0.044003  0.043871  0.044014  0.043999  0.476002  0.043890   \n",
       "41  0.043932  0.043299  0.043886  0.037501  0.044094  0.043905  0.043950   \n",
       "42  0.043882  0.043850  0.045244  0.043500  0.044331  0.044096  0.043888   \n",
       "43  0.043701  0.043885  0.044071  0.044645  0.043342  0.043951  0.043967   \n",
       "44  0.043865  0.043964  0.043912  0.044047  0.043911  0.043874  0.043927   \n",
       "45  0.044408  0.043839  0.043995  0.044116  0.044123  0.042405  0.043918   \n",
       "46  0.043855  0.042765  0.043994  0.044816  0.043922  0.044003  0.043752   \n",
       "\n",
       "           7         8         9        10        11  y  \n",
       "0   0.043838  0.043071  0.043456  0.044183  0.043018  1  \n",
       "1   0.043933  0.044023  0.053966  0.044038  0.044267  1  \n",
       "2   0.043945  0.043873  0.044129  0.044503  0.044026  1  \n",
       "3   0.044060  0.043928  0.043924  0.043934  0.043858  1  \n",
       "4   0.043950  0.044029  0.043868  0.043986  0.043619  1  \n",
       "5   0.044583  0.044144  0.043756  0.043449  0.044745  1  \n",
       "6   0.043850  0.043971  0.043862  0.045332  0.043939  1  \n",
       "7   0.043752  0.043983  0.043945  0.043917  0.043990  1  \n",
       "8   0.043888  0.040519  0.043932  0.044168  0.043830  1  \n",
       "9   0.043983  0.044094  0.043824  0.043968  0.043946  1  \n",
       "10  0.043800  0.043762  0.043915  0.043932  0.043990 -1  \n",
       "11  0.044639  0.043983  0.042527  0.043875  0.043926  1  \n",
       "12  0.043847  0.043952  0.044168  0.044455  0.043942  1  \n",
       "13  0.045382  0.043230  0.044154  0.043924  0.043912  1  \n",
       "14  0.043125  0.043950  0.043919  0.044626  0.044633  1  \n",
       "15  0.043507  0.043979  0.043538  0.043949  0.043925  1  \n",
       "16  0.043849  0.043873  0.042947  0.043965  0.043936  1  \n",
       "17  0.043901  0.043897  0.043510  0.043981  0.043963  1  \n",
       "18  0.044010  0.043323  0.043751  0.043895  0.044288  1  \n",
       "19  0.043478  0.043941  0.043981  0.043923  0.043924 -1  \n",
       "20  0.043851  0.043855  0.043967  0.043404  0.042494  1  \n",
       "21  0.043844  0.043754  0.043955  0.028389  0.047987  1  \n",
       "22  0.044290  0.043746  0.043256  0.043883  0.043925  1  \n",
       "23  0.043923  0.043887  0.042200  0.044209  0.044060  1  \n",
       "24  0.043837  0.043480  0.044602  0.044155  0.044023  1  \n",
       "25  0.043917  0.044081  0.043997  0.041477  0.044003  1  \n",
       "26  0.042085  0.043851  0.044002  0.043885  0.044992  1  \n",
       "27  0.043910  0.043494  0.048398  0.043963  0.043916  1  \n",
       "28  0.042917  0.043586  0.043959  0.044122  0.043276  1  \n",
       "29  0.043937  0.043905  0.043896  0.043923  0.043954  1  \n",
       "30  0.043844  0.054971  0.043799  0.043997  0.043920  1  \n",
       "31  0.043892  0.043905  0.044012  0.043796  0.043893  1  \n",
       "32  0.043928  0.043792  0.043929  0.044034  0.043782  1  \n",
       "33  0.044013  0.043998  0.043950  0.043666  0.043868  1  \n",
       "34  0.024143  0.043941  0.126544  0.043891  0.043766 -1  \n",
       "35  0.043933  0.043966  0.044463  0.044021  0.044122  1  \n",
       "36  0.043971  0.043926  0.043904  0.044031  0.043915  1  \n",
       "37  0.043928  0.043972  0.043730  0.043969  0.043912 -1  \n",
       "38  0.043017  0.045105  0.043934  0.043939  0.043940  1  \n",
       "39  0.043955  0.043935  0.043971  0.043973  0.044025  1  \n",
       "40  0.044788  0.045407  0.043922  0.043863  0.043916 -1  \n",
       "41  0.044379  0.043957  0.043963  0.043960  0.043869  1  \n",
       "42  0.043720  0.044052  0.041336  0.043967  0.043995  1  \n",
       "43  0.043754  0.044175  0.043887  0.039100  0.042528  1  \n",
       "44  0.044554  0.043949  0.043586  0.043944  0.043651  1  \n",
       "45  0.044048  0.043961  0.045321  0.043569  0.043901  1  \n",
       "46  0.043964  0.043789  0.043934  0.043829  0.043983  1  "
      ]
     },
     "execution_count": 12,
     "metadata": {},
     "output_type": "execute_result"
    }
   ],
   "source": [
    "# Convert test data to tensor\n",
    "x = torch.tensor(stream_data).float().to(device)\n",
    "\n",
    "predictions = model(x)\n",
    "targets = x\n",
    "\n",
    "# Get reconstruction error\n",
    "x_loss = nn.MSELoss(reduction='none')(predictions, targets).sum(axis=1).detach().cpu().numpy().astype(np.float32)\n",
    "\n",
    "# If reconstruction error is >= than the optimal threshold, we consider it an anomaly\n",
    "bool_arr = x_loss >= optimal_threshold\n",
    "\n",
    "# Convert anomaly labels to -1 if True and 1 if False\n",
    "anomaly_predictions = np.array([-1 if elem else 1 for elem in bool_arr])\n",
    "\n",
    "# Build dataframe for test data and attach predictions\n",
    "df_test_x_with_labels = pd.DataFrame(stream_data)\n",
    "df_test_x_with_labels['y'] = anomaly_predictions\n",
    "\n",
    "df_test_x_with_labels"
   ]
  },
  {
   "cell_type": "code",
   "execution_count": 13,
   "id": "e40dbd7d",
   "metadata": {},
   "outputs": [],
   "source": [
    "stream_data_with_labels = []\n",
    "for index, row in df_test_x_with_labels.iterrows():\n",
    "    label = row['y']\n",
    "    for point in row[:-1].values:\n",
    "        stream_data_with_labels.append([point, label])\n",
    "\n",
    "stream_data_with_labels = pd.DataFrame(stream_data_with_labels, columns=['value', 'y'])\n"
   ]
  },
  {
   "cell_type": "code",
   "execution_count": 14,
   "id": "686e768a",
   "metadata": {},
   "outputs": [
    {
     "data": {
      "text/plain": [
       "<AxesSubplot:>"
      ]
     },
     "execution_count": 14,
     "metadata": {},
     "output_type": "execute_result"
    },
    {
     "data": {
      "image/png": "[encoded data removed]",
      "text/plain": [
       "<Figure size 432x288 with 1 Axes>"
      ]
     },
     "metadata": {
      "needs_background": "light"
     },
     "output_type": "display_data"
    }
   ],
   "source": [
    "df.plot()"
   ]
  },
  {
   "cell_type": "code",
   "execution_count": 15,
   "id": "d3cbbf1f",
   "metadata": {},
   "outputs": [
    {
     "data": {
      "text/plain": [
       "<matplotlib.legend.Legend at 0x7fc7c163c0a0>"
      ]
     },
     "execution_count": 15,
     "metadata": {},
     "output_type": "execute_result"
    },
    {
     "data": {
      "image/png": "[encoded data removed]",
      "text/plain": [
       "<Figure size 432x288 with 1 Axes>"
      ]
     },
     "metadata": {
      "needs_background": "light"
     },
     "output_type": "display_data"
    }
   ],
   "source": [
    "\n",
    "plt.plot(np.where(stream_data_with_labels[\"y\"]==1, stream_data_with_labels[\"value\"], None), color=\"blue\", label=\"normal\")\n",
    "plt.plot(np.where(stream_data_with_labels[\"y\"]==-1, stream_data_with_labels[\"value\"], None), color=\"red\", label=\"anomaly\")\n",
    "plt.legend()"
   ]
  },
  {
   "cell_type": "code",
   "execution_count": null,
   "id": "53ebeac4",
   "metadata": {},
   "outputs": [],
   "source": []
  }
 ],
 "metadata": {
  "kernelspec": {
   "display_name": "Python 3 (ipykernel)",
   "language": "python",
   "name": "python3"
  },
  "language_info": {
   "codemirror_mode": {
    "name": "ipython",
    "version": 3
   },
   "file_extension": ".py",
   "mimetype": "text/x-python",
   "name": "python",
   "nbconvert_exporter": "python",
   "pygments_lexer": "ipython3",
   "version": "3.9.7"
  }
 },
 "nbformat": 4,
 "nbformat_minor": 5
}
