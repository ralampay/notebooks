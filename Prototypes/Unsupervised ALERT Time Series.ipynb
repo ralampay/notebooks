{
 "cells": [
  {
   "cell_type": "code",
   "execution_count": 1,
   "id": "3578668b",
   "metadata": {},
   "outputs": [],
   "source": [
    "import sys\n",
    "import os\n",
    "import pandas as pd\n",
    "import numpy as np\n",
    "import torch\n",
    "from torch.utils.data import DataLoader\n",
    "from tqdm import tqdm\n",
    "import torch.nn as nn\n",
    "import torch.optim as optim\n",
    "import numpy as np\n",
    "from sklearn import preprocessing\n",
    "from sklearn.cluster import DBSCAN\n",
    "from sklearn.manifold import TSNE\n",
    "from sklearn.metrics import confusion_matrix\n",
    "import matplotlib.pyplot as plt\n",
    "import plotly.express as px\n",
    "from scipy.stats import iqr\n",
    "from matplotlib import pyplot\n",
    "\n",
    "# Local imports\n",
    "sys.path.append('..')\n",
    "\n",
    "from lib.autoencoder import Autoencoder\n",
    "from lib.autoencoder_dataset import AutoencoderDataset"
   ]
  },
  {
   "cell_type": "code",
   "execution_count": 2,
   "id": "945bc9ca",
   "metadata": {},
   "outputs": [
    {
     "name": "stdout",
     "output_type": "stream",
     "text": [
      "Remainder: 0\n",
      "Num parts: 336.0\n"
     ]
    },
    {
     "data": {
      "text/plain": [
       "<AxesSubplot:>"
      ]
     },
     "execution_count": 2,
     "metadata": {},
     "output_type": "execute_result"
    },
    {
     "data": {
      "image/png": "[encoded data removed]",
      "text/plain": [
       "<Figure size 432x288 with 1 Axes>"
      ]
     },
     "metadata": {
      "needs_background": "light"
     },
     "output_type": "display_data"
    }
   ],
   "source": [
    "data_file = \"../Datasets/ec2_cpu_utilization_fe7f93.csv\"\n",
    "df = pd.read_csv(data_file)\n",
    "\n",
    "window_size = 12\n",
    "num_rows = len(df)\n",
    "\n",
    "# Drop last remainder frames\n",
    "remainder = num_rows % window_size\n",
    "num_parts = (num_rows - remainder) / window_size\n",
    "\n",
    "print(\"Remainder: {}\".format(remainder))\n",
    "print(\"Num parts: {}\".format(num_parts))\n",
    "\n",
    "# Dropping last n rows using drop\n",
    "if remainder > 0:\n",
    "    df.drop(df.tail(remainder).index, inplace = True)\n",
    "\n",
    "df = (df['value']-df['value'].min())/(df['value'].max()-df['value'].min())\n",
    "df.plot()"
   ]
  },
  {
   "cell_type": "code",
   "execution_count": 3,
   "id": "984128c1",
   "metadata": {},
   "outputs": [
    {
     "data": {
      "text/plain": [
       "<AxesSubplot:>"
      ]
     },
     "execution_count": 3,
     "metadata": {},
     "output_type": "execute_result"
    },
    {
     "data": {
      "image/png": "[encoded data removed]",
      "text/plain": [
       "<Figure size 432x288 with 1 Axes>"
      ]
     },
     "metadata": {
      "needs_background": "light"
     },
     "output_type": "display_data"
    }
   ],
   "source": [
    "# Visualize the first window\n",
    "ylim = (df.min(), df.max())\n",
    "df_vector = df.head(window_size)\n",
    "df_vector.plot(ylim=ylim)"
   ]
  },
  {
   "cell_type": "code",
   "execution_count": 4,
   "id": "7aa14ea4",
   "metadata": {},
   "outputs": [],
   "source": [
    "stream_data = np.array(np.array_split(df, num_parts))\n",
    "\n",
    "# for stream in stream_data:\n",
    "#     temp_df = pd.DataFrame(stream, columns=['value'])\n",
    "#     temp_df.plot(ylim=ylim)"
   ]
  },
  {
   "cell_type": "code",
   "execution_count": 5,
   "id": "888adbd8",
   "metadata": {},
   "outputs": [
    {
     "name": "stdout",
     "output_type": "stream",
     "text": [
      "layers: [12, 9]\n"
     ]
    }
   ],
   "source": [
    "# Autoencoder parameter for layers. First element is the size of the input vector. Succeeding values are hidden layers for the encoder\n",
    "layers = [window_size, int(window_size - 3)]\n",
    "print(\"layers: {}\".format(layers))\n",
    "\n",
    "# Autoencoder parameter for hidden activation\n",
    "h_activation = 'relu'\n",
    "\n",
    "# Autoencoder parameter for output activation\n",
    "o_activation = 'sigmoid'\n",
    "\n",
    "# Autoencoder parameter for learning rate\n",
    "learning_rate = 0.0001\n",
    "\n",
    "# Torch parameter for device\n",
    "device = 'cpu'\n",
    "\n",
    "# Training parameter for number of epochs\n",
    "epochs = 100\n",
    "\n",
    "# Training parameter for batch size\n",
    "batch_size = 1\n",
    "\n",
    "# Loss function\n",
    "loss_fn = nn.MSELoss()\n",
    "\n",
    "# DBSCAN parameter eps\n",
    "eps = 0.1\n",
    "\n",
    "# DBSCAN parameter minimum samples\n",
    "min_samples = 5"
   ]
  },
  {
   "cell_type": "code",
   "execution_count": 6,
   "id": "fd9b10e5",
   "metadata": {},
   "outputs": [
    {
     "name": "stdout",
     "output_type": "stream",
     "text": [
      "Epoch: 0\n"
     ]
    },
    {
     "name": "stderr",
     "output_type": "stream",
     "text": [
      "100%|███████████████████████████████████████████████████████████████████████████████████████████████████████████████████████████████████████████████████████████████| 336/336 [00:00<00:00, 973.56it/s, loss=0.219]\n"
     ]
    },
    {
     "name": "stdout",
     "output_type": "stream",
     "text": [
      "Epoch: 1\n"
     ]
    },
    {
     "name": "stderr",
     "output_type": "stream",
     "text": [
      "100%|██████████████████████████████████████████████████████████████████████████████████████████████████████████████████████████████████████████████████████████████| 336/336 [00:00<00:00, 1122.98it/s, loss=0.201]\n"
     ]
    },
    {
     "name": "stdout",
     "output_type": "stream",
     "text": [
      "Epoch: 2\n"
     ]
    },
    {
     "name": "stderr",
     "output_type": "stream",
     "text": [
      "100%|██████████████████████████████████████████████████████████████████████████████████████████████████████████████████████████████████████████████████████████████| 336/336 [00:00<00:00, 1182.46it/s, loss=0.182]\n"
     ]
    },
    {
     "name": "stdout",
     "output_type": "stream",
     "text": [
      "Epoch: 3\n"
     ]
    },
    {
     "name": "stderr",
     "output_type": "stream",
     "text": [
      "100%|███████████████████████████████████████████████████████████████████████████████████████████████████████████████████████████████████████████████████████████████| 336/336 [00:00<00:00, 1185.71it/s, loss=0.16]\n"
     ]
    },
    {
     "name": "stdout",
     "output_type": "stream",
     "text": [
      "Epoch: 4\n"
     ]
    },
    {
     "name": "stderr",
     "output_type": "stream",
     "text": [
      "100%|██████████████████████████████████████████████████████████████████████████████████████████████████████████████████████████████████████████████████████████████| 336/336 [00:00<00:00, 1174.41it/s, loss=0.137]\n"
     ]
    },
    {
     "name": "stdout",
     "output_type": "stream",
     "text": [
      "Epoch: 5\n"
     ]
    },
    {
     "name": "stderr",
     "output_type": "stream",
     "text": [
      "100%|██████████████████████████████████████████████████████████████████████████████████████████████████████████████████████████████████████████████████████████████| 336/336 [00:00<00:00, 1032.80it/s, loss=0.114]\n"
     ]
    },
    {
     "name": "stdout",
     "output_type": "stream",
     "text": [
      "Epoch: 6\n"
     ]
    },
    {
     "name": "stderr",
     "output_type": "stream",
     "text": [
      "100%|█████████████████████████████████████████████████████████████████████████████████████████████████████████████████████████████████████████████████████████████| 336/336 [00:00<00:00, 1138.83it/s, loss=0.0938]\n"
     ]
    },
    {
     "name": "stdout",
     "output_type": "stream",
     "text": [
      "Epoch: 7\n"
     ]
    },
    {
     "name": "stderr",
     "output_type": "stream",
     "text": [
      "100%|█████████████████████████████████████████████████████████████████████████████████████████████████████████████████████████████████████████████████████████████| 336/336 [00:00<00:00, 1216.74it/s, loss=0.0761]\n"
     ]
    },
    {
     "name": "stdout",
     "output_type": "stream",
     "text": [
      "Epoch: 8\n"
     ]
    },
    {
     "name": "stderr",
     "output_type": "stream",
     "text": [
      " 43%|███████████████████████████████████████████████████████████████████▏                                                                                          | 143/336 [00:00<00:00, 1424.84it/s, loss=0.066]IOPub message rate exceeded.\n",
      "The notebook server will temporarily stop sending output\n",
      "to the client in order to avoid crashing it.\n",
      "To change this limit, set the config variable\n",
      "`--NotebookApp.iopub_msg_rate_limit`.\n",
      "\n",
      "Current values:\n",
      "NotebookApp.iopub_msg_rate_limit=1000.0 (msgs/sec)\n",
      "NotebookApp.rate_limit_window=3.0 (secs)\n",
      "\n",
      "100%|██████████████████████████████████████████████████████████████████████████████████████████████████████████████████████████████████████████████████████████████| 336/336 [00:00<00:00, 1444.06it/s, loss=0.021]\n"
     ]
    },
    {
     "name": "stdout",
     "output_type": "stream",
     "text": [
      "Epoch: 14\n"
     ]
    },
    {
     "name": "stderr",
     "output_type": "stream",
     "text": [
      "100%|█████████████████████████████████████████████████████████████████████████████████████████████████████████████████████████████████████████████████████████████| 336/336 [00:00<00:00, 1449.24it/s, loss=0.0171]\n"
     ]
    },
    {
     "name": "stdout",
     "output_type": "stream",
     "text": [
      "Epoch: 15\n"
     ]
    },
    {
     "name": "stderr",
     "output_type": "stream",
     "text": [
      "100%|█████████████████████████████████████████████████████████████████████████████████████████████████████████████████████████████████████████████████████████████| 336/336 [00:00<00:00, 1427.78it/s, loss=0.0141]\n"
     ]
    },
    {
     "name": "stdout",
     "output_type": "stream",
     "text": [
      "Epoch: 16\n"
     ]
    },
    {
     "name": "stderr",
     "output_type": "stream",
     "text": [
      "100%|█████████████████████████████████████████████████████████████████████████████████████████████████████████████████████████████████████████████████████████████| 336/336 [00:00<00:00, 1443.20it/s, loss=0.0116]\n"
     ]
    },
    {
     "name": "stdout",
     "output_type": "stream",
     "text": [
      "Epoch: 17\n"
     ]
    },
    {
     "name": "stderr",
     "output_type": "stream",
     "text": [
      "100%|████████████████████████████████████████████████████████████████████████████████████████████████████████████████████████████████████████████████████████████| 336/336 [00:00<00:00, 1465.96it/s, loss=0.00967]\n"
     ]
    },
    {
     "name": "stdout",
     "output_type": "stream",
     "text": [
      "Epoch: 18\n"
     ]
    },
    {
     "name": "stderr",
     "output_type": "stream",
     "text": [
      "100%|████████████████████████████████████████████████████████████████████████████████████████████████████████████████████████████████████████████████████████████| 336/336 [00:00<00:00, 1487.91it/s, loss=0.00809]\n"
     ]
    },
    {
     "name": "stdout",
     "output_type": "stream",
     "text": [
      "Epoch: 19\n"
     ]
    },
    {
     "name": "stderr",
     "output_type": "stream",
     "text": [
      "100%|████████████████████████████████████████████████████████████████████████████████████████████████████████████████████████████████████████████████████████████| 336/336 [00:00<00:00, 1524.18it/s, loss=0.00681]\n"
     ]
    },
    {
     "name": "stdout",
     "output_type": "stream",
     "text": [
      "Epoch: 20\n"
     ]
    },
    {
     "name": "stderr",
     "output_type": "stream",
     "text": [
      "  0%|                                                                                                                                                                        | 0/336 [00:00<?, ?it/s, loss=0.00291]IOPub message rate exceeded.\n",
      "The notebook server will temporarily stop sending output\n",
      "to the client in order to avoid crashing it.\n",
      "To change this limit, set the config variable\n",
      "`--NotebookApp.iopub_msg_rate_limit`.\n",
      "\n",
      "Current values:\n",
      "NotebookApp.iopub_msg_rate_limit=1000.0 (msgs/sec)\n",
      "NotebookApp.rate_limit_window=3.0 (secs)\n",
      "\n",
      "100%|████████████████████████████████████████████████████████████████████████████████████████████████████████████████████████████████████████████████████████████| 336/336 [00:00<00:00, 1306.33it/s, loss=0.00255]\n"
     ]
    },
    {
     "name": "stdout",
     "output_type": "stream",
     "text": [
      "Epoch: 27\n"
     ]
    },
    {
     "name": "stderr",
     "output_type": "stream",
     "text": [
      "100%|████████████████████████████████████████████████████████████████████████████████████████████████████████████████████████████████████████████████████████████| 336/336 [00:00<00:00, 1327.68it/s, loss=0.00231]\n"
     ]
    },
    {
     "name": "stdout",
     "output_type": "stream",
     "text": [
      "Epoch: 28\n"
     ]
    },
    {
     "name": "stderr",
     "output_type": "stream",
     "text": [
      "100%|████████████████████████████████████████████████████████████████████████████████████████████████████████████████████████████████████████████████████████████| 336/336 [00:00<00:00, 1537.81it/s, loss=0.00211]\n"
     ]
    },
    {
     "name": "stdout",
     "output_type": "stream",
     "text": [
      "Epoch: 29\n"
     ]
    },
    {
     "name": "stderr",
     "output_type": "stream",
     "text": [
      "100%|████████████████████████████████████████████████████████████████████████████████████████████████████████████████████████████████████████████████████████████| 336/336 [00:00<00:00, 1378.13it/s, loss=0.00195]\n"
     ]
    },
    {
     "name": "stdout",
     "output_type": "stream",
     "text": [
      "Epoch: 30\n"
     ]
    },
    {
     "name": "stderr",
     "output_type": "stream",
     "text": [
      "100%|████████████████████████████████████████████████████████████████████████████████████████████████████████████████████████████████████████████████████████████| 336/336 [00:00<00:00, 1398.96it/s, loss=0.00182]\n"
     ]
    },
    {
     "name": "stdout",
     "output_type": "stream",
     "text": [
      "Epoch: 31\n"
     ]
    },
    {
     "name": "stderr",
     "output_type": "stream",
     "text": [
      "100%|████████████████████████████████████████████████████████████████████████████████████████████████████████████████████████████████████████████████████████████| 336/336 [00:00<00:00, 1385.43it/s, loss=0.00172]\n"
     ]
    },
    {
     "name": "stdout",
     "output_type": "stream",
     "text": [
      "Epoch: 32\n"
     ]
    },
    {
     "name": "stderr",
     "output_type": "stream",
     "text": [
      "100%|████████████████████████████████████████████████████████████████████████████████████████████████████████████████████████████████████████████████████████████| 336/336 [00:00<00:00, 1056.36it/s, loss=0.00165]\n"
     ]
    },
    {
     "name": "stdout",
     "output_type": "stream",
     "text": [
      "Epoch: 33\n"
     ]
    },
    {
     "name": "stderr",
     "output_type": "stream",
     "text": [
      "100%|████████████████████████████████████████████████████████████████████████████████████████████████████████████████████████████████████████████████████████████| 336/336 [00:00<00:00, 1385.40it/s, loss=0.00159]\n"
     ]
    },
    {
     "name": "stdout",
     "output_type": "stream",
     "text": [
      "Epoch: 34\n"
     ]
    },
    {
     "name": "stderr",
     "output_type": "stream",
     "text": [
      "100%|████████████████████████████████████████████████████████████████████████████████████████████████████████████████████████████████████████████████████████████| 336/336 [00:00<00:00, 1289.03it/s, loss=0.00155]\n"
     ]
    },
    {
     "name": "stdout",
     "output_type": "stream",
     "text": [
      "Epoch: 35\n"
     ]
    },
    {
     "name": "stderr",
     "output_type": "stream",
     "text": [
      "  0%|                                                                                                                                                                       | 0/336 [00:00<?, ?it/s, loss=0.000932]IOPub message rate exceeded.\n",
      "The notebook server will temporarily stop sending output\n",
      "to the client in order to avoid crashing it.\n",
      "To change this limit, set the config variable\n",
      "`--NotebookApp.iopub_msg_rate_limit`.\n",
      "\n",
      "Current values:\n",
      "NotebookApp.iopub_msg_rate_limit=1000.0 (msgs/sec)\n",
      "NotebookApp.rate_limit_window=3.0 (secs)\n",
      "\n",
      "100%|████████████████████████████████████████████████████████████████████████████████████████████████████████████████████████████████████████████████████████████| 336/336 [00:00<00:00, 1506.23it/s, loss=0.00147]\n"
     ]
    },
    {
     "name": "stdout",
     "output_type": "stream",
     "text": [
      "Epoch: 41\n"
     ]
    },
    {
     "name": "stderr",
     "output_type": "stream",
     "text": [
      "100%|████████████████████████████████████████████████████████████████████████████████████████████████████████████████████████████████████████████████████████████| 336/336 [00:00<00:00, 1295.69it/s, loss=0.00147]\n"
     ]
    },
    {
     "name": "stdout",
     "output_type": "stream",
     "text": [
      "Epoch: 42\n"
     ]
    },
    {
     "name": "stderr",
     "output_type": "stream",
     "text": [
      "100%|████████████████████████████████████████████████████████████████████████████████████████████████████████████████████████████████████████████████████████████| 336/336 [00:00<00:00, 1553.42it/s, loss=0.00146]\n"
     ]
    },
    {
     "name": "stdout",
     "output_type": "stream",
     "text": [
      "Epoch: 43\n"
     ]
    },
    {
     "name": "stderr",
     "output_type": "stream",
     "text": [
      "100%|████████████████████████████████████████████████████████████████████████████████████████████████████████████████████████████████████████████████████████████| 336/336 [00:00<00:00, 1265.13it/s, loss=0.00146]\n"
     ]
    },
    {
     "name": "stdout",
     "output_type": "stream",
     "text": [
      "Epoch: 44\n"
     ]
    },
    {
     "name": "stderr",
     "output_type": "stream",
     "text": [
      "100%|████████████████████████████████████████████████████████████████████████████████████████████████████████████████████████████████████████████████████████████| 336/336 [00:00<00:00, 1338.13it/s, loss=0.00145]\n"
     ]
    },
    {
     "name": "stdout",
     "output_type": "stream",
     "text": [
      "Epoch: 45\n"
     ]
    },
    {
     "name": "stderr",
     "output_type": "stream",
     "text": [
      "100%|████████████████████████████████████████████████████████████████████████████████████████████████████████████████████████████████████████████████████████████| 336/336 [00:00<00:00, 1347.02it/s, loss=0.00144]\n"
     ]
    },
    {
     "name": "stdout",
     "output_type": "stream",
     "text": [
      "Epoch: 46\n"
     ]
    },
    {
     "name": "stderr",
     "output_type": "stream",
     "text": [
      "100%|████████████████████████████████████████████████████████████████████████████████████████████████████████████████████████████████████████████████████████████| 336/336 [00:00<00:00, 1252.61it/s, loss=0.00143]\n"
     ]
    },
    {
     "name": "stdout",
     "output_type": "stream",
     "text": [
      "Epoch: 47\n"
     ]
    },
    {
     "name": "stderr",
     "output_type": "stream",
     "text": [
      "100%|████████████████████████████████████████████████████████████████████████████████████████████████████████████████████████████████████████████████████████████| 336/336 [00:00<00:00, 1379.17it/s, loss=0.00142]\n"
     ]
    },
    {
     "name": "stdout",
     "output_type": "stream",
     "text": [
      "Epoch: 48\n"
     ]
    },
    {
     "name": "stderr",
     "output_type": "stream",
     "text": [
      "100%|█████████████████████████████████████████████████████████████████████████████████████████████████████████████████████████████████████████████████████████████| 336/336 [00:00<00:00, 1414.39it/s, loss=0.0014]\n"
     ]
    },
    {
     "name": "stdout",
     "output_type": "stream",
     "text": [
      "Epoch: 49\n"
     ]
    },
    {
     "name": "stderr",
     "output_type": "stream",
     "text": [
      "  0%|                                                                                                                                                                           | 0/336 [00:00<?, ?it/s, loss=0.04]IOPub message rate exceeded.\n",
      "The notebook server will temporarily stop sending output\n",
      "to the client in order to avoid crashing it.\n",
      "To change this limit, set the config variable\n",
      "`--NotebookApp.iopub_msg_rate_limit`.\n",
      "\n",
      "Current values:\n",
      "NotebookApp.iopub_msg_rate_limit=1000.0 (msgs/sec)\n",
      "NotebookApp.rate_limit_window=3.0 (secs)\n",
      "\n",
      "100%|████████████████████████████████████████████████████████████████████████████████████████████████████████████████████████████████████████████████████████████| 336/336 [00:00<00:00, 1395.78it/s, loss=0.00125]\n"
     ]
    },
    {
     "name": "stdout",
     "output_type": "stream",
     "text": [
      "Epoch: 55\n"
     ]
    },
    {
     "name": "stderr",
     "output_type": "stream",
     "text": [
      "100%|████████████████████████████████████████████████████████████████████████████████████████████████████████████████████████████████████████████████████████████| 336/336 [00:00<00:00, 1352.41it/s, loss=0.00121]\n"
     ]
    },
    {
     "name": "stdout",
     "output_type": "stream",
     "text": [
      "Epoch: 56\n"
     ]
    },
    {
     "name": "stderr",
     "output_type": "stream",
     "text": [
      "100%|████████████████████████████████████████████████████████████████████████████████████████████████████████████████████████████████████████████████████████████| 336/336 [00:00<00:00, 1442.56it/s, loss=0.00118]\n"
     ]
    },
    {
     "name": "stdout",
     "output_type": "stream",
     "text": [
      "Epoch: 57\n"
     ]
    },
    {
     "name": "stderr",
     "output_type": "stream",
     "text": [
      "100%|████████████████████████████████████████████████████████████████████████████████████████████████████████████████████████████████████████████████████████████| 336/336 [00:00<00:00, 1329.36it/s, loss=0.00114]\n"
     ]
    },
    {
     "name": "stdout",
     "output_type": "stream",
     "text": [
      "Epoch: 58\n"
     ]
    },
    {
     "name": "stderr",
     "output_type": "stream",
     "text": [
      "100%|█████████████████████████████████████████████████████████████████████████████████████████████████████████████████████████████████████████████████████████████| 336/336 [00:00<00:00, 1378.05it/s, loss=0.0011]\n"
     ]
    },
    {
     "name": "stdout",
     "output_type": "stream",
     "text": [
      "Epoch: 59\n"
     ]
    },
    {
     "name": "stderr",
     "output_type": "stream",
     "text": [
      "100%|████████████████████████████████████████████████████████████████████████████████████████████████████████████████████████████████████████████████████████████| 336/336 [00:00<00:00, 1315.26it/s, loss=0.00106]\n"
     ]
    },
    {
     "name": "stdout",
     "output_type": "stream",
     "text": [
      "Epoch: 60\n"
     ]
    },
    {
     "name": "stderr",
     "output_type": "stream",
     "text": [
      "100%|████████████████████████████████████████████████████████████████████████████████████████████████████████████████████████████████████████████████████████████| 336/336 [00:00<00:00, 1444.75it/s, loss=0.00102]\n"
     ]
    },
    {
     "name": "stdout",
     "output_type": "stream",
     "text": [
      "Epoch: 61\n"
     ]
    },
    {
     "name": "stderr",
     "output_type": "stream",
     "text": [
      "100%|███████████████████████████████████████████████████████████████████████████████████████████████████████████████████████████████████████████████████████████| 336/336 [00:00<00:00, 1351.33it/s, loss=0.000973]\n"
     ]
    },
    {
     "name": "stdout",
     "output_type": "stream",
     "text": [
      "Epoch: 62\n"
     ]
    },
    {
     "name": "stderr",
     "output_type": "stream",
     "text": [
      "100%|███████████████████████████████████████████████████████████████████████████████████████████████████████████████████████████████████████████████████████████| 336/336 [00:00<00:00, 1321.96it/s, loss=0.000932]\n"
     ]
    },
    {
     "name": "stdout",
     "output_type": "stream",
     "text": [
      "Epoch: 63\n"
     ]
    },
    {
     "name": "stderr",
     "output_type": "stream",
     "text": [
      " 47%|████████████████████████████████████████████████████████████████████████▉                                                                                   | 157/336 [00:00<00:00, 1569.19it/s, loss=0.00105]IOPub message rate exceeded.\n",
      "The notebook server will temporarily stop sending output\n",
      "to the client in order to avoid crashing it.\n",
      "To change this limit, set the config variable\n",
      "`--NotebookApp.iopub_msg_rate_limit`.\n",
      "\n",
      "Current values:\n",
      "NotebookApp.iopub_msg_rate_limit=1000.0 (msgs/sec)\n",
      "NotebookApp.rate_limit_window=3.0 (secs)\n",
      "\n",
      "100%|███████████████████████████████████████████████████████████████████████████████████████████████████████████████████████████████████████████████████████████| 336/336 [00:00<00:00, 1452.99it/s, loss=0.000688]\n"
     ]
    },
    {
     "name": "stdout",
     "output_type": "stream",
     "text": [
      "Epoch: 70\n"
     ]
    },
    {
     "name": "stderr",
     "output_type": "stream",
     "text": [
      "100%|███████████████████████████████████████████████████████████████████████████████████████████████████████████████████████████████████████████████████████████| 336/336 [00:00<00:00, 1330.03it/s, loss=0.000661]\n"
     ]
    },
    {
     "name": "stdout",
     "output_type": "stream",
     "text": [
      "Epoch: 71\n"
     ]
    },
    {
     "name": "stderr",
     "output_type": "stream",
     "text": [
      "100%|███████████████████████████████████████████████████████████████████████████████████████████████████████████████████████████████████████████████████████████| 336/336 [00:00<00:00, 1451.04it/s, loss=0.000636]\n"
     ]
    },
    {
     "name": "stdout",
     "output_type": "stream",
     "text": [
      "Epoch: 72\n"
     ]
    },
    {
     "name": "stderr",
     "output_type": "stream",
     "text": [
      "100%|███████████████████████████████████████████████████████████████████████████████████████████████████████████████████████████████████████████████████████████| 336/336 [00:00<00:00, 1366.97it/s, loss=0.000613]\n"
     ]
    },
    {
     "name": "stdout",
     "output_type": "stream",
     "text": [
      "Epoch: 73\n"
     ]
    },
    {
     "name": "stderr",
     "output_type": "stream",
     "text": [
      "100%|████████████████████████████████████████████████████████████████████████████████████████████████████████████████████████████████████████████████████████████| 336/336 [00:00<00:00, 1222.47it/s, loss=0.00059]\n"
     ]
    },
    {
     "name": "stdout",
     "output_type": "stream",
     "text": [
      "Epoch: 74\n"
     ]
    },
    {
     "name": "stderr",
     "output_type": "stream",
     "text": [
      "100%|███████████████████████████████████████████████████████████████████████████████████████████████████████████████████████████████████████████████████████████| 336/336 [00:00<00:00, 1438.14it/s, loss=0.000567]\n"
     ]
    },
    {
     "name": "stdout",
     "output_type": "stream",
     "text": [
      "Epoch: 75\n"
     ]
    },
    {
     "name": "stderr",
     "output_type": "stream",
     "text": [
      "100%|███████████████████████████████████████████████████████████████████████████████████████████████████████████████████████████████████████████████████████████| 336/336 [00:00<00:00, 1329.68it/s, loss=0.000545]\n"
     ]
    },
    {
     "name": "stdout",
     "output_type": "stream",
     "text": [
      "Epoch: 76\n"
     ]
    },
    {
     "name": "stderr",
     "output_type": "stream",
     "text": [
      "100%|███████████████████████████████████████████████████████████████████████████████████████████████████████████████████████████████████████████████████████████| 336/336 [00:00<00:00, 1380.07it/s, loss=0.000526]\n"
     ]
    },
    {
     "name": "stdout",
     "output_type": "stream",
     "text": [
      "Epoch: 77\n"
     ]
    },
    {
     "name": "stderr",
     "output_type": "stream",
     "text": [
      " 85%|█████████████████████████████████████████████████████████████████████████████████████████████████████████████████████████████████████▎                      | 287/336 [00:00<00:00, 1296.15it/s, loss=0.00063]IOPub message rate exceeded.\n",
      "The notebook server will temporarily stop sending output\n",
      "to the client in order to avoid crashing it.\n",
      "To change this limit, set the config variable\n",
      "`--NotebookApp.iopub_msg_rate_limit`.\n",
      "\n",
      "Current values:\n",
      "NotebookApp.iopub_msg_rate_limit=1000.0 (msgs/sec)\n",
      "NotebookApp.rate_limit_window=3.0 (secs)\n",
      "\n",
      "100%|███████████████████████████████████████████████████████████████████████████████████████████████████████████████████████████████████████████████████████████| 336/336 [00:00<00:00, 1492.90it/s, loss=0.000414]\n"
     ]
    },
    {
     "name": "stdout",
     "output_type": "stream",
     "text": [
      "Epoch: 84\n"
     ]
    },
    {
     "name": "stderr",
     "output_type": "stream",
     "text": [
      "100%|███████████████████████████████████████████████████████████████████████████████████████████████████████████████████████████████████████████████████████████| 336/336 [00:00<00:00, 1207.96it/s, loss=0.000401]\n"
     ]
    },
    {
     "name": "stdout",
     "output_type": "stream",
     "text": [
      "Epoch: 85\n"
     ]
    },
    {
     "name": "stderr",
     "output_type": "stream",
     "text": [
      "100%|████████████████████████████████████████████████████████████████████████████████████████████████████████████████████████████████████████████████████████████| 336/336 [00:00<00:00, 1370.96it/s, loss=0.00039]\n"
     ]
    },
    {
     "name": "stdout",
     "output_type": "stream",
     "text": [
      "Epoch: 86\n"
     ]
    },
    {
     "name": "stderr",
     "output_type": "stream",
     "text": [
      "100%|███████████████████████████████████████████████████████████████████████████████████████████████████████████████████████████████████████████████████████████| 336/336 [00:00<00:00, 1478.40it/s, loss=0.000378]\n"
     ]
    },
    {
     "name": "stdout",
     "output_type": "stream",
     "text": [
      "Epoch: 87\n"
     ]
    },
    {
     "name": "stderr",
     "output_type": "stream",
     "text": [
      "100%|███████████████████████████████████████████████████████████████████████████████████████████████████████████████████████████████████████████████████████████| 336/336 [00:00<00:00, 1391.52it/s, loss=0.000367]\n"
     ]
    },
    {
     "name": "stdout",
     "output_type": "stream",
     "text": [
      "Epoch: 88\n"
     ]
    },
    {
     "name": "stderr",
     "output_type": "stream",
     "text": [
      "100%|███████████████████████████████████████████████████████████████████████████████████████████████████████████████████████████████████████████████████████████| 336/336 [00:00<00:00, 1422.35it/s, loss=0.000357]\n"
     ]
    },
    {
     "name": "stdout",
     "output_type": "stream",
     "text": [
      "Epoch: 89\n"
     ]
    },
    {
     "name": "stderr",
     "output_type": "stream",
     "text": [
      "100%|███████████████████████████████████████████████████████████████████████████████████████████████████████████████████████████████████████████████████████████| 336/336 [00:00<00:00, 1508.70it/s, loss=0.000346]\n"
     ]
    },
    {
     "name": "stdout",
     "output_type": "stream",
     "text": [
      "Epoch: 90\n"
     ]
    },
    {
     "name": "stderr",
     "output_type": "stream",
     "text": [
      "100%|███████████████████████████████████████████████████████████████████████████████████████████████████████████████████████████████████████████████████████████| 336/336 [00:00<00:00, 1377.15it/s, loss=0.000336]\n"
     ]
    },
    {
     "name": "stdout",
     "output_type": "stream",
     "text": [
      "Epoch: 91\n"
     ]
    },
    {
     "name": "stderr",
     "output_type": "stream",
     "text": [
      "100%|███████████████████████████████████████████████████████████████████████████████████████████████████████████████████████████████████████████████████████████| 336/336 [00:00<00:00, 1357.85it/s, loss=0.000325]\n"
     ]
    },
    {
     "name": "stdout",
     "output_type": "stream",
     "text": [
      "Epoch: 92\n"
     ]
    },
    {
     "name": "stderr",
     "output_type": "stream",
     "text": [
      "  0%|                                                                                                                                                                       | 0/336 [00:00<?, ?it/s, loss=0.000456]IOPub message rate exceeded.\n",
      "The notebook server will temporarily stop sending output\n",
      "to the client in order to avoid crashing it.\n",
      "To change this limit, set the config variable\n",
      "`--NotebookApp.iopub_msg_rate_limit`.\n",
      "\n",
      "Current values:\n",
      "NotebookApp.iopub_msg_rate_limit=1000.0 (msgs/sec)\n",
      "NotebookApp.rate_limit_window=3.0 (secs)\n",
      "\n",
      "100%|███████████████████████████████████████████████████████████████████████████████████████████████████████████████████████████████████████████████████████████| 336/336 [00:00<00:00, 1536.54it/s, loss=0.000263]\n"
     ]
    },
    {
     "name": "stdout",
     "output_type": "stream",
     "text": [
      "Epoch: 99\n"
     ]
    },
    {
     "name": "stderr",
     "output_type": "stream",
     "text": [
      "100%|███████████████████████████████████████████████████████████████████████████████████████████████████████████████████████████████████████████████████████████| 336/336 [00:00<00:00, 1586.72it/s, loss=0.000254]"
     ]
    },
    {
     "name": "stdout",
     "output_type": "stream",
     "text": [
      "Done training!\n"
     ]
    },
    {
     "name": "stderr",
     "output_type": "stream",
     "text": [
      "\n"
     ]
    }
   ],
   "source": [
    "model = Autoencoder(layers=layers, h_activation=h_activation, o_activation=o_activation, device=device)\n",
    "\n",
    "# Optimizer\n",
    "optimizer = optim.Adam(model.parameters(), lr=learning_rate)\n",
    "\n",
    "# Represent the training data as x\n",
    "x = torch.tensor(stream_data).float().to(device)\n",
    "\n",
    "# Load the dataset\n",
    "train_ds = AutoencoderDataset(x=x)\n",
    "\n",
    "# Create a DataLoader instance\n",
    "train_loader = DataLoader(train_ds, batch_size=batch_size, shuffle=False, drop_last=False)\n",
    "\n",
    "# The training process\n",
    "for epoch in range(epochs):\n",
    "    print(\"Epoch: {}\".format(epoch))\n",
    "    \n",
    "    loop = tqdm(train_loader)\n",
    "    \n",
    "    for batch_idx, (data, targets) in enumerate(loop):\n",
    "        data = data.to(device=device)\n",
    "        targets = targets.to(device=device)\n",
    "        \n",
    "        # Feed forward\n",
    "        predictions = model(data)\n",
    "        \n",
    "        loss = loss_fn(predictions, targets)\n",
    "        \n",
    "        # Backprop\n",
    "        optimizer.zero_grad()\n",
    "        loss.backward()\n",
    "        optimizer.step()\n",
    "        \n",
    "        # Update tqdm\n",
    "        loop.set_postfix(loss=loss.item())\n",
    "        \n",
    "print(\"Done training!\")"
   ]
  },
  {
   "cell_type": "code",
   "execution_count": 7,
   "id": "a74c721d",
   "metadata": {},
   "outputs": [
    {
     "data": {
      "text/html": [
       "<div>\n",
       "<style scoped>\n",
       "    .dataframe tbody tr th:only-of-type {\n",
       "        vertical-align: middle;\n",
       "    }\n",
       "\n",
       "    .dataframe tbody tr th {\n",
       "        vertical-align: top;\n",
       "    }\n",
       "\n",
       "    .dataframe thead th {\n",
       "        text-align: right;\n",
       "    }\n",
       "</style>\n",
       "<table border=\"1\" class=\"dataframe\">\n",
       "  <thead>\n",
       "    <tr style=\"text-align: right;\">\n",
       "      <th></th>\n",
       "      <th>x0</th>\n",
       "      <th>x1</th>\n",
       "      <th>x2</th>\n",
       "      <th>x3</th>\n",
       "      <th>x4</th>\n",
       "      <th>x5</th>\n",
       "      <th>x6</th>\n",
       "      <th>x7</th>\n",
       "      <th>x8</th>\n",
       "      <th>error</th>\n",
       "    </tr>\n",
       "  </thead>\n",
       "  <tbody>\n",
       "    <tr>\n",
       "      <th>0</th>\n",
       "      <td>0.972875</td>\n",
       "      <td>0.729994</td>\n",
       "      <td>0.757258</td>\n",
       "      <td>0.010749</td>\n",
       "      <td>0.0</td>\n",
       "      <td>0.766829</td>\n",
       "      <td>0.980364</td>\n",
       "      <td>0.983284</td>\n",
       "      <td>0.831974</td>\n",
       "      <td>0.003638</td>\n",
       "    </tr>\n",
       "    <tr>\n",
       "      <th>1</th>\n",
       "      <td>0.984464</td>\n",
       "      <td>0.727030</td>\n",
       "      <td>0.752742</td>\n",
       "      <td>0.015349</td>\n",
       "      <td>0.0</td>\n",
       "      <td>0.773359</td>\n",
       "      <td>0.987214</td>\n",
       "      <td>0.989844</td>\n",
       "      <td>0.820943</td>\n",
       "      <td>0.003979</td>\n",
       "    </tr>\n",
       "    <tr>\n",
       "      <th>2</th>\n",
       "      <td>0.977550</td>\n",
       "      <td>0.731509</td>\n",
       "      <td>0.757269</td>\n",
       "      <td>0.011382</td>\n",
       "      <td>0.0</td>\n",
       "      <td>0.764022</td>\n",
       "      <td>0.986408</td>\n",
       "      <td>0.987463</td>\n",
       "      <td>0.827736</td>\n",
       "      <td>0.003720</td>\n",
       "    </tr>\n",
       "    <tr>\n",
       "      <th>3</th>\n",
       "      <td>0.971030</td>\n",
       "      <td>0.729203</td>\n",
       "      <td>0.756189</td>\n",
       "      <td>0.011104</td>\n",
       "      <td>0.0</td>\n",
       "      <td>0.766050</td>\n",
       "      <td>0.980054</td>\n",
       "      <td>0.982926</td>\n",
       "      <td>0.830459</td>\n",
       "      <td>0.003575</td>\n",
       "    </tr>\n",
       "    <tr>\n",
       "      <th>4</th>\n",
       "      <td>0.972633</td>\n",
       "      <td>0.730534</td>\n",
       "      <td>0.755976</td>\n",
       "      <td>0.010870</td>\n",
       "      <td>0.0</td>\n",
       "      <td>0.766887</td>\n",
       "      <td>0.982553</td>\n",
       "      <td>0.985032</td>\n",
       "      <td>0.828601</td>\n",
       "      <td>0.003560</td>\n",
       "    </tr>\n",
       "    <tr>\n",
       "      <th>...</th>\n",
       "      <td>...</td>\n",
       "      <td>...</td>\n",
       "      <td>...</td>\n",
       "      <td>...</td>\n",
       "      <td>...</td>\n",
       "      <td>...</td>\n",
       "      <td>...</td>\n",
       "      <td>...</td>\n",
       "      <td>...</td>\n",
       "      <td>...</td>\n",
       "    </tr>\n",
       "    <tr>\n",
       "      <th>331</th>\n",
       "      <td>0.920391</td>\n",
       "      <td>0.719577</td>\n",
       "      <td>0.729562</td>\n",
       "      <td>0.015146</td>\n",
       "      <td>0.0</td>\n",
       "      <td>0.732146</td>\n",
       "      <td>0.946942</td>\n",
       "      <td>0.961393</td>\n",
       "      <td>0.801424</td>\n",
       "      <td>0.002415</td>\n",
       "    </tr>\n",
       "    <tr>\n",
       "      <th>332</th>\n",
       "      <td>0.922459</td>\n",
       "      <td>0.720305</td>\n",
       "      <td>0.727344</td>\n",
       "      <td>0.014433</td>\n",
       "      <td>0.0</td>\n",
       "      <td>0.732257</td>\n",
       "      <td>0.950355</td>\n",
       "      <td>0.964447</td>\n",
       "      <td>0.800337</td>\n",
       "      <td>0.002675</td>\n",
       "    </tr>\n",
       "    <tr>\n",
       "      <th>333</th>\n",
       "      <td>0.970756</td>\n",
       "      <td>0.732716</td>\n",
       "      <td>0.755132</td>\n",
       "      <td>0.010984</td>\n",
       "      <td>0.0</td>\n",
       "      <td>0.766714</td>\n",
       "      <td>0.983285</td>\n",
       "      <td>0.983075</td>\n",
       "      <td>0.825314</td>\n",
       "      <td>0.003430</td>\n",
       "    </tr>\n",
       "    <tr>\n",
       "      <th>334</th>\n",
       "      <td>0.931327</td>\n",
       "      <td>0.710129</td>\n",
       "      <td>0.762207</td>\n",
       "      <td>0.020825</td>\n",
       "      <td>0.0</td>\n",
       "      <td>0.753832</td>\n",
       "      <td>0.937177</td>\n",
       "      <td>0.951124</td>\n",
       "      <td>0.830322</td>\n",
       "      <td>0.003205</td>\n",
       "    </tr>\n",
       "    <tr>\n",
       "      <th>335</th>\n",
       "      <td>0.961138</td>\n",
       "      <td>0.733248</td>\n",
       "      <td>0.748926</td>\n",
       "      <td>0.010679</td>\n",
       "      <td>0.0</td>\n",
       "      <td>0.757879</td>\n",
       "      <td>0.975643</td>\n",
       "      <td>0.979212</td>\n",
       "      <td>0.820276</td>\n",
       "      <td>0.003052</td>\n",
       "    </tr>\n",
       "  </tbody>\n",
       "</table>\n",
       "<p>336 rows × 10 columns</p>\n",
       "</div>"
      ],
      "text/plain": [
       "           x0        x1        x2        x3   x4        x5        x6  \\\n",
       "0    0.972875  0.729994  0.757258  0.010749  0.0  0.766829  0.980364   \n",
       "1    0.984464  0.727030  0.752742  0.015349  0.0  0.773359  0.987214   \n",
       "2    0.977550  0.731509  0.757269  0.011382  0.0  0.764022  0.986408   \n",
       "3    0.971030  0.729203  0.756189  0.011104  0.0  0.766050  0.980054   \n",
       "4    0.972633  0.730534  0.755976  0.010870  0.0  0.766887  0.982553   \n",
       "..        ...       ...       ...       ...  ...       ...       ...   \n",
       "331  0.920391  0.719577  0.729562  0.015146  0.0  0.732146  0.946942   \n",
       "332  0.922459  0.720305  0.727344  0.014433  0.0  0.732257  0.950355   \n",
       "333  0.970756  0.732716  0.755132  0.010984  0.0  0.766714  0.983285   \n",
       "334  0.931327  0.710129  0.762207  0.020825  0.0  0.753832  0.937177   \n",
       "335  0.961138  0.733248  0.748926  0.010679  0.0  0.757879  0.975643   \n",
       "\n",
       "           x7        x8     error  \n",
       "0    0.983284  0.831974  0.003638  \n",
       "1    0.989844  0.820943  0.003979  \n",
       "2    0.987463  0.827736  0.003720  \n",
       "3    0.982926  0.830459  0.003575  \n",
       "4    0.985032  0.828601  0.003560  \n",
       "..        ...       ...       ...  \n",
       "331  0.961393  0.801424  0.002415  \n",
       "332  0.964447  0.800337  0.002675  \n",
       "333  0.983075  0.825314  0.003430  \n",
       "334  0.951124  0.830322  0.003205  \n",
       "335  0.979212  0.820276  0.003052  \n",
       "\n",
       "[336 rows x 10 columns]"
      ]
     },
     "execution_count": 7,
     "metadata": {},
     "output_type": "execute_result"
    }
   ],
   "source": [
    "z = model.encode(x).detach().cpu().numpy().astype(np.float32)\n",
    "\n",
    "columns = []\n",
    "\n",
    "for i in range(len(z[0])):\n",
    "    columns.append(\"x{}\".format(i))\n",
    "\n",
    "df_z = pd.DataFrame(z, columns=columns)\n",
    "\n",
    "# Normalize the data with MinMaxScaler\n",
    "min_max_scaler = preprocessing.MinMaxScaler()\n",
    "z_scaled = min_max_scaler.fit_transform(df_z.values)\n",
    "\n",
    "# Reassign to df_z\n",
    "df_z = pd.DataFrame(z_scaled, columns=columns)\n",
    "\n",
    "# Fetch the errors per data\n",
    "predictions = model(x)\n",
    "targets = x\n",
    "\n",
    "x_loss = nn.MSELoss(reduction='none')(predictions, targets).sum(axis=1).detach().cpu().numpy().astype(np.float32)\n",
    "df_z['error'] = x_loss\n",
    "\n",
    "df_z"
   ]
  },
  {
   "cell_type": "code",
   "execution_count": 8,
   "id": "61fe4e76",
   "metadata": {},
   "outputs": [
    {
     "name": "stdout",
     "output_type": "stream",
     "text": [
      "Cluster labels: [-1  0]\n",
      "Count for Cluster -1: 73\n",
      "Count for Cluster 0: 263\n"
     ]
    },
    {
     "data": {
      "text/html": [
       "<div>\n",
       "<style scoped>\n",
       "    .dataframe tbody tr th:only-of-type {\n",
       "        vertical-align: middle;\n",
       "    }\n",
       "\n",
       "    .dataframe tbody tr th {\n",
       "        vertical-align: top;\n",
       "    }\n",
       "\n",
       "    .dataframe thead th {\n",
       "        text-align: right;\n",
       "    }\n",
       "</style>\n",
       "<table border=\"1\" class=\"dataframe\">\n",
       "  <thead>\n",
       "    <tr style=\"text-align: right;\">\n",
       "      <th></th>\n",
       "      <th>x0</th>\n",
       "      <th>x1</th>\n",
       "      <th>x2</th>\n",
       "      <th>x3</th>\n",
       "      <th>x4</th>\n",
       "      <th>x5</th>\n",
       "      <th>x6</th>\n",
       "      <th>x7</th>\n",
       "      <th>x8</th>\n",
       "      <th>error</th>\n",
       "      <th>cluster_label</th>\n",
       "    </tr>\n",
       "  </thead>\n",
       "  <tbody>\n",
       "    <tr>\n",
       "      <th>0</th>\n",
       "      <td>0.972875</td>\n",
       "      <td>0.729994</td>\n",
       "      <td>0.757258</td>\n",
       "      <td>0.010749</td>\n",
       "      <td>0.0</td>\n",
       "      <td>0.766829</td>\n",
       "      <td>0.980364</td>\n",
       "      <td>0.983284</td>\n",
       "      <td>0.831974</td>\n",
       "      <td>0.003638</td>\n",
       "      <td>0</td>\n",
       "    </tr>\n",
       "    <tr>\n",
       "      <th>1</th>\n",
       "      <td>0.984464</td>\n",
       "      <td>0.727030</td>\n",
       "      <td>0.752742</td>\n",
       "      <td>0.015349</td>\n",
       "      <td>0.0</td>\n",
       "      <td>0.773359</td>\n",
       "      <td>0.987214</td>\n",
       "      <td>0.989844</td>\n",
       "      <td>0.820943</td>\n",
       "      <td>0.003979</td>\n",
       "      <td>0</td>\n",
       "    </tr>\n",
       "    <tr>\n",
       "      <th>2</th>\n",
       "      <td>0.977550</td>\n",
       "      <td>0.731509</td>\n",
       "      <td>0.757269</td>\n",
       "      <td>0.011382</td>\n",
       "      <td>0.0</td>\n",
       "      <td>0.764022</td>\n",
       "      <td>0.986408</td>\n",
       "      <td>0.987463</td>\n",
       "      <td>0.827736</td>\n",
       "      <td>0.003720</td>\n",
       "      <td>0</td>\n",
       "    </tr>\n",
       "    <tr>\n",
       "      <th>3</th>\n",
       "      <td>0.971030</td>\n",
       "      <td>0.729203</td>\n",
       "      <td>0.756189</td>\n",
       "      <td>0.011104</td>\n",
       "      <td>0.0</td>\n",
       "      <td>0.766050</td>\n",
       "      <td>0.980054</td>\n",
       "      <td>0.982926</td>\n",
       "      <td>0.830459</td>\n",
       "      <td>0.003575</td>\n",
       "      <td>0</td>\n",
       "    </tr>\n",
       "    <tr>\n",
       "      <th>4</th>\n",
       "      <td>0.972633</td>\n",
       "      <td>0.730534</td>\n",
       "      <td>0.755976</td>\n",
       "      <td>0.010870</td>\n",
       "      <td>0.0</td>\n",
       "      <td>0.766887</td>\n",
       "      <td>0.982553</td>\n",
       "      <td>0.985032</td>\n",
       "      <td>0.828601</td>\n",
       "      <td>0.003560</td>\n",
       "      <td>0</td>\n",
       "    </tr>\n",
       "    <tr>\n",
       "      <th>...</th>\n",
       "      <td>...</td>\n",
       "      <td>...</td>\n",
       "      <td>...</td>\n",
       "      <td>...</td>\n",
       "      <td>...</td>\n",
       "      <td>...</td>\n",
       "      <td>...</td>\n",
       "      <td>...</td>\n",
       "      <td>...</td>\n",
       "      <td>...</td>\n",
       "      <td>...</td>\n",
       "    </tr>\n",
       "    <tr>\n",
       "      <th>331</th>\n",
       "      <td>0.920391</td>\n",
       "      <td>0.719577</td>\n",
       "      <td>0.729562</td>\n",
       "      <td>0.015146</td>\n",
       "      <td>0.0</td>\n",
       "      <td>0.732146</td>\n",
       "      <td>0.946942</td>\n",
       "      <td>0.961393</td>\n",
       "      <td>0.801424</td>\n",
       "      <td>0.002415</td>\n",
       "      <td>0</td>\n",
       "    </tr>\n",
       "    <tr>\n",
       "      <th>332</th>\n",
       "      <td>0.922459</td>\n",
       "      <td>0.720305</td>\n",
       "      <td>0.727344</td>\n",
       "      <td>0.014433</td>\n",
       "      <td>0.0</td>\n",
       "      <td>0.732257</td>\n",
       "      <td>0.950355</td>\n",
       "      <td>0.964447</td>\n",
       "      <td>0.800337</td>\n",
       "      <td>0.002675</td>\n",
       "      <td>0</td>\n",
       "    </tr>\n",
       "    <tr>\n",
       "      <th>333</th>\n",
       "      <td>0.970756</td>\n",
       "      <td>0.732716</td>\n",
       "      <td>0.755132</td>\n",
       "      <td>0.010984</td>\n",
       "      <td>0.0</td>\n",
       "      <td>0.766714</td>\n",
       "      <td>0.983285</td>\n",
       "      <td>0.983075</td>\n",
       "      <td>0.825314</td>\n",
       "      <td>0.003430</td>\n",
       "      <td>0</td>\n",
       "    </tr>\n",
       "    <tr>\n",
       "      <th>334</th>\n",
       "      <td>0.931327</td>\n",
       "      <td>0.710129</td>\n",
       "      <td>0.762207</td>\n",
       "      <td>0.020825</td>\n",
       "      <td>0.0</td>\n",
       "      <td>0.753832</td>\n",
       "      <td>0.937177</td>\n",
       "      <td>0.951124</td>\n",
       "      <td>0.830322</td>\n",
       "      <td>0.003205</td>\n",
       "      <td>0</td>\n",
       "    </tr>\n",
       "    <tr>\n",
       "      <th>335</th>\n",
       "      <td>0.961138</td>\n",
       "      <td>0.733248</td>\n",
       "      <td>0.748926</td>\n",
       "      <td>0.010679</td>\n",
       "      <td>0.0</td>\n",
       "      <td>0.757879</td>\n",
       "      <td>0.975643</td>\n",
       "      <td>0.979212</td>\n",
       "      <td>0.820276</td>\n",
       "      <td>0.003052</td>\n",
       "      <td>0</td>\n",
       "    </tr>\n",
       "  </tbody>\n",
       "</table>\n",
       "<p>336 rows × 11 columns</p>\n",
       "</div>"
      ],
      "text/plain": [
       "           x0        x1        x2        x3   x4        x5        x6  \\\n",
       "0    0.972875  0.729994  0.757258  0.010749  0.0  0.766829  0.980364   \n",
       "1    0.984464  0.727030  0.752742  0.015349  0.0  0.773359  0.987214   \n",
       "2    0.977550  0.731509  0.757269  0.011382  0.0  0.764022  0.986408   \n",
       "3    0.971030  0.729203  0.756189  0.011104  0.0  0.766050  0.980054   \n",
       "4    0.972633  0.730534  0.755976  0.010870  0.0  0.766887  0.982553   \n",
       "..        ...       ...       ...       ...  ...       ...       ...   \n",
       "331  0.920391  0.719577  0.729562  0.015146  0.0  0.732146  0.946942   \n",
       "332  0.922459  0.720305  0.727344  0.014433  0.0  0.732257  0.950355   \n",
       "333  0.970756  0.732716  0.755132  0.010984  0.0  0.766714  0.983285   \n",
       "334  0.931327  0.710129  0.762207  0.020825  0.0  0.753832  0.937177   \n",
       "335  0.961138  0.733248  0.748926  0.010679  0.0  0.757879  0.975643   \n",
       "\n",
       "           x7        x8     error  cluster_label  \n",
       "0    0.983284  0.831974  0.003638              0  \n",
       "1    0.989844  0.820943  0.003979              0  \n",
       "2    0.987463  0.827736  0.003720              0  \n",
       "3    0.982926  0.830459  0.003575              0  \n",
       "4    0.985032  0.828601  0.003560              0  \n",
       "..        ...       ...       ...            ...  \n",
       "331  0.961393  0.801424  0.002415              0  \n",
       "332  0.964447  0.800337  0.002675              0  \n",
       "333  0.983075  0.825314  0.003430              0  \n",
       "334  0.951124  0.830322  0.003205              0  \n",
       "335  0.979212  0.820276  0.003052              0  \n",
       "\n",
       "[336 rows x 11 columns]"
      ]
     },
     "execution_count": 8,
     "metadata": {},
     "output_type": "execute_result"
    }
   ],
   "source": [
    "clustering = DBSCAN(eps=eps, min_samples=min_samples).fit(df_z.values)\n",
    "\n",
    "unique_labels = np.unique(clustering.labels_)\n",
    "\n",
    "print(\"Cluster labels: {}\".format(unique_labels))\n",
    "\n",
    "df_z_with_cluster_labels = df_z.copy()\n",
    "df_z_with_cluster_labels['cluster_label'] = clustering.labels_\n",
    "\n",
    "for cluster_label in unique_labels:\n",
    "    count = len(df_z_with_cluster_labels[df_z_with_cluster_labels['cluster_label'] == cluster_label])\n",
    "    print(\"Count for Cluster {}: {}\".format(cluster_label, count))\n",
    "    \n",
    "df_z_with_cluster_labels"
   ]
  },
  {
   "cell_type": "code",
   "execution_count": 9,
   "id": "410d27b2",
   "metadata": {},
   "outputs": [
    {
     "data": {
      "text/html": [
       "<div>\n",
       "<style scoped>\n",
       "    .dataframe tbody tr th:only-of-type {\n",
       "        vertical-align: middle;\n",
       "    }\n",
       "\n",
       "    .dataframe tbody tr th {\n",
       "        vertical-align: top;\n",
       "    }\n",
       "\n",
       "    .dataframe thead th {\n",
       "        text-align: right;\n",
       "    }\n",
       "</style>\n",
       "<table border=\"1\" class=\"dataframe\">\n",
       "  <thead>\n",
       "    <tr style=\"text-align: right;\">\n",
       "      <th></th>\n",
       "      <th>0</th>\n",
       "      <th>1</th>\n",
       "      <th>2</th>\n",
       "      <th>3</th>\n",
       "      <th>4</th>\n",
       "      <th>5</th>\n",
       "      <th>6</th>\n",
       "      <th>7</th>\n",
       "      <th>8</th>\n",
       "      <th>9</th>\n",
       "      <th>10</th>\n",
       "      <th>11</th>\n",
       "    </tr>\n",
       "  </thead>\n",
       "  <tbody>\n",
       "    <tr>\n",
       "      <th>0</th>\n",
       "      <td>0.005068</td>\n",
       "      <td>0.003515</td>\n",
       "      <td>0.004843</td>\n",
       "      <td>0.002718</td>\n",
       "      <td>0.005620</td>\n",
       "      <td>0.003433</td>\n",
       "      <td>0.005783</td>\n",
       "      <td>0.004618</td>\n",
       "      <td>0.006131</td>\n",
       "      <td>0.003883</td>\n",
       "      <td>0.005640</td>\n",
       "      <td>0.016696</td>\n",
       "    </tr>\n",
       "    <tr>\n",
       "      <th>1</th>\n",
       "      <td>0.006437</td>\n",
       "      <td>0.002391</td>\n",
       "      <td>0.005068</td>\n",
       "      <td>0.002575</td>\n",
       "      <td>0.005252</td>\n",
       "      <td>0.002759</td>\n",
       "      <td>0.006131</td>\n",
       "      <td>0.002759</td>\n",
       "      <td>0.018270</td>\n",
       "      <td>0.004005</td>\n",
       "      <td>0.005109</td>\n",
       "      <td>0.003413</td>\n",
       "    </tr>\n",
       "    <tr>\n",
       "      <th>2</th>\n",
       "      <td>0.004945</td>\n",
       "      <td>0.003270</td>\n",
       "      <td>0.005620</td>\n",
       "      <td>0.003740</td>\n",
       "      <td>0.005252</td>\n",
       "      <td>0.003944</td>\n",
       "      <td>0.005415</td>\n",
       "      <td>0.003147</td>\n",
       "      <td>0.005395</td>\n",
       "      <td>0.016696</td>\n",
       "      <td>0.006376</td>\n",
       "      <td>0.003658</td>\n",
       "    </tr>\n",
       "    <tr>\n",
       "      <th>3</th>\n",
       "      <td>0.005538</td>\n",
       "      <td>0.002616</td>\n",
       "      <td>0.005885</td>\n",
       "      <td>0.003127</td>\n",
       "      <td>0.006212</td>\n",
       "      <td>0.003638</td>\n",
       "      <td>0.006785</td>\n",
       "      <td>0.004332</td>\n",
       "      <td>0.006417</td>\n",
       "      <td>0.004435</td>\n",
       "      <td>0.006212</td>\n",
       "      <td>0.016062</td>\n",
       "    </tr>\n",
       "    <tr>\n",
       "      <th>4</th>\n",
       "      <td>0.005293</td>\n",
       "      <td>0.003740</td>\n",
       "      <td>0.005988</td>\n",
       "      <td>0.003454</td>\n",
       "      <td>0.005477</td>\n",
       "      <td>0.004394</td>\n",
       "      <td>0.006662</td>\n",
       "      <td>0.003576</td>\n",
       "      <td>0.005988</td>\n",
       "      <td>0.004435</td>\n",
       "      <td>0.009523</td>\n",
       "      <td>0.011403</td>\n",
       "    </tr>\n",
       "    <tr>\n",
       "      <th>...</th>\n",
       "      <td>...</td>\n",
       "      <td>...</td>\n",
       "      <td>...</td>\n",
       "      <td>...</td>\n",
       "      <td>...</td>\n",
       "      <td>...</td>\n",
       "      <td>...</td>\n",
       "      <td>...</td>\n",
       "      <td>...</td>\n",
       "      <td>...</td>\n",
       "      <td>...</td>\n",
       "      <td>...</td>\n",
       "    </tr>\n",
       "    <tr>\n",
       "      <th>331</th>\n",
       "      <td>0.009114</td>\n",
       "      <td>0.013876</td>\n",
       "      <td>0.009135</td>\n",
       "      <td>0.013549</td>\n",
       "      <td>0.033290</td>\n",
       "      <td>0.013038</td>\n",
       "      <td>0.009278</td>\n",
       "      <td>0.013528</td>\n",
       "      <td>0.009482</td>\n",
       "      <td>0.013631</td>\n",
       "      <td>0.022418</td>\n",
       "      <td>0.013120</td>\n",
       "    </tr>\n",
       "    <tr>\n",
       "      <th>332</th>\n",
       "      <td>0.008685</td>\n",
       "      <td>0.013058</td>\n",
       "      <td>0.009298</td>\n",
       "      <td>0.013283</td>\n",
       "      <td>0.036089</td>\n",
       "      <td>0.013712</td>\n",
       "      <td>0.009543</td>\n",
       "      <td>0.013712</td>\n",
       "      <td>0.009584</td>\n",
       "      <td>0.013590</td>\n",
       "      <td>0.021028</td>\n",
       "      <td>0.009911</td>\n",
       "    </tr>\n",
       "    <tr>\n",
       "      <th>333</th>\n",
       "      <td>0.005559</td>\n",
       "      <td>0.008113</td>\n",
       "      <td>0.004169</td>\n",
       "      <td>0.007316</td>\n",
       "      <td>0.003065</td>\n",
       "      <td>0.006744</td>\n",
       "      <td>0.003372</td>\n",
       "      <td>0.007520</td>\n",
       "      <td>0.003004</td>\n",
       "      <td>0.006396</td>\n",
       "      <td>0.015490</td>\n",
       "      <td>0.005967</td>\n",
       "    </tr>\n",
       "    <tr>\n",
       "      <th>334</th>\n",
       "      <td>0.002452</td>\n",
       "      <td>0.006580</td>\n",
       "      <td>0.003229</td>\n",
       "      <td>0.006315</td>\n",
       "      <td>0.002861</td>\n",
       "      <td>0.006253</td>\n",
       "      <td>0.003024</td>\n",
       "      <td>0.006335</td>\n",
       "      <td>0.016001</td>\n",
       "      <td>0.006029</td>\n",
       "      <td>0.032084</td>\n",
       "      <td>0.040524</td>\n",
       "    </tr>\n",
       "    <tr>\n",
       "      <th>335</th>\n",
       "      <td>0.008849</td>\n",
       "      <td>0.012404</td>\n",
       "      <td>0.007643</td>\n",
       "      <td>0.009707</td>\n",
       "      <td>0.005661</td>\n",
       "      <td>0.008174</td>\n",
       "      <td>0.004721</td>\n",
       "      <td>0.006703</td>\n",
       "      <td>0.003045</td>\n",
       "      <td>0.005885</td>\n",
       "      <td>0.006396</td>\n",
       "      <td>0.014836</td>\n",
       "    </tr>\n",
       "  </tbody>\n",
       "</table>\n",
       "<p>263 rows × 12 columns</p>\n",
       "</div>"
      ],
      "text/plain": [
       "           0         1         2         3         4         5         6   \\\n",
       "0    0.005068  0.003515  0.004843  0.002718  0.005620  0.003433  0.005783   \n",
       "1    0.006437  0.002391  0.005068  0.002575  0.005252  0.002759  0.006131   \n",
       "2    0.004945  0.003270  0.005620  0.003740  0.005252  0.003944  0.005415   \n",
       "3    0.005538  0.002616  0.005885  0.003127  0.006212  0.003638  0.006785   \n",
       "4    0.005293  0.003740  0.005988  0.003454  0.005477  0.004394  0.006662   \n",
       "..        ...       ...       ...       ...       ...       ...       ...   \n",
       "331  0.009114  0.013876  0.009135  0.013549  0.033290  0.013038  0.009278   \n",
       "332  0.008685  0.013058  0.009298  0.013283  0.036089  0.013712  0.009543   \n",
       "333  0.005559  0.008113  0.004169  0.007316  0.003065  0.006744  0.003372   \n",
       "334  0.002452  0.006580  0.003229  0.006315  0.002861  0.006253  0.003024   \n",
       "335  0.008849  0.012404  0.007643  0.009707  0.005661  0.008174  0.004721   \n",
       "\n",
       "           7         8         9         10        11  \n",
       "0    0.004618  0.006131  0.003883  0.005640  0.016696  \n",
       "1    0.002759  0.018270  0.004005  0.005109  0.003413  \n",
       "2    0.003147  0.005395  0.016696  0.006376  0.003658  \n",
       "3    0.004332  0.006417  0.004435  0.006212  0.016062  \n",
       "4    0.003576  0.005988  0.004435  0.009523  0.011403  \n",
       "..        ...       ...       ...       ...       ...  \n",
       "331  0.013528  0.009482  0.013631  0.022418  0.013120  \n",
       "332  0.013712  0.009584  0.013590  0.021028  0.009911  \n",
       "333  0.007520  0.003004  0.006396  0.015490  0.005967  \n",
       "334  0.006335  0.016001  0.006029  0.032084  0.040524  \n",
       "335  0.006703  0.003045  0.005885  0.006396  0.014836  \n",
       "\n",
       "[263 rows x 12 columns]"
      ]
     },
     "execution_count": 9,
     "metadata": {},
     "output_type": "execute_result"
    }
   ],
   "source": [
    "df_normal = pd.DataFrame(stream_data)\n",
    "\n",
    "df_normal = df_normal[df_z_with_cluster_labels['cluster_label'] != -1]\n",
    "\n",
    "df_normal"
   ]
  },
  {
   "cell_type": "code",
   "execution_count": 10,
   "id": "1e9308f5",
   "metadata": {},
   "outputs": [
    {
     "name": "stdout",
     "output_type": "stream",
     "text": [
      "Epoch: 0\n"
     ]
    },
    {
     "name": "stderr",
     "output_type": "stream",
     "text": [
      "100%|███████████████████████████████████████████████████████████████████████████████████████████████████████████████████████████████████████████████████████████| 263/263 [00:00<00:00, 1502.78it/s, loss=0.000233]\n"
     ]
    },
    {
     "name": "stdout",
     "output_type": "stream",
     "text": [
      "Epoch: 1\n"
     ]
    },
    {
     "name": "stderr",
     "output_type": "stream",
     "text": [
      "100%|███████████████████████████████████████████████████████████████████████████████████████████████████████████████████████████████████████████████████████████| 263/263 [00:00<00:00, 1425.29it/s, loss=0.000211]\n"
     ]
    },
    {
     "name": "stdout",
     "output_type": "stream",
     "text": [
      "Epoch: 2\n"
     ]
    },
    {
     "name": "stderr",
     "output_type": "stream",
     "text": [
      "100%|████████████████████████████████████████████████████████████████████████████████████████████████████████████████████████████████████████████████████████████| 263/263 [00:00<00:00, 1320.23it/s, loss=0.00019]\n"
     ]
    },
    {
     "name": "stdout",
     "output_type": "stream",
     "text": [
      "Epoch: 3\n"
     ]
    },
    {
     "name": "stderr",
     "output_type": "stream",
     "text": [
      "100%|████████████████████████████████████████████████████████████████████████████████████████████████████████████████████████████████████████████████████████████| 263/263 [00:00<00:00, 1427.02it/s, loss=0.00017]\n"
     ]
    },
    {
     "name": "stdout",
     "output_type": "stream",
     "text": [
      "Epoch: 4\n"
     ]
    },
    {
     "name": "stderr",
     "output_type": "stream",
     "text": [
      "100%|███████████████████████████████████████████████████████████████████████████████████████████████████████████████████████████████████████████████████████████| 263/263 [00:00<00:00, 1481.61it/s, loss=0.000152]\n"
     ]
    },
    {
     "name": "stdout",
     "output_type": "stream",
     "text": [
      "Epoch: 5\n"
     ]
    },
    {
     "name": "stderr",
     "output_type": "stream",
     "text": [
      "100%|███████████████████████████████████████████████████████████████████████████████████████████████████████████████████████████████████████████████████████████| 263/263 [00:00<00:00, 1458.57it/s, loss=0.000135]\n"
     ]
    },
    {
     "name": "stdout",
     "output_type": "stream",
     "text": [
      "Epoch: 6\n"
     ]
    },
    {
     "name": "stderr",
     "output_type": "stream",
     "text": [
      "100%|███████████████████████████████████████████████████████████████████████████████████████████████████████████████████████████████████████████████████████████| 263/263 [00:00<00:00, 1284.49it/s, loss=0.000119]\n"
     ]
    },
    {
     "name": "stdout",
     "output_type": "stream",
     "text": [
      "Epoch: 7\n"
     ]
    },
    {
     "name": "stderr",
     "output_type": "stream",
     "text": [
      "100%|███████████████████████████████████████████████████████████████████████████████████████████████████████████████████████████████████████████████████████████| 263/263 [00:00<00:00, 1329.13it/s, loss=0.000105]\n"
     ]
    },
    {
     "name": "stdout",
     "output_type": "stream",
     "text": [
      "Epoch: 8\n"
     ]
    },
    {
     "name": "stderr",
     "output_type": "stream",
     "text": [
      "100%|████████████████████████████████████████████████████████████████████████████████████████████████████████████████████████████████████████████████████████████| 263/263 [00:00<00:00, 1464.18it/s, loss=9.23e-5]\n"
     ]
    },
    {
     "name": "stdout",
     "output_type": "stream",
     "text": [
      "Epoch: 9\n"
     ]
    },
    {
     "name": "stderr",
     "output_type": "stream",
     "text": [
      "100%|████████████████████████████████████████████████████████████████████████████████████████████████████████████████████████████████████████████████████████████| 263/263 [00:00<00:00, 1261.78it/s, loss=8.08e-5]\n"
     ]
    },
    {
     "name": "stdout",
     "output_type": "stream",
     "text": [
      "Epoch: 10\n"
     ]
    },
    {
     "name": "stderr",
     "output_type": "stream",
     "text": [
      "100%|████████████████████████████████████████████████████████████████████████████████████████████████████████████████████████████████████████████████████████████| 263/263 [00:00<00:00, 1371.72it/s, loss=7.07e-5]\n"
     ]
    },
    {
     "name": "stdout",
     "output_type": "stream",
     "text": [
      "Epoch: 11\n"
     ]
    },
    {
     "name": "stderr",
     "output_type": "stream",
     "text": [
      "  0%|                                                                                                                                                                       | 0/263 [00:00<?, ?it/s, loss=0.000128]IOPub message rate exceeded.\n",
      "The notebook server will temporarily stop sending output\n",
      "to the client in order to avoid crashing it.\n",
      "To change this limit, set the config variable\n",
      "`--NotebookApp.iopub_msg_rate_limit`.\n",
      "\n",
      "Current values:\n",
      "NotebookApp.iopub_msg_rate_limit=1000.0 (msgs/sec)\n",
      "NotebookApp.rate_limit_window=3.0 (secs)\n",
      "\n",
      "100%|████████████████████████████████████████████████████████████████████████████████████████████████████████████████████████████████████████████████████████████| 263/263 [00:00<00:00, 1360.50it/s, loss=2.65e-5]\n"
     ]
    },
    {
     "name": "stdout",
     "output_type": "stream",
     "text": [
      "Epoch: 19\n"
     ]
    },
    {
     "name": "stderr",
     "output_type": "stream",
     "text": [
      "100%|████████████████████████████████████████████████████████████████████████████████████████████████████████████████████████████████████████████████████████████| 263/263 [00:00<00:00, 1338.69it/s, loss=2.42e-5]\n"
     ]
    },
    {
     "name": "stdout",
     "output_type": "stream",
     "text": [
      "Epoch: 20\n"
     ]
    },
    {
     "name": "stderr",
     "output_type": "stream",
     "text": [
      "100%|████████████████████████████████████████████████████████████████████████████████████████████████████████████████████████████████████████████████████████████| 263/263 [00:00<00:00, 1355.93it/s, loss=2.23e-5]\n"
     ]
    },
    {
     "name": "stdout",
     "output_type": "stream",
     "text": [
      "Epoch: 21\n"
     ]
    },
    {
     "name": "stderr",
     "output_type": "stream",
     "text": [
      "100%|████████████████████████████████████████████████████████████████████████████████████████████████████████████████████████████████████████████████████████████| 263/263 [00:00<00:00, 1251.32it/s, loss=2.08e-5]\n"
     ]
    },
    {
     "name": "stdout",
     "output_type": "stream",
     "text": [
      "Epoch: 22\n"
     ]
    },
    {
     "name": "stderr",
     "output_type": "stream",
     "text": [
      "100%|████████████████████████████████████████████████████████████████████████████████████████████████████████████████████████████████████████████████████████████| 263/263 [00:00<00:00, 1374.71it/s, loss=1.96e-5]\n"
     ]
    },
    {
     "name": "stdout",
     "output_type": "stream",
     "text": [
      "Epoch: 23\n"
     ]
    },
    {
     "name": "stderr",
     "output_type": "stream",
     "text": [
      "100%|████████████████████████████████████████████████████████████████████████████████████████████████████████████████████████████████████████████████████████████| 263/263 [00:00<00:00, 1299.36it/s, loss=1.86e-5]\n"
     ]
    },
    {
     "name": "stdout",
     "output_type": "stream",
     "text": [
      "Epoch: 24\n"
     ]
    },
    {
     "name": "stderr",
     "output_type": "stream",
     "text": [
      "100%|████████████████████████████████████████████████████████████████████████████████████████████████████████████████████████████████████████████████████████████| 263/263 [00:00<00:00, 1243.72it/s, loss=1.79e-5]\n"
     ]
    },
    {
     "name": "stdout",
     "output_type": "stream",
     "text": [
      "Epoch: 25\n"
     ]
    },
    {
     "name": "stderr",
     "output_type": "stream",
     "text": [
      "100%|████████████████████████████████████████████████████████████████████████████████████████████████████████████████████████████████████████████████████████████| 263/263 [00:00<00:00, 1035.67it/s, loss=1.73e-5]\n"
     ]
    },
    {
     "name": "stdout",
     "output_type": "stream",
     "text": [
      "Epoch: 26\n"
     ]
    },
    {
     "name": "stderr",
     "output_type": "stream",
     "text": [
      "100%|████████████████████████████████████████████████████████████████████████████████████████████████████████████████████████████████████████████████████████████| 263/263 [00:00<00:00, 1039.30it/s, loss=1.69e-5]\n"
     ]
    },
    {
     "name": "stdout",
     "output_type": "stream",
     "text": [
      "Epoch: 27\n"
     ]
    },
    {
     "name": "stderr",
     "output_type": "stream",
     "text": [
      "100%|████████████████████████████████████████████████████████████████████████████████████████████████████████████████████████████████████████████████████████████| 263/263 [00:00<00:00, 1136.94it/s, loss=1.66e-5]\n"
     ]
    },
    {
     "name": "stdout",
     "output_type": "stream",
     "text": [
      "Epoch: 28\n"
     ]
    },
    {
     "name": "stderr",
     "output_type": "stream",
     "text": [
      "100%|████████████████████████████████████████████████████████████████████████████████████████████████████████████████████████████████████████████████████████████| 263/263 [00:00<00:00, 1209.41it/s, loss=1.63e-5]\n"
     ]
    },
    {
     "name": "stdout",
     "output_type": "stream",
     "text": [
      "Epoch: 29\n"
     ]
    },
    {
     "name": "stderr",
     "output_type": "stream",
     "text": [
      "  0%|                                                                                                                                                                        | 0/263 [00:00<?, ?it/s, loss=6.71e-5]IOPub message rate exceeded.\n",
      "The notebook server will temporarily stop sending output\n",
      "to the client in order to avoid crashing it.\n",
      "To change this limit, set the config variable\n",
      "`--NotebookApp.iopub_msg_rate_limit`.\n",
      "\n",
      "Current values:\n",
      "NotebookApp.iopub_msg_rate_limit=1000.0 (msgs/sec)\n",
      "NotebookApp.rate_limit_window=3.0 (secs)\n",
      "\n",
      "100%|█████████████████████████████████████████████████████████████████████████████████████████████████████████████████████████████████████████████████████████████| 263/263 [00:00<00:00, 1468.82it/s, loss=1.6e-5]\n"
     ]
    },
    {
     "name": "stdout",
     "output_type": "stream",
     "text": [
      "Epoch: 35\n"
     ]
    },
    {
     "name": "stderr",
     "output_type": "stream",
     "text": [
      "100%|████████████████████████████████████████████████████████████████████████████████████████████████████████████████████████████████████████████████████████████| 263/263 [00:00<00:00, 1361.65it/s, loss=1.61e-5]\n"
     ]
    },
    {
     "name": "stdout",
     "output_type": "stream",
     "text": [
      "Epoch: 36\n"
     ]
    },
    {
     "name": "stderr",
     "output_type": "stream",
     "text": [
      "100%|████████████████████████████████████████████████████████████████████████████████████████████████████████████████████████████████████████████████████████████| 263/263 [00:00<00:00, 1149.44it/s, loss=1.61e-5]\n"
     ]
    },
    {
     "name": "stdout",
     "output_type": "stream",
     "text": [
      "Epoch: 37\n"
     ]
    },
    {
     "name": "stderr",
     "output_type": "stream",
     "text": [
      "100%|████████████████████████████████████████████████████████████████████████████████████████████████████████████████████████████████████████████████████████████| 263/263 [00:00<00:00, 1086.18it/s, loss=1.61e-5]\n"
     ]
    },
    {
     "name": "stdout",
     "output_type": "stream",
     "text": [
      "Epoch: 38\n"
     ]
    },
    {
     "name": "stderr",
     "output_type": "stream",
     "text": [
      "100%|████████████████████████████████████████████████████████████████████████████████████████████████████████████████████████████████████████████████████████████| 263/263 [00:00<00:00, 1398.29it/s, loss=1.62e-5]\n"
     ]
    },
    {
     "name": "stdout",
     "output_type": "stream",
     "text": [
      "Epoch: 39\n"
     ]
    },
    {
     "name": "stderr",
     "output_type": "stream",
     "text": [
      "100%|████████████████████████████████████████████████████████████████████████████████████████████████████████████████████████████████████████████████████████████| 263/263 [00:00<00:00, 1409.75it/s, loss=1.62e-5]\n"
     ]
    },
    {
     "name": "stdout",
     "output_type": "stream",
     "text": [
      "Epoch: 40\n"
     ]
    },
    {
     "name": "stderr",
     "output_type": "stream",
     "text": [
      "100%|████████████████████████████████████████████████████████████████████████████████████████████████████████████████████████████████████████████████████████████| 263/263 [00:00<00:00, 1279.65it/s, loss=1.62e-5]\n"
     ]
    },
    {
     "name": "stdout",
     "output_type": "stream",
     "text": [
      "Epoch: 41\n"
     ]
    },
    {
     "name": "stderr",
     "output_type": "stream",
     "text": [
      "100%|████████████████████████████████████████████████████████████████████████████████████████████████████████████████████████████████████████████████████████████| 263/263 [00:00<00:00, 1167.90it/s, loss=1.63e-5]\n"
     ]
    },
    {
     "name": "stdout",
     "output_type": "stream",
     "text": [
      "Epoch: 42\n"
     ]
    },
    {
     "name": "stderr",
     "output_type": "stream",
     "text": [
      "100%|████████████████████████████████████████████████████████████████████████████████████████████████████████████████████████████████████████████████████████████| 263/263 [00:00<00:00, 1057.28it/s, loss=1.63e-5]\n"
     ]
    },
    {
     "name": "stdout",
     "output_type": "stream",
     "text": [
      "Epoch: 43\n"
     ]
    },
    {
     "name": "stderr",
     "output_type": "stream",
     "text": [
      "100%|████████████████████████████████████████████████████████████████████████████████████████████████████████████████████████████████████████████████████████████| 263/263 [00:00<00:00, 1126.24it/s, loss=1.63e-5]\n"
     ]
    },
    {
     "name": "stdout",
     "output_type": "stream",
     "text": [
      "Epoch: 44\n"
     ]
    },
    {
     "name": "stderr",
     "output_type": "stream",
     "text": [
      "100%|████████████████████████████████████████████████████████████████████████████████████████████████████████████████████████████████████████████████████████████| 263/263 [00:00<00:00, 1223.08it/s, loss=1.63e-5]\n"
     ]
    },
    {
     "name": "stdout",
     "output_type": "stream",
     "text": [
      "Epoch: 45\n"
     ]
    },
    {
     "name": "stderr",
     "output_type": "stream",
     "text": [
      "100%|████████████████████████████████████████████████████████████████████████████████████████████████████████████████████████████████████████████████████████████| 263/263 [00:00<00:00, 1097.55it/s, loss=1.64e-5]\n"
     ]
    },
    {
     "name": "stdout",
     "output_type": "stream",
     "text": [
      "Epoch: 46\n"
     ]
    },
    {
     "name": "stderr",
     "output_type": "stream",
     "text": [
      "  0%|                                                                                                                                                                        | 0/263 [00:00<?, ?it/s, loss=4.04e-5]IOPub message rate exceeded.\n",
      "The notebook server will temporarily stop sending output\n",
      "to the client in order to avoid crashing it.\n",
      "To change this limit, set the config variable\n",
      "`--NotebookApp.iopub_msg_rate_limit`.\n",
      "\n",
      "Current values:\n",
      "NotebookApp.iopub_msg_rate_limit=1000.0 (msgs/sec)\n",
      "NotebookApp.rate_limit_window=3.0 (secs)\n",
      "\n",
      "100%|████████████████████████████████████████████████████████████████████████████████████████████████████████████████████████████████████████████████████████████| 263/263 [00:00<00:00, 1467.70it/s, loss=1.65e-5]\n"
     ]
    },
    {
     "name": "stdout",
     "output_type": "stream",
     "text": [
      "Epoch: 52\n"
     ]
    },
    {
     "name": "stderr",
     "output_type": "stream",
     "text": [
      "100%|████████████████████████████████████████████████████████████████████████████████████████████████████████████████████████████████████████████████████████████| 263/263 [00:00<00:00, 1253.63it/s, loss=1.65e-5]\n"
     ]
    },
    {
     "name": "stdout",
     "output_type": "stream",
     "text": [
      "Epoch: 53\n"
     ]
    },
    {
     "name": "stderr",
     "output_type": "stream",
     "text": [
      "100%|████████████████████████████████████████████████████████████████████████████████████████████████████████████████████████████████████████████████████████████| 263/263 [00:00<00:00, 1072.91it/s, loss=1.65e-5]\n"
     ]
    },
    {
     "name": "stdout",
     "output_type": "stream",
     "text": [
      "Epoch: 54\n"
     ]
    },
    {
     "name": "stderr",
     "output_type": "stream",
     "text": [
      "100%|████████████████████████████████████████████████████████████████████████████████████████████████████████████████████████████████████████████████████████████| 263/263 [00:00<00:00, 1175.22it/s, loss=1.65e-5]\n"
     ]
    },
    {
     "name": "stdout",
     "output_type": "stream",
     "text": [
      "Epoch: 55\n"
     ]
    },
    {
     "name": "stderr",
     "output_type": "stream",
     "text": [
      "100%|████████████████████████████████████████████████████████████████████████████████████████████████████████████████████████████████████████████████████████████| 263/263 [00:00<00:00, 1219.77it/s, loss=1.65e-5]\n"
     ]
    },
    {
     "name": "stdout",
     "output_type": "stream",
     "text": [
      "Epoch: 56\n"
     ]
    },
    {
     "name": "stderr",
     "output_type": "stream",
     "text": [
      "100%|████████████████████████████████████████████████████████████████████████████████████████████████████████████████████████████████████████████████████████████| 263/263 [00:00<00:00, 1364.76it/s, loss=1.65e-5]\n"
     ]
    },
    {
     "name": "stdout",
     "output_type": "stream",
     "text": [
      "Epoch: 57\n"
     ]
    },
    {
     "name": "stderr",
     "output_type": "stream",
     "text": [
      "100%|████████████████████████████████████████████████████████████████████████████████████████████████████████████████████████████████████████████████████████████| 263/263 [00:00<00:00, 1435.42it/s, loss=1.65e-5]\n"
     ]
    },
    {
     "name": "stdout",
     "output_type": "stream",
     "text": [
      "Epoch: 58\n"
     ]
    },
    {
     "name": "stderr",
     "output_type": "stream",
     "text": [
      "100%|████████████████████████████████████████████████████████████████████████████████████████████████████████████████████████████████████████████████████████████| 263/263 [00:00<00:00, 1489.86it/s, loss=1.65e-5]\n"
     ]
    },
    {
     "name": "stdout",
     "output_type": "stream",
     "text": [
      "Epoch: 59\n"
     ]
    },
    {
     "name": "stderr",
     "output_type": "stream",
     "text": [
      "100%|████████████████████████████████████████████████████████████████████████████████████████████████████████████████████████████████████████████████████████████| 263/263 [00:00<00:00, 1452.04it/s, loss=1.65e-5]\n"
     ]
    },
    {
     "name": "stdout",
     "output_type": "stream",
     "text": [
      "Epoch: 60\n"
     ]
    },
    {
     "name": "stderr",
     "output_type": "stream",
     "text": [
      "100%|████████████████████████████████████████████████████████████████████████████████████████████████████████████████████████████████████████████████████████████| 263/263 [00:00<00:00, 1401.25it/s, loss=1.65e-5]\n"
     ]
    },
    {
     "name": "stdout",
     "output_type": "stream",
     "text": [
      "Epoch: 61\n"
     ]
    },
    {
     "name": "stderr",
     "output_type": "stream",
     "text": [
      "100%|████████████████████████████████████████████████████████████████████████████████████████████████████████████████████████████████████████████████████████████| 263/263 [00:00<00:00, 1346.41it/s, loss=1.64e-5]\n"
     ]
    },
    {
     "name": "stdout",
     "output_type": "stream",
     "text": [
      "Epoch: 62\n"
     ]
    },
    {
     "name": "stderr",
     "output_type": "stream",
     "text": [
      " 59%|██████████████████████████████████████████████████████████████████████████████████████████▊                                                                | 154/263 [00:00<00:00, 1534.32it/s, loss=0.000245]IOPub message rate exceeded.\n",
      "The notebook server will temporarily stop sending output\n",
      "to the client in order to avoid crashing it.\n",
      "To change this limit, set the config variable\n",
      "`--NotebookApp.iopub_msg_rate_limit`.\n",
      "\n",
      "Current values:\n",
      "NotebookApp.iopub_msg_rate_limit=1000.0 (msgs/sec)\n",
      "NotebookApp.rate_limit_window=3.0 (secs)\n",
      "\n",
      "100%|████████████████████████████████████████████████████████████████████████████████████████████████████████████████████████████████████████████████████████████| 263/263 [00:00<00:00, 1487.36it/s, loss=1.63e-5]\n"
     ]
    },
    {
     "name": "stdout",
     "output_type": "stream",
     "text": [
      "Epoch: 70\n"
     ]
    },
    {
     "name": "stderr",
     "output_type": "stream",
     "text": [
      "100%|████████████████████████████████████████████████████████████████████████████████████████████████████████████████████████████████████████████████████████████| 263/263 [00:00<00:00, 1476.09it/s, loss=1.63e-5]\n"
     ]
    },
    {
     "name": "stdout",
     "output_type": "stream",
     "text": [
      "Epoch: 71\n"
     ]
    },
    {
     "name": "stderr",
     "output_type": "stream",
     "text": [
      "100%|████████████████████████████████████████████████████████████████████████████████████████████████████████████████████████████████████████████████████████████| 263/263 [00:00<00:00, 1446.18it/s, loss=1.62e-5]\n"
     ]
    },
    {
     "name": "stdout",
     "output_type": "stream",
     "text": [
      "Epoch: 72\n"
     ]
    },
    {
     "name": "stderr",
     "output_type": "stream",
     "text": [
      "100%|████████████████████████████████████████████████████████████████████████████████████████████████████████████████████████████████████████████████████████████| 263/263 [00:00<00:00, 1413.52it/s, loss=1.62e-5]\n"
     ]
    },
    {
     "name": "stdout",
     "output_type": "stream",
     "text": [
      "Epoch: 73\n"
     ]
    },
    {
     "name": "stderr",
     "output_type": "stream",
     "text": [
      "100%|████████████████████████████████████████████████████████████████████████████████████████████████████████████████████████████████████████████████████████████| 263/263 [00:00<00:00, 1453.92it/s, loss=1.62e-5]\n"
     ]
    },
    {
     "name": "stdout",
     "output_type": "stream",
     "text": [
      "Epoch: 74\n"
     ]
    },
    {
     "name": "stderr",
     "output_type": "stream",
     "text": [
      "100%|████████████████████████████████████████████████████████████████████████████████████████████████████████████████████████████████████████████████████████████| 263/263 [00:00<00:00, 1384.59it/s, loss=1.61e-5]\n"
     ]
    },
    {
     "name": "stdout",
     "output_type": "stream",
     "text": [
      "Epoch: 75\n"
     ]
    },
    {
     "name": "stderr",
     "output_type": "stream",
     "text": [
      "100%|████████████████████████████████████████████████████████████████████████████████████████████████████████████████████████████████████████████████████████████| 263/263 [00:00<00:00, 1394.22it/s, loss=1.61e-5]\n"
     ]
    },
    {
     "name": "stdout",
     "output_type": "stream",
     "text": [
      "Epoch: 76\n"
     ]
    },
    {
     "name": "stderr",
     "output_type": "stream",
     "text": [
      "100%|████████████████████████████████████████████████████████████████████████████████████████████████████████████████████████████████████████████████████████████| 263/263 [00:00<00:00, 1388.27it/s, loss=1.61e-5]\n"
     ]
    },
    {
     "name": "stdout",
     "output_type": "stream",
     "text": [
      "Epoch: 77\n"
     ]
    },
    {
     "name": "stderr",
     "output_type": "stream",
     "text": [
      "100%|█████████████████████████████████████████████████████████████████████████████████████████████████████████████████████████████████████████████████████████████| 263/263 [00:00<00:00, 1302.37it/s, loss=1.6e-5]\n"
     ]
    },
    {
     "name": "stdout",
     "output_type": "stream",
     "text": [
      "Epoch: 78\n"
     ]
    },
    {
     "name": "stderr",
     "output_type": "stream",
     "text": [
      "100%|█████████████████████████████████████████████████████████████████████████████████████████████████████████████████████████████████████████████████████████████| 263/263 [00:00<00:00, 1372.81it/s, loss=1.6e-5]\n"
     ]
    },
    {
     "name": "stdout",
     "output_type": "stream",
     "text": [
      "Epoch: 79\n"
     ]
    },
    {
     "name": "stderr",
     "output_type": "stream",
     "text": [
      "100%|█████████████████████████████████████████████████████████████████████████████████████████████████████████████████████████████████████████████████████████████| 263/263 [00:00<00:00, 1251.77it/s, loss=1.6e-5]\n"
     ]
    },
    {
     "name": "stdout",
     "output_type": "stream",
     "text": [
      "Epoch: 80\n"
     ]
    },
    {
     "name": "stderr",
     "output_type": "stream",
     "text": [
      "100%|████████████████████████████████████████████████████████████████████████████████████████████████████████████████████████████████████████████████████████████| 263/263 [00:00<00:00, 1401.23it/s, loss=1.59e-5]\n"
     ]
    },
    {
     "name": "stdout",
     "output_type": "stream",
     "text": [
      "Epoch: 81\n"
     ]
    },
    {
     "name": "stderr",
     "output_type": "stream",
     "text": [
      "  0%|                                                                                                                                                                        | 0/263 [00:00<?, ?it/s, loss=3.26e-5]IOPub message rate exceeded.\n",
      "The notebook server will temporarily stop sending output\n",
      "to the client in order to avoid crashing it.\n",
      "To change this limit, set the config variable\n",
      "`--NotebookApp.iopub_msg_rate_limit`.\n",
      "\n",
      "Current values:\n",
      "NotebookApp.iopub_msg_rate_limit=1000.0 (msgs/sec)\n",
      "NotebookApp.rate_limit_window=3.0 (secs)\n",
      "\n",
      "100%|████████████████████████████████████████████████████████████████████████████████████████████████████████████████████████████████████████████████████████████| 263/263 [00:00<00:00, 1189.93it/s, loss=1.56e-5]\n"
     ]
    },
    {
     "name": "stdout",
     "output_type": "stream",
     "text": [
      "Epoch: 88\n"
     ]
    },
    {
     "name": "stderr",
     "output_type": "stream",
     "text": [
      "100%|████████████████████████████████████████████████████████████████████████████████████████████████████████████████████████████████████████████████████████████| 263/263 [00:00<00:00, 1245.84it/s, loss=1.55e-5]\n"
     ]
    },
    {
     "name": "stdout",
     "output_type": "stream",
     "text": [
      "Epoch: 89\n"
     ]
    },
    {
     "name": "stderr",
     "output_type": "stream",
     "text": [
      "100%|████████████████████████████████████████████████████████████████████████████████████████████████████████████████████████████████████████████████████████████| 263/263 [00:00<00:00, 1312.72it/s, loss=1.55e-5]\n"
     ]
    },
    {
     "name": "stdout",
     "output_type": "stream",
     "text": [
      "Epoch: 90\n"
     ]
    },
    {
     "name": "stderr",
     "output_type": "stream",
     "text": [
      "100%|████████████████████████████████████████████████████████████████████████████████████████████████████████████████████████████████████████████████████████████| 263/263 [00:00<00:00, 1393.66it/s, loss=1.54e-5]\n"
     ]
    },
    {
     "name": "stdout",
     "output_type": "stream",
     "text": [
      "Epoch: 91\n"
     ]
    },
    {
     "name": "stderr",
     "output_type": "stream",
     "text": [
      "100%|████████████████████████████████████████████████████████████████████████████████████████████████████████████████████████████████████████████████████████████| 263/263 [00:00<00:00, 1325.47it/s, loss=1.54e-5]\n"
     ]
    },
    {
     "name": "stdout",
     "output_type": "stream",
     "text": [
      "Epoch: 92\n"
     ]
    },
    {
     "name": "stderr",
     "output_type": "stream",
     "text": [
      "100%|████████████████████████████████████████████████████████████████████████████████████████████████████████████████████████████████████████████████████████████| 263/263 [00:00<00:00, 1348.14it/s, loss=1.53e-5]\n"
     ]
    },
    {
     "name": "stdout",
     "output_type": "stream",
     "text": [
      "Epoch: 93\n"
     ]
    },
    {
     "name": "stderr",
     "output_type": "stream",
     "text": [
      "100%|████████████████████████████████████████████████████████████████████████████████████████████████████████████████████████████████████████████████████████████| 263/263 [00:00<00:00, 1368.16it/s, loss=1.52e-5]\n"
     ]
    },
    {
     "name": "stdout",
     "output_type": "stream",
     "text": [
      "Epoch: 94\n"
     ]
    },
    {
     "name": "stderr",
     "output_type": "stream",
     "text": [
      "100%|████████████████████████████████████████████████████████████████████████████████████████████████████████████████████████████████████████████████████████████| 263/263 [00:00<00:00, 1399.28it/s, loss=1.52e-5]\n"
     ]
    },
    {
     "name": "stdout",
     "output_type": "stream",
     "text": [
      "Epoch: 95\n"
     ]
    },
    {
     "name": "stderr",
     "output_type": "stream",
     "text": [
      "100%|████████████████████████████████████████████████████████████████████████████████████████████████████████████████████████████████████████████████████████████| 263/263 [00:00<00:00, 1331.81it/s, loss=1.51e-5]\n"
     ]
    },
    {
     "name": "stdout",
     "output_type": "stream",
     "text": [
      "Epoch: 96\n"
     ]
    },
    {
     "name": "stderr",
     "output_type": "stream",
     "text": [
      "100%|█████████████████████████████████████████████████████████████████████████████████████████████████████████████████████████████████████████████████████████████| 263/263 [00:00<00:00, 1324.03it/s, loss=1.5e-5]\n"
     ]
    },
    {
     "name": "stdout",
     "output_type": "stream",
     "text": [
      "Epoch: 97\n"
     ]
    },
    {
     "name": "stderr",
     "output_type": "stream",
     "text": [
      "100%|█████████████████████████████████████████████████████████████████████████████████████████████████████████████████████████████████████████████████████████████| 263/263 [00:00<00:00, 1406.42it/s, loss=1.5e-5]\n"
     ]
    },
    {
     "name": "stdout",
     "output_type": "stream",
     "text": [
      "Epoch: 98\n"
     ]
    },
    {
     "name": "stderr",
     "output_type": "stream",
     "text": [
      " 56%|███████████████████████████████████████████████████████████████████████████████████████▊                                                                    | 148/263 [00:00<00:00, 1478.64it/s, loss=2.05e-5]IOPub message rate exceeded.\n",
      "The notebook server will temporarily stop sending output\n",
      "to the client in order to avoid crashing it.\n",
      "To change this limit, set the config variable\n",
      "`--NotebookApp.iopub_msg_rate_limit`.\n",
      "\n",
      "Current values:\n",
      "NotebookApp.iopub_msg_rate_limit=1000.0 (msgs/sec)\n",
      "NotebookApp.rate_limit_window=3.0 (secs)\n",
      "\n"
     ]
    }
   ],
   "source": [
    "# Represent the training data as x\n",
    "x = torch.tensor(df_normal.values).float().to(device)\n",
    "\n",
    "# Load the dataset\n",
    "train_ds = AutoencoderDataset(x=x)\n",
    "\n",
    "# Create a DataLoader instance\n",
    "train_loader = DataLoader(train_ds, batch_size=batch_size, shuffle=False, drop_last=False)\n",
    "\n",
    "# The training process\n",
    "for epoch in range(epochs):\n",
    "    print(\"Epoch: {}\".format(epoch))\n",
    "    \n",
    "    loop = tqdm(train_loader)\n",
    "    \n",
    "    for batch_idx, (data, targets) in enumerate(loop):\n",
    "        data = data.to(device=device)\n",
    "        targets = targets.to(device=device)\n",
    "        \n",
    "        # Feed forward\n",
    "        predictions = model(data)\n",
    "        \n",
    "        loss = loss_fn(predictions, targets)\n",
    "        \n",
    "        # Backprop\n",
    "        optimizer.zero_grad()\n",
    "        loss.backward()\n",
    "        optimizer.step()\n",
    "        \n",
    "        # Update tqdm\n",
    "        loop.set_postfix(loss=loss.item())\n",
    "        \n",
    "print(\"Done training!\")"
   ]
  },
  {
   "cell_type": "code",
   "execution_count": 11,
   "id": "2c22dba8",
   "metadata": {},
   "outputs": [
    {
     "data": {
      "image/png": "[encoded data removed]",
      "text/plain": [
       "<Figure size 432x288 with 1 Axes>"
      ]
     },
     "metadata": {
      "needs_background": "light"
     },
     "output_type": "display_data"
    },
    {
     "name": "stdout",
     "output_type": "stream",
     "text": [
      "Bin Width: 0.00014769889707271595\n",
      "Num Bins: 276\n",
      "Max Loss: 0.04101012647151947\n",
      "Min Loss: 0.0001033251392072998\n",
      "Min Bin: 0.0001033251392072998\n",
      "Max Bin: 0.04111345112323761\n",
      "Optimal Threshold: 0.0238030177921325\n"
     ]
    }
   ],
   "source": [
    "\"\"\"\n",
    "Utility Functions\n",
    "\"\"\"\n",
    "# Head tail break function\n",
    "def htb(data):\n",
    "    outp = []\n",
    "    \n",
    "    def htb_inner(data):\n",
    "        data_length = float(len(data))\n",
    "        data_mean = sum(data) / data_length\n",
    "        \n",
    "        head = [_ for _ in data if _ > data_mean]\n",
    "        outp.append(data_mean)\n",
    "        \n",
    "        while len(head) > 1 and len(head) / data_length < 0.40:\n",
    "            return htb_inner(head)\n",
    "        \n",
    "    htb_inner(data)\n",
    "    \n",
    "    return outp\n",
    "\n",
    "# Determine a breakpoint\n",
    "def fetch_threshold(bins, counts, break_point):\n",
    "    index = 0\n",
    "    latest_min = 999999\n",
    "    threshold = -1\n",
    "    \n",
    "    for i in range(len(counts)):\n",
    "        diff = abs(counts[i] - break_point)\n",
    "        \n",
    "        if diff <= latest_min:\n",
    "            latest_min = diff\n",
    "            index = i\n",
    "            threshold = ((bins[i + 1] - bins[i]) / 2) + bins[i]\n",
    "            \n",
    "    return threshold\n",
    "\n",
    "predictions = model(x)\n",
    "targets = x\n",
    "\n",
    "x_loss = nn.MSELoss(reduction='none')(predictions, targets).sum(axis=1).detach().cpu().numpy().astype(np.float32)\n",
    "\n",
    "max_loss = np.max(x_loss)\n",
    "min_loss = np.min(x_loss)\n",
    "\n",
    "# Compute the optimal bin width using Freedman Diaconis rule\n",
    "bin_width = 2 * (iqr(x_loss) / (len(x_loss) ** (1./3)))\n",
    "\n",
    "if(bin_width == 0):\n",
    "    bin_width = 0.01\n",
    "num_bins = int((max_loss - min_loss) / bin_width)\n",
    "\n",
    "# Create the histogram\n",
    "min_bin = np.min(x_loss)\n",
    "max_bin = np.max(x_loss) + min_bin\n",
    "\n",
    "step = (max_bin - min_bin) / num_bins\n",
    "\n",
    "bins = np.arange(min_bin, max_bin, step)\n",
    "\n",
    "hist, bins = np.histogram(x_loss, bins=bins)\n",
    "\n",
    "pyplot.hist(x_loss, bins, alpha=0.5)\n",
    "pyplot.show()\n",
    "\n",
    "print(\"Bin Width: {}\".format(bin_width))\n",
    "print(\"Num Bins: {}\".format(num_bins))\n",
    "print(\"Max Loss: {}\".format(max_loss))\n",
    "print(\"Min Loss: {}\".format(min_loss))\n",
    "print(\"Min Bin: {}\".format(min_bin))\n",
    "print(\"Max Bin: {}\".format(max_bin))\n",
    "\n",
    "\n",
    "\n",
    "# Determine breaks\n",
    "breaks = htb(hist)\n",
    "\n",
    "possible_thresholds = []\n",
    "\n",
    "for b in breaks:\n",
    "    t = fetch_threshold(bins, hist, b)\n",
    "    possible_thresholds.append(t)\n",
    "\n",
    "optimal_threshold = max(possible_thresholds)\n",
    "\n",
    "print(\"Optimal Threshold: {}\".format(optimal_threshold))"
   ]
  },
  {
   "cell_type": "code",
   "execution_count": 12,
   "id": "61b6d9d8",
   "metadata": {},
   "outputs": [
    {
     "data": {
      "text/html": [
       "<div>\n",
       "<style scoped>\n",
       "    .dataframe tbody tr th:only-of-type {\n",
       "        vertical-align: middle;\n",
       "    }\n",
       "\n",
       "    .dataframe tbody tr th {\n",
       "        vertical-align: top;\n",
       "    }\n",
       "\n",
       "    .dataframe thead th {\n",
       "        text-align: right;\n",
       "    }\n",
       "</style>\n",
       "<table border=\"1\" class=\"dataframe\">\n",
       "  <thead>\n",
       "    <tr style=\"text-align: right;\">\n",
       "      <th></th>\n",
       "      <th>0</th>\n",
       "      <th>1</th>\n",
       "      <th>2</th>\n",
       "      <th>3</th>\n",
       "      <th>4</th>\n",
       "      <th>5</th>\n",
       "      <th>6</th>\n",
       "      <th>7</th>\n",
       "      <th>8</th>\n",
       "      <th>9</th>\n",
       "      <th>10</th>\n",
       "      <th>11</th>\n",
       "      <th>y</th>\n",
       "    </tr>\n",
       "  </thead>\n",
       "  <tbody>\n",
       "    <tr>\n",
       "      <th>0</th>\n",
       "      <td>0.005068</td>\n",
       "      <td>0.003515</td>\n",
       "      <td>0.004843</td>\n",
       "      <td>0.002718</td>\n",
       "      <td>0.005620</td>\n",
       "      <td>0.003433</td>\n",
       "      <td>0.005783</td>\n",
       "      <td>0.004618</td>\n",
       "      <td>0.006131</td>\n",
       "      <td>0.003883</td>\n",
       "      <td>0.005640</td>\n",
       "      <td>0.016696</td>\n",
       "      <td>1</td>\n",
       "    </tr>\n",
       "    <tr>\n",
       "      <th>1</th>\n",
       "      <td>0.006437</td>\n",
       "      <td>0.002391</td>\n",
       "      <td>0.005068</td>\n",
       "      <td>0.002575</td>\n",
       "      <td>0.005252</td>\n",
       "      <td>0.002759</td>\n",
       "      <td>0.006131</td>\n",
       "      <td>0.002759</td>\n",
       "      <td>0.018270</td>\n",
       "      <td>0.004005</td>\n",
       "      <td>0.005109</td>\n",
       "      <td>0.003413</td>\n",
       "      <td>1</td>\n",
       "    </tr>\n",
       "    <tr>\n",
       "      <th>2</th>\n",
       "      <td>0.004945</td>\n",
       "      <td>0.003270</td>\n",
       "      <td>0.005620</td>\n",
       "      <td>0.003740</td>\n",
       "      <td>0.005252</td>\n",
       "      <td>0.003944</td>\n",
       "      <td>0.005415</td>\n",
       "      <td>0.003147</td>\n",
       "      <td>0.005395</td>\n",
       "      <td>0.016696</td>\n",
       "      <td>0.006376</td>\n",
       "      <td>0.003658</td>\n",
       "      <td>1</td>\n",
       "    </tr>\n",
       "    <tr>\n",
       "      <th>3</th>\n",
       "      <td>0.005538</td>\n",
       "      <td>0.002616</td>\n",
       "      <td>0.005885</td>\n",
       "      <td>0.003127</td>\n",
       "      <td>0.006212</td>\n",
       "      <td>0.003638</td>\n",
       "      <td>0.006785</td>\n",
       "      <td>0.004332</td>\n",
       "      <td>0.006417</td>\n",
       "      <td>0.004435</td>\n",
       "      <td>0.006212</td>\n",
       "      <td>0.016062</td>\n",
       "      <td>1</td>\n",
       "    </tr>\n",
       "    <tr>\n",
       "      <th>4</th>\n",
       "      <td>0.005293</td>\n",
       "      <td>0.003740</td>\n",
       "      <td>0.005988</td>\n",
       "      <td>0.003454</td>\n",
       "      <td>0.005477</td>\n",
       "      <td>0.004394</td>\n",
       "      <td>0.006662</td>\n",
       "      <td>0.003576</td>\n",
       "      <td>0.005988</td>\n",
       "      <td>0.004435</td>\n",
       "      <td>0.009523</td>\n",
       "      <td>0.011403</td>\n",
       "      <td>1</td>\n",
       "    </tr>\n",
       "    <tr>\n",
       "      <th>...</th>\n",
       "      <td>...</td>\n",
       "      <td>...</td>\n",
       "      <td>...</td>\n",
       "      <td>...</td>\n",
       "      <td>...</td>\n",
       "      <td>...</td>\n",
       "      <td>...</td>\n",
       "      <td>...</td>\n",
       "      <td>...</td>\n",
       "      <td>...</td>\n",
       "      <td>...</td>\n",
       "      <td>...</td>\n",
       "      <td>...</td>\n",
       "    </tr>\n",
       "    <tr>\n",
       "      <th>331</th>\n",
       "      <td>0.009114</td>\n",
       "      <td>0.013876</td>\n",
       "      <td>0.009135</td>\n",
       "      <td>0.013549</td>\n",
       "      <td>0.033290</td>\n",
       "      <td>0.013038</td>\n",
       "      <td>0.009278</td>\n",
       "      <td>0.013528</td>\n",
       "      <td>0.009482</td>\n",
       "      <td>0.013631</td>\n",
       "      <td>0.022418</td>\n",
       "      <td>0.013120</td>\n",
       "      <td>1</td>\n",
       "    </tr>\n",
       "    <tr>\n",
       "      <th>332</th>\n",
       "      <td>0.008685</td>\n",
       "      <td>0.013058</td>\n",
       "      <td>0.009298</td>\n",
       "      <td>0.013283</td>\n",
       "      <td>0.036089</td>\n",
       "      <td>0.013712</td>\n",
       "      <td>0.009543</td>\n",
       "      <td>0.013712</td>\n",
       "      <td>0.009584</td>\n",
       "      <td>0.013590</td>\n",
       "      <td>0.021028</td>\n",
       "      <td>0.009911</td>\n",
       "      <td>1</td>\n",
       "    </tr>\n",
       "    <tr>\n",
       "      <th>333</th>\n",
       "      <td>0.005559</td>\n",
       "      <td>0.008113</td>\n",
       "      <td>0.004169</td>\n",
       "      <td>0.007316</td>\n",
       "      <td>0.003065</td>\n",
       "      <td>0.006744</td>\n",
       "      <td>0.003372</td>\n",
       "      <td>0.007520</td>\n",
       "      <td>0.003004</td>\n",
       "      <td>0.006396</td>\n",
       "      <td>0.015490</td>\n",
       "      <td>0.005967</td>\n",
       "      <td>1</td>\n",
       "    </tr>\n",
       "    <tr>\n",
       "      <th>334</th>\n",
       "      <td>0.002452</td>\n",
       "      <td>0.006580</td>\n",
       "      <td>0.003229</td>\n",
       "      <td>0.006315</td>\n",
       "      <td>0.002861</td>\n",
       "      <td>0.006253</td>\n",
       "      <td>0.003024</td>\n",
       "      <td>0.006335</td>\n",
       "      <td>0.016001</td>\n",
       "      <td>0.006029</td>\n",
       "      <td>0.032084</td>\n",
       "      <td>0.040524</td>\n",
       "      <td>1</td>\n",
       "    </tr>\n",
       "    <tr>\n",
       "      <th>335</th>\n",
       "      <td>0.008849</td>\n",
       "      <td>0.012404</td>\n",
       "      <td>0.007643</td>\n",
       "      <td>0.009707</td>\n",
       "      <td>0.005661</td>\n",
       "      <td>0.008174</td>\n",
       "      <td>0.004721</td>\n",
       "      <td>0.006703</td>\n",
       "      <td>0.003045</td>\n",
       "      <td>0.005885</td>\n",
       "      <td>0.006396</td>\n",
       "      <td>0.014836</td>\n",
       "      <td>1</td>\n",
       "    </tr>\n",
       "  </tbody>\n",
       "</table>\n",
       "<p>336 rows × 13 columns</p>\n",
       "</div>"
      ],
      "text/plain": [
       "            0         1         2         3         4         5         6  \\\n",
       "0    0.005068  0.003515  0.004843  0.002718  0.005620  0.003433  0.005783   \n",
       "1    0.006437  0.002391  0.005068  0.002575  0.005252  0.002759  0.006131   \n",
       "2    0.004945  0.003270  0.005620  0.003740  0.005252  0.003944  0.005415   \n",
       "3    0.005538  0.002616  0.005885  0.003127  0.006212  0.003638  0.006785   \n",
       "4    0.005293  0.003740  0.005988  0.003454  0.005477  0.004394  0.006662   \n",
       "..        ...       ...       ...       ...       ...       ...       ...   \n",
       "331  0.009114  0.013876  0.009135  0.013549  0.033290  0.013038  0.009278   \n",
       "332  0.008685  0.013058  0.009298  0.013283  0.036089  0.013712  0.009543   \n",
       "333  0.005559  0.008113  0.004169  0.007316  0.003065  0.006744  0.003372   \n",
       "334  0.002452  0.006580  0.003229  0.006315  0.002861  0.006253  0.003024   \n",
       "335  0.008849  0.012404  0.007643  0.009707  0.005661  0.008174  0.004721   \n",
       "\n",
       "            7         8         9        10        11  y  \n",
       "0    0.004618  0.006131  0.003883  0.005640  0.016696  1  \n",
       "1    0.002759  0.018270  0.004005  0.005109  0.003413  1  \n",
       "2    0.003147  0.005395  0.016696  0.006376  0.003658  1  \n",
       "3    0.004332  0.006417  0.004435  0.006212  0.016062  1  \n",
       "4    0.003576  0.005988  0.004435  0.009523  0.011403  1  \n",
       "..        ...       ...       ...       ...       ... ..  \n",
       "331  0.013528  0.009482  0.013631  0.022418  0.013120  1  \n",
       "332  0.013712  0.009584  0.013590  0.021028  0.009911  1  \n",
       "333  0.007520  0.003004  0.006396  0.015490  0.005967  1  \n",
       "334  0.006335  0.016001  0.006029  0.032084  0.040524  1  \n",
       "335  0.006703  0.003045  0.005885  0.006396  0.014836  1  \n",
       "\n",
       "[336 rows x 13 columns]"
      ]
     },
     "execution_count": 12,
     "metadata": {},
     "output_type": "execute_result"
    }
   ],
   "source": [
    "# Convert test data to tensor\n",
    "x = torch.tensor(stream_data).float().to(device)\n",
    "\n",
    "predictions = model(x)\n",
    "targets = x\n",
    "\n",
    "# Get reconstruction error\n",
    "x_loss = nn.MSELoss(reduction='none')(predictions, targets).sum(axis=1).detach().cpu().numpy().astype(np.float32)\n",
    "\n",
    "# If reconstruction error is >= than the optimal threshold, we consider it an anomaly\n",
    "bool_arr = x_loss >= optimal_threshold\n",
    "\n",
    "# Convert anomaly labels to -1 if True and 1 if False\n",
    "anomaly_predictions = np.array([-1 if elem else 1 for elem in bool_arr])\n",
    "\n",
    "# Build dataframe for test data and attach predictions\n",
    "df_test_x_with_labels = pd.DataFrame(stream_data)\n",
    "df_test_x_with_labels['y'] = anomaly_predictions\n",
    "\n",
    "df_test_x_with_labels"
   ]
  },
  {
   "cell_type": "code",
   "execution_count": 13,
   "id": "e40dbd7d",
   "metadata": {},
   "outputs": [],
   "source": [
    "stream_data_with_labels = []\n",
    "for index, row in df_test_x_with_labels.iterrows():\n",
    "    label = row['y']\n",
    "    for point in row[:-1].values:\n",
    "        stream_data_with_labels.append([point, label])\n",
    "\n",
    "stream_data_with_labels = pd.DataFrame(stream_data_with_labels, columns=['value', 'y'])\n"
   ]
  },
  {
   "cell_type": "code",
   "execution_count": 14,
   "id": "686e768a",
   "metadata": {},
   "outputs": [
    {
     "data": {
      "text/plain": [
       "<AxesSubplot:>"
      ]
     },
     "execution_count": 14,
     "metadata": {},
     "output_type": "execute_result"
    },
    {
     "data": {
      "image/png": "[encoded data removed]",
      "text/plain": [
       "<Figure size 432x288 with 1 Axes>"
      ]
     },
     "metadata": {
      "needs_background": "light"
     },
     "output_type": "display_data"
    }
   ],
   "source": [
    "df.plot()"
   ]
  },
  {
   "cell_type": "code",
   "execution_count": 15,
   "id": "d3cbbf1f",
   "metadata": {},
   "outputs": [
    {
     "data": {
      "text/plain": [
       "<matplotlib.legend.Legend at 0x7f4a4e047c10>"
      ]
     },
     "execution_count": 15,
     "metadata": {},
     "output_type": "execute_result"
    },
    {
     "data": {
      "image/png": "[encoded data removed]",
      "text/plain": [
       "<Figure size 432x288 with 1 Axes>"
      ]
     },
     "metadata": {
      "needs_background": "light"
     },
     "output_type": "display_data"
    }
   ],
   "source": [
    "\n",
    "plt.plot(np.where(stream_data_with_labels[\"y\"]==1, stream_data_with_labels[\"value\"], None), color=\"blue\", label=\"normal\")\n",
    "plt.plot(np.where(stream_data_with_labels[\"y\"]==-1, stream_data_with_labels[\"value\"], None), color=\"red\", label=\"anomaly\")\n",
    "plt.legend()"
   ]
  },
  {
   "cell_type": "code",
   "execution_count": null,
   "id": "53ebeac4",
   "metadata": {},
   "outputs": [],
   "source": []
  }
 ],
 "metadata": {
  "kernelspec": {
   "display_name": "Python 3 (ipykernel)",
   "language": "python",
   "name": "python3"
  },
  "language_info": {
   "codemirror_mode": {
    "name": "ipython",
    "version": 3
   },
   "file_extension": ".py",
   "mimetype": "text/x-python",
   "name": "python",
   "nbconvert_exporter": "python",
   "pygments_lexer": "ipython3",
   "version": "3.10.4"
  }
 },
 "nbformat": 4,
 "nbformat_minor": 5
}
