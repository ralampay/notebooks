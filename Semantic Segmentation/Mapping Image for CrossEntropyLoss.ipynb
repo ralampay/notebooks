{
 "cells": [
  {
   "cell_type": "code",
   "execution_count": null,
   "id": "25837251",
   "metadata": {},
   "outputs": [],
   "source": [
    "import torch\n",
    "import numpy as np\n",
    "import os\n",
    "import sys\n",
    "import cv2\n",
    "from matplotlib import pyplot as plt"
   ]
  },
  {
   "cell_type": "code",
   "execution_count": null,
   "id": "5d3bea6c",
   "metadata": {},
   "outputs": [],
   "source": [
    "n_classes = 32\n",
    "img_width = 100\n",
    "img_height = 100\n",
    "dim = (img_width, img_height)\n",
    "test_image_file = \"/home/ralampay/Pictures/CamVid/train_labels/0001TP_009210_L.png\""
   ]
  },
  {
   "cell_type": "code",
   "execution_count": null,
   "id": "ec2d78b4",
   "metadata": {},
   "outputs": [],
   "source": [
    "test_image = cv2.resize(cv2.imread(test_image_file, 0), dim).astype(np.float32)\n",
    "\n",
    "print(test_image.shape)\n",
    "plt.imshow(test_image)\n",
    "plt.show()"
   ]
  },
  {
   "cell_type": "code",
   "execution_count": null,
   "id": "8d2b8e28",
   "metadata": {},
   "outputs": [],
   "source": [
    "def map_pixel(image, n_classes):\n",
    "    bin_width = np.round(256 / n_classes)\n",
    "    print(\"bin_width: {}\".format(bin_width))\n",
    "    labels = []\n",
    "    \n",
    "    for i in range(n_classes):\n",
    "        if i == 0:\n",
    "            min_val = 0\n",
    "        else:\n",
    "            min_val = bin_width * i\n",
    "            \n",
    "        max_val = min_val + bin_width\n",
    "        \n",
    "        labels.append([float(i), min_val, max_val])\n",
    "        \n",
    "    h = image.shape[0]\n",
    "    w = image.shape[1]\n",
    "    \n",
    "    for y in range(0, h):\n",
    "        for x in range(0, w):\n",
    "            val = image[y, x]\n",
    "            \n",
    "            for label in labels:\n",
    "                if val >= label[1] and val < label[2]:\n",
    "                    image[y, x] = label[0]\n",
    "        \n",
    "    return image\n",
    "result = map_pixel(test_image, n_classes)\n",
    "print(result)"
   ]
  },
  {
   "cell_type": "code",
   "execution_count": null,
   "id": "3c0cb31c",
   "metadata": {},
   "outputs": [],
   "source": []
  }
 ],
 "metadata": {
  "kernelspec": {
   "display_name": "Python 3 (ipykernel)",
   "language": "python",
   "name": "python3"
  },
  "language_info": {
   "codemirror_mode": {
    "name": "ipython",
    "version": 3
   },
   "file_extension": ".py",
   "mimetype": "text/x-python",
   "name": "python",
   "nbconvert_exporter": "python",
   "pygments_lexer": "ipython3",
   "version": "3.9.7"
  }
 },
 "nbformat": 4,
 "nbformat_minor": 5
}
