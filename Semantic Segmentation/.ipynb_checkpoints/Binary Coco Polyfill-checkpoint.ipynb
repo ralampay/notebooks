{
 "cells": [
  {
   "cell_type": "markdown",
   "id": "840723c8",
   "metadata": {},
   "source": [
    "# Binary Coco Polyfill\n",
    "\n",
    "Code to read a Coco based json file and fill in color white for all segmentations found and fill in color black for all others."
   ]
  },
  {
   "cell_type": "code",
   "execution_count": 1,
   "id": "098cef23",
   "metadata": {},
   "outputs": [],
   "source": [
    "import cv2\n",
    "import json\n",
    "import numpy as np\n",
    "from matplotlib import pyplot as plt"
   ]
  },
  {
   "cell_type": "code",
   "execution_count": 2,
   "id": "967e79f6",
   "metadata": {},
   "outputs": [
    {
     "name": "stdout",
     "output_type": "stream",
     "text": [
      "[577.9602272727273, 7.639204545454549, 609.4090909090909, 30.70170454545455, 608.0113636363636, 64.2471590909091, 583.5511363636364, 97.79261363636364, 578.6590909090909, 111.07102272727273, 597.5284090909091, 130.63920454545456, 550.0056818181818, 169.7755681818182, 546.5113636363636, 215.9005681818182, 542.3181818181818, 231.2755681818182, 548.6079545454545, 245.2528409090909, 530.4375, 255.73579545454547, 505.97727272727275, 285.7869318181818, 483.6136363636364, 338.9005681818182, 455.6590909090909, 397.6051136363637, 452.8636363636364, 303.9573863636364, 464.04545454545456, 265.5198863636364, 481.51704545454544, 243.15625, 485.71022727272725, 207.51420454545453, 486.4090909090909, 170.4744318181818, 492.6988636363636, 134.13352272727272, 492.6988636363636, 108.97443181818183, 530.4375, 101.28693181818183, 524.8465909090909, 74.03125, 528.3409090909091, 45.377840909090914, 531.8352272727273, 27.906250000000004, 549.3068181818181, 12.531250000000004]\n"
     ]
    }
   ],
   "source": [
    "config = json.load(open(\"coco-config.json\"))\n",
    "\n",
    "image_file = cv2.imread(\"cctv.png\")\n",
    "vertices = config[\"annotations\"][0][\"segmentation\"][0]\n",
    "print(vertices)"
   ]
  },
  {
   "cell_type": "code",
   "execution_count": 6,
   "id": "b5bb68d8",
   "metadata": {},
   "outputs": [
    {
     "name": "stdout",
     "output_type": "stream",
     "text": [
      "[[577   7]\n",
      " [  7 609]\n",
      " [609  30]\n",
      " [ 30 608]\n",
      " [608  64]\n",
      " [ 64 583]\n",
      " [583  97]\n",
      " [ 97 578]\n",
      " [578 111]\n",
      " [111 597]\n",
      " [597 130]\n",
      " [130 550]\n",
      " [550 169]\n",
      " [169 546]\n",
      " [546 215]\n",
      " [215 542]\n",
      " [542 231]\n",
      " [231 548]\n",
      " [548 245]\n",
      " [245 530]\n",
      " [530 255]\n",
      " [255 505]\n",
      " [505 285]\n",
      " [285 483]\n",
      " [483 338]\n",
      " [338 455]\n",
      " [455 397]\n",
      " [397 452]\n",
      " [452 303]\n",
      " [303 464]\n",
      " [464 265]\n",
      " [265 481]\n",
      " [481 243]\n",
      " [243 485]\n",
      " [485 207]\n",
      " [207 486]\n",
      " [486 170]\n",
      " [170 492]\n",
      " [492 134]\n",
      " [134 492]\n",
      " [492 108]\n",
      " [108 530]\n",
      " [530 101]\n",
      " [101 524]\n",
      " [524  74]\n",
      " [ 74 528]\n",
      " [528  45]\n",
      " [ 45 531]\n",
      " [531  27]\n",
      " [ 27 549]\n",
      " [549  12]]\n"
     ]
    }
   ],
   "source": [
    "pts = []\n",
    "\n",
    "for i in range(len(vertices) - 1):\n",
    "    pts.append([vertices[i], vertices[i+1]])\n",
    "    \n",
    "pts = np.array(pts, np.int32)\n",
    "    \n",
    "print(pts)"
   ]
  },
  {
   "cell_type": "code",
   "execution_count": null,
   "id": "c6b5a0f8",
   "metadata": {},
   "outputs": [],
   "source": []
  }
 ],
 "metadata": {
  "kernelspec": {
   "display_name": "Python 3 (ipykernel)",
   "language": "python",
   "name": "python3"
  },
  "language_info": {
   "codemirror_mode": {
    "name": "ipython",
    "version": 3
   },
   "file_extension": ".py",
   "mimetype": "text/x-python",
   "name": "python",
   "nbconvert_exporter": "python",
   "pygments_lexer": "ipython3",
   "version": "3.9.7"
  }
 },
 "nbformat": 4,
 "nbformat_minor": 5
}
