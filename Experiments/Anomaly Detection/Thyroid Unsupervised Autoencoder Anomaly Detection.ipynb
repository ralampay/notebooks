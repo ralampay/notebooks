{
 "cells": [
  {
   "cell_type": "markdown",
   "id": "c6df3849",
   "metadata": {},
   "source": [
    "## Unsupervised Autoencoder Anomaly Detection\n",
    "\n",
    "1. Train an autoencoder to capture latent representation of entire dataset\n",
    "2. Extract the latent representation of the entire dataset\n",
    "3. Append the reconstruction error as part of the feature vector for the latent representation dataset\n",
    "4. Perform clustering against the new dataset to determine natural groupings\n",
    "5. Train another autoencoder against datapoints within groupings treated as normal\n",
    "6. Apply autothresholding with head tail break\n",
    "7. Test performance"
   ]
  },
  {
   "cell_type": "code",
   "execution_count": 1,
   "id": "74c0a77f",
   "metadata": {},
   "outputs": [],
   "source": [
    "import sys\n",
    "import os\n",
    "import pandas as pd\n",
    "import torch\n",
    "from torch.utils.data import DataLoader\n",
    "from tqdm import tqdm\n",
    "import torch.nn as nn\n",
    "import torch.optim as optim\n",
    "import numpy as np\n",
    "from sklearn import preprocessing\n",
    "from sklearn.cluster import DBSCAN\n",
    "from sklearn.manifold import TSNE\n",
    "from sklearn.metrics import confusion_matrix\n",
    "import matplotlib.pyplot as plt\n",
    "import plotly.express as px\n",
    "from scipy.stats import iqr\n",
    "from matplotlib import pyplot\n",
    "\n",
    "# Local imports\n",
    "sys.path.append('../../')\n",
    "\n",
    "from lib.autoencoder import Autoencoder\n",
    "from lib.autoencoder_dataset import AutoencoderDataset"
   ]
  },
  {
   "cell_type": "markdown",
   "id": "485132ff",
   "metadata": {},
   "source": [
    "## Experimental Parameters"
   ]
  },
  {
   "cell_type": "code",
   "execution_count": 2,
   "id": "25f3f93a",
   "metadata": {},
   "outputs": [],
   "source": [
    "# Label column\n",
    "label_column = 'y'\n",
    "\n",
    "ds_train_file = \"../../Datasets/thyroid_train.csv\"\n",
    "ds_test_file = \"../../Datasets/thyroid_test.csv\"\n",
    "\n",
    "# Dataframe instance for training data\n",
    "df_train = pd.read_csv(ds_train_file)\n",
    "# Dataframe instance for test data\n",
    "df_test = pd.read_csv(ds_test_file)\n",
    "\n",
    "# Expected number of features\n",
    "n_features = 21\n",
    "\n",
    "# Extracted dataframe for all training values without labels\n",
    "df_train_x = df_train.drop([label_column], axis=1)\n",
    "# Extracted dataframe for all labels of training data\n",
    "df_train_y = df_train[label_column]\n",
    "\n",
    "# Extracted dataframe for all test values without labels\n",
    "df_test_x = df_test.drop(['y'], axis=1)\n",
    "# Extracted dataframe for all test labels of testing data\n",
    "df_test_y = df_test['y']\n",
    "\n",
    "# Autoencoder parameter for layers. First element is the size of the input vector. Succeeding values are hidden layers for the encoder\n",
    "layers = [21, 12]\n",
    "\n",
    "# Autoencoder parameter for hidden activation\n",
    "h_activation = 'relu'\n",
    "\n",
    "# Autoencoder parameter for output activation\n",
    "o_activation = 'sigmoid'\n",
    "\n",
    "# Autoencoder parameter for learning rate\n",
    "learning_rate = 0.000001\n",
    "\n",
    "# Torch parameter for device\n",
    "device = 'cpu'\n",
    "\n",
    "# Training parameter for number of epochs\n",
    "epochs = 25\n",
    "\n",
    "# Training parameter for batch size\n",
    "batch_size = 10\n",
    "\n",
    "# Loss function\n",
    "loss_fn = nn.BCELoss()\n",
    "\n",
    "# DBSCAN parameter eps\n",
    "eps = 0.04\n",
    "\n",
    "# DBSCAN parameter minimum samples\n",
    "min_samples = 5"
   ]
  },
  {
   "cell_type": "markdown",
   "id": "7e575bf6",
   "metadata": {},
   "source": [
    "## Train Autoencoder Model\n",
    "\n",
    "The first autoencoder will attempt to get the latent representation of the data regardless of the labels."
   ]
  },
  {
   "cell_type": "code",
   "execution_count": 3,
   "id": "c516380b",
   "metadata": {},
   "outputs": [
    {
     "name": "stdout",
     "output_type": "stream",
     "text": [
      "Epoch: 0\n"
     ]
    },
    {
     "name": "stderr",
     "output_type": "stream",
     "text": [
      "100%|███████████████████████████████████████████████████████████████████████████████████████████████████████████████████████████████████████████████████████████████| 378/378 [00:00<00:00, 524.97it/s, loss=0.701]\n"
     ]
    },
    {
     "name": "stdout",
     "output_type": "stream",
     "text": [
      "Epoch: 1\n"
     ]
    },
    {
     "name": "stderr",
     "output_type": "stream",
     "text": [
      "100%|███████████████████████████████████████████████████████████████████████████████████████████████████████████████████████████████████████████████████████████████| 378/378 [00:00<00:00, 560.70it/s, loss=0.701]\n"
     ]
    },
    {
     "name": "stdout",
     "output_type": "stream",
     "text": [
      "Epoch: 2\n"
     ]
    },
    {
     "name": "stderr",
     "output_type": "stream",
     "text": [
      "100%|███████████████████████████████████████████████████████████████████████████████████████████████████████████████████████████████████████████████████████████████| 378/378 [00:00<00:00, 539.70it/s, loss=0.701]\n"
     ]
    },
    {
     "name": "stdout",
     "output_type": "stream",
     "text": [
      "Epoch: 3\n"
     ]
    },
    {
     "name": "stderr",
     "output_type": "stream",
     "text": [
      "100%|█████████████████████████████████████████████████████████████████████████████████████████████████████████████████████████████████████████████████████████████████| 378/378 [00:00<00:00, 579.17it/s, loss=0.7]\n"
     ]
    },
    {
     "name": "stdout",
     "output_type": "stream",
     "text": [
      "Epoch: 4\n"
     ]
    },
    {
     "name": "stderr",
     "output_type": "stream",
     "text": [
      "100%|█████████████████████████████████████████████████████████████████████████████████████████████████████████████████████████████████████████████████████████████████| 378/378 [00:00<00:00, 513.22it/s, loss=0.7]\n"
     ]
    },
    {
     "name": "stdout",
     "output_type": "stream",
     "text": [
      "Epoch: 5\n"
     ]
    },
    {
     "name": "stderr",
     "output_type": "stream",
     "text": [
      "100%|█████████████████████████████████████████████████████████████████████████████████████████████████████████████████████████████████████████████████████████████████| 378/378 [00:00<00:00, 535.47it/s, loss=0.7]\n"
     ]
    },
    {
     "name": "stdout",
     "output_type": "stream",
     "text": [
      "Epoch: 6\n"
     ]
    },
    {
     "name": "stderr",
     "output_type": "stream",
     "text": [
      "100%|███████████████████████████████████████████████████████████████████████████████████████████████████████████████████████████████████████████████████████████████| 378/378 [00:00<00:00, 546.55it/s, loss=0.699]\n"
     ]
    },
    {
     "name": "stdout",
     "output_type": "stream",
     "text": [
      "Epoch: 7\n"
     ]
    },
    {
     "name": "stderr",
     "output_type": "stream",
     "text": [
      "100%|███████████████████████████████████████████████████████████████████████████████████████████████████████████████████████████████████████████████████████████████| 378/378 [00:00<00:00, 567.29it/s, loss=0.699]\n"
     ]
    },
    {
     "name": "stdout",
     "output_type": "stream",
     "text": [
      "Epoch: 8\n"
     ]
    },
    {
     "name": "stderr",
     "output_type": "stream",
     "text": [
      "100%|███████████████████████████████████████████████████████████████████████████████████████████████████████████████████████████████████████████████████████████████| 378/378 [00:00<00:00, 546.12it/s, loss=0.699]\n"
     ]
    },
    {
     "name": "stdout",
     "output_type": "stream",
     "text": [
      "Epoch: 9\n"
     ]
    },
    {
     "name": "stderr",
     "output_type": "stream",
     "text": [
      "100%|███████████████████████████████████████████████████████████████████████████████████████████████████████████████████████████████████████████████████████████████| 378/378 [00:00<00:00, 558.95it/s, loss=0.698]\n"
     ]
    },
    {
     "name": "stdout",
     "output_type": "stream",
     "text": [
      "Epoch: 10\n"
     ]
    },
    {
     "name": "stderr",
     "output_type": "stream",
     "text": [
      "100%|███████████████████████████████████████████████████████████████████████████████████████████████████████████████████████████████████████████████████████████████| 378/378 [00:00<00:00, 539.18it/s, loss=0.698]\n"
     ]
    },
    {
     "name": "stdout",
     "output_type": "stream",
     "text": [
      "Epoch: 11\n"
     ]
    },
    {
     "name": "stderr",
     "output_type": "stream",
     "text": [
      "100%|███████████████████████████████████████████████████████████████████████████████████████████████████████████████████████████████████████████████████████████████| 378/378 [00:00<00:00, 561.72it/s, loss=0.697]\n"
     ]
    },
    {
     "name": "stdout",
     "output_type": "stream",
     "text": [
      "Epoch: 12\n"
     ]
    },
    {
     "name": "stderr",
     "output_type": "stream",
     "text": [
      "100%|███████████████████████████████████████████████████████████████████████████████████████████████████████████████████████████████████████████████████████████████| 378/378 [00:00<00:00, 563.69it/s, loss=0.697]\n"
     ]
    },
    {
     "name": "stdout",
     "output_type": "stream",
     "text": [
      "Epoch: 13\n"
     ]
    },
    {
     "name": "stderr",
     "output_type": "stream",
     "text": [
      "100%|███████████████████████████████████████████████████████████████████████████████████████████████████████████████████████████████████████████████████████████████| 378/378 [00:00<00:00, 542.20it/s, loss=0.697]\n"
     ]
    },
    {
     "name": "stdout",
     "output_type": "stream",
     "text": [
      "Epoch: 14\n"
     ]
    },
    {
     "name": "stderr",
     "output_type": "stream",
     "text": [
      "100%|███████████████████████████████████████████████████████████████████████████████████████████████████████████████████████████████████████████████████████████████| 378/378 [00:00<00:00, 508.34it/s, loss=0.696]\n"
     ]
    },
    {
     "name": "stdout",
     "output_type": "stream",
     "text": [
      "Epoch: 15\n"
     ]
    },
    {
     "name": "stderr",
     "output_type": "stream",
     "text": [
      "100%|███████████████████████████████████████████████████████████████████████████████████████████████████████████████████████████████████████████████████████████████| 378/378 [00:00<00:00, 554.21it/s, loss=0.696]\n"
     ]
    },
    {
     "name": "stdout",
     "output_type": "stream",
     "text": [
      "Epoch: 16\n"
     ]
    },
    {
     "name": "stderr",
     "output_type": "stream",
     "text": [
      "100%|███████████████████████████████████████████████████████████████████████████████████████████████████████████████████████████████████████████████████████████████| 378/378 [00:00<00:00, 544.37it/s, loss=0.696]\n"
     ]
    },
    {
     "name": "stdout",
     "output_type": "stream",
     "text": [
      "Epoch: 17\n"
     ]
    },
    {
     "name": "stderr",
     "output_type": "stream",
     "text": [
      "100%|███████████████████████████████████████████████████████████████████████████████████████████████████████████████████████████████████████████████████████████████| 378/378 [00:00<00:00, 542.67it/s, loss=0.695]\n"
     ]
    },
    {
     "name": "stdout",
     "output_type": "stream",
     "text": [
      "Epoch: 18\n"
     ]
    },
    {
     "name": "stderr",
     "output_type": "stream",
     "text": [
      "100%|███████████████████████████████████████████████████████████████████████████████████████████████████████████████████████████████████████████████████████████████| 378/378 [00:00<00:00, 497.65it/s, loss=0.695]\n"
     ]
    },
    {
     "name": "stdout",
     "output_type": "stream",
     "text": [
      "Epoch: 19\n"
     ]
    },
    {
     "name": "stderr",
     "output_type": "stream",
     "text": [
      "100%|███████████████████████████████████████████████████████████████████████████████████████████████████████████████████████████████████████████████████████████████| 378/378 [00:00<00:00, 542.49it/s, loss=0.695]\n"
     ]
    },
    {
     "name": "stdout",
     "output_type": "stream",
     "text": [
      "Epoch: 20\n"
     ]
    },
    {
     "name": "stderr",
     "output_type": "stream",
     "text": [
      "100%|███████████████████████████████████████████████████████████████████████████████████████████████████████████████████████████████████████████████████████████████| 378/378 [00:00<00:00, 533.23it/s, loss=0.694]\n"
     ]
    },
    {
     "name": "stdout",
     "output_type": "stream",
     "text": [
      "Epoch: 21\n"
     ]
    },
    {
     "name": "stderr",
     "output_type": "stream",
     "text": [
      "100%|███████████████████████████████████████████████████████████████████████████████████████████████████████████████████████████████████████████████████████████████| 378/378 [00:00<00:00, 540.43it/s, loss=0.694]\n"
     ]
    },
    {
     "name": "stdout",
     "output_type": "stream",
     "text": [
      "Epoch: 22\n"
     ]
    },
    {
     "name": "stderr",
     "output_type": "stream",
     "text": [
      "100%|███████████████████████████████████████████████████████████████████████████████████████████████████████████████████████████████████████████████████████████████| 378/378 [00:00<00:00, 523.51it/s, loss=0.693]\n"
     ]
    },
    {
     "name": "stdout",
     "output_type": "stream",
     "text": [
      "Epoch: 23\n"
     ]
    },
    {
     "name": "stderr",
     "output_type": "stream",
     "text": [
      "100%|███████████████████████████████████████████████████████████████████████████████████████████████████████████████████████████████████████████████████████████████| 378/378 [00:00<00:00, 545.26it/s, loss=0.693]\n"
     ]
    },
    {
     "name": "stdout",
     "output_type": "stream",
     "text": [
      "Epoch: 24\n"
     ]
    },
    {
     "name": "stderr",
     "output_type": "stream",
     "text": [
      "100%|███████████████████████████████████████████████████████████████████████████████████████████████████████████████████████████████████████████████████████████████| 378/378 [00:00<00:00, 586.21it/s, loss=0.693]"
     ]
    },
    {
     "name": "stdout",
     "output_type": "stream",
     "text": [
      "Done training!\n"
     ]
    },
    {
     "name": "stderr",
     "output_type": "stream",
     "text": [
      "\n"
     ]
    }
   ],
   "source": [
    "model = Autoencoder(layers=layers, h_activation=h_activation, o_activation=o_activation, device=device)\n",
    "\n",
    "# Optimizer\n",
    "optimizer = optim.Adam(model.parameters(), lr=learning_rate)\n",
    "\n",
    "# Represent the training data as x\n",
    "x = torch.tensor(df_train_x.values).float().to(device)\n",
    "\n",
    "# Load the dataset\n",
    "train_ds = AutoencoderDataset(x=x)\n",
    "\n",
    "# Create a DataLoader instance\n",
    "train_loader = DataLoader(train_ds, batch_size=batch_size, shuffle=False, drop_last=False)\n",
    "\n",
    "# The training process\n",
    "for epoch in range(epochs):\n",
    "    print(\"Epoch: {}\".format(epoch))\n",
    "    \n",
    "    loop = tqdm(train_loader)\n",
    "    \n",
    "    for batch_idx, (data, targets) in enumerate(loop):\n",
    "        data = data.to(device=device)\n",
    "        targets = targets.to(device=device)\n",
    "        \n",
    "        # Feed forward\n",
    "        predictions = model(data)\n",
    "        \n",
    "        loss = loss_fn(predictions, targets)\n",
    "        \n",
    "        # Backprop\n",
    "        optimizer.zero_grad()\n",
    "        loss.backward()\n",
    "        optimizer.step()\n",
    "        \n",
    "        # Update tqdm\n",
    "        loop.set_postfix(loss=loss.item())\n",
    "        \n",
    "print(\"Done training!\")"
   ]
  },
  {
   "cell_type": "markdown",
   "id": "ac609821",
   "metadata": {},
   "source": [
    "## Compression\n",
    "\n",
    "Using the trained autoencoder, compress the data to latent space and create a new data frame containing latent vectors and reconstruction errors."
   ]
  },
  {
   "cell_type": "code",
   "execution_count": 4,
   "id": "11a7a4b4",
   "metadata": {},
   "outputs": [
    {
     "data": {
      "text/html": [
       "<div>\n",
       "<style scoped>\n",
       "    .dataframe tbody tr th:only-of-type {\n",
       "        vertical-align: middle;\n",
       "    }\n",
       "\n",
       "    .dataframe tbody tr th {\n",
       "        vertical-align: top;\n",
       "    }\n",
       "\n",
       "    .dataframe thead th {\n",
       "        text-align: right;\n",
       "    }\n",
       "</style>\n",
       "<table border=\"1\" class=\"dataframe\">\n",
       "  <thead>\n",
       "    <tr style=\"text-align: right;\">\n",
       "      <th></th>\n",
       "      <th>x0</th>\n",
       "      <th>x1</th>\n",
       "      <th>x2</th>\n",
       "      <th>x3</th>\n",
       "      <th>x4</th>\n",
       "      <th>x5</th>\n",
       "      <th>x6</th>\n",
       "      <th>x7</th>\n",
       "      <th>x8</th>\n",
       "      <th>x9</th>\n",
       "      <th>x10</th>\n",
       "      <th>x11</th>\n",
       "      <th>error</th>\n",
       "    </tr>\n",
       "  </thead>\n",
       "  <tbody>\n",
       "    <tr>\n",
       "      <th>0</th>\n",
       "      <td>0.775102</td>\n",
       "      <td>0.0</td>\n",
       "      <td>0.573821</td>\n",
       "      <td>0.163993</td>\n",
       "      <td>0.0</td>\n",
       "      <td>0.000000</td>\n",
       "      <td>0.272228</td>\n",
       "      <td>0.457206</td>\n",
       "      <td>0.315108</td>\n",
       "      <td>0.833282</td>\n",
       "      <td>0.000000</td>\n",
       "      <td>0.0</td>\n",
       "      <td>4.841214</td>\n",
       "    </tr>\n",
       "    <tr>\n",
       "      <th>1</th>\n",
       "      <td>0.298767</td>\n",
       "      <td>0.0</td>\n",
       "      <td>0.000000</td>\n",
       "      <td>0.002333</td>\n",
       "      <td>0.0</td>\n",
       "      <td>0.128244</td>\n",
       "      <td>0.000000</td>\n",
       "      <td>0.230598</td>\n",
       "      <td>0.000000</td>\n",
       "      <td>0.000000</td>\n",
       "      <td>0.000000</td>\n",
       "      <td>0.0</td>\n",
       "      <td>4.645360</td>\n",
       "    </tr>\n",
       "    <tr>\n",
       "      <th>2</th>\n",
       "      <td>0.354891</td>\n",
       "      <td>0.0</td>\n",
       "      <td>0.000000</td>\n",
       "      <td>0.062165</td>\n",
       "      <td>0.0</td>\n",
       "      <td>0.184399</td>\n",
       "      <td>0.000000</td>\n",
       "      <td>0.160503</td>\n",
       "      <td>0.000000</td>\n",
       "      <td>0.000000</td>\n",
       "      <td>0.000000</td>\n",
       "      <td>0.0</td>\n",
       "      <td>4.679860</td>\n",
       "    </tr>\n",
       "    <tr>\n",
       "      <th>3</th>\n",
       "      <td>0.548902</td>\n",
       "      <td>0.0</td>\n",
       "      <td>0.000000</td>\n",
       "      <td>0.323047</td>\n",
       "      <td>0.0</td>\n",
       "      <td>0.185622</td>\n",
       "      <td>0.000000</td>\n",
       "      <td>0.308597</td>\n",
       "      <td>0.000000</td>\n",
       "      <td>0.000000</td>\n",
       "      <td>0.334619</td>\n",
       "      <td>0.0</td>\n",
       "      <td>4.780220</td>\n",
       "    </tr>\n",
       "    <tr>\n",
       "      <th>4</th>\n",
       "      <td>0.300178</td>\n",
       "      <td>0.0</td>\n",
       "      <td>0.000000</td>\n",
       "      <td>0.000000</td>\n",
       "      <td>0.0</td>\n",
       "      <td>0.095696</td>\n",
       "      <td>0.000000</td>\n",
       "      <td>0.231547</td>\n",
       "      <td>0.000000</td>\n",
       "      <td>0.000000</td>\n",
       "      <td>0.000000</td>\n",
       "      <td>0.0</td>\n",
       "      <td>4.660924</td>\n",
       "    </tr>\n",
       "    <tr>\n",
       "      <th>...</th>\n",
       "      <td>...</td>\n",
       "      <td>...</td>\n",
       "      <td>...</td>\n",
       "      <td>...</td>\n",
       "      <td>...</td>\n",
       "      <td>...</td>\n",
       "      <td>...</td>\n",
       "      <td>...</td>\n",
       "      <td>...</td>\n",
       "      <td>...</td>\n",
       "      <td>...</td>\n",
       "      <td>...</td>\n",
       "      <td>...</td>\n",
       "    </tr>\n",
       "    <tr>\n",
       "      <th>3767</th>\n",
       "      <td>0.427844</td>\n",
       "      <td>0.0</td>\n",
       "      <td>0.000000</td>\n",
       "      <td>0.116835</td>\n",
       "      <td>0.0</td>\n",
       "      <td>0.244794</td>\n",
       "      <td>0.000000</td>\n",
       "      <td>0.078420</td>\n",
       "      <td>0.000000</td>\n",
       "      <td>0.096654</td>\n",
       "      <td>0.000000</td>\n",
       "      <td>0.0</td>\n",
       "      <td>4.758425</td>\n",
       "    </tr>\n",
       "    <tr>\n",
       "      <th>3768</th>\n",
       "      <td>0.340546</td>\n",
       "      <td>0.0</td>\n",
       "      <td>0.000000</td>\n",
       "      <td>0.039199</td>\n",
       "      <td>0.0</td>\n",
       "      <td>0.159959</td>\n",
       "      <td>0.000000</td>\n",
       "      <td>0.178699</td>\n",
       "      <td>0.000000</td>\n",
       "      <td>0.000000</td>\n",
       "      <td>0.000000</td>\n",
       "      <td>0.0</td>\n",
       "      <td>4.645168</td>\n",
       "    </tr>\n",
       "    <tr>\n",
       "      <th>3769</th>\n",
       "      <td>0.451642</td>\n",
       "      <td>0.0</td>\n",
       "      <td>0.000000</td>\n",
       "      <td>0.137037</td>\n",
       "      <td>0.0</td>\n",
       "      <td>0.270545</td>\n",
       "      <td>0.000000</td>\n",
       "      <td>0.045445</td>\n",
       "      <td>0.000000</td>\n",
       "      <td>0.174295</td>\n",
       "      <td>0.000000</td>\n",
       "      <td>0.0</td>\n",
       "      <td>4.833234</td>\n",
       "    </tr>\n",
       "    <tr>\n",
       "      <th>3770</th>\n",
       "      <td>0.550087</td>\n",
       "      <td>0.0</td>\n",
       "      <td>0.000000</td>\n",
       "      <td>0.314494</td>\n",
       "      <td>0.0</td>\n",
       "      <td>0.180719</td>\n",
       "      <td>0.000000</td>\n",
       "      <td>0.314605</td>\n",
       "      <td>0.000000</td>\n",
       "      <td>0.000000</td>\n",
       "      <td>0.338691</td>\n",
       "      <td>0.0</td>\n",
       "      <td>4.721217</td>\n",
       "    </tr>\n",
       "    <tr>\n",
       "      <th>3771</th>\n",
       "      <td>0.354299</td>\n",
       "      <td>0.0</td>\n",
       "      <td>0.000000</td>\n",
       "      <td>0.052052</td>\n",
       "      <td>0.0</td>\n",
       "      <td>0.159256</td>\n",
       "      <td>0.000000</td>\n",
       "      <td>0.157711</td>\n",
       "      <td>0.000000</td>\n",
       "      <td>0.000000</td>\n",
       "      <td>0.000000</td>\n",
       "      <td>0.0</td>\n",
       "      <td>4.706655</td>\n",
       "    </tr>\n",
       "  </tbody>\n",
       "</table>\n",
       "<p>3772 rows × 13 columns</p>\n",
       "</div>"
      ],
      "text/plain": [
       "            x0   x1        x2        x3   x4        x5        x6        x7  \\\n",
       "0     0.775102  0.0  0.573821  0.163993  0.0  0.000000  0.272228  0.457206   \n",
       "1     0.298767  0.0  0.000000  0.002333  0.0  0.128244  0.000000  0.230598   \n",
       "2     0.354891  0.0  0.000000  0.062165  0.0  0.184399  0.000000  0.160503   \n",
       "3     0.548902  0.0  0.000000  0.323047  0.0  0.185622  0.000000  0.308597   \n",
       "4     0.300178  0.0  0.000000  0.000000  0.0  0.095696  0.000000  0.231547   \n",
       "...        ...  ...       ...       ...  ...       ...       ...       ...   \n",
       "3767  0.427844  0.0  0.000000  0.116835  0.0  0.244794  0.000000  0.078420   \n",
       "3768  0.340546  0.0  0.000000  0.039199  0.0  0.159959  0.000000  0.178699   \n",
       "3769  0.451642  0.0  0.000000  0.137037  0.0  0.270545  0.000000  0.045445   \n",
       "3770  0.550087  0.0  0.000000  0.314494  0.0  0.180719  0.000000  0.314605   \n",
       "3771  0.354299  0.0  0.000000  0.052052  0.0  0.159256  0.000000  0.157711   \n",
       "\n",
       "            x8        x9       x10  x11     error  \n",
       "0     0.315108  0.833282  0.000000  0.0  4.841214  \n",
       "1     0.000000  0.000000  0.000000  0.0  4.645360  \n",
       "2     0.000000  0.000000  0.000000  0.0  4.679860  \n",
       "3     0.000000  0.000000  0.334619  0.0  4.780220  \n",
       "4     0.000000  0.000000  0.000000  0.0  4.660924  \n",
       "...        ...       ...       ...  ...       ...  \n",
       "3767  0.000000  0.096654  0.000000  0.0  4.758425  \n",
       "3768  0.000000  0.000000  0.000000  0.0  4.645168  \n",
       "3769  0.000000  0.174295  0.000000  0.0  4.833234  \n",
       "3770  0.000000  0.000000  0.338691  0.0  4.721217  \n",
       "3771  0.000000  0.000000  0.000000  0.0  4.706655  \n",
       "\n",
       "[3772 rows x 13 columns]"
      ]
     },
     "execution_count": 4,
     "metadata": {},
     "output_type": "execute_result"
    }
   ],
   "source": [
    "z = model.encode(x).detach().cpu().numpy().astype(np.float32)\n",
    "\n",
    "columns = []\n",
    "\n",
    "for i in range(len(z[0])):\n",
    "    columns.append(\"x{}\".format(i))\n",
    "\n",
    "df_z = pd.DataFrame(z, columns=columns)\n",
    "\n",
    "# Normalize the data with MinMaxScaler\n",
    "min_max_scaler = preprocessing.MinMaxScaler()\n",
    "z_scaled = min_max_scaler.fit_transform(df_z.values)\n",
    "\n",
    "# Reassign to df_z\n",
    "df_z = pd.DataFrame(z_scaled, columns=columns)\n",
    "\n",
    "# Fetch the errors per data\n",
    "predictions = model(x)\n",
    "targets = x\n",
    "\n",
    "x_loss = nn.MSELoss(reduction='none')(predictions, targets).sum(axis=1).detach().cpu().numpy().astype(np.float32)\n",
    "df_z['error'] = x_loss\n",
    "\n",
    "df_z"
   ]
  },
  {
   "cell_type": "markdown",
   "id": "8d9a0025",
   "metadata": {},
   "source": [
    "## Clustering\n",
    "\n",
    "Given the new dataset containing latent vectors and reconstruction error, we'll then perform clustering to form natural groupings."
   ]
  },
  {
   "cell_type": "code",
   "execution_count": 5,
   "id": "231dc4f1",
   "metadata": {},
   "outputs": [
    {
     "name": "stdout",
     "output_type": "stream",
     "text": [
      "Cluster labels: [-1  0  1  2  3  4  5  6  7  8  9 10 11 12 13 14 15 16 17 18 19 20 21 22\n",
      " 23 24 25 26]\n",
      "Count for Cluster -1: 731\n",
      "Count for Cluster 0: 1546\n",
      "Count for Cluster 1: 771\n",
      "Count for Cluster 2: 234\n",
      "Count for Cluster 3: 55\n",
      "Count for Cluster 4: 80\n",
      "Count for Cluster 5: 53\n",
      "Count for Cluster 6: 15\n",
      "Count for Cluster 7: 10\n",
      "Count for Cluster 8: 8\n",
      "Count for Cluster 9: 13\n",
      "Count for Cluster 10: 15\n",
      "Count for Cluster 11: 59\n",
      "Count for Cluster 12: 6\n",
      "Count for Cluster 13: 25\n",
      "Count for Cluster 14: 5\n",
      "Count for Cluster 15: 8\n",
      "Count for Cluster 16: 22\n",
      "Count for Cluster 17: 18\n",
      "Count for Cluster 18: 8\n",
      "Count for Cluster 19: 39\n",
      "Count for Cluster 20: 8\n",
      "Count for Cluster 21: 6\n",
      "Count for Cluster 22: 8\n",
      "Count for Cluster 23: 8\n",
      "Count for Cluster 24: 7\n",
      "Count for Cluster 25: 9\n",
      "Count for Cluster 26: 5\n"
     ]
    },
    {
     "data": {
      "text/html": [
       "<div>\n",
       "<style scoped>\n",
       "    .dataframe tbody tr th:only-of-type {\n",
       "        vertical-align: middle;\n",
       "    }\n",
       "\n",
       "    .dataframe tbody tr th {\n",
       "        vertical-align: top;\n",
       "    }\n",
       "\n",
       "    .dataframe thead th {\n",
       "        text-align: right;\n",
       "    }\n",
       "</style>\n",
       "<table border=\"1\" class=\"dataframe\">\n",
       "  <thead>\n",
       "    <tr style=\"text-align: right;\">\n",
       "      <th></th>\n",
       "      <th>x0</th>\n",
       "      <th>x1</th>\n",
       "      <th>x2</th>\n",
       "      <th>x3</th>\n",
       "      <th>x4</th>\n",
       "      <th>x5</th>\n",
       "      <th>x6</th>\n",
       "      <th>x7</th>\n",
       "      <th>x8</th>\n",
       "      <th>x9</th>\n",
       "      <th>x10</th>\n",
       "      <th>x11</th>\n",
       "      <th>error</th>\n",
       "      <th>cluster_label</th>\n",
       "    </tr>\n",
       "  </thead>\n",
       "  <tbody>\n",
       "    <tr>\n",
       "      <th>0</th>\n",
       "      <td>0.775102</td>\n",
       "      <td>0.0</td>\n",
       "      <td>0.573821</td>\n",
       "      <td>0.163993</td>\n",
       "      <td>0.0</td>\n",
       "      <td>0.000000</td>\n",
       "      <td>0.272228</td>\n",
       "      <td>0.457206</td>\n",
       "      <td>0.315108</td>\n",
       "      <td>0.833282</td>\n",
       "      <td>0.000000</td>\n",
       "      <td>0.0</td>\n",
       "      <td>4.841214</td>\n",
       "      <td>-1</td>\n",
       "    </tr>\n",
       "    <tr>\n",
       "      <th>1</th>\n",
       "      <td>0.298767</td>\n",
       "      <td>0.0</td>\n",
       "      <td>0.000000</td>\n",
       "      <td>0.002333</td>\n",
       "      <td>0.0</td>\n",
       "      <td>0.128244</td>\n",
       "      <td>0.000000</td>\n",
       "      <td>0.230598</td>\n",
       "      <td>0.000000</td>\n",
       "      <td>0.000000</td>\n",
       "      <td>0.000000</td>\n",
       "      <td>0.0</td>\n",
       "      <td>4.645360</td>\n",
       "      <td>0</td>\n",
       "    </tr>\n",
       "    <tr>\n",
       "      <th>2</th>\n",
       "      <td>0.354891</td>\n",
       "      <td>0.0</td>\n",
       "      <td>0.000000</td>\n",
       "      <td>0.062165</td>\n",
       "      <td>0.0</td>\n",
       "      <td>0.184399</td>\n",
       "      <td>0.000000</td>\n",
       "      <td>0.160503</td>\n",
       "      <td>0.000000</td>\n",
       "      <td>0.000000</td>\n",
       "      <td>0.000000</td>\n",
       "      <td>0.0</td>\n",
       "      <td>4.679860</td>\n",
       "      <td>0</td>\n",
       "    </tr>\n",
       "    <tr>\n",
       "      <th>3</th>\n",
       "      <td>0.548902</td>\n",
       "      <td>0.0</td>\n",
       "      <td>0.000000</td>\n",
       "      <td>0.323047</td>\n",
       "      <td>0.0</td>\n",
       "      <td>0.185622</td>\n",
       "      <td>0.000000</td>\n",
       "      <td>0.308597</td>\n",
       "      <td>0.000000</td>\n",
       "      <td>0.000000</td>\n",
       "      <td>0.334619</td>\n",
       "      <td>0.0</td>\n",
       "      <td>4.780220</td>\n",
       "      <td>1</td>\n",
       "    </tr>\n",
       "    <tr>\n",
       "      <th>4</th>\n",
       "      <td>0.300178</td>\n",
       "      <td>0.0</td>\n",
       "      <td>0.000000</td>\n",
       "      <td>0.000000</td>\n",
       "      <td>0.0</td>\n",
       "      <td>0.095696</td>\n",
       "      <td>0.000000</td>\n",
       "      <td>0.231547</td>\n",
       "      <td>0.000000</td>\n",
       "      <td>0.000000</td>\n",
       "      <td>0.000000</td>\n",
       "      <td>0.0</td>\n",
       "      <td>4.660924</td>\n",
       "      <td>0</td>\n",
       "    </tr>\n",
       "    <tr>\n",
       "      <th>...</th>\n",
       "      <td>...</td>\n",
       "      <td>...</td>\n",
       "      <td>...</td>\n",
       "      <td>...</td>\n",
       "      <td>...</td>\n",
       "      <td>...</td>\n",
       "      <td>...</td>\n",
       "      <td>...</td>\n",
       "      <td>...</td>\n",
       "      <td>...</td>\n",
       "      <td>...</td>\n",
       "      <td>...</td>\n",
       "      <td>...</td>\n",
       "      <td>...</td>\n",
       "    </tr>\n",
       "    <tr>\n",
       "      <th>3767</th>\n",
       "      <td>0.427844</td>\n",
       "      <td>0.0</td>\n",
       "      <td>0.000000</td>\n",
       "      <td>0.116835</td>\n",
       "      <td>0.0</td>\n",
       "      <td>0.244794</td>\n",
       "      <td>0.000000</td>\n",
       "      <td>0.078420</td>\n",
       "      <td>0.000000</td>\n",
       "      <td>0.096654</td>\n",
       "      <td>0.000000</td>\n",
       "      <td>0.0</td>\n",
       "      <td>4.758425</td>\n",
       "      <td>0</td>\n",
       "    </tr>\n",
       "    <tr>\n",
       "      <th>3768</th>\n",
       "      <td>0.340546</td>\n",
       "      <td>0.0</td>\n",
       "      <td>0.000000</td>\n",
       "      <td>0.039199</td>\n",
       "      <td>0.0</td>\n",
       "      <td>0.159959</td>\n",
       "      <td>0.000000</td>\n",
       "      <td>0.178699</td>\n",
       "      <td>0.000000</td>\n",
       "      <td>0.000000</td>\n",
       "      <td>0.000000</td>\n",
       "      <td>0.0</td>\n",
       "      <td>4.645168</td>\n",
       "      <td>0</td>\n",
       "    </tr>\n",
       "    <tr>\n",
       "      <th>3769</th>\n",
       "      <td>0.451642</td>\n",
       "      <td>0.0</td>\n",
       "      <td>0.000000</td>\n",
       "      <td>0.137037</td>\n",
       "      <td>0.0</td>\n",
       "      <td>0.270545</td>\n",
       "      <td>0.000000</td>\n",
       "      <td>0.045445</td>\n",
       "      <td>0.000000</td>\n",
       "      <td>0.174295</td>\n",
       "      <td>0.000000</td>\n",
       "      <td>0.0</td>\n",
       "      <td>4.833234</td>\n",
       "      <td>0</td>\n",
       "    </tr>\n",
       "    <tr>\n",
       "      <th>3770</th>\n",
       "      <td>0.550087</td>\n",
       "      <td>0.0</td>\n",
       "      <td>0.000000</td>\n",
       "      <td>0.314494</td>\n",
       "      <td>0.0</td>\n",
       "      <td>0.180719</td>\n",
       "      <td>0.000000</td>\n",
       "      <td>0.314605</td>\n",
       "      <td>0.000000</td>\n",
       "      <td>0.000000</td>\n",
       "      <td>0.338691</td>\n",
       "      <td>0.0</td>\n",
       "      <td>4.721217</td>\n",
       "      <td>1</td>\n",
       "    </tr>\n",
       "    <tr>\n",
       "      <th>3771</th>\n",
       "      <td>0.354299</td>\n",
       "      <td>0.0</td>\n",
       "      <td>0.000000</td>\n",
       "      <td>0.052052</td>\n",
       "      <td>0.0</td>\n",
       "      <td>0.159256</td>\n",
       "      <td>0.000000</td>\n",
       "      <td>0.157711</td>\n",
       "      <td>0.000000</td>\n",
       "      <td>0.000000</td>\n",
       "      <td>0.000000</td>\n",
       "      <td>0.0</td>\n",
       "      <td>4.706655</td>\n",
       "      <td>0</td>\n",
       "    </tr>\n",
       "  </tbody>\n",
       "</table>\n",
       "<p>3772 rows × 14 columns</p>\n",
       "</div>"
      ],
      "text/plain": [
       "            x0   x1        x2        x3   x4        x5        x6        x7  \\\n",
       "0     0.775102  0.0  0.573821  0.163993  0.0  0.000000  0.272228  0.457206   \n",
       "1     0.298767  0.0  0.000000  0.002333  0.0  0.128244  0.000000  0.230598   \n",
       "2     0.354891  0.0  0.000000  0.062165  0.0  0.184399  0.000000  0.160503   \n",
       "3     0.548902  0.0  0.000000  0.323047  0.0  0.185622  0.000000  0.308597   \n",
       "4     0.300178  0.0  0.000000  0.000000  0.0  0.095696  0.000000  0.231547   \n",
       "...        ...  ...       ...       ...  ...       ...       ...       ...   \n",
       "3767  0.427844  0.0  0.000000  0.116835  0.0  0.244794  0.000000  0.078420   \n",
       "3768  0.340546  0.0  0.000000  0.039199  0.0  0.159959  0.000000  0.178699   \n",
       "3769  0.451642  0.0  0.000000  0.137037  0.0  0.270545  0.000000  0.045445   \n",
       "3770  0.550087  0.0  0.000000  0.314494  0.0  0.180719  0.000000  0.314605   \n",
       "3771  0.354299  0.0  0.000000  0.052052  0.0  0.159256  0.000000  0.157711   \n",
       "\n",
       "            x8        x9       x10  x11     error  cluster_label  \n",
       "0     0.315108  0.833282  0.000000  0.0  4.841214             -1  \n",
       "1     0.000000  0.000000  0.000000  0.0  4.645360              0  \n",
       "2     0.000000  0.000000  0.000000  0.0  4.679860              0  \n",
       "3     0.000000  0.000000  0.334619  0.0  4.780220              1  \n",
       "4     0.000000  0.000000  0.000000  0.0  4.660924              0  \n",
       "...        ...       ...       ...  ...       ...            ...  \n",
       "3767  0.000000  0.096654  0.000000  0.0  4.758425              0  \n",
       "3768  0.000000  0.000000  0.000000  0.0  4.645168              0  \n",
       "3769  0.000000  0.174295  0.000000  0.0  4.833234              0  \n",
       "3770  0.000000  0.000000  0.338691  0.0  4.721217              1  \n",
       "3771  0.000000  0.000000  0.000000  0.0  4.706655              0  \n",
       "\n",
       "[3772 rows x 14 columns]"
      ]
     },
     "execution_count": 5,
     "metadata": {},
     "output_type": "execute_result"
    }
   ],
   "source": [
    "clustering = DBSCAN(eps=eps, min_samples=min_samples).fit(df_z.values)\n",
    "\n",
    "unique_labels = np.unique(clustering.labels_)\n",
    "\n",
    "print(\"Cluster labels: {}\".format(unique_labels))\n",
    "\n",
    "df_z_with_cluster_labels = df_z.copy()\n",
    "df_z_with_cluster_labels['cluster_label'] = clustering.labels_\n",
    "\n",
    "for cluster_label in unique_labels:\n",
    "    count = len(df_z_with_cluster_labels[df_z_with_cluster_labels['cluster_label'] == cluster_label])\n",
    "    print(\"Count for Cluster {}: {}\".format(cluster_label, count))\n",
    "    \n",
    "df_z_with_cluster_labels"
   ]
  },
  {
   "cell_type": "markdown",
   "id": "8a25a26a",
   "metadata": {},
   "source": [
    "## Visualizing Clusters\n",
    "\n",
    "Use TSNE to reduce to 3 dimensions for visualization and plotly 3d scatterplot for visualization.\n",
    "\n",
    "**Documentation:**\n",
    "* **TSNE:**: https://scikit-learn.org/stable/modules/generated/sklearn.manifold.TSNE.html\n",
    "* **Plotly 3D Scatterplot:**: https://plotly.com/python/3d-scatter-plots/"
   ]
  },
  {
   "cell_type": "code",
   "execution_count": 6,
   "id": "a19baac3",
   "metadata": {},
   "outputs": [],
   "source": [
    "# Fit a TSNE model with 3 dimensions\n",
    "# z_embedded = TSNE(n_components=3, learning_rate='auto', init='random').fit_transform(df_z.values)\n",
    "\n",
    "# # Create a new data frame for result of tsne and attach cluster label\n",
    "# df_z_embedded = pd.DataFrame(z_embedded, columns=['x', 'y', 'z'])\n",
    "# df_z_embedded['cluster_label'] = df_z_with_cluster_labels['cluster_label']\n",
    "\n",
    "# # Visualize with 3D scatterplot\n",
    "# fig = px.scatter_3d(df_z_embedded, x='x', y='y', z='z', color='cluster_label')\n",
    "# fig.show()"
   ]
  },
  {
   "cell_type": "markdown",
   "id": "4e648b20",
   "metadata": {},
   "source": [
    "## Training for Perceived Normal Data\n",
    "\n",
    "We now train a new autoencoder model for data points whose cluster_label is not equal to -1. This will serve as our prediction model for auto-thresholding later on."
   ]
  },
  {
   "cell_type": "code",
   "execution_count": 7,
   "id": "febcadad",
   "metadata": {},
   "outputs": [
    {
     "data": {
      "text/html": [
       "<div>\n",
       "<style scoped>\n",
       "    .dataframe tbody tr th:only-of-type {\n",
       "        vertical-align: middle;\n",
       "    }\n",
       "\n",
       "    .dataframe tbody tr th {\n",
       "        vertical-align: top;\n",
       "    }\n",
       "\n",
       "    .dataframe thead th {\n",
       "        text-align: right;\n",
       "    }\n",
       "</style>\n",
       "<table border=\"1\" class=\"dataframe\">\n",
       "  <thead>\n",
       "    <tr style=\"text-align: right;\">\n",
       "      <th></th>\n",
       "      <th>x0</th>\n",
       "      <th>x1</th>\n",
       "      <th>x2</th>\n",
       "      <th>x3</th>\n",
       "      <th>x4</th>\n",
       "      <th>x5</th>\n",
       "      <th>x6</th>\n",
       "      <th>x7</th>\n",
       "      <th>x8</th>\n",
       "      <th>x9</th>\n",
       "      <th>...</th>\n",
       "      <th>x11</th>\n",
       "      <th>x12</th>\n",
       "      <th>x13</th>\n",
       "      <th>x14</th>\n",
       "      <th>x15</th>\n",
       "      <th>x16</th>\n",
       "      <th>x17</th>\n",
       "      <th>x18</th>\n",
       "      <th>x19</th>\n",
       "      <th>x20</th>\n",
       "    </tr>\n",
       "  </thead>\n",
       "  <tbody>\n",
       "    <tr>\n",
       "      <th>1</th>\n",
       "      <td>0.24</td>\n",
       "      <td>0</td>\n",
       "      <td>0</td>\n",
       "      <td>0</td>\n",
       "      <td>0</td>\n",
       "      <td>0</td>\n",
       "      <td>0</td>\n",
       "      <td>0</td>\n",
       "      <td>0</td>\n",
       "      <td>0</td>\n",
       "      <td>...</td>\n",
       "      <td>0</td>\n",
       "      <td>0</td>\n",
       "      <td>0</td>\n",
       "      <td>0</td>\n",
       "      <td>0</td>\n",
       "      <td>0.00025</td>\n",
       "      <td>0.0300</td>\n",
       "      <td>0.143</td>\n",
       "      <td>0.133</td>\n",
       "      <td>0.108</td>\n",
       "    </tr>\n",
       "    <tr>\n",
       "      <th>2</th>\n",
       "      <td>0.47</td>\n",
       "      <td>0</td>\n",
       "      <td>0</td>\n",
       "      <td>0</td>\n",
       "      <td>0</td>\n",
       "      <td>0</td>\n",
       "      <td>0</td>\n",
       "      <td>0</td>\n",
       "      <td>0</td>\n",
       "      <td>0</td>\n",
       "      <td>...</td>\n",
       "      <td>0</td>\n",
       "      <td>0</td>\n",
       "      <td>0</td>\n",
       "      <td>0</td>\n",
       "      <td>0</td>\n",
       "      <td>0.00190</td>\n",
       "      <td>0.0240</td>\n",
       "      <td>0.102</td>\n",
       "      <td>0.131</td>\n",
       "      <td>0.078</td>\n",
       "    </tr>\n",
       "    <tr>\n",
       "      <th>3</th>\n",
       "      <td>0.64</td>\n",
       "      <td>1</td>\n",
       "      <td>0</td>\n",
       "      <td>0</td>\n",
       "      <td>0</td>\n",
       "      <td>0</td>\n",
       "      <td>0</td>\n",
       "      <td>0</td>\n",
       "      <td>0</td>\n",
       "      <td>0</td>\n",
       "      <td>...</td>\n",
       "      <td>0</td>\n",
       "      <td>0</td>\n",
       "      <td>0</td>\n",
       "      <td>0</td>\n",
       "      <td>0</td>\n",
       "      <td>0.00090</td>\n",
       "      <td>0.0170</td>\n",
       "      <td>0.077</td>\n",
       "      <td>0.090</td>\n",
       "      <td>0.085</td>\n",
       "    </tr>\n",
       "    <tr>\n",
       "      <th>4</th>\n",
       "      <td>0.23</td>\n",
       "      <td>0</td>\n",
       "      <td>0</td>\n",
       "      <td>0</td>\n",
       "      <td>0</td>\n",
       "      <td>0</td>\n",
       "      <td>0</td>\n",
       "      <td>0</td>\n",
       "      <td>0</td>\n",
       "      <td>0</td>\n",
       "      <td>...</td>\n",
       "      <td>0</td>\n",
       "      <td>0</td>\n",
       "      <td>0</td>\n",
       "      <td>0</td>\n",
       "      <td>0</td>\n",
       "      <td>0.00025</td>\n",
       "      <td>0.0260</td>\n",
       "      <td>0.139</td>\n",
       "      <td>0.090</td>\n",
       "      <td>0.153</td>\n",
       "    </tr>\n",
       "    <tr>\n",
       "      <th>5</th>\n",
       "      <td>0.69</td>\n",
       "      <td>1</td>\n",
       "      <td>0</td>\n",
       "      <td>0</td>\n",
       "      <td>0</td>\n",
       "      <td>0</td>\n",
       "      <td>0</td>\n",
       "      <td>0</td>\n",
       "      <td>0</td>\n",
       "      <td>0</td>\n",
       "      <td>...</td>\n",
       "      <td>0</td>\n",
       "      <td>0</td>\n",
       "      <td>0</td>\n",
       "      <td>0</td>\n",
       "      <td>0</td>\n",
       "      <td>0.00025</td>\n",
       "      <td>0.0160</td>\n",
       "      <td>0.086</td>\n",
       "      <td>0.070</td>\n",
       "      <td>0.123</td>\n",
       "    </tr>\n",
       "    <tr>\n",
       "      <th>...</th>\n",
       "      <td>...</td>\n",
       "      <td>...</td>\n",
       "      <td>...</td>\n",
       "      <td>...</td>\n",
       "      <td>...</td>\n",
       "      <td>...</td>\n",
       "      <td>...</td>\n",
       "      <td>...</td>\n",
       "      <td>...</td>\n",
       "      <td>...</td>\n",
       "      <td>...</td>\n",
       "      <td>...</td>\n",
       "      <td>...</td>\n",
       "      <td>...</td>\n",
       "      <td>...</td>\n",
       "      <td>...</td>\n",
       "      <td>...</td>\n",
       "      <td>...</td>\n",
       "      <td>...</td>\n",
       "      <td>...</td>\n",
       "      <td>...</td>\n",
       "    </tr>\n",
       "    <tr>\n",
       "      <th>3767</th>\n",
       "      <td>0.77</td>\n",
       "      <td>0</td>\n",
       "      <td>0</td>\n",
       "      <td>0</td>\n",
       "      <td>0</td>\n",
       "      <td>0</td>\n",
       "      <td>0</td>\n",
       "      <td>0</td>\n",
       "      <td>0</td>\n",
       "      <td>0</td>\n",
       "      <td>...</td>\n",
       "      <td>0</td>\n",
       "      <td>0</td>\n",
       "      <td>0</td>\n",
       "      <td>0</td>\n",
       "      <td>0</td>\n",
       "      <td>0.00006</td>\n",
       "      <td>0.0206</td>\n",
       "      <td>0.125</td>\n",
       "      <td>0.107</td>\n",
       "      <td>0.117</td>\n",
       "    </tr>\n",
       "    <tr>\n",
       "      <th>3768</th>\n",
       "      <td>0.41</td>\n",
       "      <td>0</td>\n",
       "      <td>0</td>\n",
       "      <td>0</td>\n",
       "      <td>0</td>\n",
       "      <td>0</td>\n",
       "      <td>0</td>\n",
       "      <td>0</td>\n",
       "      <td>0</td>\n",
       "      <td>0</td>\n",
       "      <td>...</td>\n",
       "      <td>0</td>\n",
       "      <td>0</td>\n",
       "      <td>0</td>\n",
       "      <td>0</td>\n",
       "      <td>0</td>\n",
       "      <td>0.00130</td>\n",
       "      <td>0.0250</td>\n",
       "      <td>0.125</td>\n",
       "      <td>0.114</td>\n",
       "      <td>0.109</td>\n",
       "    </tr>\n",
       "    <tr>\n",
       "      <th>3769</th>\n",
       "      <td>0.88</td>\n",
       "      <td>0</td>\n",
       "      <td>0</td>\n",
       "      <td>0</td>\n",
       "      <td>0</td>\n",
       "      <td>0</td>\n",
       "      <td>0</td>\n",
       "      <td>0</td>\n",
       "      <td>0</td>\n",
       "      <td>0</td>\n",
       "      <td>...</td>\n",
       "      <td>0</td>\n",
       "      <td>0</td>\n",
       "      <td>0</td>\n",
       "      <td>0</td>\n",
       "      <td>0</td>\n",
       "      <td>0.01300</td>\n",
       "      <td>0.0174</td>\n",
       "      <td>0.123</td>\n",
       "      <td>0.099</td>\n",
       "      <td>0.124</td>\n",
       "    </tr>\n",
       "    <tr>\n",
       "      <th>3770</th>\n",
       "      <td>0.64</td>\n",
       "      <td>1</td>\n",
       "      <td>0</td>\n",
       "      <td>0</td>\n",
       "      <td>0</td>\n",
       "      <td>0</td>\n",
       "      <td>0</td>\n",
       "      <td>0</td>\n",
       "      <td>0</td>\n",
       "      <td>0</td>\n",
       "      <td>...</td>\n",
       "      <td>0</td>\n",
       "      <td>0</td>\n",
       "      <td>0</td>\n",
       "      <td>0</td>\n",
       "      <td>0</td>\n",
       "      <td>0.00078</td>\n",
       "      <td>0.0206</td>\n",
       "      <td>0.106</td>\n",
       "      <td>0.088</td>\n",
       "      <td>0.121</td>\n",
       "    </tr>\n",
       "    <tr>\n",
       "      <th>3771</th>\n",
       "      <td>0.46</td>\n",
       "      <td>0</td>\n",
       "      <td>0</td>\n",
       "      <td>0</td>\n",
       "      <td>0</td>\n",
       "      <td>0</td>\n",
       "      <td>0</td>\n",
       "      <td>0</td>\n",
       "      <td>0</td>\n",
       "      <td>0</td>\n",
       "      <td>...</td>\n",
       "      <td>0</td>\n",
       "      <td>0</td>\n",
       "      <td>0</td>\n",
       "      <td>0</td>\n",
       "      <td>0</td>\n",
       "      <td>0.00189</td>\n",
       "      <td>0.0206</td>\n",
       "      <td>0.093</td>\n",
       "      <td>0.091</td>\n",
       "      <td>0.102</td>\n",
       "    </tr>\n",
       "  </tbody>\n",
       "</table>\n",
       "<p>3041 rows × 21 columns</p>\n",
       "</div>"
      ],
      "text/plain": [
       "        x0  x1  x2  x3  x4  x5  x6  x7  x8  x9  ...  x11  x12  x13  x14  x15  \\\n",
       "1     0.24   0   0   0   0   0   0   0   0   0  ...    0    0    0    0    0   \n",
       "2     0.47   0   0   0   0   0   0   0   0   0  ...    0    0    0    0    0   \n",
       "3     0.64   1   0   0   0   0   0   0   0   0  ...    0    0    0    0    0   \n",
       "4     0.23   0   0   0   0   0   0   0   0   0  ...    0    0    0    0    0   \n",
       "5     0.69   1   0   0   0   0   0   0   0   0  ...    0    0    0    0    0   \n",
       "...    ...  ..  ..  ..  ..  ..  ..  ..  ..  ..  ...  ...  ...  ...  ...  ...   \n",
       "3767  0.77   0   0   0   0   0   0   0   0   0  ...    0    0    0    0    0   \n",
       "3768  0.41   0   0   0   0   0   0   0   0   0  ...    0    0    0    0    0   \n",
       "3769  0.88   0   0   0   0   0   0   0   0   0  ...    0    0    0    0    0   \n",
       "3770  0.64   1   0   0   0   0   0   0   0   0  ...    0    0    0    0    0   \n",
       "3771  0.46   0   0   0   0   0   0   0   0   0  ...    0    0    0    0    0   \n",
       "\n",
       "          x16     x17    x18    x19    x20  \n",
       "1     0.00025  0.0300  0.143  0.133  0.108  \n",
       "2     0.00190  0.0240  0.102  0.131  0.078  \n",
       "3     0.00090  0.0170  0.077  0.090  0.085  \n",
       "4     0.00025  0.0260  0.139  0.090  0.153  \n",
       "5     0.00025  0.0160  0.086  0.070  0.123  \n",
       "...       ...     ...    ...    ...    ...  \n",
       "3767  0.00006  0.0206  0.125  0.107  0.117  \n",
       "3768  0.00130  0.0250  0.125  0.114  0.109  \n",
       "3769  0.01300  0.0174  0.123  0.099  0.124  \n",
       "3770  0.00078  0.0206  0.106  0.088  0.121  \n",
       "3771  0.00189  0.0206  0.093  0.091  0.102  \n",
       "\n",
       "[3041 rows x 21 columns]"
      ]
     },
     "execution_count": 7,
     "metadata": {},
     "output_type": "execute_result"
    }
   ],
   "source": [
    "df_normal = df_train_x.copy()\n",
    "df_normal = df_normal[df_z_with_cluster_labels['cluster_label'] != -1]\n",
    "\n",
    "df_normal"
   ]
  },
  {
   "cell_type": "code",
   "execution_count": 8,
   "id": "b46e38ff",
   "metadata": {},
   "outputs": [
    {
     "name": "stdout",
     "output_type": "stream",
     "text": [
      "Epoch: 0\n"
     ]
    },
    {
     "name": "stderr",
     "output_type": "stream",
     "text": [
      "100%|███████████████████████████████████████████████████████████████████████████████████████████████████████████████████████████████████████████████████████████████| 305/305 [00:00<00:00, 532.65it/s, loss=0.692]\n"
     ]
    },
    {
     "name": "stdout",
     "output_type": "stream",
     "text": [
      "Epoch: 1\n"
     ]
    },
    {
     "name": "stderr",
     "output_type": "stream",
     "text": [
      "100%|███████████████████████████████████████████████████████████████████████████████████████████████████████████████████████████████████████████████████████████████| 305/305 [00:00<00:00, 563.42it/s, loss=0.691]\n"
     ]
    },
    {
     "name": "stdout",
     "output_type": "stream",
     "text": [
      "Epoch: 2\n"
     ]
    },
    {
     "name": "stderr",
     "output_type": "stream",
     "text": [
      "100%|███████████████████████████████████████████████████████████████████████████████████████████████████████████████████████████████████████████████████████████████| 305/305 [00:00<00:00, 444.46it/s, loss=0.691]\n"
     ]
    },
    {
     "name": "stdout",
     "output_type": "stream",
     "text": [
      "Epoch: 3\n"
     ]
    },
    {
     "name": "stderr",
     "output_type": "stream",
     "text": [
      "100%|███████████████████████████████████████████████████████████████████████████████████████████████████████████████████████████████████████████████████████████████| 305/305 [00:00<00:00, 486.21it/s, loss=0.691]\n"
     ]
    },
    {
     "name": "stdout",
     "output_type": "stream",
     "text": [
      "Epoch: 4\n"
     ]
    },
    {
     "name": "stderr",
     "output_type": "stream",
     "text": [
      "100%|███████████████████████████████████████████████████████████████████████████████████████████████████████████████████████████████████████████████████████████████| 305/305 [00:00<00:00, 520.21it/s, loss=0.691]\n"
     ]
    },
    {
     "name": "stdout",
     "output_type": "stream",
     "text": [
      "Epoch: 5\n"
     ]
    },
    {
     "name": "stderr",
     "output_type": "stream",
     "text": [
      "100%|████████████████████████████████████████████████████████████████████████████████████████████████████████████████████████████████████████████████████████████████| 305/305 [00:00<00:00, 515.51it/s, loss=0.69]\n"
     ]
    },
    {
     "name": "stdout",
     "output_type": "stream",
     "text": [
      "Epoch: 6\n"
     ]
    },
    {
     "name": "stderr",
     "output_type": "stream",
     "text": [
      "100%|████████████████████████████████████████████████████████████████████████████████████████████████████████████████████████████████████████████████████████████████| 305/305 [00:00<00:00, 533.85it/s, loss=0.69]\n"
     ]
    },
    {
     "name": "stdout",
     "output_type": "stream",
     "text": [
      "Epoch: 7\n"
     ]
    },
    {
     "name": "stderr",
     "output_type": "stream",
     "text": [
      "100%|████████████████████████████████████████████████████████████████████████████████████████████████████████████████████████████████████████████████████████████████| 305/305 [00:00<00:00, 555.03it/s, loss=0.69]\n"
     ]
    },
    {
     "name": "stdout",
     "output_type": "stream",
     "text": [
      "Epoch: 8\n"
     ]
    },
    {
     "name": "stderr",
     "output_type": "stream",
     "text": [
      "100%|████████████████████████████████████████████████████████████████████████████████████████████████████████████████████████████████████████████████████████████████| 305/305 [00:00<00:00, 573.72it/s, loss=0.69]\n"
     ]
    },
    {
     "name": "stdout",
     "output_type": "stream",
     "text": [
      "Epoch: 9\n"
     ]
    },
    {
     "name": "stderr",
     "output_type": "stream",
     "text": [
      "100%|███████████████████████████████████████████████████████████████████████████████████████████████████████████████████████████████████████████████████████████████| 305/305 [00:00<00:00, 560.80it/s, loss=0.689]\n"
     ]
    },
    {
     "name": "stdout",
     "output_type": "stream",
     "text": [
      "Epoch: 10\n"
     ]
    },
    {
     "name": "stderr",
     "output_type": "stream",
     "text": [
      "100%|███████████████████████████████████████████████████████████████████████████████████████████████████████████████████████████████████████████████████████████████| 305/305 [00:00<00:00, 529.45it/s, loss=0.689]\n"
     ]
    },
    {
     "name": "stdout",
     "output_type": "stream",
     "text": [
      "Epoch: 11\n"
     ]
    },
    {
     "name": "stderr",
     "output_type": "stream",
     "text": [
      "100%|███████████████████████████████████████████████████████████████████████████████████████████████████████████████████████████████████████████████████████████████| 305/305 [00:00<00:00, 440.01it/s, loss=0.689]\n"
     ]
    },
    {
     "name": "stdout",
     "output_type": "stream",
     "text": [
      "Epoch: 12\n"
     ]
    },
    {
     "name": "stderr",
     "output_type": "stream",
     "text": [
      "100%|███████████████████████████████████████████████████████████████████████████████████████████████████████████████████████████████████████████████████████████████| 305/305 [00:00<00:00, 505.51it/s, loss=0.689]\n"
     ]
    },
    {
     "name": "stdout",
     "output_type": "stream",
     "text": [
      "Epoch: 13\n"
     ]
    },
    {
     "name": "stderr",
     "output_type": "stream",
     "text": [
      "100%|███████████████████████████████████████████████████████████████████████████████████████████████████████████████████████████████████████████████████████████████| 305/305 [00:00<00:00, 418.03it/s, loss=0.688]\n"
     ]
    },
    {
     "name": "stdout",
     "output_type": "stream",
     "text": [
      "Epoch: 14\n"
     ]
    },
    {
     "name": "stderr",
     "output_type": "stream",
     "text": [
      "100%|███████████████████████████████████████████████████████████████████████████████████████████████████████████████████████████████████████████████████████████████| 305/305 [00:00<00:00, 526.53it/s, loss=0.688]\n"
     ]
    },
    {
     "name": "stdout",
     "output_type": "stream",
     "text": [
      "Epoch: 15\n"
     ]
    },
    {
     "name": "stderr",
     "output_type": "stream",
     "text": [
      "100%|███████████████████████████████████████████████████████████████████████████████████████████████████████████████████████████████████████████████████████████████| 305/305 [00:00<00:00, 497.53it/s, loss=0.688]\n"
     ]
    },
    {
     "name": "stdout",
     "output_type": "stream",
     "text": [
      "Epoch: 16\n"
     ]
    },
    {
     "name": "stderr",
     "output_type": "stream",
     "text": [
      "100%|███████████████████████████████████████████████████████████████████████████████████████████████████████████████████████████████████████████████████████████████| 305/305 [00:00<00:00, 449.30it/s, loss=0.688]\n"
     ]
    },
    {
     "name": "stdout",
     "output_type": "stream",
     "text": [
      "Epoch: 17\n"
     ]
    },
    {
     "name": "stderr",
     "output_type": "stream",
     "text": [
      "100%|███████████████████████████████████████████████████████████████████████████████████████████████████████████████████████████████████████████████████████████████| 305/305 [00:00<00:00, 401.12it/s, loss=0.688]\n"
     ]
    },
    {
     "name": "stdout",
     "output_type": "stream",
     "text": [
      "Epoch: 18\n"
     ]
    },
    {
     "name": "stderr",
     "output_type": "stream",
     "text": [
      "100%|███████████████████████████████████████████████████████████████████████████████████████████████████████████████████████████████████████████████████████████████| 305/305 [00:00<00:00, 592.52it/s, loss=0.687]\n"
     ]
    },
    {
     "name": "stdout",
     "output_type": "stream",
     "text": [
      "Epoch: 19\n"
     ]
    },
    {
     "name": "stderr",
     "output_type": "stream",
     "text": [
      "100%|███████████████████████████████████████████████████████████████████████████████████████████████████████████████████████████████████████████████████████████████| 305/305 [00:00<00:00, 588.68it/s, loss=0.687]\n"
     ]
    },
    {
     "name": "stdout",
     "output_type": "stream",
     "text": [
      "Epoch: 20\n"
     ]
    },
    {
     "name": "stderr",
     "output_type": "stream",
     "text": [
      "100%|███████████████████████████████████████████████████████████████████████████████████████████████████████████████████████████████████████████████████████████████| 305/305 [00:00<00:00, 658.54it/s, loss=0.687]\n"
     ]
    },
    {
     "name": "stdout",
     "output_type": "stream",
     "text": [
      "Epoch: 21\n"
     ]
    },
    {
     "name": "stderr",
     "output_type": "stream",
     "text": [
      "100%|███████████████████████████████████████████████████████████████████████████████████████████████████████████████████████████████████████████████████████████████| 305/305 [00:00<00:00, 730.88it/s, loss=0.687]\n"
     ]
    },
    {
     "name": "stdout",
     "output_type": "stream",
     "text": [
      "Epoch: 22\n"
     ]
    },
    {
     "name": "stderr",
     "output_type": "stream",
     "text": [
      "100%|███████████████████████████████████████████████████████████████████████████████████████████████████████████████████████████████████████████████████████████████| 305/305 [00:00<00:00, 656.45it/s, loss=0.686]\n"
     ]
    },
    {
     "name": "stdout",
     "output_type": "stream",
     "text": [
      "Epoch: 23\n"
     ]
    },
    {
     "name": "stderr",
     "output_type": "stream",
     "text": [
      "100%|███████████████████████████████████████████████████████████████████████████████████████████████████████████████████████████████████████████████████████████████| 305/305 [00:00<00:00, 650.94it/s, loss=0.686]\n"
     ]
    },
    {
     "name": "stdout",
     "output_type": "stream",
     "text": [
      "Epoch: 24\n"
     ]
    },
    {
     "name": "stderr",
     "output_type": "stream",
     "text": [
      "100%|███████████████████████████████████████████████████████████████████████████████████████████████████████████████████████████████████████████████████████████████| 305/305 [00:00<00:00, 711.84it/s, loss=0.686]"
     ]
    },
    {
     "name": "stdout",
     "output_type": "stream",
     "text": [
      "Done training!\n"
     ]
    },
    {
     "name": "stderr",
     "output_type": "stream",
     "text": [
      "\n"
     ]
    }
   ],
   "source": [
    "# Represent the training data as x\n",
    "x = torch.tensor(df_normal.values).float().to(device)\n",
    "\n",
    "# Load the dataset\n",
    "train_ds = AutoencoderDataset(x=x)\n",
    "\n",
    "# Create a DataLoader instance\n",
    "train_loader = DataLoader(train_ds, batch_size=batch_size, shuffle=False, drop_last=False)\n",
    "\n",
    "# The training process\n",
    "for epoch in range(epochs):\n",
    "    print(\"Epoch: {}\".format(epoch))\n",
    "    \n",
    "    loop = tqdm(train_loader)\n",
    "    \n",
    "    for batch_idx, (data, targets) in enumerate(loop):\n",
    "        data = data.to(device=device)\n",
    "        targets = targets.to(device=device)\n",
    "        \n",
    "        # Feed forward\n",
    "        predictions = model(data)\n",
    "        \n",
    "        loss = loss_fn(predictions, targets)\n",
    "        \n",
    "        # Backprop\n",
    "        optimizer.zero_grad()\n",
    "        loss.backward()\n",
    "        optimizer.step()\n",
    "        \n",
    "        # Update tqdm\n",
    "        loop.set_postfix(loss=loss.item())\n",
    "        \n",
    "print(\"Done training!\")"
   ]
  },
  {
   "cell_type": "markdown",
   "id": "a408253f",
   "metadata": {},
   "source": [
    "## Threshold Computation\n",
    "\n",
    "Using reconstruction errors, compute for the reconstruction threshold value."
   ]
  },
  {
   "cell_type": "code",
   "execution_count": 9,
   "id": "b49279f2",
   "metadata": {},
   "outputs": [
    {
     "data": {
      "image/png": "[encoded data removed]",
      "text/plain": [
       "<Figure size 432x288 with 1 Axes>"
      ]
     },
     "metadata": {
      "needs_background": "light"
     },
     "output_type": "display_data"
    },
    {
     "name": "stdout",
     "output_type": "stream",
     "text": [
      "Bin Width: 0.011526649335843572\n",
      "Num Bins: 41\n",
      "Max Loss: 4.896299839019775\n",
      "Min Loss: 4.416360378265381\n",
      "Min Bin: 4.416360378265381\n",
      "Max Bin: 9.312660217285156\n",
      "Optimal Threshold: 4.714915246498295\n"
     ]
    }
   ],
   "source": [
    "\"\"\"\n",
    "Utility Functions\n",
    "\"\"\"\n",
    "# Head tail break function\n",
    "def htb(data):\n",
    "    outp = []\n",
    "    \n",
    "    def htb_inner(data):\n",
    "        data_length = float(len(data))\n",
    "        data_mean = sum(data) / data_length\n",
    "        \n",
    "        head = [_ for _ in data if _ > data_mean]\n",
    "        outp.append(data_mean)\n",
    "        \n",
    "        while len(head) > 1 and len(head) / data_length < 0.40:\n",
    "            return htb_inner(head)\n",
    "        \n",
    "    htb_inner(data)\n",
    "    \n",
    "    return outp\n",
    "\n",
    "# Determine a breakpoint\n",
    "def fetch_threshold(bins, counts, break_point):\n",
    "    index = 0\n",
    "    latest_min = 999999\n",
    "    threshold = -1\n",
    "    \n",
    "    for i in range(len(counts)):\n",
    "        diff = abs(counts[i] - break_point)\n",
    "        \n",
    "        if diff <= latest_min:\n",
    "            latest_min = diff\n",
    "            index = i\n",
    "            threshold = ((bins[i + 1] - bins[i]) / 2) + bins[i]\n",
    "            \n",
    "    return threshold\n",
    "\n",
    "predictions = model(x)\n",
    "targets = x\n",
    "\n",
    "x_loss = nn.MSELoss(reduction='none')(predictions, targets).sum(axis=1).detach().cpu().numpy().astype(np.float32)\n",
    "\n",
    "max_loss = np.max(x_loss)\n",
    "min_loss = np.min(x_loss)\n",
    "\n",
    "# Compute the optimal bin width using Freedman Diaconis rule\n",
    "bin_width = 2 * (iqr(x_loss) / (len(x_loss) ** (1./3)))\n",
    "num_bins = int((max_loss - min_loss) / bin_width)\n",
    "\n",
    "# Create the histogram\n",
    "min_bin = np.min(x_loss)\n",
    "max_bin = np.max(x_loss) + min_bin\n",
    "\n",
    "step = (max_bin - min_bin) / num_bins\n",
    "\n",
    "bins = np.arange(min_bin, max_bin, step)\n",
    "\n",
    "hist, bins = np.histogram(x_loss, bins=bins)\n",
    "\n",
    "pyplot.hist(x_loss, bins, alpha=0.5)\n",
    "pyplot.show()\n",
    "\n",
    "print(\"Bin Width: {}\".format(bin_width))\n",
    "print(\"Num Bins: {}\".format(num_bins))\n",
    "print(\"Max Loss: {}\".format(max_loss))\n",
    "print(\"Min Loss: {}\".format(min_loss))\n",
    "print(\"Min Bin: {}\".format(min_bin))\n",
    "print(\"Max Bin: {}\".format(max_bin))\n",
    "\n",
    "\n",
    "\n",
    "# Determine breaks\n",
    "breaks = htb(hist)\n",
    "\n",
    "possible_thresholds = []\n",
    "\n",
    "for b in breaks:\n",
    "    t = fetch_threshold(bins, hist, b)\n",
    "    possible_thresholds.append(t)\n",
    "\n",
    "optimal_threshold = max(possible_thresholds)\n",
    "\n",
    "print(\"Optimal Threshold: {}\".format(optimal_threshold))"
   ]
  },
  {
   "cell_type": "markdown",
   "id": "ac907864",
   "metadata": {},
   "source": [
    "## Compute for Anomalies"
   ]
  },
  {
   "cell_type": "code",
   "execution_count": 10,
   "id": "94bddfa9",
   "metadata": {},
   "outputs": [
    {
     "data": {
      "text/html": [
       "<div>\n",
       "<style scoped>\n",
       "    .dataframe tbody tr th:only-of-type {\n",
       "        vertical-align: middle;\n",
       "    }\n",
       "\n",
       "    .dataframe tbody tr th {\n",
       "        vertical-align: top;\n",
       "    }\n",
       "\n",
       "    .dataframe thead th {\n",
       "        text-align: right;\n",
       "    }\n",
       "</style>\n",
       "<table border=\"1\" class=\"dataframe\">\n",
       "  <thead>\n",
       "    <tr style=\"text-align: right;\">\n",
       "      <th></th>\n",
       "      <th>x0</th>\n",
       "      <th>x1</th>\n",
       "      <th>x2</th>\n",
       "      <th>x3</th>\n",
       "      <th>x4</th>\n",
       "      <th>x5</th>\n",
       "      <th>x6</th>\n",
       "      <th>x7</th>\n",
       "      <th>x8</th>\n",
       "      <th>x9</th>\n",
       "      <th>...</th>\n",
       "      <th>x12</th>\n",
       "      <th>x13</th>\n",
       "      <th>x14</th>\n",
       "      <th>x15</th>\n",
       "      <th>x16</th>\n",
       "      <th>x17</th>\n",
       "      <th>x18</th>\n",
       "      <th>x19</th>\n",
       "      <th>x20</th>\n",
       "      <th>y</th>\n",
       "    </tr>\n",
       "  </thead>\n",
       "  <tbody>\n",
       "    <tr>\n",
       "      <th>0</th>\n",
       "      <td>0.29</td>\n",
       "      <td>0</td>\n",
       "      <td>0</td>\n",
       "      <td>0</td>\n",
       "      <td>0</td>\n",
       "      <td>0</td>\n",
       "      <td>0</td>\n",
       "      <td>0</td>\n",
       "      <td>0</td>\n",
       "      <td>0</td>\n",
       "      <td>...</td>\n",
       "      <td>0</td>\n",
       "      <td>0</td>\n",
       "      <td>0</td>\n",
       "      <td>0</td>\n",
       "      <td>0.00610</td>\n",
       "      <td>0.0280</td>\n",
       "      <td>0.111</td>\n",
       "      <td>0.131</td>\n",
       "      <td>0.0850</td>\n",
       "      <td>1</td>\n",
       "    </tr>\n",
       "    <tr>\n",
       "      <th>1</th>\n",
       "      <td>0.32</td>\n",
       "      <td>0</td>\n",
       "      <td>0</td>\n",
       "      <td>0</td>\n",
       "      <td>0</td>\n",
       "      <td>0</td>\n",
       "      <td>0</td>\n",
       "      <td>0</td>\n",
       "      <td>0</td>\n",
       "      <td>0</td>\n",
       "      <td>...</td>\n",
       "      <td>0</td>\n",
       "      <td>0</td>\n",
       "      <td>0</td>\n",
       "      <td>0</td>\n",
       "      <td>0.00130</td>\n",
       "      <td>0.0190</td>\n",
       "      <td>0.084</td>\n",
       "      <td>0.078</td>\n",
       "      <td>0.1070</td>\n",
       "      <td>1</td>\n",
       "    </tr>\n",
       "    <tr>\n",
       "      <th>2</th>\n",
       "      <td>0.35</td>\n",
       "      <td>0</td>\n",
       "      <td>0</td>\n",
       "      <td>0</td>\n",
       "      <td>0</td>\n",
       "      <td>0</td>\n",
       "      <td>0</td>\n",
       "      <td>0</td>\n",
       "      <td>0</td>\n",
       "      <td>0</td>\n",
       "      <td>...</td>\n",
       "      <td>0</td>\n",
       "      <td>0</td>\n",
       "      <td>0</td>\n",
       "      <td>0</td>\n",
       "      <td>0.00000</td>\n",
       "      <td>0.0310</td>\n",
       "      <td>0.239</td>\n",
       "      <td>0.100</td>\n",
       "      <td>0.2390</td>\n",
       "      <td>1</td>\n",
       "    </tr>\n",
       "    <tr>\n",
       "      <th>3</th>\n",
       "      <td>0.21</td>\n",
       "      <td>0</td>\n",
       "      <td>0</td>\n",
       "      <td>0</td>\n",
       "      <td>0</td>\n",
       "      <td>0</td>\n",
       "      <td>0</td>\n",
       "      <td>0</td>\n",
       "      <td>0</td>\n",
       "      <td>0</td>\n",
       "      <td>...</td>\n",
       "      <td>0</td>\n",
       "      <td>0</td>\n",
       "      <td>0</td>\n",
       "      <td>0</td>\n",
       "      <td>0.00100</td>\n",
       "      <td>0.0180</td>\n",
       "      <td>0.087</td>\n",
       "      <td>0.088</td>\n",
       "      <td>0.0990</td>\n",
       "      <td>1</td>\n",
       "    </tr>\n",
       "    <tr>\n",
       "      <th>4</th>\n",
       "      <td>0.22</td>\n",
       "      <td>0</td>\n",
       "      <td>0</td>\n",
       "      <td>0</td>\n",
       "      <td>0</td>\n",
       "      <td>1</td>\n",
       "      <td>0</td>\n",
       "      <td>0</td>\n",
       "      <td>0</td>\n",
       "      <td>0</td>\n",
       "      <td>...</td>\n",
       "      <td>0</td>\n",
       "      <td>0</td>\n",
       "      <td>0</td>\n",
       "      <td>0</td>\n",
       "      <td>0.00040</td>\n",
       "      <td>0.0220</td>\n",
       "      <td>0.134</td>\n",
       "      <td>0.135</td>\n",
       "      <td>0.0990</td>\n",
       "      <td>1</td>\n",
       "    </tr>\n",
       "    <tr>\n",
       "      <th>...</th>\n",
       "      <td>...</td>\n",
       "      <td>...</td>\n",
       "      <td>...</td>\n",
       "      <td>...</td>\n",
       "      <td>...</td>\n",
       "      <td>...</td>\n",
       "      <td>...</td>\n",
       "      <td>...</td>\n",
       "      <td>...</td>\n",
       "      <td>...</td>\n",
       "      <td>...</td>\n",
       "      <td>...</td>\n",
       "      <td>...</td>\n",
       "      <td>...</td>\n",
       "      <td>...</td>\n",
       "      <td>...</td>\n",
       "      <td>...</td>\n",
       "      <td>...</td>\n",
       "      <td>...</td>\n",
       "      <td>...</td>\n",
       "      <td>...</td>\n",
       "    </tr>\n",
       "    <tr>\n",
       "      <th>3423</th>\n",
       "      <td>0.59</td>\n",
       "      <td>0</td>\n",
       "      <td>0</td>\n",
       "      <td>0</td>\n",
       "      <td>0</td>\n",
       "      <td>0</td>\n",
       "      <td>0</td>\n",
       "      <td>0</td>\n",
       "      <td>0</td>\n",
       "      <td>0</td>\n",
       "      <td>...</td>\n",
       "      <td>0</td>\n",
       "      <td>0</td>\n",
       "      <td>0</td>\n",
       "      <td>1</td>\n",
       "      <td>0.00250</td>\n",
       "      <td>0.0208</td>\n",
       "      <td>0.079</td>\n",
       "      <td>0.099</td>\n",
       "      <td>0.0800</td>\n",
       "      <td>-1</td>\n",
       "    </tr>\n",
       "    <tr>\n",
       "      <th>3424</th>\n",
       "      <td>0.51</td>\n",
       "      <td>0</td>\n",
       "      <td>0</td>\n",
       "      <td>0</td>\n",
       "      <td>0</td>\n",
       "      <td>0</td>\n",
       "      <td>0</td>\n",
       "      <td>0</td>\n",
       "      <td>0</td>\n",
       "      <td>0</td>\n",
       "      <td>...</td>\n",
       "      <td>0</td>\n",
       "      <td>0</td>\n",
       "      <td>0</td>\n",
       "      <td>0</td>\n",
       "      <td>0.10600</td>\n",
       "      <td>0.0060</td>\n",
       "      <td>0.005</td>\n",
       "      <td>0.089</td>\n",
       "      <td>0.0055</td>\n",
       "      <td>-1</td>\n",
       "    </tr>\n",
       "    <tr>\n",
       "      <th>3425</th>\n",
       "      <td>0.51</td>\n",
       "      <td>0</td>\n",
       "      <td>0</td>\n",
       "      <td>0</td>\n",
       "      <td>0</td>\n",
       "      <td>0</td>\n",
       "      <td>0</td>\n",
       "      <td>0</td>\n",
       "      <td>0</td>\n",
       "      <td>0</td>\n",
       "      <td>...</td>\n",
       "      <td>0</td>\n",
       "      <td>0</td>\n",
       "      <td>0</td>\n",
       "      <td>1</td>\n",
       "      <td>0.00076</td>\n",
       "      <td>0.0201</td>\n",
       "      <td>0.090</td>\n",
       "      <td>0.067</td>\n",
       "      <td>0.1340</td>\n",
       "      <td>1</td>\n",
       "    </tr>\n",
       "    <tr>\n",
       "      <th>3426</th>\n",
       "      <td>0.35</td>\n",
       "      <td>1</td>\n",
       "      <td>0</td>\n",
       "      <td>0</td>\n",
       "      <td>0</td>\n",
       "      <td>0</td>\n",
       "      <td>0</td>\n",
       "      <td>0</td>\n",
       "      <td>0</td>\n",
       "      <td>0</td>\n",
       "      <td>...</td>\n",
       "      <td>0</td>\n",
       "      <td>0</td>\n",
       "      <td>0</td>\n",
       "      <td>0</td>\n",
       "      <td>0.00280</td>\n",
       "      <td>0.0201</td>\n",
       "      <td>0.090</td>\n",
       "      <td>0.089</td>\n",
       "      <td>0.1010</td>\n",
       "      <td>1</td>\n",
       "    </tr>\n",
       "    <tr>\n",
       "      <th>3427</th>\n",
       "      <td>0.73</td>\n",
       "      <td>0</td>\n",
       "      <td>0</td>\n",
       "      <td>0</td>\n",
       "      <td>0</td>\n",
       "      <td>0</td>\n",
       "      <td>0</td>\n",
       "      <td>0</td>\n",
       "      <td>0</td>\n",
       "      <td>0</td>\n",
       "      <td>...</td>\n",
       "      <td>0</td>\n",
       "      <td>0</td>\n",
       "      <td>0</td>\n",
       "      <td>1</td>\n",
       "      <td>0.00056</td>\n",
       "      <td>0.0201</td>\n",
       "      <td>0.081</td>\n",
       "      <td>0.090</td>\n",
       "      <td>0.0900</td>\n",
       "      <td>-1</td>\n",
       "    </tr>\n",
       "  </tbody>\n",
       "</table>\n",
       "<p>3428 rows × 22 columns</p>\n",
       "</div>"
      ],
      "text/plain": [
       "        x0  x1  x2  x3  x4  x5  x6  x7  x8  x9  ...  x12  x13  x14  x15  \\\n",
       "0     0.29   0   0   0   0   0   0   0   0   0  ...    0    0    0    0   \n",
       "1     0.32   0   0   0   0   0   0   0   0   0  ...    0    0    0    0   \n",
       "2     0.35   0   0   0   0   0   0   0   0   0  ...    0    0    0    0   \n",
       "3     0.21   0   0   0   0   0   0   0   0   0  ...    0    0    0    0   \n",
       "4     0.22   0   0   0   0   1   0   0   0   0  ...    0    0    0    0   \n",
       "...    ...  ..  ..  ..  ..  ..  ..  ..  ..  ..  ...  ...  ...  ...  ...   \n",
       "3423  0.59   0   0   0   0   0   0   0   0   0  ...    0    0    0    1   \n",
       "3424  0.51   0   0   0   0   0   0   0   0   0  ...    0    0    0    0   \n",
       "3425  0.51   0   0   0   0   0   0   0   0   0  ...    0    0    0    1   \n",
       "3426  0.35   1   0   0   0   0   0   0   0   0  ...    0    0    0    0   \n",
       "3427  0.73   0   0   0   0   0   0   0   0   0  ...    0    0    0    1   \n",
       "\n",
       "          x16     x17    x18    x19     x20  y  \n",
       "0     0.00610  0.0280  0.111  0.131  0.0850  1  \n",
       "1     0.00130  0.0190  0.084  0.078  0.1070  1  \n",
       "2     0.00000  0.0310  0.239  0.100  0.2390  1  \n",
       "3     0.00100  0.0180  0.087  0.088  0.0990  1  \n",
       "4     0.00040  0.0220  0.134  0.135  0.0990  1  \n",
       "...       ...     ...    ...    ...     ... ..  \n",
       "3423  0.00250  0.0208  0.079  0.099  0.0800 -1  \n",
       "3424  0.10600  0.0060  0.005  0.089  0.0055 -1  \n",
       "3425  0.00076  0.0201  0.090  0.067  0.1340  1  \n",
       "3426  0.00280  0.0201  0.090  0.089  0.1010  1  \n",
       "3427  0.00056  0.0201  0.081  0.090  0.0900 -1  \n",
       "\n",
       "[3428 rows x 22 columns]"
      ]
     },
     "execution_count": 10,
     "metadata": {},
     "output_type": "execute_result"
    }
   ],
   "source": [
    "# Convert test data to tensor\n",
    "x = torch.tensor(df_test_x.values).float().to(device)\n",
    "\n",
    "predictions = model(x)\n",
    "targets = x\n",
    "\n",
    "# Get reconstruction error\n",
    "x_loss = nn.MSELoss(reduction='none')(predictions, targets).sum(axis=1).detach().cpu().numpy().astype(np.float32)\n",
    "\n",
    "# If reconstruction error is >= than the optimal threshold, we consider it an anomaly\n",
    "bool_arr = x_loss >= optimal_threshold\n",
    "\n",
    "# Convert anomaly labels to -1 if True and 1 if False\n",
    "anomaly_predictions = np.array([-1 if elem else 1 for elem in bool_arr])\n",
    "\n",
    "# Build dataframe for test data and attach predictions\n",
    "df_test_x_with_labels = df_test_x.copy()\n",
    "df_test_x_with_labels['y'] = anomaly_predictions\n",
    "\n",
    "df_test_x_with_labels"
   ]
  },
  {
   "cell_type": "code",
   "execution_count": 11,
   "id": "71c57564",
   "metadata": {},
   "outputs": [],
   "source": [
    "# # Fit a TSNE model with 3 dimensions\n",
    "# z_embedded = TSNE(n_components=3, learning_rate='auto', init='random').fit_transform(df_test_x_with_labels.drop(columns=['y'], axis=1).values)\n",
    "\n",
    "# # Create a new data frame for result of tsne and attach cluster label\n",
    "# df_z_embedded = pd.DataFrame(z_embedded, columns=['x', 'y', 'z'])\n",
    "# df_z_embedded['y'] = anomaly_predictions\n",
    "\n",
    "# # Visualize with 3D scatterplot\n",
    "# fig = px.scatter_3d(df_z_embedded, x='x', y='y', z='z', color='y')\n",
    "# fig.show()"
   ]
  },
  {
   "cell_type": "markdown",
   "id": "e6d0bac8",
   "metadata": {},
   "source": [
    "## Evaluation of Results"
   ]
  },
  {
   "cell_type": "code",
   "execution_count": 12,
   "id": "b7f979ba",
   "metadata": {},
   "outputs": [
    {
     "name": "stdout",
     "output_type": "stream",
     "text": [
      "True Positive: 2552\n",
      "True Negative: 84\n",
      "False Positive: 166\n",
      "False Negative: 626\n",
      "F1: 0.8656716417910447\n"
     ]
    }
   ],
   "source": [
    "ground_truth = np.array([1 if elem == 3 else -1 for elem in df_test_y.values])\n",
    "\n",
    "y_truth = np.array([0 if elem == -1 else 1 for elem in ground_truth])\n",
    "y_predictions = np.array([0 if elem == -1 else 1 for elem in anomaly_predictions])\n",
    "\n",
    "tn, fp, fn, tp = confusion_matrix(ground_truth, anomaly_predictions).ravel()\n",
    "tn, fp, fn, tp = confusion_matrix(y_truth, y_predictions).ravel()\n",
    "\n",
    "f1 = tp / (tp + 0.5* (fp + fn))\n",
    "\n",
    "print(\"True Positive: {}\".format(tp))\n",
    "print(\"True Negative: {}\".format(tn))\n",
    "print(\"False Positive: {}\".format(fp))\n",
    "print(\"False Negative: {}\".format(fn))\n",
    "print(\"F1: {}\".format(f1))"
   ]
  },
  {
   "cell_type": "code",
   "execution_count": 13,
   "id": "a5fa6b7e",
   "metadata": {},
   "outputs": [],
   "source": [
    "def predict_proba(y, bool_a, errors, threshold, max_err):\n",
    "    results = []\n",
    "    \n",
    "    for i in range(len(y)):\n",
    "        if bool_a[i]:\n",
    "            prob_anomaly = 0.5 + (1 - (threshold / x_loss[i]))\n",
    "            \n",
    "            if prob_anomaly > 1:\n",
    "                prob_anomaly = 0.99\n",
    "                \n",
    "            prob_normal = 1 - prob_anomaly\n",
    "                \n",
    "            results.append([prob_normal, prob_anomaly])\n",
    "        else:\n",
    "            prob_normal = 0.5 + (1 - (x_loss[i] / threshold))\n",
    "            \n",
    "            if prob_normal > 1:\n",
    "                prob_normal = 0.99\n",
    "            \n",
    "            prob_anomaly = 1 - prob_normal\n",
    "            \n",
    "            results.append([prob_normal, prob_anomaly])\n",
    "    \n",
    "    return results\n",
    "\n",
    "y_probs = predict_proba(y_truth, bool_arr, x_loss, optimal_threshold, np.max(x_loss))"
   ]
  },
  {
   "cell_type": "markdown",
   "id": "bb95bbbd",
   "metadata": {},
   "source": [
    "## ROC Curve and AUC"
   ]
  },
  {
   "cell_type": "code",
   "execution_count": 14,
   "id": "616f05c6",
   "metadata": {},
   "outputs": [
    {
     "name": "stdout",
     "output_type": "stream",
     "text": [
      "ROC AUC: 0.648160 \n",
      "\n"
     ]
    },
    {
     "data": {
      "image/png": "[encoded data removed]",
      "text/plain": [
       "<Figure size 432x288 with 1 Axes>"
      ]
     },
     "metadata": {
      "needs_background": "light"
     },
     "output_type": "display_data"
    }
   ],
   "source": [
    "from sklearn.metrics import roc_auc_score, roc_curve\n",
    "\n",
    "def mapper(arr):\n",
    "    return arr[0]\n",
    "\n",
    "probabilities = list(map(mapper, y_probs))\n",
    "# print(probabilities)\n",
    "\n",
    "auc = roc_auc_score(y_truth, probabilities)\n",
    "print('ROC AUC: %f' % auc, '\\n')\n",
    "\n",
    "fpr, tpr, _ = roc_curve(y_truth, probabilities)\n",
    "plt.figure()\n",
    "lw = 2\n",
    "plt.plot(\n",
    "    fpr,\n",
    "    tpr,\n",
    "    color=\"darkorange\",\n",
    "    lw=lw,\n",
    "    label=\"ROC curve (area = %0.2f)\" % auc,\n",
    ")\n",
    "plt.plot([0, 1], [0, 1], color=\"navy\", lw=lw, linestyle=\"--\")\n",
    "plt.xlim([0.0, 1.0])\n",
    "plt.ylim([0.0, 1.05])\n",
    "plt.xlabel(\"False Positive Rate\")\n",
    "plt.ylabel(\"True Positive Rate\")\n",
    "plt.title(\"Receiver operating characteristic example\")\n",
    "plt.legend(loc=\"lower right\")\n",
    "plt.show()"
   ]
  }
 ],
 "metadata": {
  "kernelspec": {
   "display_name": "Python 3 (ipykernel)",
   "language": "python",
   "name": "python3"
  },
  "language_info": {
   "codemirror_mode": {
    "name": "ipython",
    "version": 3
   },
   "file_extension": ".py",
   "mimetype": "text/x-python",
   "name": "python",
   "nbconvert_exporter": "python",
   "pygments_lexer": "ipython3",
   "version": "3.9.7"
  }
 },
 "nbformat": 4,
 "nbformat_minor": 5
}
