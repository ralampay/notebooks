{
 "cells": [
  {
   "cell_type": "code",
   "execution_count": 1,
   "id": "47ad5a7e",
   "metadata": {},
   "outputs": [],
   "source": [
    "import pandas as pd\n",
    "import numpy as np\n",
    "from matplotlib import pyplot\n",
    "from sklearn.neural_network import MLPClassifier"
   ]
  },
  {
   "cell_type": "code",
   "execution_count": 2,
   "id": "efafb6e0",
   "metadata": {},
   "outputs": [
    {
     "data": {
      "text/plain": [
       "0     0.132\n",
       "1     0.134\n",
       "2     0.134\n",
       "3     0.134\n",
       "4     0.134\n",
       "5     0.134\n",
       "6     0.134\n",
       "7     0.134\n",
       "8     0.066\n",
       "9     0.132\n",
       "10    0.134\n",
       "11    0.066\n",
       "12    0.132\n",
       "13    0.202\n",
       "14    0.068\n",
       "15    0.134\n",
       "16    0.132\n",
       "17    0.134\n",
       "18    0.134\n",
       "19    0.136\n",
       "20    0.132\n",
       "21    0.134\n",
       "22    0.134\n",
       "23    0.066\n",
       "24    0.134\n",
       "25    0.134\n",
       "26    0.066\n",
       "27    0.134\n",
       "28    0.134\n",
       "29    0.134\n",
       "30    0.132\n",
       "31    0.136\n",
       "32    0.134\n",
       "33    0.134\n",
       "34    0.132\n",
       "35    0.132\n",
       "Name: value, dtype: float64"
      ]
     },
     "execution_count": 2,
     "metadata": {},
     "output_type": "execute_result"
    }
   ],
   "source": [
    "df_time_series = pd.read_csv(\"ec2_cpu_utilization_24ae8d.csv\")\n",
    "df_time_series = df_time_series['value']\n",
    "\n",
    "df_time_series.head(36)"
   ]
  },
  {
   "cell_type": "code",
   "execution_count": 3,
   "id": "0194ae01",
   "metadata": {},
   "outputs": [
    {
     "data": {
      "text/plain": [
       "<AxesSubplot:>"
      ]
     },
     "execution_count": 3,
     "metadata": {},
     "output_type": "execute_result"
    },
    {
     "data": {
      "image/png": "[encoded data removed]",
      "text/plain": [
       "<Figure size 432x288 with 1 Axes>"
      ]
     },
     "metadata": {
      "needs_background": "light"
     },
     "output_type": "display_data"
    }
   ],
   "source": [
    "df_time_series.plot()"
   ]
  },
  {
   "cell_type": "code",
   "execution_count": 4,
   "id": "a64ef91e",
   "metadata": {},
   "outputs": [
    {
     "name": "stdout",
     "output_type": "stream",
     "text": [
      "336.0\n"
     ]
    }
   ],
   "source": [
    "window_size = 12\n",
    "\n",
    "num_rows = len(df_time_series)\n",
    "\n",
    "# Drop last remainder frames\n",
    "remainder = num_rows % window_size\n",
    "num_parts = (num_rows - remainder) / window_size\n",
    "\n",
    "print(num_parts)\n",
    "\n",
    "# Dropping last n rows using drop\n",
    "if remainder > 0:\n",
    "    df_time_series.drop(df_time_series.tail(remainder).index, inplace = True)"
   ]
  },
  {
   "cell_type": "code",
   "execution_count": 5,
   "id": "0c65efa8",
   "metadata": {},
   "outputs": [
    {
     "data": {
      "text/plain": [
       "array([[0.132, 0.134, 0.134, ..., 0.132, 0.134, 0.066],\n",
       "       [0.132, 0.202, 0.068, ..., 0.134, 0.134, 0.066],\n",
       "       [0.134, 0.134, 0.066, ..., 0.134, 0.132, 0.132],\n",
       "       ...,\n",
       "       [0.066, 0.202, 0.068, ..., 0.134, 0.066, 0.134],\n",
       "       [0.134, 0.132, 0.068, ..., 0.134, 0.136, 0.066],\n",
       "       [0.134, 0.134, 0.132, ..., 0.134, 0.134, 0.134]])"
      ]
     },
     "execution_count": 5,
     "metadata": {},
     "output_type": "execute_result"
    }
   ],
   "source": [
    "x = np.array(np.array_split(df_time_series, num_parts))\n",
    "\n",
    "x"
   ]
  },
  {
   "cell_type": "code",
   "execution_count": 6,
   "id": "f7d1da6a",
   "metadata": {},
   "outputs": [
    {
     "name": "stdout",
     "output_type": "stream",
     "text": [
      "X: [0.132 0.134 0.134 0.134 0.134 0.134 0.134 0.134 0.066 0.132 0.134 0.066]\n",
      "Y: 0.132\n"
     ]
    }
   ],
   "source": [
    "print(\"X: {}\".format(x[0]))\n",
    "print(\"Y: {}\".format(x[1][0]))"
   ]
  },
  {
   "cell_type": "code",
   "execution_count": 7,
   "id": "87a26f3e",
   "metadata": {},
   "outputs": [
    {
     "name": "stdout",
     "output_type": "stream",
     "text": [
      "X: [0.132 0.202 0.068 0.134 0.132 0.134 0.134 0.136 0.132 0.134 0.134 0.066]\n",
      "Y: 0.134\n"
     ]
    }
   ],
   "source": [
    "print(\"X: {}\".format(x[1]))\n",
    "print(\"Y: {}\".format(x[2][0]))"
   ]
  },
  {
   "cell_type": "code",
   "execution_count": 8,
   "id": "2f0823d1",
   "metadata": {},
   "outputs": [
    {
     "name": "stdout",
     "output_type": "stream",
     "text": [
      "X: [0.134 0.134 0.066 0.134 0.134 0.134 0.132 0.136 0.134 0.134 0.132 0.132]\n",
      "Y: 0.134\n"
     ]
    }
   ],
   "source": [
    "print(\"X: {}\".format(x[2]))\n",
    "print(\"Y: {}\".format(x[3][0]))"
   ]
  },
  {
   "cell_type": "code",
   "execution_count": 9,
   "id": "0c33a5ed",
   "metadata": {},
   "outputs": [],
   "source": [
    "x_training = []\n",
    "y_training = []\n",
    "\n",
    "for i in range(len(x)):\n",
    "    if i == len(x) - 1:\n",
    "        break\n",
    "    \n",
    "    x_training.append(x[i])\n",
    "    y_training.append(x[i+1][0])"
   ]
  },
  {
   "cell_type": "code",
   "execution_count": 10,
   "id": "ebccd52e",
   "metadata": {},
   "outputs": [
    {
     "data": {
      "text/plain": [
       "BayesianRidge()"
      ]
     },
     "execution_count": 10,
     "metadata": {},
     "output_type": "execute_result"
    }
   ],
   "source": [
    "from sklearn import linear_model\n",
    "#model = linear_model.LassoLars(alpha=.1, normalize=False)\n",
    "model = linear_model.BayesianRidge()\n",
    "model.fit(x_training, y_training)"
   ]
  },
  {
   "cell_type": "code",
   "execution_count": 11,
   "id": "90fd4465",
   "metadata": {},
   "outputs": [
    {
     "name": "stdout",
     "output_type": "stream",
     "text": [
      "[0.12502115]\n"
     ]
    }
   ],
   "source": [
    "print(model.predict([x[1]]))"
   ]
  },
  {
   "cell_type": "code",
   "execution_count": 12,
   "id": "740e46a9",
   "metadata": {},
   "outputs": [
    {
     "data": {
      "text/plain": [
       "<AxesSubplot:>"
      ]
     },
     "execution_count": 12,
     "metadata": {},
     "output_type": "execute_result"
    },
    {
     "data": {
      "image/png": "[encoded data removed]",
      "text/plain": [
       "<Figure size 432x288 with 1 Axes>"
      ]
     },
     "metadata": {
      "needs_background": "light"
     },
     "output_type": "display_data"
    }
   ],
   "source": [
    "y_df = pd.DataFrame(y_training)\n",
    "\n",
    "y_df.plot()"
   ]
  },
  {
   "cell_type": "code",
   "execution_count": 13,
   "id": "1592ad17",
   "metadata": {},
   "outputs": [
    {
     "data": {
      "text/plain": [
       "<AxesSubplot:>"
      ]
     },
     "execution_count": 13,
     "metadata": {},
     "output_type": "execute_result"
    },
    {
     "data": {
      "image/png": "[encoded data removed]",
      "text/plain": [
       "<Figure size 432x288 with 1 Axes>"
      ]
     },
     "metadata": {
      "needs_background": "light"
     },
     "output_type": "display_data"
    }
   ],
   "source": [
    "y_preds = model.predict(x)\n",
    "\n",
    "y_preds_df = pd.DataFrame(y_preds)\n",
    "\n",
    "y_preds_df.plot()"
   ]
  },
  {
   "cell_type": "code",
   "execution_count": null,
   "id": "38c7fdc4",
   "metadata": {},
   "outputs": [],
   "source": []
  }
 ],
 "metadata": {
  "kernelspec": {
   "display_name": "Python 3 (ipykernel)",
   "language": "python",
   "name": "python3"
  },
  "language_info": {
   "codemirror_mode": {
    "name": "ipython",
    "version": 3
   },
   "file_extension": ".py",
   "mimetype": "text/x-python",
   "name": "python",
   "nbconvert_exporter": "python",
   "pygments_lexer": "ipython3",
   "version": "3.10.4"
  }
 },
 "nbformat": 4,
 "nbformat_minor": 5
}
